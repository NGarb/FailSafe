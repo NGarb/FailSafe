{
 "cells": [
  {
   "cell_type": "markdown",
   "id": "916443c1-0b5a-4dbc-9d21-1aa115cbf62b",
   "metadata": {},
   "source": [
    "# RMSE regressions"
   ]
  },
  {
   "cell_type": "code",
   "execution_count": 4,
   "id": "0831a800-0171-4098-988d-286190688faa",
   "metadata": {
    "collapsed": true,
    "jupyter": {
     "outputs_hidden": true
    },
    "tags": []
   },
   "outputs": [
    {
     "ename": "ParserError",
     "evalue": "Error tokenizing data. C error: Expected 1 fields in line 7, saw 2\n",
     "output_type": "error",
     "traceback": [
      "\u001b[1;31m---------------------------------------------------------------------------\u001b[0m",
      "\u001b[1;31mParserError\u001b[0m                               Traceback (most recent call last)",
      "\u001b[1;32m~\\AppData\\Local\\Temp/ipykernel_12308/2342746515.py\u001b[0m in \u001b[0;36m<module>\u001b[1;34m\u001b[0m\n\u001b[0;32m      5\u001b[0m \u001b[1;33m\u001b[0m\u001b[0m\n\u001b[0;32m      6\u001b[0m \u001b[0murlData\u001b[0m \u001b[1;33m=\u001b[0m \u001b[0mrequests\u001b[0m\u001b[1;33m.\u001b[0m\u001b[0mget\u001b[0m\u001b[1;33m(\u001b[0m\u001b[0mdataset_url\u001b[0m\u001b[1;33m)\u001b[0m\u001b[1;33m.\u001b[0m\u001b[0mcontent\u001b[0m\u001b[1;33m\u001b[0m\u001b[1;33m\u001b[0m\u001b[0m\n\u001b[1;32m----> 7\u001b[1;33m \u001b[0mrawData\u001b[0m \u001b[1;33m=\u001b[0m \u001b[0mpd\u001b[0m\u001b[1;33m.\u001b[0m\u001b[0mread_csv\u001b[0m\u001b[1;33m(\u001b[0m\u001b[0mio\u001b[0m\u001b[1;33m.\u001b[0m\u001b[0mStringIO\u001b[0m\u001b[1;33m(\u001b[0m\u001b[0murlData\u001b[0m\u001b[1;33m.\u001b[0m\u001b[0mdecode\u001b[0m\u001b[1;33m(\u001b[0m\u001b[1;34m'utf-8'\u001b[0m\u001b[1;33m)\u001b[0m\u001b[1;33m)\u001b[0m\u001b[1;33m)\u001b[0m\u001b[1;33m\u001b[0m\u001b[1;33m\u001b[0m\u001b[0m\n\u001b[0m",
      "\u001b[1;32m~\\anaconda3\\envs\\AutoML\\lib\\site-packages\\pandas\\util\\_decorators.py\u001b[0m in \u001b[0;36mwrapper\u001b[1;34m(*args, **kwargs)\u001b[0m\n\u001b[0;32m    309\u001b[0m                     \u001b[0mstacklevel\u001b[0m\u001b[1;33m=\u001b[0m\u001b[0mstacklevel\u001b[0m\u001b[1;33m,\u001b[0m\u001b[1;33m\u001b[0m\u001b[1;33m\u001b[0m\u001b[0m\n\u001b[0;32m    310\u001b[0m                 )\n\u001b[1;32m--> 311\u001b[1;33m             \u001b[1;32mreturn\u001b[0m \u001b[0mfunc\u001b[0m\u001b[1;33m(\u001b[0m\u001b[1;33m*\u001b[0m\u001b[0margs\u001b[0m\u001b[1;33m,\u001b[0m \u001b[1;33m**\u001b[0m\u001b[0mkwargs\u001b[0m\u001b[1;33m)\u001b[0m\u001b[1;33m\u001b[0m\u001b[1;33m\u001b[0m\u001b[0m\n\u001b[0m\u001b[0;32m    312\u001b[0m \u001b[1;33m\u001b[0m\u001b[0m\n\u001b[0;32m    313\u001b[0m         \u001b[1;32mreturn\u001b[0m \u001b[0mwrapper\u001b[0m\u001b[1;33m\u001b[0m\u001b[1;33m\u001b[0m\u001b[0m\n",
      "\u001b[1;32m~\\anaconda3\\envs\\AutoML\\lib\\site-packages\\pandas\\io\\parsers\\readers.py\u001b[0m in \u001b[0;36mread_csv\u001b[1;34m(filepath_or_buffer, sep, delimiter, header, names, index_col, usecols, squeeze, prefix, mangle_dupe_cols, dtype, engine, converters, true_values, false_values, skipinitialspace, skiprows, skipfooter, nrows, na_values, keep_default_na, na_filter, verbose, skip_blank_lines, parse_dates, infer_datetime_format, keep_date_col, date_parser, dayfirst, cache_dates, iterator, chunksize, compression, thousands, decimal, lineterminator, quotechar, quoting, doublequote, escapechar, comment, encoding, encoding_errors, dialect, error_bad_lines, warn_bad_lines, on_bad_lines, delim_whitespace, low_memory, memory_map, float_precision, storage_options)\u001b[0m\n\u001b[0;32m    584\u001b[0m     \u001b[0mkwds\u001b[0m\u001b[1;33m.\u001b[0m\u001b[0mupdate\u001b[0m\u001b[1;33m(\u001b[0m\u001b[0mkwds_defaults\u001b[0m\u001b[1;33m)\u001b[0m\u001b[1;33m\u001b[0m\u001b[1;33m\u001b[0m\u001b[0m\n\u001b[0;32m    585\u001b[0m \u001b[1;33m\u001b[0m\u001b[0m\n\u001b[1;32m--> 586\u001b[1;33m     \u001b[1;32mreturn\u001b[0m \u001b[0m_read\u001b[0m\u001b[1;33m(\u001b[0m\u001b[0mfilepath_or_buffer\u001b[0m\u001b[1;33m,\u001b[0m \u001b[0mkwds\u001b[0m\u001b[1;33m)\u001b[0m\u001b[1;33m\u001b[0m\u001b[1;33m\u001b[0m\u001b[0m\n\u001b[0m\u001b[0;32m    587\u001b[0m \u001b[1;33m\u001b[0m\u001b[0m\n\u001b[0;32m    588\u001b[0m \u001b[1;33m\u001b[0m\u001b[0m\n",
      "\u001b[1;32m~\\anaconda3\\envs\\AutoML\\lib\\site-packages\\pandas\\io\\parsers\\readers.py\u001b[0m in \u001b[0;36m_read\u001b[1;34m(filepath_or_buffer, kwds)\u001b[0m\n\u001b[0;32m    486\u001b[0m \u001b[1;33m\u001b[0m\u001b[0m\n\u001b[0;32m    487\u001b[0m     \u001b[1;32mwith\u001b[0m \u001b[0mparser\u001b[0m\u001b[1;33m:\u001b[0m\u001b[1;33m\u001b[0m\u001b[1;33m\u001b[0m\u001b[0m\n\u001b[1;32m--> 488\u001b[1;33m         \u001b[1;32mreturn\u001b[0m \u001b[0mparser\u001b[0m\u001b[1;33m.\u001b[0m\u001b[0mread\u001b[0m\u001b[1;33m(\u001b[0m\u001b[0mnrows\u001b[0m\u001b[1;33m)\u001b[0m\u001b[1;33m\u001b[0m\u001b[1;33m\u001b[0m\u001b[0m\n\u001b[0m\u001b[0;32m    489\u001b[0m \u001b[1;33m\u001b[0m\u001b[0m\n\u001b[0;32m    490\u001b[0m \u001b[1;33m\u001b[0m\u001b[0m\n",
      "\u001b[1;32m~\\anaconda3\\envs\\AutoML\\lib\\site-packages\\pandas\\io\\parsers\\readers.py\u001b[0m in \u001b[0;36mread\u001b[1;34m(self, nrows)\u001b[0m\n\u001b[0;32m   1045\u001b[0m     \u001b[1;32mdef\u001b[0m \u001b[0mread\u001b[0m\u001b[1;33m(\u001b[0m\u001b[0mself\u001b[0m\u001b[1;33m,\u001b[0m \u001b[0mnrows\u001b[0m\u001b[1;33m=\u001b[0m\u001b[1;32mNone\u001b[0m\u001b[1;33m)\u001b[0m\u001b[1;33m:\u001b[0m\u001b[1;33m\u001b[0m\u001b[1;33m\u001b[0m\u001b[0m\n\u001b[0;32m   1046\u001b[0m         \u001b[0mnrows\u001b[0m \u001b[1;33m=\u001b[0m \u001b[0mvalidate_integer\u001b[0m\u001b[1;33m(\u001b[0m\u001b[1;34m\"nrows\"\u001b[0m\u001b[1;33m,\u001b[0m \u001b[0mnrows\u001b[0m\u001b[1;33m)\u001b[0m\u001b[1;33m\u001b[0m\u001b[1;33m\u001b[0m\u001b[0m\n\u001b[1;32m-> 1047\u001b[1;33m         \u001b[0mindex\u001b[0m\u001b[1;33m,\u001b[0m \u001b[0mcolumns\u001b[0m\u001b[1;33m,\u001b[0m \u001b[0mcol_dict\u001b[0m \u001b[1;33m=\u001b[0m \u001b[0mself\u001b[0m\u001b[1;33m.\u001b[0m\u001b[0m_engine\u001b[0m\u001b[1;33m.\u001b[0m\u001b[0mread\u001b[0m\u001b[1;33m(\u001b[0m\u001b[0mnrows\u001b[0m\u001b[1;33m)\u001b[0m\u001b[1;33m\u001b[0m\u001b[1;33m\u001b[0m\u001b[0m\n\u001b[0m\u001b[0;32m   1048\u001b[0m \u001b[1;33m\u001b[0m\u001b[0m\n\u001b[0;32m   1049\u001b[0m         \u001b[1;32mif\u001b[0m \u001b[0mindex\u001b[0m \u001b[1;32mis\u001b[0m \u001b[1;32mNone\u001b[0m\u001b[1;33m:\u001b[0m\u001b[1;33m\u001b[0m\u001b[1;33m\u001b[0m\u001b[0m\n",
      "\u001b[1;32m~\\anaconda3\\envs\\AutoML\\lib\\site-packages\\pandas\\io\\parsers\\c_parser_wrapper.py\u001b[0m in \u001b[0;36mread\u001b[1;34m(self, nrows)\u001b[0m\n\u001b[0;32m    222\u001b[0m         \u001b[1;32mtry\u001b[0m\u001b[1;33m:\u001b[0m\u001b[1;33m\u001b[0m\u001b[1;33m\u001b[0m\u001b[0m\n\u001b[0;32m    223\u001b[0m             \u001b[1;32mif\u001b[0m \u001b[0mself\u001b[0m\u001b[1;33m.\u001b[0m\u001b[0mlow_memory\u001b[0m\u001b[1;33m:\u001b[0m\u001b[1;33m\u001b[0m\u001b[1;33m\u001b[0m\u001b[0m\n\u001b[1;32m--> 224\u001b[1;33m                 \u001b[0mchunks\u001b[0m \u001b[1;33m=\u001b[0m \u001b[0mself\u001b[0m\u001b[1;33m.\u001b[0m\u001b[0m_reader\u001b[0m\u001b[1;33m.\u001b[0m\u001b[0mread_low_memory\u001b[0m\u001b[1;33m(\u001b[0m\u001b[0mnrows\u001b[0m\u001b[1;33m)\u001b[0m\u001b[1;33m\u001b[0m\u001b[1;33m\u001b[0m\u001b[0m\n\u001b[0m\u001b[0;32m    225\u001b[0m                 \u001b[1;31m# destructive to chunks\u001b[0m\u001b[1;33m\u001b[0m\u001b[1;33m\u001b[0m\u001b[0m\n\u001b[0;32m    226\u001b[0m                 \u001b[0mdata\u001b[0m \u001b[1;33m=\u001b[0m \u001b[0m_concatenate_chunks\u001b[0m\u001b[1;33m(\u001b[0m\u001b[0mchunks\u001b[0m\u001b[1;33m)\u001b[0m\u001b[1;33m\u001b[0m\u001b[1;33m\u001b[0m\u001b[0m\n",
      "\u001b[1;32m~\\anaconda3\\envs\\AutoML\\lib\\site-packages\\pandas\\_libs\\parsers.pyx\u001b[0m in \u001b[0;36mpandas._libs.parsers.TextReader.read_low_memory\u001b[1;34m()\u001b[0m\n",
      "\u001b[1;32m~\\anaconda3\\envs\\AutoML\\lib\\site-packages\\pandas\\_libs\\parsers.pyx\u001b[0m in \u001b[0;36mpandas._libs.parsers.TextReader._read_rows\u001b[1;34m()\u001b[0m\n",
      "\u001b[1;32m~\\anaconda3\\envs\\AutoML\\lib\\site-packages\\pandas\\_libs\\parsers.pyx\u001b[0m in \u001b[0;36mpandas._libs.parsers.TextReader._tokenize_rows\u001b[1;34m()\u001b[0m\n",
      "\u001b[1;32m~\\anaconda3\\envs\\AutoML\\lib\\site-packages\\pandas\\_libs\\parsers.pyx\u001b[0m in \u001b[0;36mpandas._libs.parsers.raise_parser_error\u001b[1;34m()\u001b[0m\n",
      "\u001b[1;31mParserError\u001b[0m: Error tokenizing data. C error: Expected 1 fields in line 7, saw 2\n"
     ]
    }
   ],
   "source": [
    "import requests\n",
    "import pandas as pd\n",
    "import io\n",
    "dataset_url = \"https://www.kaggle.com/spittman1248/cdc-data-nutrition-physical-activity-obesity/download\""
   ]
  },
  {
   "cell_type": "code",
   "execution_count": 8,
   "id": "f1b0fd87-4dfe-42f4-a06f-d21ff04270f3",
   "metadata": {},
   "outputs": [],
   "source": [
    "import pandas as pd \n",
    "import numpy as np \n",
    "import seaborn as sns\n",
    "import matplotlib.pyplot as plt"
   ]
  },
  {
   "cell_type": "code",
   "execution_count": 5,
   "id": "99aa79c4-8fe7-46b3-985a-9a4385cf92a0",
   "metadata": {},
   "outputs": [],
   "source": [
    "import os \n",
    "temp_dir = 'D:/Projects/Prediction/Techniques Practice/Trees/XGBoost/Tuning by hand/CDC/temp data'\n",
    "os.chdir(temp_dir)"
   ]
  },
  {
   "cell_type": "code",
   "execution_count": 9,
   "id": "56e97e36-904d-4835-8732-8f7da23bd889",
   "metadata": {},
   "outputs": [
    {
     "name": "stdout",
     "output_type": "stream",
     "text": [
      "Downloading cdc-data-nutrition-physical-activity-obesity.zip to D:\\Projects\\Prediction\\Techniques Practice\\Trees\\XGBoost\\Tuning by hand\\CDC\\temp data\n",
      "\n"
     ]
    },
    {
     "name": "stderr",
     "output_type": "stream",
     "text": [
      "\n",
      "  0%|          | 0.00/1.17M [00:00<?, ?B/s]\n",
      " 86%|########5 | 1.00M/1.17M [00:00<00:00, 1.21MB/s]\n",
      "100%|##########| 1.17M/1.17M [00:01<00:00, 1.23MB/s]\n",
      "100%|##########| 1.17M/1.17M [00:01<00:00, 1.22MB/s]\n"
     ]
    }
   ],
   "source": [
    "!kaggle datasets download -d spittman1248/cdc-data-nutrition-physical-activity-obesity"
   ]
  },
  {
   "cell_type": "code",
   "execution_count": 11,
   "id": "c13e6042-6257-4d37-97f8-c738977b30e4",
   "metadata": {},
   "outputs": [],
   "source": [
    "project_dir = 'D:/Projects/Prediction/Techniques Practice/Trees/XGBoost/Tuning by hand/CDC/'\n",
    "os.chdir(project_dir)"
   ]
  },
  {
   "cell_type": "code",
   "execution_count": 3,
   "id": "2d498adf-a2c8-4e07-ad96-3625b19b4c94",
   "metadata": {},
   "outputs": [],
   "source": [
    "import zipfile\n",
    "with zipfile.ZipFile('./temp data/cdc-data-nutrition-physical-activity-obesity.zip', \"r\") as z:\n",
    "    z.extractall('./temp data')\n"
   ]
  },
  {
   "cell_type": "code",
   "execution_count": 6,
   "id": "6eb441e8-3a42-4762-be48-ef97ce9e6c6a",
   "metadata": {},
   "outputs": [],
   "source": [
    "os.remove('./temp data/cdc-data-nutrition-physical-activity-obesity.zip')"
   ]
  },
  {
   "cell_type": "code",
   "execution_count": 10,
   "id": "c7ab033d-39c0-4092-b95c-5835758b7bfc",
   "metadata": {},
   "outputs": [],
   "source": [
    "cdc_df = pd.read_csv('./temp data/Nutrition__Physical_Activity__and_Obesity_-_Behavioral_Risk_Factor_Surveillance_System.csv')"
   ]
  },
  {
   "cell_type": "code",
   "execution_count": 13,
   "id": "9b0d9766-7b67-46c4-9559-16f81d5a1adc",
   "metadata": {},
   "outputs": [
    {
     "name": "stdout",
     "output_type": "stream",
     "text": [
      "<class 'pandas.core.frame.DataFrame'>\n",
      "RangeIndex: 53392 entries, 0 to 53391\n",
      "Data columns (total 33 columns):\n",
      " #   Column                      Non-Null Count  Dtype  \n",
      "---  ------                      --------------  -----  \n",
      " 0   YearStart                   53392 non-null  int64  \n",
      " 1   YearEnd                     53392 non-null  int64  \n",
      " 2   LocationAbbr                53392 non-null  object \n",
      " 3   LocationDesc                53392 non-null  object \n",
      " 4   Datasource                  53392 non-null  object \n",
      " 5   Class                       53392 non-null  object \n",
      " 6   Topic                       53392 non-null  object \n",
      " 7   Question                    53392 non-null  object \n",
      " 8   Data_Value_Unit             0 non-null      float64\n",
      " 9   Data_Value_Type             53392 non-null  object \n",
      " 10  Data_Value                  48346 non-null  float64\n",
      " 11  Data_Value_Alt              48346 non-null  float64\n",
      " 12  Data_Value_Footnote_Symbol  5046 non-null   object \n",
      " 13  Data_Value_Footnote         5046 non-null   object \n",
      " 14  Low_Confidence_Limit        48346 non-null  float64\n",
      " 15  High_Confidence_Limit       48346 non-null  float64\n",
      " 16  Sample_Size                 48346 non-null  float64\n",
      " 17  Total                       1907 non-null   object \n",
      " 18  Age(years)                  11438 non-null  object \n",
      " 19  Education                   7628 non-null   object \n",
      " 20  Gender                      3814 non-null   object \n",
      " 21  Income                      13349 non-null  object \n",
      " 22  Race/Ethnicity              15256 non-null  object \n",
      " 23  GeoLocation                 52384 non-null  object \n",
      " 24  ClassID                     53392 non-null  object \n",
      " 25  TopicID                     53392 non-null  object \n",
      " 26  QuestionID                  53392 non-null  object \n",
      " 27  DataValueTypeID             53392 non-null  object \n",
      " 28  LocationID                  53392 non-null  int64  \n",
      " 29  StratificationCategory1     53392 non-null  object \n",
      " 30  Stratification1             53392 non-null  object \n",
      " 31  StratificationCategoryId1   53392 non-null  object \n",
      " 32  StratificationID1           53392 non-null  object \n",
      "dtypes: float64(6), int64(3), object(24)\n",
      "memory usage: 13.4+ MB\n"
     ]
    },
    {
     "data": {
      "text/html": [
       "<div>\n",
       "<style scoped>\n",
       "    .dataframe tbody tr th:only-of-type {\n",
       "        vertical-align: middle;\n",
       "    }\n",
       "\n",
       "    .dataframe tbody tr th {\n",
       "        vertical-align: top;\n",
       "    }\n",
       "\n",
       "    .dataframe thead th {\n",
       "        text-align: right;\n",
       "    }\n",
       "</style>\n",
       "<table border=\"1\" class=\"dataframe\">\n",
       "  <thead>\n",
       "    <tr style=\"text-align: right;\">\n",
       "      <th></th>\n",
       "    </tr>\n",
       "  </thead>\n",
       "  <tbody>\n",
       "  </tbody>\n",
       "</table>\n",
       "</div>"
      ],
      "text/plain": [
       "Empty DataFrame\n",
       "Columns: []\n",
       "Index: []"
      ]
     },
     "execution_count": 13,
     "metadata": {},
     "output_type": "execute_result"
    }
   ],
   "source": [
    "pd.DataFrame(cdc_df.info())"
   ]
  },
  {
   "cell_type": "code",
   "execution_count": 40,
   "id": "e82a764f-3680-4179-a4db-ce1e9ecb648d",
   "metadata": {},
   "outputs": [
    {
     "data": {
      "text/html": [
       "<div>\n",
       "<style scoped>\n",
       "    .dataframe tbody tr th:only-of-type {\n",
       "        vertical-align: middle;\n",
       "    }\n",
       "\n",
       "    .dataframe tbody tr th {\n",
       "        vertical-align: top;\n",
       "    }\n",
       "\n",
       "    .dataframe thead th {\n",
       "        text-align: right;\n",
       "    }\n",
       "</style>\n",
       "<table border=\"1\" class=\"dataframe\">\n",
       "  <thead>\n",
       "    <tr style=\"text-align: right;\">\n",
       "      <th></th>\n",
       "      <th>LocationAbbr</th>\n",
       "      <th>Class</th>\n",
       "      <th>Topic</th>\n",
       "      <th>Question</th>\n",
       "      <th>Data_Value_Unit</th>\n",
       "      <th>Data_Value_Type</th>\n",
       "      <th>Data_Value</th>\n",
       "      <th>Data_Value_Alt</th>\n",
       "      <th>Data_Value_Footnote_Symbol</th>\n",
       "      <th>Data_Value_Footnote</th>\n",
       "      <th>...</th>\n",
       "      <th>ClassID</th>\n",
       "      <th>TopicID</th>\n",
       "      <th>QuestionID</th>\n",
       "      <th>DataValueTypeID</th>\n",
       "      <th>LocationID</th>\n",
       "      <th>StratificationCategory1</th>\n",
       "      <th>Stratification1</th>\n",
       "      <th>StratificationCategoryId1</th>\n",
       "      <th>StratificationID1</th>\n",
       "      <th>Year</th>\n",
       "    </tr>\n",
       "  </thead>\n",
       "  <tbody>\n",
       "    <tr>\n",
       "      <th>48791</th>\n",
       "      <td>AZ</td>\n",
       "      <td>Obesity / Weight Status</td>\n",
       "      <td>Obesity / Weight Status</td>\n",
       "      <td>Percent of adults aged 18 years and older who ...</td>\n",
       "      <td>NaN</td>\n",
       "      <td>Value</td>\n",
       "      <td>29.0</td>\n",
       "      <td>29.0</td>\n",
       "      <td>NaN</td>\n",
       "      <td>NaN</td>\n",
       "      <td>...</td>\n",
       "      <td>OWS</td>\n",
       "      <td>OWS1</td>\n",
       "      <td>Q037</td>\n",
       "      <td>VALUE</td>\n",
       "      <td>4</td>\n",
       "      <td>Income</td>\n",
       "      <td>Data not reported</td>\n",
       "      <td>INC</td>\n",
       "      <td>INCNR</td>\n",
       "      <td>2016</td>\n",
       "    </tr>\n",
       "    <tr>\n",
       "      <th>15608</th>\n",
       "      <td>MN</td>\n",
       "      <td>Fruits and Vegetables</td>\n",
       "      <td>Fruits and Vegetables - Behavior</td>\n",
       "      <td>Percent of adults who report consuming fruit l...</td>\n",
       "      <td>NaN</td>\n",
       "      <td>Value</td>\n",
       "      <td>31.2</td>\n",
       "      <td>31.2</td>\n",
       "      <td>NaN</td>\n",
       "      <td>NaN</td>\n",
       "      <td>...</td>\n",
       "      <td>FV</td>\n",
       "      <td>FV1</td>\n",
       "      <td>Q018</td>\n",
       "      <td>VALUE</td>\n",
       "      <td>27</td>\n",
       "      <td>Gender</td>\n",
       "      <td>Female</td>\n",
       "      <td>GEN</td>\n",
       "      <td>FEMALE</td>\n",
       "      <td>2011</td>\n",
       "    </tr>\n",
       "    <tr>\n",
       "      <th>45564</th>\n",
       "      <td>GU</td>\n",
       "      <td>Physical Activity</td>\n",
       "      <td>Physical Activity - Behavior</td>\n",
       "      <td>Percent of adults who achieve at least 300 min...</td>\n",
       "      <td>NaN</td>\n",
       "      <td>Value</td>\n",
       "      <td>36.3</td>\n",
       "      <td>36.3</td>\n",
       "      <td>NaN</td>\n",
       "      <td>NaN</td>\n",
       "      <td>...</td>\n",
       "      <td>PA</td>\n",
       "      <td>PA1</td>\n",
       "      <td>Q045</td>\n",
       "      <td>VALUE</td>\n",
       "      <td>66</td>\n",
       "      <td>Income</td>\n",
       "      <td>$25,000 - $34,999</td>\n",
       "      <td>INC</td>\n",
       "      <td>INC2535</td>\n",
       "      <td>2015</td>\n",
       "    </tr>\n",
       "  </tbody>\n",
       "</table>\n",
       "<p>3 rows × 30 columns</p>\n",
       "</div>"
      ],
      "text/plain": [
       "      LocationAbbr                    Class                             Topic  \\\n",
       "48791           AZ  Obesity / Weight Status           Obesity / Weight Status   \n",
       "15608           MN    Fruits and Vegetables  Fruits and Vegetables - Behavior   \n",
       "45564           GU        Physical Activity      Physical Activity - Behavior   \n",
       "\n",
       "                                                Question  Data_Value_Unit  \\\n",
       "48791  Percent of adults aged 18 years and older who ...              NaN   \n",
       "15608  Percent of adults who report consuming fruit l...              NaN   \n",
       "45564  Percent of adults who achieve at least 300 min...              NaN   \n",
       "\n",
       "      Data_Value_Type  Data_Value  Data_Value_Alt Data_Value_Footnote_Symbol  \\\n",
       "48791           Value        29.0            29.0                        NaN   \n",
       "15608           Value        31.2            31.2                        NaN   \n",
       "45564           Value        36.3            36.3                        NaN   \n",
       "\n",
       "      Data_Value_Footnote  ...  ClassID  TopicID  QuestionID DataValueTypeID  \\\n",
       "48791                 NaN  ...      OWS     OWS1        Q037           VALUE   \n",
       "15608                 NaN  ...       FV      FV1        Q018           VALUE   \n",
       "45564                 NaN  ...       PA      PA1        Q045           VALUE   \n",
       "\n",
       "      LocationID StratificationCategory1    Stratification1  \\\n",
       "48791          4                  Income  Data not reported   \n",
       "15608         27                  Gender             Female   \n",
       "45564         66                  Income  $25,000 - $34,999   \n",
       "\n",
       "      StratificationCategoryId1 StratificationID1  Year  \n",
       "48791                       INC             INCNR  2016  \n",
       "15608                       GEN            FEMALE  2011  \n",
       "45564                       INC           INC2535  2015  \n",
       "\n",
       "[3 rows x 30 columns]"
      ]
     },
     "execution_count": 40,
     "metadata": {},
     "output_type": "execute_result"
    }
   ],
   "source": [
    "# first thing we notice is the huge number of empties for education, gender\n",
    "#also, this is structured KAK. First thing to do is structure\n",
    "cdc_df.sample(3)"
   ]
  },
  {
   "cell_type": "markdown",
   "id": "0100f14b-4d54-495f-b6d4-8e64b85206ec",
   "metadata": {},
   "source": [
    "# EDA"
   ]
  },
  {
   "cell_type": "code",
   "execution_count": 16,
   "id": "96c250d6-5a79-4a08-a192-1fd9d26afb2e",
   "metadata": {},
   "outputs": [
    {
     "data": {
      "text/plain": [
       "0    53392\n",
       "dtype: int64"
      ]
     },
     "execution_count": 16,
     "metadata": {},
     "output_type": "execute_result"
    }
   ],
   "source": [
    "(cdc_df['YearStart']-cdc_df['YearEnd']).value_counts() #always exactly a year "
   ]
  },
  {
   "cell_type": "code",
   "execution_count": 17,
   "id": "a5021a5e-8531-4f66-ba17-918193fbdc5c",
   "metadata": {},
   "outputs": [],
   "source": [
    "cdc_df['Year'] = cdc_df['YearStart']\n",
    "cdc_df = cdc_df.drop(['YearStart','YearEnd'],axis=1)"
   ]
  },
  {
   "cell_type": "code",
   "execution_count": 22,
   "id": "18916b98-e80d-4503-a97f-57bab108ba4b",
   "metadata": {},
   "outputs": [
    {
     "data": {
      "text/plain": [
       "<AxesSubplot:ylabel='Frequency'>"
      ]
     },
     "execution_count": 22,
     "metadata": {},
     "output_type": "execute_result"
    },
    {
     "data": {
      "image/png": "[encoded data removed]",
      "text/plain": [
       "<Figure size 432x288 with 1 Axes>"
      ]
     },
     "metadata": {
      "needs_background": "light"
     },
     "output_type": "display_data"
    }
   ],
   "source": [
    "cdc_df['Year'].plot(kind='hist')"
   ]
  },
  {
   "cell_type": "code",
   "execution_count": 29,
   "id": "27f6a16a-c169-4e39-b633-70ee3cd9b461",
   "metadata": {
    "collapsed": true,
    "jupyter": {
     "outputs_hidden": true
    },
    "tags": []
   },
   "outputs": [
    {
     "data": {
      "text/plain": [
       "{'AL': 'Alabama',\n",
       " 'US': 'National',\n",
       " 'AK': 'Alaska',\n",
       " 'AZ': 'Arizona',\n",
       " 'AR': 'Arkansas',\n",
       " 'CA': 'California',\n",
       " 'CT': 'Connecticut',\n",
       " 'CO': 'Colorado',\n",
       " 'DE': 'Delaware',\n",
       " 'FL': 'Florida',\n",
       " 'DC': 'District of Columbia',\n",
       " 'GA': 'Georgia',\n",
       " 'GU': 'Guam',\n",
       " 'HI': 'Hawaii',\n",
       " 'ID': 'Idaho',\n",
       " 'IL': 'Illinois',\n",
       " 'IN': 'Indiana',\n",
       " 'IA': 'Iowa',\n",
       " 'KS': 'Kansas',\n",
       " 'KY': 'Kentucky',\n",
       " 'LA': 'Louisiana',\n",
       " 'ME': 'Maine',\n",
       " 'MD': 'Maryland',\n",
       " 'MA': 'Massachusetts',\n",
       " 'MI': 'Michigan',\n",
       " 'MN': 'Minnesota',\n",
       " 'MS': 'Mississippi',\n",
       " 'MO': 'Missouri',\n",
       " 'MT': 'Montana',\n",
       " 'NE': 'Nebraska',\n",
       " 'NV': 'Nevada',\n",
       " 'NH': 'New Hampshire',\n",
       " 'NJ': 'New Jersey',\n",
       " 'NM': 'New Mexico',\n",
       " 'NY': 'New York',\n",
       " 'NC': 'North Carolina',\n",
       " 'ND': 'North Dakota',\n",
       " 'OH': 'Ohio',\n",
       " 'OK': 'Oklahoma',\n",
       " 'OR': 'Oregon',\n",
       " 'PA': 'Pennsylvania',\n",
       " 'PR': 'Puerto Rico',\n",
       " 'RI': 'Rhode Island',\n",
       " 'SC': 'South Carolina',\n",
       " 'SD': 'South Dakota',\n",
       " 'TN': 'Tennessee',\n",
       " 'TX': 'Texas',\n",
       " 'UT': 'Utah',\n",
       " 'VT': 'Vermont',\n",
       " 'VA': 'Virginia',\n",
       " 'WV': 'West Virginia',\n",
       " 'WA': 'Washington',\n",
       " 'WI': 'Wisconsin',\n",
       " 'WY': 'Wyoming',\n",
       " 'VI': 'Virgin Islands'}"
      ]
     },
     "execution_count": 29,
     "metadata": {},
     "output_type": "execute_result"
    }
   ],
   "source": [
    "location_dct = dict(cdc_df[['LocationAbbr','LocationDesc']].drop_duplicates().values)\n",
    "location_dct"
   ]
  },
  {
   "cell_type": "code",
   "execution_count": 31,
   "id": "2de9b279-fb44-4ea7-8469-60dc5f12c858",
   "metadata": {},
   "outputs": [],
   "source": [
    "cdc_df=cdc_df.drop('LocationDesc',axis=1)"
   ]
  },
  {
   "cell_type": "code",
   "execution_count": 34,
   "id": "9725b990-3ab3-4e30-bccb-945b2bd92a0e",
   "metadata": {},
   "outputs": [
    {
     "name": "stdout",
     "output_type": "stream",
     "text": [
      "55     : number of locations\n"
     ]
    }
   ],
   "source": [
    "print(len(set(cdc_df['LocationAbbr'])),'    : number of locations' )"
   ]
  },
  {
   "cell_type": "code",
   "execution_count": 39,
   "id": "054dfe4d-95ba-40e9-8d2d-e42907e52ed0",
   "metadata": {},
   "outputs": [],
   "source": [
    "cdc_df['Datasource'].unique() #all come from one data source \n",
    "cdc_df = cdc_df.drop('Datasource',axis=1)"
   ]
  },
  {
   "cell_type": "code",
   "execution_count": 43,
   "id": "eccad5f3-a3f6-457b-a68e-23b42b5297d3",
   "metadata": {},
   "outputs": [
    {
     "data": {
      "text/html": [
       "<div>\n",
       "<style scoped>\n",
       "    .dataframe tbody tr th:only-of-type {\n",
       "        vertical-align: middle;\n",
       "    }\n",
       "\n",
       "    .dataframe tbody tr th {\n",
       "        vertical-align: top;\n",
       "    }\n",
       "\n",
       "    .dataframe thead th {\n",
       "        text-align: right;\n",
       "    }\n",
       "</style>\n",
       "<table border=\"1\" class=\"dataframe\">\n",
       "  <thead>\n",
       "    <tr style=\"text-align: right;\">\n",
       "      <th></th>\n",
       "      <th>Class</th>\n",
       "      <th>Topic</th>\n",
       "      <th>Question</th>\n",
       "    </tr>\n",
       "  </thead>\n",
       "  <tbody>\n",
       "    <tr>\n",
       "      <th>0</th>\n",
       "      <td>Obesity / Weight Status</td>\n",
       "      <td>Obesity / Weight Status</td>\n",
       "      <td>Percent of adults aged 18 years and older who ...</td>\n",
       "    </tr>\n",
       "    <tr>\n",
       "      <th>28</th>\n",
       "      <td>Obesity / Weight Status</td>\n",
       "      <td>Obesity / Weight Status</td>\n",
       "      <td>Percent of adults aged 18 years and older who ...</td>\n",
       "    </tr>\n",
       "    <tr>\n",
       "      <th>56</th>\n",
       "      <td>Fruits and Vegetables</td>\n",
       "      <td>Fruits and Vegetables - Behavior</td>\n",
       "      <td>Percent of adults who report consuming fruit l...</td>\n",
       "    </tr>\n",
       "    <tr>\n",
       "      <th>84</th>\n",
       "      <td>Fruits and Vegetables</td>\n",
       "      <td>Fruits and Vegetables - Behavior</td>\n",
       "      <td>Percent of adults who report consuming vegetab...</td>\n",
       "    </tr>\n",
       "    <tr>\n",
       "      <th>108</th>\n",
       "      <td>Physical Activity</td>\n",
       "      <td>Physical Activity - Behavior</td>\n",
       "      <td>Percent of adults who engage in muscle-strengt...</td>\n",
       "    </tr>\n",
       "    <tr>\n",
       "      <th>113</th>\n",
       "      <td>Physical Activity</td>\n",
       "      <td>Physical Activity - Behavior</td>\n",
       "      <td>Percent of adults who achieve at least 150 min...</td>\n",
       "    </tr>\n",
       "    <tr>\n",
       "      <th>143</th>\n",
       "      <td>Physical Activity</td>\n",
       "      <td>Physical Activity - Behavior</td>\n",
       "      <td>Percent of adults who achieve at least 150 min...</td>\n",
       "    </tr>\n",
       "    <tr>\n",
       "      <th>171</th>\n",
       "      <td>Physical Activity</td>\n",
       "      <td>Physical Activity - Behavior</td>\n",
       "      <td>Percent of adults who achieve at least 300 min...</td>\n",
       "    </tr>\n",
       "    <tr>\n",
       "      <th>225</th>\n",
       "      <td>Physical Activity</td>\n",
       "      <td>Physical Activity - Behavior</td>\n",
       "      <td>Percent of adults who engage in no leisure-tim...</td>\n",
       "    </tr>\n",
       "  </tbody>\n",
       "</table>\n",
       "</div>"
      ],
      "text/plain": [
       "                       Class                             Topic  \\\n",
       "0    Obesity / Weight Status           Obesity / Weight Status   \n",
       "28   Obesity / Weight Status           Obesity / Weight Status   \n",
       "56     Fruits and Vegetables  Fruits and Vegetables - Behavior   \n",
       "84     Fruits and Vegetables  Fruits and Vegetables - Behavior   \n",
       "108        Physical Activity      Physical Activity - Behavior   \n",
       "113        Physical Activity      Physical Activity - Behavior   \n",
       "143        Physical Activity      Physical Activity - Behavior   \n",
       "171        Physical Activity      Physical Activity - Behavior   \n",
       "225        Physical Activity      Physical Activity - Behavior   \n",
       "\n",
       "                                              Question  \n",
       "0    Percent of adults aged 18 years and older who ...  \n",
       "28   Percent of adults aged 18 years and older who ...  \n",
       "56   Percent of adults who report consuming fruit l...  \n",
       "84   Percent of adults who report consuming vegetab...  \n",
       "108  Percent of adults who engage in muscle-strengt...  \n",
       "113  Percent of adults who achieve at least 150 min...  \n",
       "143  Percent of adults who achieve at least 150 min...  \n",
       "171  Percent of adults who achieve at least 300 min...  \n",
       "225  Percent of adults who engage in no leisure-tim...  "
      ]
     },
     "execution_count": 43,
     "metadata": {},
     "output_type": "execute_result"
    }
   ],
   "source": [
    "cdc_df[['Class','Topic','Question']].drop_duplicates() #not too many luckily"
   ]
  },
  {
   "cell_type": "code",
   "execution_count": 48,
   "id": "507df05e-ab51-4a86-a2ae-e0ccec61cba6",
   "metadata": {},
   "outputs": [
    {
     "data": {
      "text/html": [
       "<div>\n",
       "<style scoped>\n",
       "    .dataframe tbody tr th:only-of-type {\n",
       "        vertical-align: middle;\n",
       "    }\n",
       "\n",
       "    .dataframe tbody tr th {\n",
       "        vertical-align: top;\n",
       "    }\n",
       "\n",
       "    .dataframe thead th {\n",
       "        text-align: right;\n",
       "    }\n",
       "</style>\n",
       "<table border=\"1\" class=\"dataframe\">\n",
       "  <thead>\n",
       "    <tr style=\"text-align: right;\">\n",
       "      <th></th>\n",
       "      <th>Question</th>\n",
       "    </tr>\n",
       "  </thead>\n",
       "  <tbody>\n",
       "    <tr>\n",
       "      <th>0</th>\n",
       "      <td>Percent of adults aged 18 years and older who have obesity</td>\n",
       "    </tr>\n",
       "    <tr>\n",
       "      <th>28</th>\n",
       "      <td>Percent of adults aged 18 years and older who have an overweight classification</td>\n",
       "    </tr>\n",
       "    <tr>\n",
       "      <th>56</th>\n",
       "      <td>Percent of adults who report consuming fruit less than one time daily</td>\n",
       "    </tr>\n",
       "    <tr>\n",
       "      <th>84</th>\n",
       "      <td>Percent of adults who report consuming vegetables less than one time daily</td>\n",
       "    </tr>\n",
       "    <tr>\n",
       "      <th>108</th>\n",
       "      <td>Percent of adults who engage in muscle-strengthening activities on 2 or more days a week</td>\n",
       "    </tr>\n",
       "    <tr>\n",
       "      <th>113</th>\n",
       "      <td>Percent of adults who achieve at least 150 minutes a week of moderate-intensity aerobic physical activity or 75 minutes a week of vigorous-intensity aerobic activity (or an equivalent combination)</td>\n",
       "    </tr>\n",
       "    <tr>\n",
       "      <th>143</th>\n",
       "      <td>Percent of adults who achieve at least 150 minutes a week of moderate-intensity aerobic physical activity or 75 minutes a week of vigorous-intensity aerobic physical activity and engage in muscle-strengthening activities on 2 or more days a week</td>\n",
       "    </tr>\n",
       "    <tr>\n",
       "      <th>171</th>\n",
       "      <td>Percent of adults who achieve at least 300 minutes a week of moderate-intensity aerobic physical activity or 150 minutes a week of vigorous-intensity aerobic activity (or an equivalent combination)</td>\n",
       "    </tr>\n",
       "    <tr>\n",
       "      <th>225</th>\n",
       "      <td>Percent of adults who engage in no leisure-time physical activity</td>\n",
       "    </tr>\n",
       "  </tbody>\n",
       "</table>\n",
       "</div>"
      ],
      "text/plain": [
       "                                                                                                                                                                                                                                                  Question\n",
       "0                                                                                                                                                                                               Percent of adults aged 18 years and older who have obesity\n",
       "28                                                                                                                                                                         Percent of adults aged 18 years and older who have an overweight classification\n",
       "56                                                                                                                                                                                   Percent of adults who report consuming fruit less than one time daily\n",
       "84                                                                                                                                                                              Percent of adults who report consuming vegetables less than one time daily\n",
       "108                                                                                                                                                               Percent of adults who engage in muscle-strengthening activities on 2 or more days a week\n",
       "113                                                   Percent of adults who achieve at least 150 minutes a week of moderate-intensity aerobic physical activity or 75 minutes a week of vigorous-intensity aerobic activity (or an equivalent combination)\n",
       "143  Percent of adults who achieve at least 150 minutes a week of moderate-intensity aerobic physical activity or 75 minutes a week of vigorous-intensity aerobic physical activity and engage in muscle-strengthening activities on 2 or more days a week\n",
       "171                                                  Percent of adults who achieve at least 300 minutes a week of moderate-intensity aerobic physical activity or 150 minutes a week of vigorous-intensity aerobic activity (or an equivalent combination)\n",
       "225                                                                                                                                                                                      Percent of adults who engage in no leisure-time physical activity"
      ]
     },
     "execution_count": 48,
     "metadata": {},
     "output_type": "execute_result"
    }
   ],
   "source": [
    "pd.set_option('display.max_colwidth', None)\n",
    "\n",
    "cdc_df[['Question']].drop_duplicates()"
   ]
  },
  {
   "cell_type": "code",
   "execution_count": 52,
   "id": "38fa573e-24f0-44b8-b060-31bffe4ad7bb",
   "metadata": {},
   "outputs": [
    {
     "data": {
      "text/html": [
       "<div>\n",
       "<style scoped>\n",
       "    .dataframe tbody tr th:only-of-type {\n",
       "        vertical-align: middle;\n",
       "    }\n",
       "\n",
       "    .dataframe tbody tr th {\n",
       "        vertical-align: top;\n",
       "    }\n",
       "\n",
       "    .dataframe thead th {\n",
       "        text-align: right;\n",
       "    }\n",
       "</style>\n",
       "<table border=\"1\" class=\"dataframe\">\n",
       "  <thead>\n",
       "    <tr style=\"text-align: right;\">\n",
       "      <th>Question</th>\n",
       "      <th>Percent of adults aged 18 years and older who have obesity</th>\n",
       "    </tr>\n",
       "  </thead>\n",
       "  <tbody>\n",
       "    <tr>\n",
       "      <th>15</th>\n",
       "      <td>35.8</td>\n",
       "    </tr>\n",
       "    <tr>\n",
       "      <th>16</th>\n",
       "      <td>32.3</td>\n",
       "    </tr>\n",
       "  </tbody>\n",
       "</table>\n",
       "</div>"
      ],
      "text/plain": [
       "Question  Percent of adults aged 18 years and older who have obesity\n",
       "15                                                              35.8\n",
       "16                                                              32.3"
      ]
     },
     "execution_count": 52,
     "metadata": {},
     "output_type": "execute_result"
    }
   ],
   "source": [
    "# make these questions columns to use them as features\n",
    "cdc_df.iloc[15:17].pivot(columns='Question', values='Data_Value')"
   ]
  },
  {
   "cell_type": "code",
   "execution_count": 90,
   "id": "a91fd2c8-bdb8-4edb-8c9d-98a7d154179d",
   "metadata": {},
   "outputs": [
    {
     "data": {
      "text/html": [
       "<div>\n",
       "<style scoped>\n",
       "    .dataframe tbody tr th:only-of-type {\n",
       "        vertical-align: middle;\n",
       "    }\n",
       "\n",
       "    .dataframe tbody tr th {\n",
       "        vertical-align: top;\n",
       "    }\n",
       "\n",
       "    .dataframe thead th {\n",
       "        text-align: right;\n",
       "    }\n",
       "</style>\n",
       "<table border=\"1\" class=\"dataframe\">\n",
       "  <thead>\n",
       "    <tr style=\"text-align: right;\">\n",
       "      <th></th>\n",
       "      <th>LocationAbbr</th>\n",
       "      <th>Class</th>\n",
       "      <th>Topic</th>\n",
       "      <th>Question</th>\n",
       "      <th>Data_Value</th>\n",
       "      <th>Low_Confidence_Limit</th>\n",
       "      <th>High_Confidence_Limit</th>\n",
       "      <th>Sample_Size</th>\n",
       "      <th>Total</th>\n",
       "      <th>Age(years)</th>\n",
       "      <th>Education</th>\n",
       "      <th>Gender</th>\n",
       "      <th>Income</th>\n",
       "      <th>Race/Ethnicity</th>\n",
       "      <th>StratificationCategory1</th>\n",
       "      <th>Stratification1</th>\n",
       "      <th>Year</th>\n",
       "    </tr>\n",
       "  </thead>\n",
       "  <tbody>\n",
       "    <tr>\n",
       "      <th>15</th>\n",
       "      <td>AL</td>\n",
       "      <td>Obesity / Weight Status</td>\n",
       "      <td>Obesity / Weight Status</td>\n",
       "      <td>Percent of adults aged 18 years and older who have obesity</td>\n",
       "      <td>35.8</td>\n",
       "      <td>31.1</td>\n",
       "      <td>40.8</td>\n",
       "      <td>757.0</td>\n",
       "      <td>NaN</td>\n",
       "      <td>NaN</td>\n",
       "      <td>NaN</td>\n",
       "      <td>NaN</td>\n",
       "      <td>$25,000 - $34,999</td>\n",
       "      <td>NaN</td>\n",
       "      <td>Income</td>\n",
       "      <td>$25,000 - $34,999</td>\n",
       "      <td>2011</td>\n",
       "    </tr>\n",
       "    <tr>\n",
       "      <th>16</th>\n",
       "      <td>AL</td>\n",
       "      <td>Obesity / Weight Status</td>\n",
       "      <td>Obesity / Weight Status</td>\n",
       "      <td>Percent of adults aged 18 years and older who have obesity</td>\n",
       "      <td>32.3</td>\n",
       "      <td>28.0</td>\n",
       "      <td>36.8</td>\n",
       "      <td>861.0</td>\n",
       "      <td>NaN</td>\n",
       "      <td>NaN</td>\n",
       "      <td>NaN</td>\n",
       "      <td>NaN</td>\n",
       "      <td>$35,000 - $49,999</td>\n",
       "      <td>NaN</td>\n",
       "      <td>Income</td>\n",
       "      <td>$35,000 - $49,999</td>\n",
       "      <td>2011</td>\n",
       "    </tr>\n",
       "  </tbody>\n",
       "</table>\n",
       "</div>"
      ],
      "text/plain": [
       "   LocationAbbr                    Class                    Topic  \\\n",
       "15           AL  Obesity / Weight Status  Obesity / Weight Status   \n",
       "16           AL  Obesity / Weight Status  Obesity / Weight Status   \n",
       "\n",
       "                                                      Question  Data_Value  \\\n",
       "15  Percent of adults aged 18 years and older who have obesity        35.8   \n",
       "16  Percent of adults aged 18 years and older who have obesity        32.3   \n",
       "\n",
       "    Low_Confidence_Limit  High_Confidence_Limit   Sample_Size Total  \\\n",
       "15                  31.1                    40.8        757.0   NaN   \n",
       "16                  28.0                    36.8        861.0   NaN   \n",
       "\n",
       "   Age(years) Education Gender             Income Race/Ethnicity  \\\n",
       "15        NaN       NaN    NaN  $25,000 - $34,999            NaN   \n",
       "16        NaN       NaN    NaN  $35,000 - $49,999            NaN   \n",
       "\n",
       "   StratificationCategory1    Stratification1  Year  \n",
       "15                  Income  $25,000 - $34,999  2011  \n",
       "16                  Income  $35,000 - $49,999  2011  "
      ]
     },
     "execution_count": 90,
     "metadata": {},
     "output_type": "execute_result"
    }
   ],
   "source": [
    "cdc_df.iloc[15:17]"
   ]
  },
  {
   "cell_type": "code",
   "execution_count": 60,
   "id": "c67b1039-8992-43d9-b6b4-57061f5e071d",
   "metadata": {
    "tags": []
   },
   "outputs": [],
   "source": [
    "cdc_df[~cdc_df.Data_Value_Unit.isnull()]\n",
    "sum(cdc_df.Data_Value_Unit.isnull())\n",
    "cdc_df=cdc_df.drop('Data_Value_Unit',axis=1)"
   ]
  },
  {
   "cell_type": "code",
   "execution_count": 66,
   "id": "59c61d46-7afb-4d94-957b-4897afc685e6",
   "metadata": {},
   "outputs": [],
   "source": [
    "set(cdc_df[~cdc_df.Data_Value_Type.isnull()].Data_Value_Type)\n",
    "cdc_df=cdc_df.drop('Data_Value_Type',axis=1)"
   ]
  },
  {
   "cell_type": "code",
   "execution_count": 71,
   "id": "0910985d-0fb9-4008-8a71-136239642e45",
   "metadata": {},
   "outputs": [],
   "source": [
    "(cdc_df['Data_Value']-cdc_df['Data_Value_Alt']).value_counts()\n",
    "cdc_df=cdc_df.drop('Data_Value_Alt',axis=1)"
   ]
  },
  {
   "cell_type": "code",
   "execution_count": 74,
   "id": "1642273f-33c3-4c34-a9e7-f4440d8e74dd",
   "metadata": {},
   "outputs": [],
   "source": [
    "cdc_df['Data_Value_Footnote_Symbol'].value_counts()\n",
    "cdc_df=cdc_df.drop('Data_Value_Footnote_Symbol',axis=1)"
   ]
  },
  {
   "cell_type": "code",
   "execution_count": 76,
   "id": "e64b06cb-8c43-434d-9fc2-ce317e20bbe8",
   "metadata": {},
   "outputs": [
    {
     "data": {
      "text/plain": [
       "Data not available because sample size is insufficient.                                                                                                   4624\n",
       "Data not available because sample size is insufficient.  If data only missing for the confidence interval, the confidence interval was not calculated.     422\n",
       "Name: Data_Value_Footnote, dtype: int64"
      ]
     },
     "execution_count": 76,
     "metadata": {},
     "output_type": "execute_result"
    }
   ],
   "source": [
    "cdc_df['Data_Value_Footnote'].value_counts()"
   ]
  },
  {
   "cell_type": "code",
   "execution_count": 81,
   "id": "17850393-f2ee-41f5-a3fa-40fa8a28a62e",
   "metadata": {},
   "outputs": [],
   "source": [
    "#just assuming we drop the insufficient data sample rows. (could have done investigation on this, but lets just work with what we have in order to move on)\n",
    "cdc_df[cdc_df['Data_Value_Footnote'].isnull()].count() #we would drop around ten percent of the data. fine. \n",
    "cdc_df = cdc_df[cdc_df['Data_Value_Footnote'].isnull()]\n",
    "cdc_df = cdc_df.drop('Data_Value_Footnote',axis=1)"
   ]
  },
  {
   "cell_type": "code",
   "execution_count": 85,
   "id": "49ba8fb4-4678-4415-bc3e-4d928660d48f",
   "metadata": {},
   "outputs": [],
   "source": [
    "# drop every single 'ID' column\n",
    "\n",
    "cols_to_drop = [x for x in cdc_df.columns if x[-2:]=='ID']\n",
    "cdc_df = cdc_df.drop(cols_to_drop, axis=1)"
   ]
  },
  {
   "cell_type": "code",
   "execution_count": 87,
   "id": "9ed27523-7899-4d6d-a9e9-5da2a16cee59",
   "metadata": {},
   "outputs": [],
   "source": [
    "cols_to_drop=['StratificationCategoryId1','StratificationID1']\n",
    "cdc_df = cdc_df.drop(cols_to_drop, axis=1)"
   ]
  },
  {
   "cell_type": "code",
   "execution_count": 89,
   "id": "60021e0f-7188-4406-9f82-be6bd96e89c0",
   "metadata": {},
   "outputs": [],
   "source": [
    "#geolocation legit won't do nothing. we don't need it. \n",
    "cdc_df = cdc_df.drop( 'GeoLocation', axis=1)"
   ]
  },
  {
   "cell_type": "code",
   "execution_count": 108,
   "id": "df7be4b5-3e04-46f5-ae69-a27800f79fca",
   "metadata": {
    "collapsed": true,
    "jupyter": {
     "outputs_hidden": true
    },
    "tags": []
   },
   "outputs": [
    {
     "ename": "KeyError",
     "evalue": "\"['High_Confidence_Limit ' 'Low_Confidence_Limit'] not found in axis\"",
     "output_type": "error",
     "traceback": [
      "\u001b[1;31m---------------------------------------------------------------------------\u001b[0m",
      "\u001b[1;31mKeyError\u001b[0m                                  Traceback (most recent call last)",
      "\u001b[1;32m~\\AppData\\Local\\Temp/ipykernel_29820/2948767095.py\u001b[0m in \u001b[0;36m<module>\u001b[1;34m\u001b[0m\n\u001b[0;32m      1\u001b[0m \u001b[1;31m#drop confidence limits..\u001b[0m\u001b[1;33m\u001b[0m\u001b[1;33m\u001b[0m\u001b[0m\n\u001b[1;32m----> 2\u001b[1;33m \u001b[0mcdc_df\u001b[0m \u001b[1;33m=\u001b[0m \u001b[0mcdc_df\u001b[0m\u001b[1;33m.\u001b[0m\u001b[0mdrop\u001b[0m\u001b[1;33m(\u001b[0m\u001b[1;33m[\u001b[0m\u001b[1;34m'High_Confidence_Limit '\u001b[0m\u001b[1;33m,\u001b[0m\u001b[1;34m'Low_Confidence_Limit'\u001b[0m\u001b[1;33m]\u001b[0m\u001b[1;33m,\u001b[0m\u001b[0maxis\u001b[0m\u001b[1;33m=\u001b[0m\u001b[1;36m1\u001b[0m\u001b[1;33m)\u001b[0m\u001b[1;33m\u001b[0m\u001b[1;33m\u001b[0m\u001b[0m\n\u001b[0m",
      "\u001b[1;32m~\\anaconda3\\envs\\AutoML\\lib\\site-packages\\pandas\\util\\_decorators.py\u001b[0m in \u001b[0;36mwrapper\u001b[1;34m(*args, **kwargs)\u001b[0m\n\u001b[0;32m    309\u001b[0m                     \u001b[0mstacklevel\u001b[0m\u001b[1;33m=\u001b[0m\u001b[0mstacklevel\u001b[0m\u001b[1;33m,\u001b[0m\u001b[1;33m\u001b[0m\u001b[1;33m\u001b[0m\u001b[0m\n\u001b[0;32m    310\u001b[0m                 )\n\u001b[1;32m--> 311\u001b[1;33m             \u001b[1;32mreturn\u001b[0m \u001b[0mfunc\u001b[0m\u001b[1;33m(\u001b[0m\u001b[1;33m*\u001b[0m\u001b[0margs\u001b[0m\u001b[1;33m,\u001b[0m \u001b[1;33m**\u001b[0m\u001b[0mkwargs\u001b[0m\u001b[1;33m)\u001b[0m\u001b[1;33m\u001b[0m\u001b[1;33m\u001b[0m\u001b[0m\n\u001b[0m\u001b[0;32m    312\u001b[0m \u001b[1;33m\u001b[0m\u001b[0m\n\u001b[0;32m    313\u001b[0m         \u001b[1;32mreturn\u001b[0m \u001b[0mwrapper\u001b[0m\u001b[1;33m\u001b[0m\u001b[1;33m\u001b[0m\u001b[0m\n",
      "\u001b[1;32m~\\anaconda3\\envs\\AutoML\\lib\\site-packages\\pandas\\core\\frame.py\u001b[0m in \u001b[0;36mdrop\u001b[1;34m(self, labels, axis, index, columns, level, inplace, errors)\u001b[0m\n\u001b[0;32m   4904\u001b[0m                 \u001b[0mweight\u001b[0m  \u001b[1;36m1.0\u001b[0m     \u001b[1;36m0.8\u001b[0m\u001b[1;33m\u001b[0m\u001b[1;33m\u001b[0m\u001b[0m\n\u001b[0;32m   4905\u001b[0m         \"\"\"\n\u001b[1;32m-> 4906\u001b[1;33m         return super().drop(\n\u001b[0m\u001b[0;32m   4907\u001b[0m             \u001b[0mlabels\u001b[0m\u001b[1;33m=\u001b[0m\u001b[0mlabels\u001b[0m\u001b[1;33m,\u001b[0m\u001b[1;33m\u001b[0m\u001b[1;33m\u001b[0m\u001b[0m\n\u001b[0;32m   4908\u001b[0m             \u001b[0maxis\u001b[0m\u001b[1;33m=\u001b[0m\u001b[0maxis\u001b[0m\u001b[1;33m,\u001b[0m\u001b[1;33m\u001b[0m\u001b[1;33m\u001b[0m\u001b[0m\n",
      "\u001b[1;32m~\\anaconda3\\envs\\AutoML\\lib\\site-packages\\pandas\\core\\generic.py\u001b[0m in \u001b[0;36mdrop\u001b[1;34m(self, labels, axis, index, columns, level, inplace, errors)\u001b[0m\n\u001b[0;32m   4148\u001b[0m         \u001b[1;32mfor\u001b[0m \u001b[0maxis\u001b[0m\u001b[1;33m,\u001b[0m \u001b[0mlabels\u001b[0m \u001b[1;32min\u001b[0m \u001b[0maxes\u001b[0m\u001b[1;33m.\u001b[0m\u001b[0mitems\u001b[0m\u001b[1;33m(\u001b[0m\u001b[1;33m)\u001b[0m\u001b[1;33m:\u001b[0m\u001b[1;33m\u001b[0m\u001b[1;33m\u001b[0m\u001b[0m\n\u001b[0;32m   4149\u001b[0m             \u001b[1;32mif\u001b[0m \u001b[0mlabels\u001b[0m \u001b[1;32mis\u001b[0m \u001b[1;32mnot\u001b[0m \u001b[1;32mNone\u001b[0m\u001b[1;33m:\u001b[0m\u001b[1;33m\u001b[0m\u001b[1;33m\u001b[0m\u001b[0m\n\u001b[1;32m-> 4150\u001b[1;33m                 \u001b[0mobj\u001b[0m \u001b[1;33m=\u001b[0m \u001b[0mobj\u001b[0m\u001b[1;33m.\u001b[0m\u001b[0m_drop_axis\u001b[0m\u001b[1;33m(\u001b[0m\u001b[0mlabels\u001b[0m\u001b[1;33m,\u001b[0m \u001b[0maxis\u001b[0m\u001b[1;33m,\u001b[0m \u001b[0mlevel\u001b[0m\u001b[1;33m=\u001b[0m\u001b[0mlevel\u001b[0m\u001b[1;33m,\u001b[0m \u001b[0merrors\u001b[0m\u001b[1;33m=\u001b[0m\u001b[0merrors\u001b[0m\u001b[1;33m)\u001b[0m\u001b[1;33m\u001b[0m\u001b[1;33m\u001b[0m\u001b[0m\n\u001b[0m\u001b[0;32m   4151\u001b[0m \u001b[1;33m\u001b[0m\u001b[0m\n\u001b[0;32m   4152\u001b[0m         \u001b[1;32mif\u001b[0m \u001b[0minplace\u001b[0m\u001b[1;33m:\u001b[0m\u001b[1;33m\u001b[0m\u001b[1;33m\u001b[0m\u001b[0m\n",
      "\u001b[1;32m~\\anaconda3\\envs\\AutoML\\lib\\site-packages\\pandas\\core\\generic.py\u001b[0m in \u001b[0;36m_drop_axis\u001b[1;34m(self, labels, axis, level, errors)\u001b[0m\n\u001b[0;32m   4183\u001b[0m                 \u001b[0mnew_axis\u001b[0m \u001b[1;33m=\u001b[0m \u001b[0maxis\u001b[0m\u001b[1;33m.\u001b[0m\u001b[0mdrop\u001b[0m\u001b[1;33m(\u001b[0m\u001b[0mlabels\u001b[0m\u001b[1;33m,\u001b[0m \u001b[0mlevel\u001b[0m\u001b[1;33m=\u001b[0m\u001b[0mlevel\u001b[0m\u001b[1;33m,\u001b[0m \u001b[0merrors\u001b[0m\u001b[1;33m=\u001b[0m\u001b[0merrors\u001b[0m\u001b[1;33m)\u001b[0m\u001b[1;33m\u001b[0m\u001b[1;33m\u001b[0m\u001b[0m\n\u001b[0;32m   4184\u001b[0m             \u001b[1;32melse\u001b[0m\u001b[1;33m:\u001b[0m\u001b[1;33m\u001b[0m\u001b[1;33m\u001b[0m\u001b[0m\n\u001b[1;32m-> 4185\u001b[1;33m                 \u001b[0mnew_axis\u001b[0m \u001b[1;33m=\u001b[0m \u001b[0maxis\u001b[0m\u001b[1;33m.\u001b[0m\u001b[0mdrop\u001b[0m\u001b[1;33m(\u001b[0m\u001b[0mlabels\u001b[0m\u001b[1;33m,\u001b[0m \u001b[0merrors\u001b[0m\u001b[1;33m=\u001b[0m\u001b[0merrors\u001b[0m\u001b[1;33m)\u001b[0m\u001b[1;33m\u001b[0m\u001b[1;33m\u001b[0m\u001b[0m\n\u001b[0m\u001b[0;32m   4186\u001b[0m             \u001b[0mresult\u001b[0m \u001b[1;33m=\u001b[0m \u001b[0mself\u001b[0m\u001b[1;33m.\u001b[0m\u001b[0mreindex\u001b[0m\u001b[1;33m(\u001b[0m\u001b[1;33m**\u001b[0m\u001b[1;33m{\u001b[0m\u001b[0maxis_name\u001b[0m\u001b[1;33m:\u001b[0m \u001b[0mnew_axis\u001b[0m\u001b[1;33m}\u001b[0m\u001b[1;33m)\u001b[0m\u001b[1;33m\u001b[0m\u001b[1;33m\u001b[0m\u001b[0m\n\u001b[0;32m   4187\u001b[0m \u001b[1;33m\u001b[0m\u001b[0m\n",
      "\u001b[1;32m~\\anaconda3\\envs\\AutoML\\lib\\site-packages\\pandas\\core\\indexes\\base.py\u001b[0m in \u001b[0;36mdrop\u001b[1;34m(self, labels, errors)\u001b[0m\n\u001b[0;32m   6015\u001b[0m         \u001b[1;32mif\u001b[0m \u001b[0mmask\u001b[0m\u001b[1;33m.\u001b[0m\u001b[0many\u001b[0m\u001b[1;33m(\u001b[0m\u001b[1;33m)\u001b[0m\u001b[1;33m:\u001b[0m\u001b[1;33m\u001b[0m\u001b[1;33m\u001b[0m\u001b[0m\n\u001b[0;32m   6016\u001b[0m             \u001b[1;32mif\u001b[0m \u001b[0merrors\u001b[0m \u001b[1;33m!=\u001b[0m \u001b[1;34m\"ignore\"\u001b[0m\u001b[1;33m:\u001b[0m\u001b[1;33m\u001b[0m\u001b[1;33m\u001b[0m\u001b[0m\n\u001b[1;32m-> 6017\u001b[1;33m                 \u001b[1;32mraise\u001b[0m \u001b[0mKeyError\u001b[0m\u001b[1;33m(\u001b[0m\u001b[1;34mf\"{labels[mask]} not found in axis\"\u001b[0m\u001b[1;33m)\u001b[0m\u001b[1;33m\u001b[0m\u001b[1;33m\u001b[0m\u001b[0m\n\u001b[0m\u001b[0;32m   6018\u001b[0m             \u001b[0mindexer\u001b[0m \u001b[1;33m=\u001b[0m \u001b[0mindexer\u001b[0m\u001b[1;33m[\u001b[0m\u001b[1;33m~\u001b[0m\u001b[0mmask\u001b[0m\u001b[1;33m]\u001b[0m\u001b[1;33m\u001b[0m\u001b[1;33m\u001b[0m\u001b[0m\n\u001b[0;32m   6019\u001b[0m         \u001b[1;32mreturn\u001b[0m \u001b[0mself\u001b[0m\u001b[1;33m.\u001b[0m\u001b[0mdelete\u001b[0m\u001b[1;33m(\u001b[0m\u001b[0mindexer\u001b[0m\u001b[1;33m)\u001b[0m\u001b[1;33m\u001b[0m\u001b[1;33m\u001b[0m\u001b[0m\n",
      "\u001b[1;31mKeyError\u001b[0m: \"['High_Confidence_Limit ' 'Low_Confidence_Limit'] not found in axis\""
     ]
    }
   ],
   "source": [
    "#drop confidence limits..\n",
    "cdc_df = cdc_df.drop(['High_Confidence_Limit ','Low_Confidence_Limit'],axis=1)"
   ]
  },
  {
   "cell_type": "code",
   "execution_count": 115,
   "id": "1193330f-0726-453e-861e-20e4776ca671",
   "metadata": {},
   "outputs": [],
   "source": [
    "#drop class and topic\n",
    "cdc_df = cdc_df.drop(['Class','Topic'],axis=1)"
   ]
  },
  {
   "cell_type": "code",
   "execution_count": 91,
   "id": "4c6e298e-cfbf-4690-ae3b-11035c717315",
   "metadata": {},
   "outputs": [
    {
     "data": {
      "text/plain": [
       "Income            13349\n",
       "Age (years)       11438\n",
       "Race/Ethnicity    10210\n",
       "Education          7628\n",
       "Gender             3814\n",
       "Total              1907\n",
       "Name: StratificationCategory1, dtype: int64"
      ]
     },
     "execution_count": 91,
     "metadata": {},
     "output_type": "execute_result"
    }
   ],
   "source": [
    "cdc_df['StratificationCategory1'].value_counts() #run on each strat. ? "
   ]
  },
  {
   "cell_type": "markdown",
   "id": "50ca7a55-0567-4c27-852a-b4418a704444",
   "metadata": {},
   "source": [
    "## INCOME"
   ]
  },
  {
   "cell_type": "code",
   "execution_count": 126,
   "id": "ac0cdfb4-61ac-4747-af0b-f71496850e48",
   "metadata": {},
   "outputs": [],
   "source": [
    "#split df into strat cats\n",
    "cdc_df[cdc_df['StratificationCategory1']=='Income'].isnull().sum()\n",
    "#basically for strat cat df, delete all non_informative rows\n",
    "col_inds_to_use = np.where(cdc_df[cdc_df['StratificationCategory1']=='Income'].isnull().sum()==0)\n",
    "income_df = cdc_df[cdc_df['StratificationCategory1']=='Income'][cdc_df.columns[col_inds_to_use]]\n",
    "income_df = income_df.drop(['StratificationCategory1','Stratification1'],axis=1)"
   ]
  },
  {
   "cell_type": "code",
   "execution_count": 116,
   "id": "b34cd4a5-977b-4b7c-b48f-b97b8b5d5362",
   "metadata": {
    "collapsed": true,
    "jupyter": {
     "outputs_hidden": true
    },
    "tags": []
   },
   "outputs": [
    {
     "data": {
      "text/html": [
       "<div>\n",
       "<style scoped>\n",
       "    .dataframe tbody tr th:only-of-type {\n",
       "        vertical-align: middle;\n",
       "    }\n",
       "\n",
       "    .dataframe tbody tr th {\n",
       "        vertical-align: top;\n",
       "    }\n",
       "\n",
       "    .dataframe thead th {\n",
       "        text-align: right;\n",
       "    }\n",
       "</style>\n",
       "<table border=\"1\" class=\"dataframe\">\n",
       "  <thead>\n",
       "    <tr style=\"text-align: right;\">\n",
       "      <th></th>\n",
       "      <th>LocationAbbr</th>\n",
       "      <th>Class</th>\n",
       "      <th>Topic</th>\n",
       "      <th>Question</th>\n",
       "      <th>Data_Value</th>\n",
       "      <th>Sample_Size</th>\n",
       "      <th>Income</th>\n",
       "      <th>Stratification1</th>\n",
       "      <th>Year</th>\n",
       "    </tr>\n",
       "  </thead>\n",
       "  <tbody>\n",
       "    <tr>\n",
       "      <th>19</th>\n",
       "      <td>AL</td>\n",
       "      <td>Obesity / Weight Status</td>\n",
       "      <td>Obesity / Weight Status</td>\n",
       "      <td>Percent of adults aged 18 years and older who have obesity</td>\n",
       "      <td>23.8</td>\n",
       "      <td>1297.0</td>\n",
       "      <td>Data not reported</td>\n",
       "      <td>Data not reported</td>\n",
       "      <td>2011</td>\n",
       "    </tr>\n",
       "    <tr>\n",
       "      <th>47</th>\n",
       "      <td>AL</td>\n",
       "      <td>Obesity / Weight Status</td>\n",
       "      <td>Obesity / Weight Status</td>\n",
       "      <td>Percent of adults aged 18 years and older who have an overweight classification</td>\n",
       "      <td>36.0</td>\n",
       "      <td>1297.0</td>\n",
       "      <td>Data not reported</td>\n",
       "      <td>Data not reported</td>\n",
       "      <td>2011</td>\n",
       "    </tr>\n",
       "    <tr>\n",
       "      <th>71</th>\n",
       "      <td>AL</td>\n",
       "      <td>Fruits and Vegetables</td>\n",
       "      <td>Fruits and Vegetables - Behavior</td>\n",
       "      <td>Percent of adults who report consuming fruit less than one time daily</td>\n",
       "      <td>44.8</td>\n",
       "      <td>1276.0</td>\n",
       "      <td>Data not reported</td>\n",
       "      <td>Data not reported</td>\n",
       "      <td>2011</td>\n",
       "    </tr>\n",
       "    <tr>\n",
       "      <th>103</th>\n",
       "      <td>AL</td>\n",
       "      <td>Fruits and Vegetables</td>\n",
       "      <td>Fruits and Vegetables - Behavior</td>\n",
       "      <td>Percent of adults who report consuming vegetables less than one time daily</td>\n",
       "      <td>26.0</td>\n",
       "      <td>1229.0</td>\n",
       "      <td>Data not reported</td>\n",
       "      <td>Data not reported</td>\n",
       "      <td>2011</td>\n",
       "    </tr>\n",
       "    <tr>\n",
       "      <th>134</th>\n",
       "      <td>AL</td>\n",
       "      <td>Physical Activity</td>\n",
       "      <td>Physical Activity - Behavior</td>\n",
       "      <td>Percent of adults who achieve at least 150 minutes a week of moderate-intensity aerobic physical activity or 75 minutes a week of vigorous-intensity aerobic activity (or an equivalent combination)</td>\n",
       "      <td>37.9</td>\n",
       "      <td>1270.0</td>\n",
       "      <td>Data not reported</td>\n",
       "      <td>Data not reported</td>\n",
       "      <td>2011</td>\n",
       "    </tr>\n",
       "    <tr>\n",
       "      <th>...</th>\n",
       "      <td>...</td>\n",
       "      <td>...</td>\n",
       "      <td>...</td>\n",
       "      <td>...</td>\n",
       "      <td>...</td>\n",
       "      <td>...</td>\n",
       "      <td>...</td>\n",
       "      <td>...</td>\n",
       "      <td>...</td>\n",
       "    </tr>\n",
       "    <tr>\n",
       "      <th>53275</th>\n",
       "      <td>WI</td>\n",
       "      <td>Physical Activity</td>\n",
       "      <td>Physical Activity - Behavior</td>\n",
       "      <td>Percent of adults who engage in no leisure-time physical activity</td>\n",
       "      <td>23.8</td>\n",
       "      <td>733.0</td>\n",
       "      <td>Data not reported</td>\n",
       "      <td>Data not reported</td>\n",
       "      <td>2016</td>\n",
       "    </tr>\n",
       "    <tr>\n",
       "      <th>53302</th>\n",
       "      <td>WY</td>\n",
       "      <td>Physical Activity</td>\n",
       "      <td>Physical Activity - Behavior</td>\n",
       "      <td>Percent of adults who engage in no leisure-time physical activity</td>\n",
       "      <td>30.8</td>\n",
       "      <td>621.0</td>\n",
       "      <td>Data not reported</td>\n",
       "      <td>Data not reported</td>\n",
       "      <td>2016</td>\n",
       "    </tr>\n",
       "    <tr>\n",
       "      <th>53329</th>\n",
       "      <td>GU</td>\n",
       "      <td>Physical Activity</td>\n",
       "      <td>Physical Activity - Behavior</td>\n",
       "      <td>Percent of adults who engage in no leisure-time physical activity</td>\n",
       "      <td>22.9</td>\n",
       "      <td>162.0</td>\n",
       "      <td>Data not reported</td>\n",
       "      <td>Data not reported</td>\n",
       "      <td>2016</td>\n",
       "    </tr>\n",
       "    <tr>\n",
       "      <th>53356</th>\n",
       "      <td>PR</td>\n",
       "      <td>Physical Activity</td>\n",
       "      <td>Physical Activity - Behavior</td>\n",
       "      <td>Percent of adults who engage in no leisure-time physical activity</td>\n",
       "      <td>46.6</td>\n",
       "      <td>1097.0</td>\n",
       "      <td>Data not reported</td>\n",
       "      <td>Data not reported</td>\n",
       "      <td>2016</td>\n",
       "    </tr>\n",
       "    <tr>\n",
       "      <th>53383</th>\n",
       "      <td>VI</td>\n",
       "      <td>Physical Activity</td>\n",
       "      <td>Physical Activity - Behavior</td>\n",
       "      <td>Percent of adults who engage in no leisure-time physical activity</td>\n",
       "      <td>25.3</td>\n",
       "      <td>137.0</td>\n",
       "      <td>Data not reported</td>\n",
       "      <td>Data not reported</td>\n",
       "      <td>2016</td>\n",
       "    </tr>\n",
       "  </tbody>\n",
       "</table>\n",
       "<p>1907 rows × 9 columns</p>\n",
       "</div>"
      ],
      "text/plain": [
       "      LocationAbbr                    Class                             Topic  \\\n",
       "19              AL  Obesity / Weight Status           Obesity / Weight Status   \n",
       "47              AL  Obesity / Weight Status           Obesity / Weight Status   \n",
       "71              AL    Fruits and Vegetables  Fruits and Vegetables - Behavior   \n",
       "103             AL    Fruits and Vegetables  Fruits and Vegetables - Behavior   \n",
       "134             AL        Physical Activity      Physical Activity - Behavior   \n",
       "...            ...                      ...                               ...   \n",
       "53275           WI        Physical Activity      Physical Activity - Behavior   \n",
       "53302           WY        Physical Activity      Physical Activity - Behavior   \n",
       "53329           GU        Physical Activity      Physical Activity - Behavior   \n",
       "53356           PR        Physical Activity      Physical Activity - Behavior   \n",
       "53383           VI        Physical Activity      Physical Activity - Behavior   \n",
       "\n",
       "                                                                                                                                                                                                   Question  \\\n",
       "19                                                                                                                                               Percent of adults aged 18 years and older who have obesity   \n",
       "47                                                                                                                          Percent of adults aged 18 years and older who have an overweight classification   \n",
       "71                                                                                                                                    Percent of adults who report consuming fruit less than one time daily   \n",
       "103                                                                                                                              Percent of adults who report consuming vegetables less than one time daily   \n",
       "134    Percent of adults who achieve at least 150 minutes a week of moderate-intensity aerobic physical activity or 75 minutes a week of vigorous-intensity aerobic activity (or an equivalent combination)   \n",
       "...                                                                                                                                                                                                     ...   \n",
       "53275                                                                                                                                     Percent of adults who engage in no leisure-time physical activity   \n",
       "53302                                                                                                                                     Percent of adults who engage in no leisure-time physical activity   \n",
       "53329                                                                                                                                     Percent of adults who engage in no leisure-time physical activity   \n",
       "53356                                                                                                                                     Percent of adults who engage in no leisure-time physical activity   \n",
       "53383                                                                                                                                     Percent of adults who engage in no leisure-time physical activity   \n",
       "\n",
       "       Data_Value  Sample_Size             Income    Stratification1  Year  \n",
       "19           23.8       1297.0  Data not reported  Data not reported  2011  \n",
       "47           36.0       1297.0  Data not reported  Data not reported  2011  \n",
       "71           44.8       1276.0  Data not reported  Data not reported  2011  \n",
       "103          26.0       1229.0  Data not reported  Data not reported  2011  \n",
       "134          37.9       1270.0  Data not reported  Data not reported  2011  \n",
       "...           ...          ...                ...                ...   ...  \n",
       "53275        23.8        733.0  Data not reported  Data not reported  2016  \n",
       "53302        30.8        621.0  Data not reported  Data not reported  2016  \n",
       "53329        22.9        162.0  Data not reported  Data not reported  2016  \n",
       "53356        46.6       1097.0  Data not reported  Data not reported  2016  \n",
       "53383        25.3        137.0  Data not reported  Data not reported  2016  \n",
       "\n",
       "[1907 rows x 9 columns]"
      ]
     },
     "execution_count": 116,
     "metadata": {},
     "output_type": "execute_result"
    }
   ],
   "source": [
    "income_df[income_df.Income=='Data not reported'] #replace with ordinal 99"
   ]
  },
  {
   "cell_type": "code",
   "execution_count": 127,
   "id": "167e267a-5df0-4dc7-95ba-2bbc2a3be9d9",
   "metadata": {},
   "outputs": [],
   "source": [
    "set(income_df.Income)\n",
    "income_dct = {'Less than $15,000':0, '$15,000 - $24,999':1, '$25,000 - $34,999':2, '$35,000 - $49,999':3, '$50,000 - $74,999':4, '$75,000 or greater':5, 'Data not reported':99}\n",
    "income_df.Income=income_df.Income.map(income_dct)"
   ]
  },
  {
   "cell_type": "code",
   "execution_count": 128,
   "id": "af19856d-6c61-47fb-8056-196cdc5f0c7c",
   "metadata": {
    "tags": []
   },
   "outputs": [
    {
     "name": "stdout",
     "output_type": "stream",
     "text": [
      "<class 'pandas.core.frame.DataFrame'>\n",
      "Int64Index: 2240 entries, 13 to 51843\n",
      "Data columns (total 6 columns):\n",
      " #   Column        Non-Null Count  Dtype  \n",
      "---  ------        --------------  -----  \n",
      " 0   LocationAbbr  2240 non-null   object \n",
      " 1   Question      2240 non-null   object \n",
      " 2   Data_Value    2240 non-null   float64\n",
      " 3   Sample_Size   2240 non-null   float64\n",
      " 4   Income        2240 non-null   int64  \n",
      " 5   Year          2240 non-null   int64  \n",
      "dtypes: float64(2), int64(2), object(2)\n",
      "memory usage: 122.5+ KB\n"
     ]
    }
   ],
   "source": [
    "c1 = (income_df['LocationAbbr']=='AL')\n",
    "c2 = (income_df['Year']==2011)\n",
    "c3 = income_df['Question']=='Percent of adults aged 18 years and older who have obesity'\n",
    "income_df[c1&c2&c3] #drop sample size?\n",
    "#keep one question \n",
    "income_df = income_df[c3]\n",
    "income_df.info()"
   ]
  },
  {
   "cell_type": "code",
   "execution_count": 143,
   "id": "cc88c11a-e477-4b25-a6d0-cd2f01238847",
   "metadata": {},
   "outputs": [],
   "source": [
    "income_df = income_df.drop('Question',axis=1)"
   ]
  },
  {
   "cell_type": "code",
   "execution_count": 147,
   "id": "461c93ed-c36e-49c8-9120-d953822bbc4d",
   "metadata": {},
   "outputs": [],
   "source": [
    "income_df['LocationAbbr'] = income_df['LocationAbbr'].astype('category')"
   ]
  },
  {
   "cell_type": "code",
   "execution_count": 152,
   "id": "6293d2be-c4f8-4ef6-9c02-afb41cf10aea",
   "metadata": {},
   "outputs": [],
   "source": [
    "from sklearn import preprocessing\n",
    "lbl = preprocessing.LabelEncoder()\n",
    "income_df['LocationAbbr'] = lbl.fit_transform(income_df['LocationAbbr'])"
   ]
  },
  {
   "cell_type": "code",
   "execution_count": 132,
   "id": "51f7ba07-cbf9-48d7-b35b-8437140033e8",
   "metadata": {
    "tags": []
   },
   "outputs": [],
   "source": [
    "# data sets become so small "
   ]
  },
  {
   "cell_type": "markdown",
   "id": "673697a0-b870-4824-88cc-9fa39ad967bf",
   "metadata": {},
   "source": [
    "# AGE"
   ]
  },
  {
   "cell_type": "code",
   "execution_count": 224,
   "id": "499da496-d2db-4a11-9f10-36381f5c7e92",
   "metadata": {},
   "outputs": [],
   "source": [
    "strat_cat = 'Age (years)'\n",
    "#split df into strat cats\n",
    "cdc_df[cdc_df['StratificationCategory1']==strat_cat].isnull().sum()\n",
    "#basically for strat cat df, delete all non_informative rows\n",
    "col_inds_to_use = np.where(cdc_df[cdc_df['StratificationCategory1']==strat_cat].isnull().sum()==0)\n",
    "strat_df = cdc_df[cdc_df['StratificationCategory1']==strat_cat][cdc_df.columns[col_inds_to_use]]\n",
    "strat_df = strat_df.drop(['StratificationCategory1','Stratification1'],axis=1)"
   ]
  },
  {
   "cell_type": "code",
   "execution_count": 235,
   "id": "36b192fd-bd68-4786-9dac-bb84c5b9c51b",
   "metadata": {},
   "outputs": [
    {
     "data": {
      "text/plain": [
       "(11438, 5)"
      ]
     },
     "execution_count": 235,
     "metadata": {},
     "output_type": "execute_result"
    }
   ],
   "source": [
    "strat_df.shape"
   ]
  },
  {
   "cell_type": "code",
   "execution_count": 229,
   "id": "a1fdbbac-3186-418f-ba68-f449670fe0fa",
   "metadata": {
    "tags": []
   },
   "outputs": [
    {
     "data": {
      "text/plain": [
       "{'18 - 24', '25 - 34', '35 - 44', '45 - 54', '55 - 64', '65 or older'}"
      ]
     },
     "execution_count": 229,
     "metadata": {},
     "output_type": "execute_result"
    }
   ],
   "source": [
    "set(strat_df['Age(years)'])"
   ]
  },
  {
   "cell_type": "code",
   "execution_count": 230,
   "id": "d998c553-d7b4-46de-9574-547c99477f71",
   "metadata": {},
   "outputs": [],
   "source": [
    "age_dct = {'18 - 24':0, '25 - 34':1, '35 - 44':2, '45 - 54':3, '55 - 64':4, '65 or older':5}\n",
    "strat_df['Age(years)']=strat_df['Age(years)'].map(age_dct)\n",
    "strat_df = strat_df.drop('Question',axis=1)\n",
    "strat_df['LocationAbbr'] = strat_df['LocationAbbr'].astype('category')\n",
    "from sklearn import preprocessing\n",
    "lbl = preprocessing.LabelEncoder()\n",
    "strat_df['LocationAbbr'] = lbl.fit_transform(strat_df['LocationAbbr'])"
   ]
  },
  {
   "cell_type": "markdown",
   "id": "d7e52dea-c14e-4624-9f10-81d174fe19f2",
   "metadata": {},
   "source": [
    "# RACE"
   ]
  },
  {
   "cell_type": "code",
   "execution_count": 241,
   "id": "cf017f42-1ee1-4e1b-be5c-e34d580badf0",
   "metadata": {},
   "outputs": [],
   "source": [
    "strat_cat = 'Race/Ethnicity' \n",
    "#split df into strat cats\n",
    "cdc_df[cdc_df['StratificationCategory1']==strat_cat].isnull().sum()\n",
    "#basically for strat cat df, delete all non_informative rows\n",
    "col_inds_to_use = np.where(cdc_df[cdc_df['StratificationCategory1']==strat_cat].isnull().sum()==0)\n",
    "strat_df = cdc_df[cdc_df['StratificationCategory1']==strat_cat][cdc_df.columns[col_inds_to_use]]\n",
    "strat_df = strat_df.drop(['StratificationCategory1','Stratification1'],axis=1)\n",
    "strat_df = strat_df.drop('Question',axis=1)\n",
    "strat_df['LocationAbbr'] = strat_df['LocationAbbr'].astype('category')\n",
    "lbl = preprocessing.LabelEncoder()\n",
    "strat_df['LocationAbbr'] = lbl.fit_transform(strat_df['LocationAbbr'])"
   ]
  },
  {
   "cell_type": "code",
   "execution_count": 243,
   "id": "ec25951b-b288-49b8-a33c-f7c94881055d",
   "metadata": {},
   "outputs": [
    {
     "data": {
      "text/plain": [
       "Non-Hispanic White               1890\n",
       "Hispanic                         1854\n",
       "2 or more races                  1717\n",
       "Non-Hispanic Black               1504\n",
       "American Indian/Alaska Native    1249\n",
       "Asian                            1228\n",
       "Other                             649\n",
       "Hawaiian/Pacific Islander         119\n",
       "Name: Race/Ethnicity, dtype: int64"
      ]
     },
     "execution_count": 243,
     "metadata": {},
     "output_type": "execute_result"
    }
   ],
   "source": [
    "strat_df[strat_cat].value_counts()"
   ]
  },
  {
   "cell_type": "code",
   "execution_count": 244,
   "id": "a3ff3033-0ce3-4485-8eec-b6ce22dec401",
   "metadata": {},
   "outputs": [
    {
     "data": {
      "text/plain": [
       "{'2 or more races',\n",
       " 'American Indian/Alaska Native',\n",
       " 'Asian',\n",
       " 'Hawaiian/Pacific Islander',\n",
       " 'Hispanic',\n",
       " 'Non-Hispanic Black',\n",
       " 'Non-Hispanic White',\n",
       " 'Other'}"
      ]
     },
     "execution_count": 244,
     "metadata": {},
     "output_type": "execute_result"
    }
   ],
   "source": [
    "set(strat_df[strat_cat])"
   ]
  },
  {
   "cell_type": "code",
   "execution_count": 245,
   "id": "328bfb12-bce7-4ec0-9613-53be4a93f67e",
   "metadata": {},
   "outputs": [
    {
     "data": {
      "text/plain": [
       "array(['2 or more races', 'American Indian/Alaska Native', 'Asian',\n",
       "       'Hawaiian/Pacific Islander', 'Hispanic', 'Non-Hispanic Black',\n",
       "       'Non-Hispanic White', 'Other'], dtype=object)"
      ]
     },
     "execution_count": 245,
     "metadata": {},
     "output_type": "execute_result"
    }
   ],
   "source": [
    "strat_df[strat_cat] = lbl.fit_transform(strat_df[strat_cat])\n",
    "lbl.classes_"
   ]
  },
  {
   "cell_type": "markdown",
   "id": "48c102bf-3857-49df-80b1-e2f31f07463c",
   "metadata": {},
   "source": [
    "# MODELING"
   ]
  },
  {
   "cell_type": "markdown",
   "id": "147de68f-f8f0-4a57-8a80-114bab3ac7f2",
   "metadata": {},
   "source": [
    "# BASELINE"
   ]
  },
  {
   "cell_type": "code",
   "execution_count": 153,
   "id": "5d5ecf12-63ba-40d8-b258-842f99f0866c",
   "metadata": {},
   "outputs": [
    {
     "name": "stdout",
     "output_type": "stream",
     "text": [
      "Accuracy: 5.079\n"
     ]
    }
   ],
   "source": [
    "from sklearn.metrics import mean_squared_error as mse\n",
    "\n",
    "from sklearn.model_selection import train_test_split\n",
    "X_train, X_val, y_train, y_val = train_test_split( income_df.drop('Data_Value',axis=1), income_df['Data_Value'], test_size=0.2, random_state=42)\n",
    "\n",
    "pred = [y_train.mean()]*len(y_val)\n",
    "score = np.sqrt(mse(y_val, pred))\n",
    "print('Accuracy: %.3f' % score)\n"
   ]
  },
  {
   "cell_type": "code",
   "execution_count": 141,
   "id": "713bae4e-0608-488b-90fc-72fda4440360",
   "metadata": {},
   "outputs": [
    {
     "name": "stdout",
     "output_type": "stream",
     "text": [
      "5.209959391718851\n"
     ]
    },
    {
     "data": {
      "image/png": "[encoded data removed]",
      "text/plain": [
       "<Figure size 432x288 with 1 Axes>"
      ]
     },
     "metadata": {
      "needs_background": "light"
     },
     "output_type": "display_data"
    }
   ],
   "source": [
    "y_train.plot(kind='hist')\n",
    "print(y_train.std())"
   ]
  },
  {
   "cell_type": "markdown",
   "id": "f42c10c1-3a02-4ca0-ab49-b8b2670fdf28",
   "metadata": {},
   "source": [
    "# XGBOOST"
   ]
  },
  {
   "cell_type": "code",
   "execution_count": 155,
   "id": "21dbdd2d-04aa-4e3d-830c-3b564eee1196",
   "metadata": {},
   "outputs": [
    {
     "name": "stdout",
     "output_type": "stream",
     "text": [
      "[18:37:23] WARNING: C:/Users/Administrator/workspace/xgboost-win64_release_1.5.1/src/learner.cc:576: \n",
      "Parameters: { \"enable_category\" } might not be used.\n",
      "\n",
      "  This could be a false alarm, with some parameters getting used by language bindings but\n",
      "  then being mistakenly passed down to XGBoost core, or some parameter actually being used\n",
      "  but getting flagged wrongly here. Please open an issue if you find any such cases.\n",
      "\n",
      "\n",
      "Accuracy: 2.918\n"
     ]
    }
   ],
   "source": [
    "import xgboost as xgb\n",
    "model = xgb.XGBRegressor(enable_category=True)\n",
    "# define the datasets to evaluate each iteration\n",
    "evalset = [(X_train, y_train), (X_val,y_val)]\n",
    "# fit the model\n",
    "model.fit(X_train, y_train, eval_metric='rmse', eval_set=evalset,verbose=0)\n",
    "# evaluate performance\n",
    "pred = model.predict(X_val)\n",
    "score = np.sqrt(mse(y_val, pred))\n",
    "print('Accuracy: %.3f' % score)\n",
    "# retrieve performance metrics\n",
    "results = model.evals_result()\n"
   ]
  },
  {
   "cell_type": "code",
   "execution_count": 156,
   "id": "7b2c402a-a9a5-46eb-8c54-d3794dae3200",
   "metadata": {},
   "outputs": [
    {
     "data": {
      "image/png": "[encoded data removed]",
      "text/plain": [
       "<Figure size 576x432 with 1 Axes>"
      ]
     },
     "metadata": {
      "needs_background": "light"
     },
     "output_type": "display_data"
    }
   ],
   "source": [
    "import matplotlib.pyplot as plt\n",
    "plt.figure(figsize=(8,6))\n",
    "# plot learning curves\n",
    "plt.plot(results['validation_0']['rmse'], label='train')\n",
    "plt.plot(results['validation_1']['rmse'], label='test')\n",
    "# show the legend\n",
    "plt.legend()\n",
    "# show the plot\n",
    "plt.show()"
   ]
  },
  {
   "cell_type": "code",
   "execution_count": 157,
   "id": "73018726-0fa0-4d76-9aa3-04e9337c45d4",
   "metadata": {},
   "outputs": [],
   "source": [
    "#starts overfitting super duper quick\n",
    "#need to likely put early_stopping_rounds = 10\n",
    "early_stopping_rounds = 10"
   ]
  },
  {
   "cell_type": "code",
   "execution_count": 170,
   "id": "409e4ae9-7082-4b94-bf70-b55bed4c5b1f",
   "metadata": {},
   "outputs": [
    {
     "name": "stdout",
     "output_type": "stream",
     "text": [
      "Best: -2.639668 using {'learning_rate': 0.03, 'max_depth': 3, 'n_estimators': 900}\n",
      "199.84219932556152\n"
     ]
    }
   ],
   "source": [
    "import time\n",
    "import numpy as np\n",
    "from xgboost import XGBClassifier\n",
    "from sklearn.model_selection import GridSearchCV, KFold\n",
    "#from sklearn.metrics import accuracy\n",
    "\n",
    "start_time=time.time()\n",
    "\n",
    "# grid search\n",
    "model = xgb.XGBRegressor(tree_method = \"gpu_hist\",single_precision_histogram=True, gpu_id=0)\n",
    "\n",
    "param_grid = {\n",
    "        'max_depth': [2, 3, 6],\n",
    "        'learning_rate': [0.003, 0.01, 0.03],\n",
    "        'n_estimators':[200, 600, 900],\n",
    "                               }\n",
    "\n",
    "kfold = KFold(n_splits=3, shuffle=True, random_state=10)\n",
    "grid_search = GridSearchCV(model, param_grid, scoring=\"neg_root_mean_squared_error\", cv=kfold)\n",
    "grid_result = grid_search.fit(X_train, y_train, verbose=0)\n",
    "\n",
    "# summarize results\n",
    "print(\"Best: %f using %s\" % (grid_result.best_score_, grid_result.best_params_))\n",
    "means = grid_result.cv_results_[ 'mean_test_score' ]\n",
    "stds = grid_result.cv_results_[ 'std_test_score' ]\n",
    "params = grid_result.cv_results_[ 'params' ]\n",
    "\n",
    "print(time.time()-start_time)"
   ]
  },
  {
   "cell_type": "code",
   "execution_count": 171,
   "id": "151145ae-ac99-4b5b-bbe4-16f8a12a5375",
   "metadata": {},
   "outputs": [
    {
     "name": "stdout",
     "output_type": "stream",
     "text": [
      "-16.474181 (0.193736) with: {'learning_rate': 0.003, 'max_depth': 2, 'n_estimators': 200}\n",
      "-6.247715 (0.171823) with: {'learning_rate': 0.003, 'max_depth': 2, 'n_estimators': 600}\n",
      "-4.311812 (0.124190) with: {'learning_rate': 0.003, 'max_depth': 2, 'n_estimators': 900}\n",
      "-16.476485 (0.189201) with: {'learning_rate': 0.003, 'max_depth': 3, 'n_estimators': 200}\n",
      "-6.177839 (0.157232) with: {'learning_rate': 0.003, 'max_depth': 3, 'n_estimators': 600}\n",
      "-4.179524 (0.112973) with: {'learning_rate': 0.003, 'max_depth': 3, 'n_estimators': 900}\n",
      "-16.476902 (0.187224) with: {'learning_rate': 0.003, 'max_depth': 6, 'n_estimators': 200}\n",
      "-6.053783 (0.151726) with: {'learning_rate': 0.003, 'max_depth': 6, 'n_estimators': 600}\n",
      "-3.871239 (0.116432) with: {'learning_rate': 0.003, 'max_depth': 6, 'n_estimators': 900}\n",
      "-5.562507 (0.165131) with: {'learning_rate': 0.01, 'max_depth': 2, 'n_estimators': 200}\n",
      "-3.491711 (0.066705) with: {'learning_rate': 0.01, 'max_depth': 2, 'n_estimators': 600}\n",
      "-3.257640 (0.086273) with: {'learning_rate': 0.01, 'max_depth': 2, 'n_estimators': 900}\n",
      "-5.476976 (0.147294) with: {'learning_rate': 0.01, 'max_depth': 3, 'n_estimators': 200}\n",
      "-3.239946 (0.089540) with: {'learning_rate': 0.01, 'max_depth': 3, 'n_estimators': 600}\n",
      "-3.021636 (0.082474) with: {'learning_rate': 0.01, 'max_depth': 3, 'n_estimators': 900}\n",
      "-5.315117 (0.145832) with: {'learning_rate': 0.01, 'max_depth': 6, 'n_estimators': 200}\n",
      "-2.801373 (0.062737) with: {'learning_rate': 0.01, 'max_depth': 6, 'n_estimators': 600}\n",
      "-2.698724 (0.053469) with: {'learning_rate': 0.01, 'max_depth': 6, 'n_estimators': 900}\n",
      "-3.477337 (0.066636) with: {'learning_rate': 0.03, 'max_depth': 2, 'n_estimators': 200}\n",
      "-2.910596 (0.097887) with: {'learning_rate': 0.03, 'max_depth': 2, 'n_estimators': 600}\n",
      "-2.761306 (0.093379) with: {'learning_rate': 0.03, 'max_depth': 2, 'n_estimators': 900}\n",
      "-3.230861 (0.095251) with: {'learning_rate': 0.03, 'max_depth': 3, 'n_estimators': 200}\n",
      "-2.724361 (0.084815) with: {'learning_rate': 0.03, 'max_depth': 3, 'n_estimators': 600}\n",
      "-2.639668 (0.072006) with: {'learning_rate': 0.03, 'max_depth': 3, 'n_estimators': 900}\n",
      "-2.801420 (0.061873) with: {'learning_rate': 0.03, 'max_depth': 6, 'n_estimators': 200}\n",
      "-2.663267 (0.055169) with: {'learning_rate': 0.03, 'max_depth': 6, 'n_estimators': 600}\n",
      "-2.684090 (0.049631) with: {'learning_rate': 0.03, 'max_depth': 6, 'n_estimators': 900}\n"
     ]
    }
   ],
   "source": [
    "for mean, stdev, param in zip(means, stds, params):\n",
    "    print(\"%f (%f) with: %r\" % (mean, stdev, param))"
   ]
  },
  {
   "cell_type": "code",
   "execution_count": 172,
   "id": "2953bf16-308a-4e11-b0fc-c47f5c2b070e",
   "metadata": {},
   "outputs": [
    {
     "name": "stdout",
     "output_type": "stream",
     "text": [
      "Best: -2.639668 using {'learning_rate': 0.03, 'max_depth': 3, 'n_estimators': 900}\n"
     ]
    }
   ],
   "source": [
    "# best params: \n",
    "print(\"Best: %f using %s\" % (grid_result.best_score_, grid_result.best_params_))"
   ]
  },
  {
   "cell_type": "code",
   "execution_count": null,
   "id": "874cb813-a3b9-4474-a1bd-eb7732540760",
   "metadata": {},
   "outputs": [],
   "source": [
    "# 2.64 rmse vs the 2.918 for untuned model"
   ]
  },
  {
   "cell_type": "code",
   "execution_count": 188,
   "id": "fa6c2b56-0d8f-41fd-9b48-88b7fe7845d3",
   "metadata": {},
   "outputs": [],
   "source": [
    "params = grid_result.best_params_\n",
    "params['num_rounds'] = 100 "
   ]
  },
  {
   "cell_type": "code",
   "execution_count": 191,
   "id": "7a5e84bf-6582-4e2c-b2e9-953441d63c78",
   "metadata": {},
   "outputs": [
    {
     "name": "stdout",
     "output_type": "stream",
     "text": [
      "[20:08:05] WARNING: C:/Users/Administrator/workspace/xgboost-win64_release_1.5.1/src/learner.cc:576: \n",
      "Parameters: { \"early_stopping_rounds\", \"num_rounds\" } might not be used.\n",
      "\n",
      "  This could be a false alarm, with some parameters getting used by language bindings but\n",
      "  then being mistakenly passed down to XGBoost core, or some parameter actually being used\n",
      "  but getting flagged wrongly here. Please open an issue if you find any such cases.\n",
      "\n",
      "\n"
     ]
    },
    {
     "data": {
      "text/plain": [
       "XGBRegressor(base_score=0.5, booster='gbtree', colsample_bylevel=1,\n",
       "             colsample_bynode=1, colsample_bytree=1, early_stopping_rounds=10,\n",
       "             enable_categorical=False, gamma=0, gpu_id=-1, importance_type=None,\n",
       "             interaction_constraints='', learning_rate=0.03, max_delta_step=0,\n",
       "             max_depth=3, min_child_weight=1, missing=nan,\n",
       "             monotone_constraints='()', n_estimators=900, n_jobs=12,\n",
       "             num_parallel_tree=1, num_rounds=100, predictor='auto',\n",
       "             random_state=0, reg_alpha=0, reg_lambda=1, scale_pos_weight=1,\n",
       "             subsample=1, tree_method='exact', validate_parameters=1,\n",
       "             verbosity=None)"
      ]
     },
     "execution_count": 191,
     "metadata": {},
     "output_type": "execute_result"
    }
   ],
   "source": [
    "model = xgb.XGBRegressor(**params)\n",
    "model.fit(X_train, y_train)#,early_stopping_rounds=20)"
   ]
  },
  {
   "cell_type": "code",
   "execution_count": 195,
   "id": "160e663f-7ed9-45e4-ba97-dd80b8fb11cc",
   "metadata": {
    "collapsed": true,
    "jupyter": {
     "outputs_hidden": true
    },
    "tags": []
   },
   "outputs": [
    {
     "ename": "ExecutableNotFound",
     "evalue": "failed to execute WindowsPath('dot'), make sure the Graphviz executables are on your systems' PATH",
     "output_type": "error",
     "traceback": [
      "\u001b[1;31m---------------------------------------------------------------------------\u001b[0m",
      "\u001b[1;31mFileNotFoundError\u001b[0m                         Traceback (most recent call last)",
      "\u001b[1;32m~\\anaconda3\\envs\\AutoML\\lib\\site-packages\\graphviz\\backend\\execute.py\u001b[0m in \u001b[0;36mrun_check\u001b[1;34m(cmd, input_lines, encoding, capture_output, quiet, **kwargs)\u001b[0m\n\u001b[0;32m     82\u001b[0m             \u001b[1;32massert\u001b[0m \u001b[0miter\u001b[0m\u001b[1;33m(\u001b[0m\u001b[0minput_lines\u001b[0m\u001b[1;33m)\u001b[0m \u001b[1;32mis\u001b[0m \u001b[0minput_lines\u001b[0m\u001b[1;33m\u001b[0m\u001b[1;33m\u001b[0m\u001b[0m\n\u001b[1;32m---> 83\u001b[1;33m             \u001b[0mproc\u001b[0m \u001b[1;33m=\u001b[0m \u001b[0m_run_input_lines\u001b[0m\u001b[1;33m(\u001b[0m\u001b[0mcmd\u001b[0m\u001b[1;33m,\u001b[0m \u001b[0minput_lines\u001b[0m\u001b[1;33m,\u001b[0m \u001b[0mkwargs\u001b[0m\u001b[1;33m=\u001b[0m\u001b[0mkwargs\u001b[0m\u001b[1;33m)\u001b[0m\u001b[1;33m\u001b[0m\u001b[1;33m\u001b[0m\u001b[0m\n\u001b[0m\u001b[0;32m     84\u001b[0m         \u001b[1;32melse\u001b[0m\u001b[1;33m:\u001b[0m\u001b[1;33m\u001b[0m\u001b[1;33m\u001b[0m\u001b[0m\n",
      "\u001b[1;32m~\\anaconda3\\envs\\AutoML\\lib\\site-packages\\graphviz\\backend\\execute.py\u001b[0m in \u001b[0;36m_run_input_lines\u001b[1;34m(cmd, input_lines, kwargs)\u001b[0m\n\u001b[0;32m    102\u001b[0m \u001b[1;32mdef\u001b[0m \u001b[0m_run_input_lines\u001b[0m\u001b[1;33m(\u001b[0m\u001b[0mcmd\u001b[0m\u001b[1;33m,\u001b[0m \u001b[0minput_lines\u001b[0m\u001b[1;33m,\u001b[0m \u001b[1;33m*\u001b[0m\u001b[1;33m,\u001b[0m \u001b[0mkwargs\u001b[0m\u001b[1;33m)\u001b[0m\u001b[1;33m:\u001b[0m\u001b[1;33m\u001b[0m\u001b[1;33m\u001b[0m\u001b[0m\n\u001b[1;32m--> 103\u001b[1;33m     \u001b[0mpopen\u001b[0m \u001b[1;33m=\u001b[0m \u001b[0msubprocess\u001b[0m\u001b[1;33m.\u001b[0m\u001b[0mPopen\u001b[0m\u001b[1;33m(\u001b[0m\u001b[0mcmd\u001b[0m\u001b[1;33m,\u001b[0m \u001b[0mstdin\u001b[0m\u001b[1;33m=\u001b[0m\u001b[0msubprocess\u001b[0m\u001b[1;33m.\u001b[0m\u001b[0mPIPE\u001b[0m\u001b[1;33m,\u001b[0m \u001b[1;33m**\u001b[0m\u001b[0mkwargs\u001b[0m\u001b[1;33m)\u001b[0m\u001b[1;33m\u001b[0m\u001b[1;33m\u001b[0m\u001b[0m\n\u001b[0m\u001b[0;32m    104\u001b[0m \u001b[1;33m\u001b[0m\u001b[0m\n",
      "\u001b[1;32m~\\anaconda3\\envs\\AutoML\\lib\\subprocess.py\u001b[0m in \u001b[0;36m__init__\u001b[1;34m(self, args, bufsize, executable, stdin, stdout, stderr, preexec_fn, close_fds, shell, cwd, env, universal_newlines, startupinfo, creationflags, restore_signals, start_new_session, pass_fds, user, group, extra_groups, encoding, errors, text, umask)\u001b[0m\n\u001b[0;32m    950\u001b[0m \u001b[1;33m\u001b[0m\u001b[0m\n\u001b[1;32m--> 951\u001b[1;33m             self._execute_child(args, executable, preexec_fn, close_fds,\n\u001b[0m\u001b[0;32m    952\u001b[0m                                 \u001b[0mpass_fds\u001b[0m\u001b[1;33m,\u001b[0m \u001b[0mcwd\u001b[0m\u001b[1;33m,\u001b[0m \u001b[0menv\u001b[0m\u001b[1;33m,\u001b[0m\u001b[1;33m\u001b[0m\u001b[1;33m\u001b[0m\u001b[0m\n",
      "\u001b[1;32m~\\anaconda3\\envs\\AutoML\\lib\\subprocess.py\u001b[0m in \u001b[0;36m_execute_child\u001b[1;34m(self, args, executable, preexec_fn, close_fds, pass_fds, cwd, env, startupinfo, creationflags, shell, p2cread, p2cwrite, c2pread, c2pwrite, errread, errwrite, unused_restore_signals, unused_gid, unused_gids, unused_uid, unused_umask, unused_start_new_session)\u001b[0m\n\u001b[0;32m   1419\u001b[0m             \u001b[1;32mtry\u001b[0m\u001b[1;33m:\u001b[0m\u001b[1;33m\u001b[0m\u001b[1;33m\u001b[0m\u001b[0m\n\u001b[1;32m-> 1420\u001b[1;33m                 hp, ht, pid, tid = _winapi.CreateProcess(executable, args,\n\u001b[0m\u001b[0;32m   1421\u001b[0m                                          \u001b[1;31m# no special security\u001b[0m\u001b[1;33m\u001b[0m\u001b[1;33m\u001b[0m\u001b[0m\n",
      "\u001b[1;31mFileNotFoundError\u001b[0m: [WinError 2] The system cannot find the file specified",
      "\nThe above exception was the direct cause of the following exception:\n",
      "\u001b[1;31mExecutableNotFound\u001b[0m                        Traceback (most recent call last)",
      "\u001b[1;32m~\\AppData\\Local\\Temp/ipykernel_29820/3525395550.py\u001b[0m in \u001b[0;36m<module>\u001b[1;34m\u001b[0m\n\u001b[0;32m      1\u001b[0m \u001b[0mfig\u001b[0m\u001b[1;33m,\u001b[0m \u001b[0max\u001b[0m \u001b[1;33m=\u001b[0m \u001b[0mplt\u001b[0m\u001b[1;33m.\u001b[0m\u001b[0msubplots\u001b[0m\u001b[1;33m(\u001b[0m\u001b[1;33m)\u001b[0m\u001b[1;33m\u001b[0m\u001b[1;33m\u001b[0m\u001b[0m\n\u001b[1;32m----> 2\u001b[1;33m \u001b[0mxgb\u001b[0m\u001b[1;33m.\u001b[0m\u001b[0mplot_tree\u001b[0m\u001b[1;33m(\u001b[0m\u001b[0mmodel\u001b[0m\u001b[1;33m,\u001b[0m \u001b[0mnum_trees\u001b[0m\u001b[1;33m=\u001b[0m\u001b[1;36m1\u001b[0m\u001b[1;33m,\u001b[0m \u001b[0max\u001b[0m\u001b[1;33m=\u001b[0m\u001b[0max\u001b[0m\u001b[1;33m,\u001b[0m \u001b[0mrankdir\u001b[0m\u001b[1;33m=\u001b[0m\u001b[1;34m'LR'\u001b[0m\u001b[1;33m)\u001b[0m\u001b[1;33m\u001b[0m\u001b[1;33m\u001b[0m\u001b[0m\n\u001b[0m\u001b[0;32m      3\u001b[0m \u001b[0mplt\u001b[0m\u001b[1;33m.\u001b[0m\u001b[0mshow\u001b[0m\u001b[1;33m(\u001b[0m\u001b[1;33m)\u001b[0m\u001b[1;33m\u001b[0m\u001b[1;33m\u001b[0m\u001b[0m\n",
      "\u001b[1;32m~\\anaconda3\\envs\\AutoML\\lib\\site-packages\\xgboost\\plotting.py\u001b[0m in \u001b[0;36mplot_tree\u001b[1;34m(booster, fmap, num_trees, rankdir, ax, **kwargs)\u001b[0m\n\u001b[0;32m    249\u001b[0m \u001b[1;33m\u001b[0m\u001b[0m\n\u001b[0;32m    250\u001b[0m     \u001b[0ms\u001b[0m \u001b[1;33m=\u001b[0m \u001b[0mBytesIO\u001b[0m\u001b[1;33m(\u001b[0m\u001b[1;33m)\u001b[0m\u001b[1;33m\u001b[0m\u001b[1;33m\u001b[0m\u001b[0m\n\u001b[1;32m--> 251\u001b[1;33m     \u001b[0ms\u001b[0m\u001b[1;33m.\u001b[0m\u001b[0mwrite\u001b[0m\u001b[1;33m(\u001b[0m\u001b[0mg\u001b[0m\u001b[1;33m.\u001b[0m\u001b[0mpipe\u001b[0m\u001b[1;33m(\u001b[0m\u001b[0mformat\u001b[0m\u001b[1;33m=\u001b[0m\u001b[1;34m'png'\u001b[0m\u001b[1;33m)\u001b[0m\u001b[1;33m)\u001b[0m\u001b[1;33m\u001b[0m\u001b[1;33m\u001b[0m\u001b[0m\n\u001b[0m\u001b[0;32m    252\u001b[0m     \u001b[0ms\u001b[0m\u001b[1;33m.\u001b[0m\u001b[0mseek\u001b[0m\u001b[1;33m(\u001b[0m\u001b[1;36m0\u001b[0m\u001b[1;33m)\u001b[0m\u001b[1;33m\u001b[0m\u001b[1;33m\u001b[0m\u001b[0m\n\u001b[0;32m    253\u001b[0m     \u001b[0mimg\u001b[0m \u001b[1;33m=\u001b[0m \u001b[0mimage\u001b[0m\u001b[1;33m.\u001b[0m\u001b[0mimread\u001b[0m\u001b[1;33m(\u001b[0m\u001b[0ms\u001b[0m\u001b[1;33m)\u001b[0m\u001b[1;33m\u001b[0m\u001b[1;33m\u001b[0m\u001b[0m\n",
      "\u001b[1;32m~\\anaconda3\\envs\\AutoML\\lib\\site-packages\\graphviz\\piping.py\u001b[0m in \u001b[0;36mpipe\u001b[1;34m(self, format, renderer, formatter, quiet, engine, encoding)\u001b[0m\n\u001b[0;32m     97\u001b[0m             \u001b[1;34m'<?xml version='\u001b[0m\u001b[1;33m\u001b[0m\u001b[1;33m\u001b[0m\u001b[0m\n\u001b[0;32m     98\u001b[0m         \"\"\"\n\u001b[1;32m---> 99\u001b[1;33m         return self._pipe_legacy(format,\n\u001b[0m\u001b[0;32m    100\u001b[0m                                  \u001b[0mrenderer\u001b[0m\u001b[1;33m=\u001b[0m\u001b[0mrenderer\u001b[0m\u001b[1;33m,\u001b[0m\u001b[1;33m\u001b[0m\u001b[1;33m\u001b[0m\u001b[0m\n\u001b[0;32m    101\u001b[0m                                  \u001b[0mformatter\u001b[0m\u001b[1;33m=\u001b[0m\u001b[0mformatter\u001b[0m\u001b[1;33m,\u001b[0m\u001b[1;33m\u001b[0m\u001b[1;33m\u001b[0m\u001b[0m\n",
      "\u001b[1;32m~\\anaconda3\\envs\\AutoML\\lib\\site-packages\\graphviz\\_tools.py\u001b[0m in \u001b[0;36mwrapper\u001b[1;34m(*args, **kwargs)\u001b[0m\n\u001b[0;32m    170\u001b[0m                               category=category)\n\u001b[0;32m    171\u001b[0m \u001b[1;33m\u001b[0m\u001b[0m\n\u001b[1;32m--> 172\u001b[1;33m             \u001b[1;32mreturn\u001b[0m \u001b[0mfunc\u001b[0m\u001b[1;33m(\u001b[0m\u001b[1;33m*\u001b[0m\u001b[0margs\u001b[0m\u001b[1;33m,\u001b[0m \u001b[1;33m**\u001b[0m\u001b[0mkwargs\u001b[0m\u001b[1;33m)\u001b[0m\u001b[1;33m\u001b[0m\u001b[1;33m\u001b[0m\u001b[0m\n\u001b[0m\u001b[0;32m    173\u001b[0m \u001b[1;33m\u001b[0m\u001b[0m\n\u001b[0;32m    174\u001b[0m         \u001b[1;32mreturn\u001b[0m \u001b[0mwrapper\u001b[0m\u001b[1;33m\u001b[0m\u001b[1;33m\u001b[0m\u001b[0m\n",
      "\u001b[1;32m~\\anaconda3\\envs\\AutoML\\lib\\site-packages\\graphviz\\piping.py\u001b[0m in \u001b[0;36m_pipe_legacy\u001b[1;34m(self, format, renderer, formatter, quiet, engine, encoding)\u001b[0m\n\u001b[0;32m    112\u001b[0m                      \u001b[0mengine\u001b[0m\u001b[1;33m:\u001b[0m \u001b[0mtyping\u001b[0m\u001b[1;33m.\u001b[0m\u001b[0mOptional\u001b[0m\u001b[1;33m[\u001b[0m\u001b[0mstr\u001b[0m\u001b[1;33m]\u001b[0m \u001b[1;33m=\u001b[0m \u001b[1;32mNone\u001b[0m\u001b[1;33m,\u001b[0m\u001b[1;33m\u001b[0m\u001b[1;33m\u001b[0m\u001b[0m\n\u001b[0;32m    113\u001b[0m                      encoding: typing.Optional[str] = None) -> typing.Union[bytes, str]:\n\u001b[1;32m--> 114\u001b[1;33m         return self._pipe_future(format,\n\u001b[0m\u001b[0;32m    115\u001b[0m                                  \u001b[0mrenderer\u001b[0m\u001b[1;33m=\u001b[0m\u001b[0mrenderer\u001b[0m\u001b[1;33m,\u001b[0m\u001b[1;33m\u001b[0m\u001b[1;33m\u001b[0m\u001b[0m\n\u001b[0;32m    116\u001b[0m                                  \u001b[0mformatter\u001b[0m\u001b[1;33m=\u001b[0m\u001b[0mformatter\u001b[0m\u001b[1;33m,\u001b[0m\u001b[1;33m\u001b[0m\u001b[1;33m\u001b[0m\u001b[0m\n",
      "\u001b[1;32m~\\anaconda3\\envs\\AutoML\\lib\\site-packages\\graphviz\\piping.py\u001b[0m in \u001b[0;36m_pipe_future\u001b[1;34m(self, format, renderer, formatter, quiet, engine, encoding)\u001b[0m\n\u001b[0;32m    149\u001b[0m             \u001b[1;32melse\u001b[0m\u001b[1;33m:\u001b[0m\u001b[1;33m\u001b[0m\u001b[1;33m\u001b[0m\u001b[0m\n\u001b[0;32m    150\u001b[0m                 \u001b[1;32mreturn\u001b[0m \u001b[0mraw\u001b[0m\u001b[1;33m.\u001b[0m\u001b[0mdecode\u001b[0m\u001b[1;33m(\u001b[0m\u001b[0mencoding\u001b[0m\u001b[1;33m)\u001b[0m\u001b[1;33m\u001b[0m\u001b[1;33m\u001b[0m\u001b[0m\n\u001b[1;32m--> 151\u001b[1;33m         \u001b[1;32mreturn\u001b[0m \u001b[0mself\u001b[0m\u001b[1;33m.\u001b[0m\u001b[0m_pipe_lines\u001b[0m\u001b[1;33m(\u001b[0m\u001b[1;33m*\u001b[0m\u001b[0margs\u001b[0m\u001b[1;33m,\u001b[0m \u001b[0minput_encoding\u001b[0m\u001b[1;33m=\u001b[0m\u001b[0mself\u001b[0m\u001b[1;33m.\u001b[0m\u001b[0mencoding\u001b[0m\u001b[1;33m,\u001b[0m \u001b[1;33m**\u001b[0m\u001b[0mkwargs\u001b[0m\u001b[1;33m)\u001b[0m\u001b[1;33m\u001b[0m\u001b[1;33m\u001b[0m\u001b[0m\n\u001b[0m",
      "\u001b[1;32m~\\anaconda3\\envs\\AutoML\\lib\\site-packages\\graphviz\\backend\\piping.py\u001b[0m in \u001b[0;36mpipe_lines\u001b[1;34m(engine, format, input_lines, input_encoding, renderer, formatter, quiet)\u001b[0m\n\u001b[0;32m    147\u001b[0m     \u001b[0mkwargs\u001b[0m \u001b[1;33m=\u001b[0m \u001b[1;33m{\u001b[0m\u001b[1;34m'input_lines'\u001b[0m\u001b[1;33m:\u001b[0m \u001b[1;33m(\u001b[0m\u001b[0mline\u001b[0m\u001b[1;33m.\u001b[0m\u001b[0mencode\u001b[0m\u001b[1;33m(\u001b[0m\u001b[0minput_encoding\u001b[0m\u001b[1;33m)\u001b[0m \u001b[1;32mfor\u001b[0m \u001b[0mline\u001b[0m \u001b[1;32min\u001b[0m \u001b[0minput_lines\u001b[0m\u001b[1;33m)\u001b[0m\u001b[1;33m}\u001b[0m\u001b[1;33m\u001b[0m\u001b[1;33m\u001b[0m\u001b[0m\n\u001b[0;32m    148\u001b[0m \u001b[1;33m\u001b[0m\u001b[0m\n\u001b[1;32m--> 149\u001b[1;33m     \u001b[0mproc\u001b[0m \u001b[1;33m=\u001b[0m \u001b[0mexecute\u001b[0m\u001b[1;33m.\u001b[0m\u001b[0mrun_check\u001b[0m\u001b[1;33m(\u001b[0m\u001b[0mcmd\u001b[0m\u001b[1;33m,\u001b[0m \u001b[0mcapture_output\u001b[0m\u001b[1;33m=\u001b[0m\u001b[1;32mTrue\u001b[0m\u001b[1;33m,\u001b[0m \u001b[0mquiet\u001b[0m\u001b[1;33m=\u001b[0m\u001b[0mquiet\u001b[0m\u001b[1;33m,\u001b[0m \u001b[1;33m**\u001b[0m\u001b[0mkwargs\u001b[0m\u001b[1;33m)\u001b[0m\u001b[1;33m\u001b[0m\u001b[1;33m\u001b[0m\u001b[0m\n\u001b[0m\u001b[0;32m    150\u001b[0m     \u001b[1;32mreturn\u001b[0m \u001b[0mproc\u001b[0m\u001b[1;33m.\u001b[0m\u001b[0mstdout\u001b[0m\u001b[1;33m\u001b[0m\u001b[1;33m\u001b[0m\u001b[0m\n\u001b[0;32m    151\u001b[0m \u001b[1;33m\u001b[0m\u001b[0m\n",
      "\u001b[1;32m~\\anaconda3\\envs\\AutoML\\lib\\site-packages\\graphviz\\backend\\execute.py\u001b[0m in \u001b[0;36mrun_check\u001b[1;34m(cmd, input_lines, encoding, capture_output, quiet, **kwargs)\u001b[0m\n\u001b[0;32m     86\u001b[0m     \u001b[1;32mexcept\u001b[0m \u001b[0mOSError\u001b[0m \u001b[1;32mas\u001b[0m \u001b[0me\u001b[0m\u001b[1;33m:\u001b[0m\u001b[1;33m\u001b[0m\u001b[1;33m\u001b[0m\u001b[0m\n\u001b[0;32m     87\u001b[0m         \u001b[1;32mif\u001b[0m \u001b[0me\u001b[0m\u001b[1;33m.\u001b[0m\u001b[0merrno\u001b[0m \u001b[1;33m==\u001b[0m \u001b[0merrno\u001b[0m\u001b[1;33m.\u001b[0m\u001b[0mENOENT\u001b[0m\u001b[1;33m:\u001b[0m\u001b[1;33m\u001b[0m\u001b[1;33m\u001b[0m\u001b[0m\n\u001b[1;32m---> 88\u001b[1;33m             \u001b[1;32mraise\u001b[0m \u001b[0mExecutableNotFound\u001b[0m\u001b[1;33m(\u001b[0m\u001b[0mcmd\u001b[0m\u001b[1;33m)\u001b[0m \u001b[1;32mfrom\u001b[0m \u001b[0me\u001b[0m\u001b[1;33m\u001b[0m\u001b[1;33m\u001b[0m\u001b[0m\n\u001b[0m\u001b[0;32m     89\u001b[0m         \u001b[1;32mraise\u001b[0m\u001b[1;33m\u001b[0m\u001b[1;33m\u001b[0m\u001b[0m\n\u001b[0;32m     90\u001b[0m \u001b[1;33m\u001b[0m\u001b[0m\n",
      "\u001b[1;31mExecutableNotFound\u001b[0m: failed to execute WindowsPath('dot'), make sure the Graphviz executables are on your systems' PATH"
     ]
    },
    {
     "data": {
      "image/png": "[encoded data removed]",
      "text/plain": [
       "<Figure size 432x288 with 1 Axes>"
      ]
     },
     "metadata": {
      "needs_background": "light"
     },
     "output_type": "display_data"
    }
   ],
   "source": [
    "fig, ax = plt.subplots()\n",
    "xgb.plot_tree(model, num_trees=1, ax=ax, rankdir='LR')\n",
    "plt.show()"
   ]
  },
  {
   "cell_type": "code",
   "execution_count": 197,
   "id": "33330285-9516-4cf8-beeb-8ce5049b76a7",
   "metadata": {},
   "outputs": [
    {
     "data": {
      "image/png": "[encoded data removed]",
      "text/plain": [
       "<Figure size 432x288 with 1 Axes>"
      ]
     },
     "metadata": {
      "needs_background": "light"
     },
     "output_type": "display_data"
    }
   ],
   "source": [
    "from xgboost import plot_importance\n",
    "\n",
    "fig, ax = plt.subplots()\n",
    "plot_importance(model, ax=ax)\n",
    "plt.show()"
   ]
  },
  {
   "cell_type": "code",
   "execution_count": 199,
   "id": "04144f84-5444-4e32-a5ca-a68cfa44badc",
   "metadata": {},
   "outputs": [],
   "source": [
    "#doesn't make sense to include Sample_Size\n",
    "#take out for future models "
   ]
  },
  {
   "cell_type": "code",
   "execution_count": 205,
   "id": "3e7b4f50-a993-4896-84b4-8df49291ee0e",
   "metadata": {},
   "outputs": [
    {
     "name": "stdout",
     "output_type": "stream",
     "text": [
      "2.0515627497455378 2.769400483983867\n"
     ]
    }
   ],
   "source": [
    "#test overfit:\n",
    "train_pred = model.predict(X_train)\n",
    "rmse_train = np.sqrt(mse(y_train,train_pred))\n",
    "test_pred = model.predict(X_val)\n",
    "rmse_test = np.sqrt(mse(y_val,test_pred))\n",
    "print(rmse_train, rmse_test)"
   ]
  },
  {
   "cell_type": "code",
   "execution_count": 214,
   "id": "4afc5b41-5ca9-46b3-84f9-db3eb9a9972b",
   "metadata": {},
   "outputs": [
    {
     "name": "stdout",
     "output_type": "stream",
     "text": [
      "tree model says higher rates of obesity for lower income. \n"
     ]
    },
    {
     "data": {
      "text/plain": [
       "array([[ 1.        , -0.42423726],\n",
       "       [-0.42423726,  1.        ]])"
      ]
     },
     "execution_count": 214,
     "metadata": {},
     "output_type": "execute_result"
    },
    {
     "data": {
      "image/png": "[encoded data removed]",
      "text/plain": [
       "<Figure size 432x288 with 1 Axes>"
      ]
     },
     "metadata": {
      "needs_background": "light"
     },
     "output_type": "display_data"
    },
    {
     "data": {
      "image/png": "[encoded data removed]",
      "text/plain": [
       "<Figure size 432x288 with 1 Axes>"
      ]
     },
     "metadata": {
      "needs_background": "light"
     },
     "output_type": "display_data"
    }
   ],
   "source": [
    "# could get the effect of income by randomly sampling year, sample_size, location and plotting for different levels of income\n",
    "X_val['test_pred'] = test_pred\n",
    "X_val.groupby('Income').agg({'test_pred':'mean'}).plot(kind='barh') \n",
    "print('tree model says higher rates of obesity for lower income. ')\n",
    "X_val.groupby('Income').agg({'test_pred':'std'}).plot(kind='barh') \n",
    "np.corrcoef(income_df['Income'],income_df['Data_Value']) #correlation is not SUPER pronounced\n"
   ]
  },
  {
   "cell_type": "markdown",
   "id": "ab4c6831-f933-404a-9d22-35703eef533f",
   "metadata": {},
   "source": [
    "# AGE"
   ]
  },
  {
   "cell_type": "markdown",
   "id": "d81a03a6-fc23-4412-bf02-9e8678364632",
   "metadata": {},
   "source": [
    "## BASELINE"
   ]
  },
  {
   "cell_type": "code",
   "execution_count": 231,
   "id": "1cfa074d-9597-475c-9539-cb5cbe193219",
   "metadata": {},
   "outputs": [
    {
     "name": "stdout",
     "output_type": "stream",
     "text": [
      "Accuracy: 10.649\n"
     ]
    }
   ],
   "source": [
    "\n",
    "X_train, X_val, y_train, y_val = train_test_split( strat_df.drop('Data_Value',axis=1), strat_df['Data_Value'], test_size=0.2, random_state=42)\n",
    "\n",
    "pred = [y_train.mean()]*len(y_val)\n",
    "score = np.sqrt(mse(y_val, pred))\n",
    "print('Accuracy: %.3f' % score)\n",
    "#okay. probably less of a linear relationship between age categories and obesity"
   ]
  },
  {
   "cell_type": "code",
   "execution_count": 246,
   "id": "4fda3a0f-bcd7-4671-8684-f046865ae5b4",
   "metadata": {
    "collapsed": true,
    "jupyter": {
     "outputs_hidden": true
    },
    "tags": []
   },
   "outputs": [
    {
     "ename": "KeyError",
     "evalue": "'Age(years)'",
     "output_type": "error",
     "traceback": [
      "\u001b[1;31m---------------------------------------------------------------------------\u001b[0m",
      "\u001b[1;31mKeyError\u001b[0m                                  Traceback (most recent call last)",
      "\u001b[1;32m~\\anaconda3\\envs\\AutoML\\lib\\site-packages\\pandas\\core\\indexes\\base.py\u001b[0m in \u001b[0;36mget_loc\u001b[1;34m(self, key, method, tolerance)\u001b[0m\n\u001b[0;32m   3360\u001b[0m             \u001b[1;32mtry\u001b[0m\u001b[1;33m:\u001b[0m\u001b[1;33m\u001b[0m\u001b[1;33m\u001b[0m\u001b[0m\n\u001b[1;32m-> 3361\u001b[1;33m                 \u001b[1;32mreturn\u001b[0m \u001b[0mself\u001b[0m\u001b[1;33m.\u001b[0m\u001b[0m_engine\u001b[0m\u001b[1;33m.\u001b[0m\u001b[0mget_loc\u001b[0m\u001b[1;33m(\u001b[0m\u001b[0mcasted_key\u001b[0m\u001b[1;33m)\u001b[0m\u001b[1;33m\u001b[0m\u001b[1;33m\u001b[0m\u001b[0m\n\u001b[0m\u001b[0;32m   3362\u001b[0m             \u001b[1;32mexcept\u001b[0m \u001b[0mKeyError\u001b[0m \u001b[1;32mas\u001b[0m \u001b[0merr\u001b[0m\u001b[1;33m:\u001b[0m\u001b[1;33m\u001b[0m\u001b[1;33m\u001b[0m\u001b[0m\n",
      "\u001b[1;32m~\\anaconda3\\envs\\AutoML\\lib\\site-packages\\pandas\\_libs\\index.pyx\u001b[0m in \u001b[0;36mpandas._libs.index.IndexEngine.get_loc\u001b[1;34m()\u001b[0m\n",
      "\u001b[1;32m~\\anaconda3\\envs\\AutoML\\lib\\site-packages\\pandas\\_libs\\index.pyx\u001b[0m in \u001b[0;36mpandas._libs.index.IndexEngine.get_loc\u001b[1;34m()\u001b[0m\n",
      "\u001b[1;32mpandas\\_libs\\hashtable_class_helper.pxi\u001b[0m in \u001b[0;36mpandas._libs.hashtable.PyObjectHashTable.get_item\u001b[1;34m()\u001b[0m\n",
      "\u001b[1;32mpandas\\_libs\\hashtable_class_helper.pxi\u001b[0m in \u001b[0;36mpandas._libs.hashtable.PyObjectHashTable.get_item\u001b[1;34m()\u001b[0m\n",
      "\u001b[1;31mKeyError\u001b[0m: 'Age(years)'",
      "\nThe above exception was the direct cause of the following exception:\n",
      "\u001b[1;31mKeyError\u001b[0m                                  Traceback (most recent call last)",
      "\u001b[1;32m~\\AppData\\Local\\Temp/ipykernel_29820/2092168146.py\u001b[0m in \u001b[0;36m<module>\u001b[1;34m\u001b[0m\n\u001b[1;32m----> 1\u001b[1;33m \u001b[0msns\u001b[0m\u001b[1;33m.\u001b[0m\u001b[0mboxenplot\u001b[0m\u001b[1;33m(\u001b[0m\u001b[0mstrat_df\u001b[0m\u001b[1;33m[\u001b[0m\u001b[1;34m'Data_Value'\u001b[0m\u001b[1;33m]\u001b[0m\u001b[1;33m,\u001b[0m\u001b[0mstrat_df\u001b[0m\u001b[1;33m[\u001b[0m\u001b[1;34m'Age(years)'\u001b[0m\u001b[1;33m]\u001b[0m\u001b[1;33m)\u001b[0m \u001b[1;31m#no linear relationship whatsoever. tree would do much better here.\u001b[0m\u001b[1;33m\u001b[0m\u001b[1;33m\u001b[0m\u001b[0m\n\u001b[0m",
      "\u001b[1;32m~\\anaconda3\\envs\\AutoML\\lib\\site-packages\\pandas\\core\\frame.py\u001b[0m in \u001b[0;36m__getitem__\u001b[1;34m(self, key)\u001b[0m\n\u001b[0;32m   3456\u001b[0m             \u001b[1;32mif\u001b[0m \u001b[0mself\u001b[0m\u001b[1;33m.\u001b[0m\u001b[0mcolumns\u001b[0m\u001b[1;33m.\u001b[0m\u001b[0mnlevels\u001b[0m \u001b[1;33m>\u001b[0m \u001b[1;36m1\u001b[0m\u001b[1;33m:\u001b[0m\u001b[1;33m\u001b[0m\u001b[1;33m\u001b[0m\u001b[0m\n\u001b[0;32m   3457\u001b[0m                 \u001b[1;32mreturn\u001b[0m \u001b[0mself\u001b[0m\u001b[1;33m.\u001b[0m\u001b[0m_getitem_multilevel\u001b[0m\u001b[1;33m(\u001b[0m\u001b[0mkey\u001b[0m\u001b[1;33m)\u001b[0m\u001b[1;33m\u001b[0m\u001b[1;33m\u001b[0m\u001b[0m\n\u001b[1;32m-> 3458\u001b[1;33m             \u001b[0mindexer\u001b[0m \u001b[1;33m=\u001b[0m \u001b[0mself\u001b[0m\u001b[1;33m.\u001b[0m\u001b[0mcolumns\u001b[0m\u001b[1;33m.\u001b[0m\u001b[0mget_loc\u001b[0m\u001b[1;33m(\u001b[0m\u001b[0mkey\u001b[0m\u001b[1;33m)\u001b[0m\u001b[1;33m\u001b[0m\u001b[1;33m\u001b[0m\u001b[0m\n\u001b[0m\u001b[0;32m   3459\u001b[0m             \u001b[1;32mif\u001b[0m \u001b[0mis_integer\u001b[0m\u001b[1;33m(\u001b[0m\u001b[0mindexer\u001b[0m\u001b[1;33m)\u001b[0m\u001b[1;33m:\u001b[0m\u001b[1;33m\u001b[0m\u001b[1;33m\u001b[0m\u001b[0m\n\u001b[0;32m   3460\u001b[0m                 \u001b[0mindexer\u001b[0m \u001b[1;33m=\u001b[0m \u001b[1;33m[\u001b[0m\u001b[0mindexer\u001b[0m\u001b[1;33m]\u001b[0m\u001b[1;33m\u001b[0m\u001b[1;33m\u001b[0m\u001b[0m\n",
      "\u001b[1;32m~\\anaconda3\\envs\\AutoML\\lib\\site-packages\\pandas\\core\\indexes\\base.py\u001b[0m in \u001b[0;36mget_loc\u001b[1;34m(self, key, method, tolerance)\u001b[0m\n\u001b[0;32m   3361\u001b[0m                 \u001b[1;32mreturn\u001b[0m \u001b[0mself\u001b[0m\u001b[1;33m.\u001b[0m\u001b[0m_engine\u001b[0m\u001b[1;33m.\u001b[0m\u001b[0mget_loc\u001b[0m\u001b[1;33m(\u001b[0m\u001b[0mcasted_key\u001b[0m\u001b[1;33m)\u001b[0m\u001b[1;33m\u001b[0m\u001b[1;33m\u001b[0m\u001b[0m\n\u001b[0;32m   3362\u001b[0m             \u001b[1;32mexcept\u001b[0m \u001b[0mKeyError\u001b[0m \u001b[1;32mas\u001b[0m \u001b[0merr\u001b[0m\u001b[1;33m:\u001b[0m\u001b[1;33m\u001b[0m\u001b[1;33m\u001b[0m\u001b[0m\n\u001b[1;32m-> 3363\u001b[1;33m                 \u001b[1;32mraise\u001b[0m \u001b[0mKeyError\u001b[0m\u001b[1;33m(\u001b[0m\u001b[0mkey\u001b[0m\u001b[1;33m)\u001b[0m \u001b[1;32mfrom\u001b[0m \u001b[0merr\u001b[0m\u001b[1;33m\u001b[0m\u001b[1;33m\u001b[0m\u001b[0m\n\u001b[0m\u001b[0;32m   3364\u001b[0m \u001b[1;33m\u001b[0m\u001b[0m\n\u001b[0;32m   3365\u001b[0m         \u001b[1;32mif\u001b[0m \u001b[0mis_scalar\u001b[0m\u001b[1;33m(\u001b[0m\u001b[0mkey\u001b[0m\u001b[1;33m)\u001b[0m \u001b[1;32mand\u001b[0m \u001b[0misna\u001b[0m\u001b[1;33m(\u001b[0m\u001b[0mkey\u001b[0m\u001b[1;33m)\u001b[0m \u001b[1;32mand\u001b[0m \u001b[1;32mnot\u001b[0m \u001b[0mself\u001b[0m\u001b[1;33m.\u001b[0m\u001b[0mhasnans\u001b[0m\u001b[1;33m:\u001b[0m\u001b[1;33m\u001b[0m\u001b[1;33m\u001b[0m\u001b[0m\n",
      "\u001b[1;31mKeyError\u001b[0m: 'Age(years)'"
     ]
    }
   ],
   "source": [
    "sns.boxenplot(strat_df['Data_Value'],strat_df['Age(years)']) #no linear relationship whatsoever. tree would do much better here."
   ]
  },
  {
   "cell_type": "code",
   "execution_count": 233,
   "id": "2ab26a0c-9c7d-486f-a165-d261f760976b",
   "metadata": {},
   "outputs": [
    {
     "name": "stdout",
     "output_type": "stream",
     "text": [
      "10.535618072660078\n"
     ]
    },
    {
     "data": {
      "image/png": "[encoded data removed]",
      "text/plain": [
       "<Figure size 432x288 with 1 Axes>"
      ]
     },
     "metadata": {
      "needs_background": "light"
     },
     "output_type": "display_data"
    }
   ],
   "source": [
    "y_train.plot(kind='hist')\n",
    "print(y_train.std())"
   ]
  },
  {
   "cell_type": "code",
   "execution_count": 240,
   "id": "bacd8184-ea34-43bb-8f4f-f6bfc99dcff2",
   "metadata": {},
   "outputs": [
    {
     "name": "stdout",
     "output_type": "stream",
     "text": [
      "[20:55:59] WARNING: C:/Users/Administrator/workspace/xgboost-win64_release_1.5.1/src/learner.cc:576: \n",
      "Parameters: { \"enable_category\" } might not be used.\n",
      "\n",
      "  This could be a false alarm, with some parameters getting used by language bindings but\n",
      "  then being mistakenly passed down to XGBoost core, or some parameter actually being used\n",
      "  but getting flagged wrongly here. Please open an issue if you find any such cases.\n",
      "\n",
      "\n",
      "Accuracy: 10.284\n"
     ]
    },
    {
     "data": {
      "image/png": "[encoded data removed]",
      "text/plain": [
       "<Figure size 576x432 with 1 Axes>"
      ]
     },
     "metadata": {
      "needs_background": "light"
     },
     "output_type": "display_data"
    }
   ],
   "source": [
    "import xgboost as xgb\n",
    "X_train, X_val, y_train, y_val = train_test_split( strat_df.drop(['Data_Value','LocationAbbr','Sample_Size'],axis=1), strat_df['Data_Value'], test_size=0.2, random_state=42)\n",
    "\n",
    "model = xgb.XGBRegressor(enable_category=True)\n",
    "# define the datasets to evaluate each iteration\n",
    "evalset = [(X_train, y_train), (X_val,y_val)]\n",
    "# fit the model\n",
    "model.fit(X_train, y_train, eval_metric='rmse', eval_set=evalset,verbose=0)\n",
    "# evaluate performance\n",
    "pred = model.predict(X_val)\n",
    "score = np.sqrt(mse(y_val, pred))\n",
    "print('Accuracy: %.3f' % score)\n",
    "# retrieve performance metrics\n",
    "results = model.evals_result()\n",
    "\n",
    "plt.figure(figsize=(8,6))\n",
    "# plot learning curves\n",
    "plt.plot(results['validation_0']['rmse'], label='train')\n",
    "plt.plot(results['validation_1']['rmse'], label='test')\n",
    "# show the legend\n",
    "plt.legend()\n",
    "# show the plot\n",
    "plt.show()"
   ]
  },
  {
   "cell_type": "code",
   "execution_count": 238,
   "id": "78b22af0-407c-406b-b6ea-fd8d86435a74",
   "metadata": {
    "collapsed": true,
    "jupyter": {
     "outputs_hidden": true
    },
    "tags": []
   },
   "outputs": [
    {
     "data": {
      "text/html": [
       "<div>\n",
       "<style scoped>\n",
       "    .dataframe tbody tr th:only-of-type {\n",
       "        vertical-align: middle;\n",
       "    }\n",
       "\n",
       "    .dataframe tbody tr th {\n",
       "        vertical-align: top;\n",
       "    }\n",
       "\n",
       "    .dataframe thead th {\n",
       "        text-align: right;\n",
       "    }\n",
       "</style>\n",
       "<table border=\"1\" class=\"dataframe\">\n",
       "  <thead>\n",
       "    <tr style=\"text-align: right;\">\n",
       "      <th></th>\n",
       "      <th>LocationAbbr</th>\n",
       "      <th>Data_Value</th>\n",
       "      <th>Sample_Size</th>\n",
       "      <th>Age(years)</th>\n",
       "      <th>Year</th>\n",
       "    </tr>\n",
       "  </thead>\n",
       "  <tbody>\n",
       "    <tr>\n",
       "      <th>7</th>\n",
       "      <td>1</td>\n",
       "      <td>16.3</td>\n",
       "      <td>356.0</td>\n",
       "      <td>0</td>\n",
       "      <td>2011</td>\n",
       "    </tr>\n",
       "    <tr>\n",
       "      <th>8</th>\n",
       "      <td>1</td>\n",
       "      <td>35.2</td>\n",
       "      <td>598.0</td>\n",
       "      <td>1</td>\n",
       "      <td>2011</td>\n",
       "    </tr>\n",
       "    <tr>\n",
       "      <th>9</th>\n",
       "      <td>1</td>\n",
       "      <td>35.5</td>\n",
       "      <td>865.0</td>\n",
       "      <td>2</td>\n",
       "      <td>2011</td>\n",
       "    </tr>\n",
       "    <tr>\n",
       "      <th>10</th>\n",
       "      <td>1</td>\n",
       "      <td>38.0</td>\n",
       "      <td>1288.0</td>\n",
       "      <td>3</td>\n",
       "      <td>2011</td>\n",
       "    </tr>\n",
       "    <tr>\n",
       "      <th>11</th>\n",
       "      <td>1</td>\n",
       "      <td>36.4</td>\n",
       "      <td>1676.0</td>\n",
       "      <td>4</td>\n",
       "      <td>2011</td>\n",
       "    </tr>\n",
       "    <tr>\n",
       "      <th>...</th>\n",
       "      <td>...</td>\n",
       "      <td>...</td>\n",
       "      <td>...</td>\n",
       "      <td>...</td>\n",
       "      <td>...</td>\n",
       "    </tr>\n",
       "    <tr>\n",
       "      <th>53372</th>\n",
       "      <td>49</td>\n",
       "      <td>34.7</td>\n",
       "      <td>110.0</td>\n",
       "      <td>1</td>\n",
       "      <td>2016</td>\n",
       "    </tr>\n",
       "    <tr>\n",
       "      <th>53373</th>\n",
       "      <td>49</td>\n",
       "      <td>29.3</td>\n",
       "      <td>99.0</td>\n",
       "      <td>2</td>\n",
       "      <td>2016</td>\n",
       "    </tr>\n",
       "    <tr>\n",
       "      <th>53374</th>\n",
       "      <td>49</td>\n",
       "      <td>22.5</td>\n",
       "      <td>232.0</td>\n",
       "      <td>3</td>\n",
       "      <td>2016</td>\n",
       "    </tr>\n",
       "    <tr>\n",
       "      <th>53375</th>\n",
       "      <td>49</td>\n",
       "      <td>24.6</td>\n",
       "      <td>321.0</td>\n",
       "      <td>4</td>\n",
       "      <td>2016</td>\n",
       "    </tr>\n",
       "    <tr>\n",
       "      <th>53376</th>\n",
       "      <td>49</td>\n",
       "      <td>23.9</td>\n",
       "      <td>450.0</td>\n",
       "      <td>5</td>\n",
       "      <td>2016</td>\n",
       "    </tr>\n",
       "  </tbody>\n",
       "</table>\n",
       "<p>11438 rows × 5 columns</p>\n",
       "</div>"
      ],
      "text/plain": [
       "       LocationAbbr  Data_Value  Sample_Size  Age(years)  Year\n",
       "7                 1        16.3        356.0           0  2011\n",
       "8                 1        35.2        598.0           1  2011\n",
       "9                 1        35.5        865.0           2  2011\n",
       "10                1        38.0       1288.0           3  2011\n",
       "11                1        36.4       1676.0           4  2011\n",
       "...             ...         ...          ...         ...   ...\n",
       "53372            49        34.7        110.0           1  2016\n",
       "53373            49        29.3         99.0           2  2016\n",
       "53374            49        22.5        232.0           3  2016\n",
       "53375            49        24.6        321.0           4  2016\n",
       "53376            49        23.9        450.0           5  2016\n",
       "\n",
       "[11438 rows x 5 columns]"
      ]
     },
     "execution_count": 238,
     "metadata": {},
     "output_type": "execute_result"
    }
   ],
   "source": [
    "# surprisingly difficult to get better than baseline \n",
    "# note: removing location, sample_size made the learning graphs look MUCH better. but it still feels as though the features are kind of kak for this. "
   ]
  },
  {
   "cell_type": "code",
   "execution_count": 250,
   "id": "04c68a61-0e8f-4867-af53-f3ef13e70a18",
   "metadata": {},
   "outputs": [
    {
     "name": "stdout",
     "output_type": "stream",
     "text": [
      "Accuracy: 10.436\n"
     ]
    },
    {
     "name": "stderr",
     "output_type": "stream",
     "text": [
      "C:\\Users\\nikig\\anaconda3\\envs\\AutoML\\lib\\site-packages\\seaborn\\_decorators.py:36: FutureWarning: Pass the following variables as keyword args: x, y. From version 0.12, the only valid positional argument will be `data`, and passing other arguments without an explicit keyword will result in an error or misinterpretation.\n",
      "  warnings.warn(\n"
     ]
    },
    {
     "data": {
      "text/plain": [
       "<AxesSubplot:xlabel='Race/Ethnicity', ylabel='Data_Value'>"
      ]
     },
     "execution_count": 250,
     "metadata": {},
     "output_type": "execute_result"
    },
    {
     "data": {
      "image/png": "[encoded data removed]",
      "text/plain": [
       "<Figure size 432x288 with 1 Axes>"
      ]
     },
     "metadata": {
      "needs_background": "light"
     },
     "output_type": "display_data"
    }
   ],
   "source": [
    "# BASELINE\n",
    "X_train, X_val, y_train, y_val = train_test_split( strat_df.drop('Data_Value',axis=1), strat_df['Data_Value'], test_size=0.2, random_state=42)\n",
    "pred = [y_train.mean()]*len(y_val)\n",
    "score = np.sqrt(mse(y_val, pred))\n",
    "print('Accuracy: %.3f' % score)\n",
    "\n",
    "sns.boxenplot(strat_df[strat_cat],strat_df['Data_Value']) #no linear relationship whatsoever. tree would do much better here."
   ]
  },
  {
   "cell_type": "code",
   "execution_count": 251,
   "id": "63da0326-b65c-4a77-af53-e2f9df231c9a",
   "metadata": {},
   "outputs": [
    {
     "name": "stdout",
     "output_type": "stream",
     "text": [
      "Accuracy: 11.072\n"
     ]
    },
    {
     "data": {
      "image/png": "[encoded data removed]",
      "text/plain": [
       "<Figure size 576x432 with 1 Axes>"
      ]
     },
     "metadata": {
      "needs_background": "light"
     },
     "output_type": "display_data"
    }
   ],
   "source": [
    "import xgboost as xgb\n",
    "X_train, X_val, y_train, y_val = train_test_split( strat_df.drop(['Data_Value','Sample_Size'],axis=1), strat_df['Data_Value'], test_size=0.2, random_state=42)\n",
    "\n",
    "model = xgb.XGBRegressor(tree_method = \"gpu_hist\",single_precision_histogram=True, gpu_id=0)\n",
    "\n",
    "# define the datasets to evaluate each iteration\n",
    "evalset = [(X_train, y_train), (X_val,y_val)]\n",
    "# fit the model\n",
    "model.fit(X_train, y_train, eval_metric='rmse', eval_set=evalset,verbose=0)\n",
    "# evaluate performance\n",
    "pred = model.predict(X_val)\n",
    "score = np.sqrt(mse(y_val, pred))\n",
    "print('Accuracy: %.3f' % score)\n",
    "# retrieve performance metrics\n",
    "results = model.evals_result()\n",
    "\n",
    "plt.figure(figsize=(8,6))\n",
    "# plot learning curves\n",
    "plt.plot(results['validation_0']['rmse'], label='train')\n",
    "plt.plot(results['validation_1']['rmse'], label='test')\n",
    "# show the legend\n",
    "plt.legend()\n",
    "# show the plot\n",
    "plt.show()"
   ]
  },
  {
   "cell_type": "code",
   "execution_count": 252,
   "id": "82c09937-c881-4f40-8a50-0f779a8ea180",
   "metadata": {},
   "outputs": [
    {
     "name": "stdout",
     "output_type": "stream",
     "text": [
      "Accuracy: 10.062\n"
     ]
    },
    {
     "data": {
      "image/png": "[encoded data removed]",
      "text/plain": [
       "<Figure size 576x432 with 1 Axes>"
      ]
     },
     "metadata": {
      "needs_background": "light"
     },
     "output_type": "display_data"
    }
   ],
   "source": [
    "import xgboost as xgb\n",
    "X_train, X_val, y_train, y_val = train_test_split( strat_df.drop(['Data_Value','Sample_Size','LocationAbbr'],axis=1), strat_df['Data_Value'], test_size=0.2, random_state=42)\n",
    "\n",
    "model = xgb.XGBRegressor(tree_method = \"gpu_hist\",single_precision_histogram=True, gpu_id=0) \n",
    "\n",
    "# define the datasets to evaluate each iteration \n",
    "evalset = [(X_train, y_train), (X_val,y_val)]\n",
    "# fit the model\n",
    "model.fit(X_train, y_train, eval_metric='rmse', eval_set=evalset,verbose=0)\n",
    "# evaluate performance\n",
    "pred = model.predict(X_val)\n",
    "score = np.sqrt(mse(y_val, pred))\n",
    "print('Accuracy: %.3f' % score)\n",
    "# retrieve performance metrics\n",
    "results = model.evals_result()\n",
    "\n",
    "plt.figure(figsize=(8,6))\n",
    "# plot learning curves\n",
    "plt.plot(results['validation_0']['rmse'], label='train')\n",
    "plt.plot(results['validation_1']['rmse'], label='test')\n",
    "# show the legend\n",
    "plt.legend()\n",
    "# show the plot\n",
    "plt.show()"
   ]
  },
  {
   "cell_type": "code",
   "execution_count": 253,
   "id": "d74a2a6e-2ee1-41e7-a798-ba867b9d2a98",
   "metadata": {},
   "outputs": [
    {
     "name": "stdout",
     "output_type": "stream",
     "text": [
      "Best: -10.193926 using {'learning_rate': 0.03, 'max_depth': 6, 'n_estimators': 200}\n",
      "202.15861749649048\n"
     ]
    }
   ],
   "source": [
    "# model tiny tiny bit better than baseline. worth tuning? just for prcatice\n",
    "\n",
    "start_time=time.time()\n",
    "\n",
    "# grid search\n",
    "model = xgb.XGBRegressor(tree_method = \"gpu_hist\",single_precision_histogram=True, gpu_id=0)\n",
    "\n",
    "param_grid = {\n",
    "        'max_depth': [2, 3, 6],\n",
    "        'learning_rate': [0.003, 0.01, 0.03],\n",
    "        'n_estimators':[200, 600, 900],\n",
    "                               }\n",
    "\n",
    "kfold = KFold(n_splits=3, shuffle=True, random_state=10)\n",
    "grid_search = GridSearchCV(model, param_grid, scoring=\"neg_root_mean_squared_error\", cv=kfold)\n",
    "grid_result = grid_search.fit(X_train, y_train, verbose=0)\n",
    "\n",
    "# summarize results\n",
    "print(\"Best: %f using %s\" % (grid_result.best_score_, grid_result.best_params_))\n",
    "means = grid_result.cv_results_[ 'mean_test_score' ]\n",
    "stds = grid_result.cv_results_[ 'std_test_score' ]\n",
    "params = grid_result.cv_results_[ 'params' ]\n",
    "\n",
    "print(time.time()-start_time)"
   ]
  },
  {
   "cell_type": "code",
   "execution_count": 254,
   "id": "bd65ed50-e280-4672-a58a-91efad8f104f",
   "metadata": {},
   "outputs": [
    {
     "data": {
      "image/png": "[encoded data removed]",
      "text/plain": [
       "<Figure size 432x288 with 1 Axes>"
      ]
     },
     "metadata": {
      "needs_background": "light"
     },
     "output_type": "display_data"
    }
   ],
   "source": [
    "model = xgb.XGBRegressor(**grid_result.best_params_)\n",
    "model.fit(X_train, y_train)\n",
    "fig, ax = plt.subplots()\n",
    "plot_importance(model, ax=ax)\n",
    "plt.show()"
   ]
  },
  {
   "cell_type": "code",
   "execution_count": 255,
   "id": "53b0d959-e145-403d-86d0-5816a52fb7ec",
   "metadata": {},
   "outputs": [
    {
     "name": "stdout",
     "output_type": "stream",
     "text": [
      "10.135910794686183 10.064730571961494\n"
     ]
    }
   ],
   "source": [
    "#test overfit:\n",
    "train_pred = model.predict(X_train)\n",
    "rmse_train = np.sqrt(mse(y_train,train_pred))\n",
    "test_pred = model.predict(X_val)\n",
    "rmse_test = np.sqrt(mse(y_val,test_pred))\n",
    "print(rmse_train, rmse_test) #RMSE TEST LOWER THAN TRAIN?? :D\n",
    "# tiny bit lower than baseline :')"
   ]
  },
  {
   "cell_type": "code",
   "execution_count": 257,
   "id": "fc9275fd-eca3-4a54-a031-d92f480cbe7b",
   "metadata": {},
   "outputs": [
    {
     "data": {
      "text/plain": [
       "array([[1.        , 0.00548899],\n",
       "       [0.00548899, 1.        ]])"
      ]
     },
     "execution_count": 257,
     "metadata": {},
     "output_type": "execute_result"
    },
    {
     "data": {
      "image/png": "[encoded data removed]",
      "text/plain": [
       "<Figure size 432x288 with 1 Axes>"
      ]
     },
     "metadata": {
      "needs_background": "light"
     },
     "output_type": "display_data"
    },
    {
     "data": {
      "image/png": "[encoded data removed]",
      "text/plain": [
       "<Figure size 432x288 with 1 Axes>"
      ]
     },
     "metadata": {
      "needs_background": "light"
     },
     "output_type": "display_data"
    }
   ],
   "source": [
    "# could get the effect of income by randomly sampling year, sample_size, location and plotting for different levels of income\n",
    "X_val['test_pred'] = test_pred\n",
    "X_val.groupby(strat_cat).agg({'test_pred':'mean'}).plot(kind='barh') \n",
    "X_val.groupby(strat_cat).agg({'test_pred':'std'}).plot(kind='barh') \n",
    "np.corrcoef(strat_df[strat_cat],strat_df['Data_Value']) #correlation is not SUPER pronounced\n"
   ]
  },
  {
   "cell_type": "code",
   "execution_count": 261,
   "id": "4d1f8f86-0d90-42e6-ac8e-98ccb7d7ae89",
   "metadata": {},
   "outputs": [
    {
     "data": {
      "text/plain": [
       "<AxesSubplot:>"
      ]
     },
     "execution_count": 261,
     "metadata": {},
     "output_type": "execute_result"
    },
    {
     "data": {
      "image/png": "[encoded data removed]",
      "text/plain": [
       "<Figure size 432x288 with 1 Axes>"
      ]
     },
     "metadata": {
      "needs_background": "light"
     },
     "output_type": "display_data"
    }
   ],
   "source": [
    "df = X_val.groupby(strat_cat).agg({'test_pred':'mean'})#.plot(kind='barh') \n",
    "df.index = lbl.classes_\n",
    "df.plot(kind='barh')"
   ]
  },
  {
   "cell_type": "code",
   "execution_count": null,
   "id": "513f4af7-d90d-4c37-bc7a-c3821dacc8a8",
   "metadata": {},
   "outputs": [],
   "source": [
    "# idk. these bar charts from the model are not really telling you much. It is interesting the the feature importance was YEAR then race."
   ]
  },
  {
   "cell_type": "code",
   "execution_count": null,
   "id": "126d01b0-a39d-49b7-9506-d0bb296a0042",
   "metadata": {},
   "outputs": [],
   "source": []
  }
 ],
 "metadata": {
  "kernelspec": {
   "display_name": "Python 3 (ipykernel)",
   "language": "python",
   "name": "python3"
  },
  "language_info": {
   "codemirror_mode": {
    "name": "ipython",
    "version": 3
   },
   "file_extension": ".py",
   "mimetype": "text/x-python",
   "name": "python",
   "nbconvert_exporter": "python",
   "pygments_lexer": "ipython3",
   "version": "3.9.7"
  }
 },
 "nbformat": 4,
 "nbformat_minor": 5
}
