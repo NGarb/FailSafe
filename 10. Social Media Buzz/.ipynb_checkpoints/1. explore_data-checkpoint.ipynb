{
 "cells": [
  {
   "cell_type": "code",
   "execution_count": 1,
   "id": "1bd947be-9b6b-420d-ad1c-f6caaa71d588",
   "metadata": {},
   "outputs": [],
   "source": [
    "import pandas as pd\n",
    "import numpy as np \n",
    "import seaborn as sns\n",
    "import matplotlib.pyplot as plt "
   ]
  },
  {
   "cell_type": "code",
   "execution_count": 12,
   "id": "0b4a4aaf-0561-4ba5-b8e4-f71b71c7094a",
   "metadata": {},
   "outputs": [],
   "source": [
    "buzz_df = pd.read_csv('./Data/Twitter-Absolute-Sigma-500.data', header=None)"
   ]
  },
  {
   "cell_type": "code",
   "execution_count": 13,
   "id": "30388254-c472-4784-86a6-05859ecdc2d0",
   "metadata": {},
   "outputs": [
    {
     "data": {
      "text/html": [
       "<div>\n",
       "<style scoped>\n",
       "    .dataframe tbody tr th:only-of-type {\n",
       "        vertical-align: middle;\n",
       "    }\n",
       "\n",
       "    .dataframe tbody tr th {\n",
       "        vertical-align: top;\n",
       "    }\n",
       "\n",
       "    .dataframe thead th {\n",
       "        text-align: right;\n",
       "    }\n",
       "</style>\n",
       "<table border=\"1\" class=\"dataframe\">\n",
       "  <thead>\n",
       "    <tr style=\"text-align: right;\">\n",
       "      <th></th>\n",
       "      <th>0</th>\n",
       "      <th>1</th>\n",
       "      <th>2</th>\n",
       "      <th>3</th>\n",
       "      <th>4</th>\n",
       "      <th>5</th>\n",
       "      <th>6</th>\n",
       "      <th>7</th>\n",
       "      <th>8</th>\n",
       "      <th>9</th>\n",
       "      <th>...</th>\n",
       "      <th>68</th>\n",
       "      <th>69</th>\n",
       "      <th>70</th>\n",
       "      <th>71</th>\n",
       "      <th>72</th>\n",
       "      <th>73</th>\n",
       "      <th>74</th>\n",
       "      <th>75</th>\n",
       "      <th>76</th>\n",
       "      <th>77</th>\n",
       "    </tr>\n",
       "  </thead>\n",
       "  <tbody>\n",
       "    <tr>\n",
       "      <th>17917</th>\n",
       "      <td>17</td>\n",
       "      <td>11</td>\n",
       "      <td>13</td>\n",
       "      <td>14</td>\n",
       "      <td>26</td>\n",
       "      <td>11</td>\n",
       "      <td>19</td>\n",
       "      <td>15</td>\n",
       "      <td>10</td>\n",
       "      <td>13</td>\n",
       "      <td>...</td>\n",
       "      <td>1.0</td>\n",
       "      <td>1.052632</td>\n",
       "      <td>17</td>\n",
       "      <td>11</td>\n",
       "      <td>13</td>\n",
       "      <td>14</td>\n",
       "      <td>26</td>\n",
       "      <td>11</td>\n",
       "      <td>19</td>\n",
       "      <td>0.0</td>\n",
       "    </tr>\n",
       "    <tr>\n",
       "      <th>101835</th>\n",
       "      <td>1</td>\n",
       "      <td>0</td>\n",
       "      <td>0</td>\n",
       "      <td>0</td>\n",
       "      <td>2</td>\n",
       "      <td>1</td>\n",
       "      <td>0</td>\n",
       "      <td>1</td>\n",
       "      <td>0</td>\n",
       "      <td>0</td>\n",
       "      <td>...</td>\n",
       "      <td>1.0</td>\n",
       "      <td>0.000000</td>\n",
       "      <td>1</td>\n",
       "      <td>0</td>\n",
       "      <td>0</td>\n",
       "      <td>0</td>\n",
       "      <td>2</td>\n",
       "      <td>1</td>\n",
       "      <td>0</td>\n",
       "      <td>0.0</td>\n",
       "    </tr>\n",
       "  </tbody>\n",
       "</table>\n",
       "<p>2 rows × 78 columns</p>\n",
       "</div>"
      ],
      "text/plain": [
       "        0   1   2   3   4   5   6   7   8   9   ...   68        69  70  71  \\\n",
       "17917   17  11  13  14  26  11  19  15  10  13  ...  1.0  1.052632  17  11   \n",
       "101835   1   0   0   0   2   1   0   1   0   0  ...  1.0  0.000000   1   0   \n",
       "\n",
       "        72  73  74  75  76   77  \n",
       "17917   13  14  26  11  19  0.0  \n",
       "101835   0   0   2   1   0  0.0  \n",
       "\n",
       "[2 rows x 78 columns]"
      ]
     },
     "execution_count": 13,
     "metadata": {},
     "output_type": "execute_result"
    }
   ],
   "source": [
    "buzz_df.sample(2)"
   ]
  },
  {
   "cell_type": "code",
   "execution_count": 21,
   "id": "31aa4d58-fd78-4532-ad49-22057dc43f74",
   "metadata": {
    "collapsed": true,
    "jupyter": {
     "outputs_hidden": true
    },
    "tags": []
   },
   "outputs": [
    {
     "data": {
      "text/plain": [
       "['NCD_0',\n",
       " 'NCD_1',\n",
       " 'NCD_2',\n",
       " 'NCD_3',\n",
       " 'NCD_4',\n",
       " 'NCD_5',\n",
       " 'NCD_6',\n",
       " 'AI_0',\n",
       " 'AI_1',\n",
       " 'AI_2',\n",
       " 'AI_3',\n",
       " 'AI_4',\n",
       " 'AI_5',\n",
       " 'AI_6',\n",
       " 'AS(NA)_0',\n",
       " 'AS(NA)_1',\n",
       " 'AS(NA)_2',\n",
       " 'AS(NA)_3',\n",
       " 'AS(NA)_4',\n",
       " 'AS(NA)_5',\n",
       " 'AS(NA)_6',\n",
       " 'BL_0',\n",
       " 'BL_1',\n",
       " 'BL_2',\n",
       " 'BL_3',\n",
       " 'BL_4',\n",
       " 'BL_5',\n",
       " 'BL_6',\n",
       " 'NAC_0',\n",
       " 'NAC_1',\n",
       " 'NAC_2',\n",
       " 'NAC_3',\n",
       " 'NAC_4',\n",
       " 'NAC_5',\n",
       " 'NAC_6',\n",
       " 'AS(NAC)_0',\n",
       " 'AS(NAC)_1',\n",
       " 'AS(NAC)_2',\n",
       " 'AS(NAC)_3',\n",
       " 'AS(NAC)_4',\n",
       " 'AS(NAC)_5',\n",
       " 'AS(NAC)_6',\n",
       " 'CS_0',\n",
       " 'CS_1',\n",
       " 'CS_2',\n",
       " 'CS_3',\n",
       " 'CS_4',\n",
       " 'CS_5',\n",
       " 'CS_6',\n",
       " 'AT_0',\n",
       " 'AT_1',\n",
       " 'AT_2',\n",
       " 'AT_3',\n",
       " 'AT_4',\n",
       " 'AT_5',\n",
       " 'AT_6',\n",
       " 'NA_0',\n",
       " 'NA_1',\n",
       " 'NA_2',\n",
       " 'NA_3',\n",
       " 'NA_4',\n",
       " 'NA_5',\n",
       " 'NA_6',\n",
       " 'ADL_0',\n",
       " 'ADL_1',\n",
       " 'ADL_2',\n",
       " 'ADL_3',\n",
       " 'ADL_4',\n",
       " 'ADL_5',\n",
       " 'ADL_6',\n",
       " 'NAD_0',\n",
       " 'NAD_1',\n",
       " 'NAD_2',\n",
       " 'NAD_3',\n",
       " 'NAD_4',\n",
       " 'NAD_5',\n",
       " 'NAD_6',\n",
       " 'Buzz']"
      ]
     },
     "execution_count": 21,
     "metadata": {},
     "output_type": "execute_result"
    }
   ],
   "source": [
    "col_names = ['NCD_','AI_','AS(NA)_','BL_','NAC_','AS(NAC)_','CS_','AT_','NA_','ADL_','NAD_']\n",
    "full_col_names = []\n",
    "for col in col_names:\n",
    "    for i in range(7):\n",
    "        full_col_names.append(col+str(i))\n",
    "\n",
    "full_col_names.append('Buzz')\n",
    "full_col_names"
   ]
  },
  {
   "cell_type": "code",
   "execution_count": 23,
   "id": "795f25f2-ca58-4a9c-8b4c-31ea2b44aa8c",
   "metadata": {},
   "outputs": [],
   "source": [
    "buzz_df.columns = full_col_names"
   ]
  },
  {
   "cell_type": "code",
   "execution_count": 24,
   "id": "eac0d45a-18c1-4e82-9dc4-e4b573ceef1b",
   "metadata": {
    "tags": []
   },
   "outputs": [
    {
     "name": "stdout",
     "output_type": "stream",
     "text": [
      "<class 'pandas.core.frame.DataFrame'>\n",
      "RangeIndex: 140707 entries, 0 to 140706\n",
      "Data columns (total 78 columns):\n",
      " #   Column     Non-Null Count   Dtype  \n",
      "---  ------     --------------   -----  \n",
      " 0   NCD_0      140707 non-null  int64  \n",
      " 1   NCD_1      140707 non-null  int64  \n",
      " 2   NCD_2      140707 non-null  int64  \n",
      " 3   NCD_3      140707 non-null  int64  \n",
      " 4   NCD_4      140707 non-null  int64  \n",
      " 5   NCD_5      140707 non-null  int64  \n",
      " 6   NCD_6      140707 non-null  int64  \n",
      " 7   AI_0       140707 non-null  int64  \n",
      " 8   AI_1       140707 non-null  int64  \n",
      " 9   AI_2       140707 non-null  int64  \n",
      " 10  AI_3       140707 non-null  int64  \n",
      " 11  AI_4       140707 non-null  int64  \n",
      " 12  AI_5       140707 non-null  int64  \n",
      " 13  AI_6       140707 non-null  int64  \n",
      " 14  AS(NA)_0   140707 non-null  float64\n",
      " 15  AS(NA)_1   140707 non-null  float64\n",
      " 16  AS(NA)_2   140707 non-null  float64\n",
      " 17  AS(NA)_3   140707 non-null  float64\n",
      " 18  AS(NA)_4   140707 non-null  float64\n",
      " 19  AS(NA)_5   140707 non-null  float64\n",
      " 20  AS(NA)_6   140707 non-null  float64\n",
      " 21  BL_0       140707 non-null  float64\n",
      " 22  BL_1       140707 non-null  float64\n",
      " 23  BL_2       140707 non-null  float64\n",
      " 24  BL_3       140707 non-null  float64\n",
      " 25  BL_4       140707 non-null  float64\n",
      " 26  BL_5       140707 non-null  float64\n",
      " 27  BL_6       140707 non-null  float64\n",
      " 28  NAC_0      140707 non-null  int64  \n",
      " 29  NAC_1      140707 non-null  int64  \n",
      " 30  NAC_2      140707 non-null  int64  \n",
      " 31  NAC_3      140707 non-null  int64  \n",
      " 32  NAC_4      140707 non-null  int64  \n",
      " 33  NAC_5      140707 non-null  int64  \n",
      " 34  NAC_6      140707 non-null  int64  \n",
      " 35  AS(NAC)_0  140707 non-null  float64\n",
      " 36  AS(NAC)_1  140707 non-null  float64\n",
      " 37  AS(NAC)_2  140707 non-null  float64\n",
      " 38  AS(NAC)_3  140707 non-null  float64\n",
      " 39  AS(NAC)_4  140707 non-null  float64\n",
      " 40  AS(NAC)_5  140707 non-null  float64\n",
      " 41  AS(NAC)_6  140707 non-null  float64\n",
      " 42  CS_0       140707 non-null  float64\n",
      " 43  CS_1       140707 non-null  float64\n",
      " 44  CS_2       140707 non-null  float64\n",
      " 45  CS_3       140707 non-null  float64\n",
      " 46  CS_4       140707 non-null  float64\n",
      " 47  CS_5       140707 non-null  float64\n",
      " 48  CS_6       140707 non-null  float64\n",
      " 49  AT_0       140707 non-null  float64\n",
      " 50  AT_1       140707 non-null  float64\n",
      " 51  AT_2       140707 non-null  float64\n",
      " 52  AT_3       140707 non-null  float64\n",
      " 53  AT_4       140707 non-null  float64\n",
      " 54  AT_5       140707 non-null  float64\n",
      " 55  AT_6       140707 non-null  float64\n",
      " 56  NA_0       140707 non-null  int64  \n",
      " 57  NA_1       140707 non-null  int64  \n",
      " 58  NA_2       140707 non-null  int64  \n",
      " 59  NA_3       140707 non-null  int64  \n",
      " 60  NA_4       140707 non-null  int64  \n",
      " 61  NA_5       140707 non-null  int64  \n",
      " 62  NA_6       140707 non-null  int64  \n",
      " 63  ADL_0      140707 non-null  float64\n",
      " 64  ADL_1      140707 non-null  float64\n",
      " 65  ADL_2      140707 non-null  float64\n",
      " 66  ADL_3      140707 non-null  float64\n",
      " 67  ADL_4      140707 non-null  float64\n",
      " 68  ADL_5      140707 non-null  float64\n",
      " 69  ADL_6      140707 non-null  float64\n",
      " 70  NAD_0      140707 non-null  int64  \n",
      " 71  NAD_1      140707 non-null  int64  \n",
      " 72  NAD_2      140707 non-null  int64  \n",
      " 73  NAD_3      140707 non-null  int64  \n",
      " 74  NAD_4      140707 non-null  int64  \n",
      " 75  NAD_5      140707 non-null  int64  \n",
      " 76  NAD_6      140707 non-null  int64  \n",
      " 77  Buzz       140707 non-null  float64\n",
      "dtypes: float64(43), int64(35)\n",
      "memory usage: 83.7 MB\n"
     ]
    }
   ],
   "source": [
    "buzz_df.info()"
   ]
  },
  {
   "cell_type": "code",
   "execution_count": 26,
   "id": "649df2bd-0f22-4ec3-b292-856969e5f5a1",
   "metadata": {},
   "outputs": [],
   "source": [
    "from sklearn.model_selection import train_test_split\n",
    "\n",
    "X_train, X_test, y_train, y_test = train_test_split(buzz_df.drop('Buzz',axis=1), buzz_df['Buzz'], test_size=0.2, random_state=42)"
   ]
  },
  {
   "cell_type": "code",
   "execution_count": 27,
   "id": "9a8523c8-0f9b-45a4-bf39-70cb6a1f5e72",
   "metadata": {},
   "outputs": [],
   "source": [
    "from sklearn.preprocessing import StandardScaler\n",
    "scaler = StandardScaler()\n",
    "X_train_prc = scaler.fit_transform(X_train)\n",
    "X_test_prc = scaler.transform(X_test)"
   ]
  },
  {
   "cell_type": "code",
   "execution_count": 28,
   "id": "a6d07ba2-7026-44b3-8baf-65fa09a17ba3",
   "metadata": {
    "collapsed": true,
    "jupyter": {
     "outputs_hidden": true
    },
    "tags": []
   },
   "outputs": [
    {
     "data": {
      "text/plain": [
       "<AxesSubplot:>"
      ]
     },
     "execution_count": 28,
     "metadata": {},
     "output_type": "execute_result"
    },
    {
     "data": {
      "image/png": "[encoded data removed]",
      "text/plain": [
       "<Figure size 432x288 with 1 Axes>"
      ]
     },
     "metadata": {
      "needs_background": "light"
     },
     "output_type": "display_data"
    }
   ],
   "source": [
    "X_train['NCD_0'].hist(bins=25)"
   ]
  },
  {
   "cell_type": "code",
   "execution_count": 30,
   "id": "25f4efc4-870a-4f6e-aa0d-7267f1006b08",
   "metadata": {},
   "outputs": [
    {
     "data": {
      "text/plain": [
       "<AxesSubplot:>"
      ]
     },
     "execution_count": 30,
     "metadata": {},
     "output_type": "execute_result"
    },
    {
     "data": {
      "image/png": "[encoded data removed]",
      "text/plain": [
       "<Figure size 432x288 with 1 Axes>"
      ]
     },
     "metadata": {
      "needs_background": "light"
     },
     "output_type": "display_data"
    }
   ],
   "source": [
    "pd.Series(X_train_prc[0]).hist()"
   ]
  },
  {
   "cell_type": "code",
   "execution_count": 31,
   "id": "45b76ecf-5140-411f-a503-381b20dabb19",
   "metadata": {
    "collapsed": true,
    "jupyter": {
     "outputs_hidden": true
    },
    "tags": []
   },
   "outputs": [
    {
     "data": {
      "text/plain": [
       "0.0    90397\n",
       "1.0    22168\n",
       "Name: Buzz, dtype: int64"
      ]
     },
     "execution_count": 31,
     "metadata": {},
     "output_type": "execute_result"
    }
   ],
   "source": [
    "y_train.value_counts()"
   ]
  },
  {
   "cell_type": "code",
   "execution_count": 32,
   "id": "916a6e58-af54-494c-b8b5-a9b8efc93d87",
   "metadata": {},
   "outputs": [],
   "source": [
    "from sklearn.metrics import f1_score, accuracy_score, precision_score, recall_score\n"
   ]
  },
  {
   "cell_type": "code",
   "execution_count": 33,
   "id": "8d86defd-2e75-4ad6-b70e-a32c3edaf400",
   "metadata": {},
   "outputs": [],
   "source": [
    "results_df = pd.DataFrame(columns = ['f1','accuracy','precision','recall'])"
   ]
  },
  {
   "cell_type": "code",
   "execution_count": 35,
   "id": "27ffce10-1eb5-4a02-a4f3-7a61f9123124",
   "metadata": {},
   "outputs": [],
   "source": [
    " # Accuracy, precision, recall, F1\n",
    "    \n",
    "from sklearn.metrics import f1_score, accuracy_score, precision_score, recall_score\n",
    "\n",
    "def calc_results_row(y_pred, y_true, model):\n",
    "    \n",
    "    f1 = f1_score(y_true, y_pred)\n",
    "    acc = accuracy_score(y_true, y_pred)\n",
    "    prec = precision_score(y_true, y_pred)\n",
    "    recall = recall_score(y_true, y_pred)\n",
    "    \n",
    "    row = {'model' : model,\n",
    "           'f1': f1,\n",
    "           'accuracy': acc, \n",
    "           'precision': prec,\n",
    "           'recall': recall}\n",
    "    return row"
   ]
  },
  {
   "cell_type": "code",
   "execution_count": 36,
   "id": "4a4765fe-803a-4c36-becb-42b447ed0efa",
   "metadata": {},
   "outputs": [
    {
     "name": "stderr",
     "output_type": "stream",
     "text": [
      "C:\\Users\\nikig\\anaconda3\\envs\\AutoML\\lib\\site-packages\\sklearn\\metrics\\_classification.py:1318: UndefinedMetricWarning: Precision is ill-defined and being set to 0.0 due to no predicted samples. Use `zero_division` parameter to control this behavior.\n",
      "  _warn_prf(average, modifier, msg_start, len(result))\n"
     ]
    },
    {
     "data": {
      "text/plain": [
       "{'model': 'Baseline',\n",
       " 'f1': 0.0,\n",
       " 'accuracy': 0.8007604292516524,\n",
       " 'precision': 0.0,\n",
       " 'recall': 0.0}"
      ]
     },
     "execution_count": 36,
     "metadata": {},
     "output_type": "execute_result"
    }
   ],
   "source": [
    "y_pred = [0]*len(y_test)\n",
    "y_true = y_test\n",
    "results_row = calc_results_row(y_pred, y_true, 'Baseline')\n",
    "results_row"
   ]
  },
  {
   "cell_type": "code",
   "execution_count": 40,
   "id": "e47e7cca-ccd2-44db-acba-1b0dba10096a",
   "metadata": {},
   "outputs": [
    {
     "data": {
      "text/html": [
       "<div>\n",
       "<style scoped>\n",
       "    .dataframe tbody tr th:only-of-type {\n",
       "        vertical-align: middle;\n",
       "    }\n",
       "\n",
       "    .dataframe tbody tr th {\n",
       "        vertical-align: top;\n",
       "    }\n",
       "\n",
       "    .dataframe thead th {\n",
       "        text-align: right;\n",
       "    }\n",
       "</style>\n",
       "<table border=\"1\" class=\"dataframe\">\n",
       "  <thead>\n",
       "    <tr style=\"text-align: right;\">\n",
       "      <th></th>\n",
       "      <th>f1</th>\n",
       "      <th>accuracy</th>\n",
       "      <th>precision</th>\n",
       "      <th>recall</th>\n",
       "      <th>model</th>\n",
       "    </tr>\n",
       "  </thead>\n",
       "  <tbody>\n",
       "    <tr>\n",
       "      <th>0</th>\n",
       "      <td>0.0</td>\n",
       "      <td>0.80076</td>\n",
       "      <td>0.0</td>\n",
       "      <td>0.0</td>\n",
       "      <td>Baseline</td>\n",
       "    </tr>\n",
       "  </tbody>\n",
       "</table>\n",
       "</div>"
      ],
      "text/plain": [
       "    f1  accuracy  precision  recall     model\n",
       "0  0.0   0.80076        0.0     0.0  Baseline"
      ]
     },
     "execution_count": 40,
     "metadata": {},
     "output_type": "execute_result"
    }
   ],
   "source": [
    "results_df = results_df.append(results_row, ignore_index=True)\n",
    "results_df"
   ]
  },
  {
   "cell_type": "code",
   "execution_count": null,
   "id": "737dd983-ed59-4361-b959-b5808ddf02ce",
   "metadata": {
    "tags": []
   },
   "outputs": [],
   "source": []
  },
  {
   "cell_type": "code",
   "execution_count": null,
   "id": "54dd36d3-bd89-4d99-b7a8-c0de7ac4e8f6",
   "metadata": {},
   "outputs": [],
   "source": []
  },
  {
   "cell_type": "code",
   "execution_count": null,
   "id": "1a937dbe-aaa2-4759-8844-cc0fad548ec1",
   "metadata": {},
   "outputs": [],
   "source": []
  }
 ],
 "metadata": {
  "kernelspec": {
   "display_name": "Python 3 (ipykernel)",
   "language": "python",
   "name": "python3"
  },
  "language_info": {
   "codemirror_mode": {
    "name": "ipython",
    "version": 3
   },
   "file_extension": ".py",
   "mimetype": "text/x-python",
   "name": "python",
   "nbconvert_exporter": "python",
   "pygments_lexer": "ipython3",
   "version": "3.9.7"
  }
 },
 "nbformat": 4,
 "nbformat_minor": 5
}
