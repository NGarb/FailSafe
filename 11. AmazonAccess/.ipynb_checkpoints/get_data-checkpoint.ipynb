{
 "cells": [
  {
   "cell_type": "code",
   "execution_count": 1,
   "id": "d2b19cc3-3abf-4a65-8c4c-f5559af56008",
   "metadata": {},
   "outputs": [],
   "source": [
    "# https://github.com/pyduan/amazonaccess"
   ]
  },
  {
   "cell_type": "markdown",
   "id": "7663a001-0cfb-4b47-bee3-24d43ef9a89e",
   "metadata": {},
   "source": [
    "Working through methodologies and code "
   ]
  },
  {
   "cell_type": "code",
   "execution_count": 2,
   "id": "7a52d2e4-c6ec-4cf6-95c0-50d70a4e6401",
   "metadata": {},
   "outputs": [],
   "source": [
    "project_name = '11. AmazonAccess'\n",
    "base_dir = 'D:/Projects/FailSafe_500/'\n",
    "temp_dir = base_dir + project_name + '/' + 'temp data' + '/'"
   ]
  },
  {
   "cell_type": "code",
   "execution_count": 4,
   "id": "edbdcfe4-990d-483a-9099-ff89061148ee",
   "metadata": {},
   "outputs": [
    {
     "data": {
      "text/plain": [
       "'amazon-employee-access-challenge'"
      ]
     },
     "execution_count": 4,
     "metadata": {},
     "output_type": "execute_result"
    }
   ],
   "source": [
    "dataset_url = 'amazon-employee-access-challenge'\n",
    "dataset_url"
   ]
  },
  {
   "cell_type": "code",
   "execution_count": 11,
   "id": "2ec6917e-dd11-4d32-8f5d-16b49106889d",
   "metadata": {},
   "outputs": [
    {
     "name": "stdout",
     "output_type": "stream",
     "text": [
      "Downloading amazon-employee-access-challenge.zip to D:\\Projects\\FailSafe_500\\11. AmazonAccess\\temp data\n",
      "\n"
     ]
    },
    {
     "name": "stderr",
     "output_type": "stream",
     "text": [
      "\n",
      "  0%|          | 0.00/1.53M [00:00<?, ?B/s]\n",
      " 65%|######5   | 1.00M/1.53M [00:01<00:00, 717kB/s]\n",
      "100%|##########| 1.53M/1.53M [00:02<00:00, 774kB/s]\n",
      "100%|##########| 1.53M/1.53M [00:02<00:00, 762kB/s]\n"
     ]
    }
   ],
   "source": [
    "import os \n",
    "\n",
    "os.mkdir(temp_dir)\n",
    "os.chdir(temp_dir)\n",
    "\n",
    "!kaggle competitions download -c amazon-employee-access-challenge"
   ]
  },
  {
   "cell_type": "code",
   "execution_count": 12,
   "id": "ce0dd1d6-9c8c-45d9-a3da-904957bc431a",
   "metadata": {},
   "outputs": [],
   "source": [
    "zipfile_name = os.listdir()[0]"
   ]
  },
  {
   "cell_type": "code",
   "execution_count": 13,
   "id": "5d30af60-8d25-4c00-9ed0-1e7282198eed",
   "metadata": {},
   "outputs": [],
   "source": [
    "os.chdir(base_dir + '/' + project_name + '/')"
   ]
  },
  {
   "cell_type": "code",
   "execution_count": 14,
   "id": "63a58094-786e-40e3-b2f4-d1361d0c22e2",
   "metadata": {},
   "outputs": [],
   "source": [
    "import zipfile\n",
    "with zipfile.ZipFile(temp_dir + '/' + zipfile_name, \"r\") as z:\n",
    "    z.extractall(temp_dir)\n",
    "os.remove(temp_dir + '/' + zipfile_name)"
   ]
  },
  {
   "cell_type": "code",
   "execution_count": null,
   "id": "1243eebf-9fdf-401a-b463-8a3c8efaefcc",
   "metadata": {},
   "outputs": [],
   "source": []
  }
 ],
 "metadata": {
  "kernelspec": {
   "display_name": "Python 3 (ipykernel)",
   "language": "python",
   "name": "python3"
  },
  "language_info": {
   "codemirror_mode": {
    "name": "ipython",
    "version": 3
   },
   "file_extension": ".py",
   "mimetype": "text/x-python",
   "name": "python",
   "nbconvert_exporter": "python",
   "pygments_lexer": "ipython3",
   "version": "3.9.7"
  }
 },
 "nbformat": 4,
 "nbformat_minor": 5
}
