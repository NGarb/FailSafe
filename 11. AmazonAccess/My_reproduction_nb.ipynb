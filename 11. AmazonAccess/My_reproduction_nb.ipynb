{
 "cells": [
  {
   "cell_type": "markdown",
   "id": "da8cede5-3d2f-4507-aeb5-d8d53a51e52d",
   "metadata": {},
   "source": [
    "### My attemp - minimal reproduction - all in one script "
   ]
  },
  {
   "cell_type": "code",
   "execution_count": 1,
   "id": "b66a0c41-799f-413b-83f4-01a90fd49aaa",
   "metadata": {},
   "outputs": [],
   "source": [
    "import pandas as pd\n",
    "import numpy as np\n",
    "import seaborn as sns\n",
    "import matplotlib.pyplot as plt\n",
    "access_df = pd.read_csv('./data/train.csv')\n",
    "temp_dir = 'D:/Projects/FailSafe_500/11. AmazonAccess/data/'"
   ]
  },
  {
   "cell_type": "code",
   "execution_count": 2,
   "id": "480c1ddd-fd0c-4dcb-92ae-dbb370bfd9fd",
   "metadata": {},
   "outputs": [],
   "source": [
    "from __future__ import division\n",
    "\n",
    "import argparse\n",
    "import logging\n",
    "\n",
    "from sklearn import metrics, linear_model, ensemble\n",
    "from sklearn.model_selection import train_test_split\n",
    "import ml\n",
    "import diagnostics\n",
    "from data import load_data, save_results\n",
    "from feature_extraction import create_datasets\n"
   ]
  },
  {
   "cell_type": "code",
   "execution_count": 3,
   "id": "28ed3bbc-3874-4113-8cb9-702b67c64794",
   "metadata": {},
   "outputs": [],
   "source": [
    "y = pd.read_csv(temp_dir+'train.csv')['ACTION']\n",
    "X = pd.read_csv(temp_dir+'train.csv').drop(['ACTION'],axis=1)\n",
    "X_test = pd.read_csv(temp_dir+'test.csv').drop(['id'],axis=1)"
   ]
  },
  {
   "cell_type": "markdown",
   "id": "4c1375ad-4468-496b-854f-51248042c15b",
   "metadata": {},
   "source": [
    "#### New technique learned to initialize a whole bunch of models and corresponding datasets at once"
   ]
  },
  {
   "cell_type": "code",
   "execution_count": 4,
   "id": "365796a8-f7ee-46d9-ade4-644798db86d3",
   "metadata": {},
   "outputs": [],
   "source": [
    "selected_models = [\n",
    "                    \"LR:tuples_sf\",\n",
    "                    \"LR:greedy_sfl\",\n",
    "                    \"LR:greedy2_sfl\",\n",
    "                    \"LR:greedy3_sf\",\n",
    "                    \"RFC:basic_b\",\n",
    "                    \"RFC:tuples_f\",\n",
    "                    \"RFC:tuples_fd\",\n",
    "                    \"RFC:greedy_f\",\n",
    "                    \"RFC:greedy2_f\",\n",
    "                    \"GBC:basic_f\",\n",
    "                    \"GBC:tuples_f\",\n",
    "                    \"LR:greedy_sbl\",\n",
    "                    \"GBC:greedy_c\",\n",
    "                    \"GBC:tuples_cf\",\n",
    "                ]\n",
    "\n",
    "models = []\n",
    "\n",
    "for item in selected_models:\n",
    "    model_id, dataset = item.split(':')\n",
    "    # instantiating models (with datasets)\n",
    "    model = {'LR': linear_model.LogisticRegression,\n",
    "             'GBC': ensemble.GradientBoostingClassifier,\n",
    "             'RFC': ensemble.RandomForestClassifier,\n",
    "             'ETC': ensemble.ExtraTreesClassifier}[model_id]() #I have never seen this done before.\n",
    "    model.set_params(random_state=42)\n",
    "    models.append((model, dataset))\n",
    "\n",
    "datasets = [dataset for model, dataset in models]\n"
   ]
  },
  {
   "cell_type": "code",
   "execution_count": 8,
   "id": "33a0b9c4-f86c-4a00-bed3-1aba083fb79d",
   "metadata": {},
   "outputs": [
    {
     "data": {
      "text/html": [
       "<div>\n",
       "<style scoped>\n",
       "    .dataframe tbody tr th:only-of-type {\n",
       "        vertical-align: middle;\n",
       "    }\n",
       "\n",
       "    .dataframe tbody tr th {\n",
       "        vertical-align: top;\n",
       "    }\n",
       "\n",
       "    .dataframe thead th {\n",
       "        text-align: right;\n",
       "    }\n",
       "</style>\n",
       "<table border=\"1\" class=\"dataframe\">\n",
       "  <thead>\n",
       "    <tr style=\"text-align: right;\">\n",
       "      <th></th>\n",
       "      <th>0</th>\n",
       "      <th>1</th>\n",
       "      <th>2</th>\n",
       "      <th>3</th>\n",
       "      <th>4</th>\n",
       "      <th>5</th>\n",
       "      <th>6</th>\n",
       "      <th>7</th>\n",
       "      <th>8</th>\n",
       "      <th>9</th>\n",
       "      <th>10</th>\n",
       "      <th>11</th>\n",
       "      <th>12</th>\n",
       "      <th>13</th>\n",
       "    </tr>\n",
       "  </thead>\n",
       "  <tbody>\n",
       "    <tr>\n",
       "      <th>0</th>\n",
       "      <td>tuples_sf</td>\n",
       "      <td>greedy_sfl</td>\n",
       "      <td>greedy2_sfl</td>\n",
       "      <td>greedy3_sf</td>\n",
       "      <td>basic_b</td>\n",
       "      <td>tuples_f</td>\n",
       "      <td>tuples_fd</td>\n",
       "      <td>greedy_f</td>\n",
       "      <td>greedy2_f</td>\n",
       "      <td>basic_f</td>\n",
       "      <td>tuples_f</td>\n",
       "      <td>greedy_sbl</td>\n",
       "      <td>greedy_c</td>\n",
       "      <td>tuples_cf</td>\n",
       "    </tr>\n",
       "  </tbody>\n",
       "</table>\n",
       "</div>"
      ],
      "text/plain": [
       "          0           1            2           3        4         5   \\\n",
       "0  tuples_sf  greedy_sfl  greedy2_sfl  greedy3_sf  basic_b  tuples_f   \n",
       "\n",
       "          6         7          8        9         10          11        12  \\\n",
       "0  tuples_fd  greedy_f  greedy2_f  basic_f  tuples_f  greedy_sbl  greedy_c   \n",
       "\n",
       "          13  \n",
       "0  tuples_cf  "
      ]
     },
     "execution_count": 8,
     "metadata": {},
     "output_type": "execute_result"
    }
   ],
   "source": [
    "pd.DataFrame(datasets).T"
   ]
  },
  {
   "cell_type": "markdown",
   "id": "12384188-0229-4a16-a7dd-da96f31d063c",
   "metadata": {},
   "source": [
    "#### Now the various datasets are created. \n",
    "\n",
    "There is a scheme to write each of the separate datasets into pickles etc etc but here I will try to take the bare-bones and implement in one script"
   ]
  },
  {
   "cell_type": "code",
   "execution_count": 16,
   "id": "9d1108d7-731a-4f16-b5dc-1b33fbfd88d3",
   "metadata": {},
   "outputs": [],
   "source": [
    "# feature generation\n",
    "\n",
    "COLNAMES = [\"resource\", \"manager\", \"role1\", \"role2\", \"department\",\n",
    "            \"title\", \"family_desc\", \"family\"]\n",
    "\n",
    "dictionaries = []\n",
    "\n",
    "for i in range(len(COLNAMES)):\n",
    "    dictionaries.append({'total': 0})\n",
    "\n",
    "for i, row_vals_list in enumerate(X.values): \n",
    "    \n",
    "    for col in range(len(COLNAMES)):\n",
    "        dictionaries[col]['total'] += 1\n",
    "        if row_vals_list[col] not in dictionaries[col]:\n",
    "            dictionaries[col][row_vals_list[col]] = {'total': 1}\n",
    "            for k, key in enumerate(COLNAMES):                        \n",
    "                    dictionaries[col][row_vals_list[col]][key] = {row_vals_list[k]: 1}\n",
    "        else:\n",
    "            dictionaries[col][row_vals_list[col]]['total'] += 1\n",
    "            for k, key in enumerate(COLNAMES):\n",
    "                if row_vals_list[k] not in dictionaries[col][row_vals_list[col]][key]:\n",
    "                    dictionaries[col][row_vals_list[col]][key][row_vals_list[k]] = 1\n",
    "                else:\n",
    "                    dictionaries[col][row_vals_list[col]][key][row_vals_list[k]] += 1\n"
   ]
  },
  {
   "cell_type": "code",
   "execution_count": 45,
   "id": "fca12dee-48e4-44d5-ae10-f98191bb717c",
   "metadata": {},
   "outputs": [
    {
     "name": "stdout",
     "output_type": "stream",
     "text": [
      "85475\n"
     ]
    },
    {
     "data": {
      "text/plain": [
       "3"
      ]
     },
     "execution_count": 45,
     "metadata": {},
     "output_type": "execute_result"
    }
   ],
   "source": [
    "j = 1\n",
    "row = X.iloc[0]\n",
    "print(row[j]) # row 0 col 1\n",
    "x = dictionaries[j][row[j]] # dictionary entry for row 0 col 1 -- this is all the value_counts of other vals where val == row0/col1\n",
    "x[COLNAMES[0]]#.get(row[0], 0) if j > 0 and j < 7 else 0\n",
    "x[COLNAMES[0]].get(row[0], 0) if j > 0 and j < 7 else 0"
   ]
  },
  {
   "cell_type": "code",
   "execution_count": 23,
   "id": "6de2efba-7655-4a9d-9997-5e4619b25fe9",
   "metadata": {},
   "outputs": [
    {
     "data": {
      "text/plain": [
       "4244"
      ]
     },
     "execution_count": 23,
     "metadata": {},
     "output_type": "execute_result"
    }
   ],
   "source": [
    "len(dictionaries[1].keys())"
   ]
  },
  {
   "cell_type": "code",
   "execution_count": 33,
   "id": "9089462f-fb14-4ea6-b473-8d7e965088a9",
   "metadata": {
    "tags": []
   },
   "outputs": [
    {
     "data": {
      "text/plain": [
       "4243"
      ]
     },
     "execution_count": 33,
     "metadata": {},
     "output_type": "execute_result"
    }
   ],
   "source": [
    "len(X['MGR_ID'].unique())"
   ]
  },
  {
   "cell_type": "code",
   "execution_count": 34,
   "id": "508ffe1d-ee9e-4a2a-bb20-33c7d614499d",
   "metadata": {},
   "outputs": [
    {
     "data": {
      "text/plain": [
       "770     152\n",
       "2270     99\n",
       "2594     82\n",
       "1350     71\n",
       "2014     67\n",
       "Name: MGR_ID, dtype: int64"
      ]
     },
     "execution_count": 34,
     "metadata": {},
     "output_type": "execute_result"
    }
   ],
   "source": [
    "X['MGR_ID'].value_counts().head()"
   ]
  },
  {
   "cell_type": "code",
   "execution_count": 37,
   "id": "b13a5c6c-95ad-4f1f-9d70-db1ec63c1a66",
   "metadata": {},
   "outputs": [
    {
     "data": {
      "text/plain": [
       "732       5\n",
       "19802     4\n",
       "915       4\n",
       "34583     4\n",
       "40729     4\n",
       "         ..\n",
       "43906     1\n",
       "837       1\n",
       "23867     1\n",
       "37793     1\n",
       "103867    1\n",
       "Name: RESOURCE, Length: 97, dtype: int64"
      ]
     },
     "execution_count": 37,
     "metadata": {},
     "output_type": "execute_result"
    }
   ],
   "source": [
    "X[X['MGR_ID']==770]['RESOURCE'].value_counts()"
   ]
  },
  {
   "cell_type": "code",
   "execution_count": 35,
   "id": "7a5557e9-108d-46c8-99bb-0500580f6ede",
   "metadata": {},
   "outputs": [
    {
     "data": {
      "text/plain": [
       "{'total': 152,\n",
       " 'resource': {3069: 3,\n",
       "  15007: 1,\n",
       "  915: 4,\n",
       "  3066: 1,\n",
       "  24885: 1,\n",
       "  14912: 1,\n",
       "  20732: 3,\n",
       "  34583: 4,\n",
       "  16082: 1,\n",
       "  34580: 2,\n",
       "  45519: 1,\n",
       "  80877: 2,\n",
       "  19722: 2,\n",
       "  80555: 1,\n",
       "  919: 2,\n",
       "  75519: 2,\n",
       "  20731: 1,\n",
       "  80721: 1,\n",
       "  6977: 2,\n",
       "  34581: 3,\n",
       "  42608: 2,\n",
       "  741: 1,\n",
       "  732: 5,\n",
       "  4673: 1,\n",
       "  23867: 1,\n",
       "  34236: 1,\n",
       "  42015: 2,\n",
       "  34700: 3,\n",
       "  18231: 1,\n",
       "  40058: 1,\n",
       "  29303: 1,\n",
       "  44812: 2,\n",
       "  917: 1,\n",
       "  52688: 3,\n",
       "  42610: 1,\n",
       "  80483: 1,\n",
       "  692: 1,\n",
       "  15728: 1,\n",
       "  16070: 3,\n",
       "  25993: 1,\n",
       "  31200: 1,\n",
       "  4675: 3,\n",
       "  33896: 1,\n",
       "  37260: 1,\n",
       "  111102: 1,\n",
       "  35708: 3,\n",
       "  40729: 4,\n",
       "  941: 3,\n",
       "  42304: 2,\n",
       "  45904: 1,\n",
       "  34716: 2,\n",
       "  19802: 4,\n",
       "  42611: 1,\n",
       "  18254: 1,\n",
       "  80695: 1,\n",
       "  80487: 2,\n",
       "  79092: 1,\n",
       "  34584: 3,\n",
       "  43906: 1,\n",
       "  74646: 2,\n",
       "  837: 1,\n",
       "  46022: 1,\n",
       "  37793: 1,\n",
       "  16431: 1,\n",
       "  79694: 1,\n",
       "  22328: 1,\n",
       "  80906: 1,\n",
       "  31044: 3,\n",
       "  3716: 2,\n",
       "  23164: 1,\n",
       "  74101: 1,\n",
       "  83217: 1,\n",
       "  740: 1,\n",
       "  71439: 1,\n",
       "  20312: 1,\n",
       "  79363: 3,\n",
       "  42612: 1,\n",
       "  81250: 1,\n",
       "  40062: 1,\n",
       "  976: 1,\n",
       "  18229: 1,\n",
       "  673: 2,\n",
       "  42199: 1,\n",
       "  22679: 1,\n",
       "  34579: 1,\n",
       "  44528: 1,\n",
       "  36237: 1,\n",
       "  44305: 1,\n",
       "  28581: 1,\n",
       "  17825: 1,\n",
       "  34005: 1,\n",
       "  43450: 1,\n",
       "  974: 1,\n",
       "  40061: 1,\n",
       "  16985: 1,\n",
       "  33632: 1,\n",
       "  103867: 1},\n",
       " 'manager': {770: 152},\n",
       " 'role1': {117961: 152},\n",
       " 'role2': {118300: 131, 118343: 21},\n",
       " 'department': {119181: 100, 120722: 39, 118437: 13},\n",
       " 'title': {118451: 82,\n",
       "  118747: 26,\n",
       "  128230: 17,\n",
       "  121594: 15,\n",
       "  118054: 3,\n",
       "  179731: 5,\n",
       "  119346: 4},\n",
       " 'family_desc': {130134: 99,\n",
       "  142600: 9,\n",
       "  302830: 28,\n",
       "  127596: 8,\n",
       "  118054: 3,\n",
       "  133969: 5},\n",
       " 'family': {118453: 108, 4673: 36, 117887: 8}}"
      ]
     },
     "execution_count": 35,
     "metadata": {},
     "output_type": "execute_result"
    }
   ],
   "source": [
    "dictionaries[1][770]"
   ]
  },
  {
   "cell_type": "code",
   "execution_count": null,
   "id": "5e181460-8924-4fc8-874e-2d73f2cd987f",
   "metadata": {},
   "outputs": [],
   "source": []
  }
 ],
 "metadata": {
  "kernelspec": {
   "display_name": "Python 3 (ipykernel)",
   "language": "python",
   "name": "python3"
  },
  "language_info": {
   "codemirror_mode": {
    "name": "ipython",
    "version": 3
   },
   "file_extension": ".py",
   "mimetype": "text/x-python",
   "name": "python",
   "nbconvert_exporter": "python",
   "pygments_lexer": "ipython3",
   "version": "3.9.7"
  }
 },
 "nbformat": 4,
 "nbformat_minor": 5
}
