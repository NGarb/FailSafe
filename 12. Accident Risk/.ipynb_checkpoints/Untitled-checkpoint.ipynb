{
 "cells": [
  {
   "cell_type": "code",
   "execution_count": 1,
   "id": "4ef3a685-a617-4192-9fb1-2cc5f16d37d1",
   "metadata": {},
   "outputs": [
    {
     "name": "stderr",
     "output_type": "stream",
     "text": [
      "C:\\Users\\nikig\\anaconda3\\envs\\AutoML\\lib\\site-packages\\xgboost\\compat.py:36: FutureWarning: pandas.Int64Index is deprecated and will be removed from pandas in a future version. Use pandas.Index with the appropriate dtype instead.\n",
      "  from pandas import MultiIndex, Int64Index\n"
     ]
    }
   ],
   "source": [
    "from xgboost import XGBRegressor\n",
    "\n",
    "#model.save_model('GridSearch_XGBoost_mdl')"
   ]
  },
  {
   "cell_type": "code",
   "execution_count": 2,
   "id": "e955fd25-d103-4346-871f-5d0374fd6a2e",
   "metadata": {},
   "outputs": [],
   "source": [
    "xgb = XGBRegressor(tree_method = \"gpu_hist\",single_precision_histogram=True, gpu_id=0)\n"
   ]
  },
  {
   "cell_type": "code",
   "execution_count": null,
   "id": "132dfa32-1013-4597-9128-cc8789c3acc0",
   "metadata": {},
   "outputs": [],
   "source": [
    "bst = xgb.Booster({'nthread': 4})  # init model\n",
    "bst.load_model('model.bin')  # load data\n"
   ]
  }
 ],
 "metadata": {
  "kernelspec": {
   "display_name": "Python 3 (ipykernel)",
   "language": "python",
   "name": "python3"
  },
  "language_info": {
   "codemirror_mode": {
    "name": "ipython",
    "version": 3
   },
   "file_extension": ".py",
   "mimetype": "text/x-python",
   "name": "python",
   "nbconvert_exporter": "python",
   "pygments_lexer": "ipython3",
   "version": "3.9.7"
  }
 },
 "nbformat": 4,
 "nbformat_minor": 5
}
