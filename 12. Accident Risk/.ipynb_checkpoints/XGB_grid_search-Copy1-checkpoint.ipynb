{
 "cells": [
  {
   "cell_type": "code",
   "execution_count": 4,
   "id": "8be146b4-2fe5-4c23-ad93-b6df3ea7682f",
   "metadata": {},
   "outputs": [],
   "source": [
    "#backward difference encoder\n",
    "import numpy as np \n",
    "import pandas as pd\n",
    "import seaborn as sns\n",
    "import matplotlib.pyplot as plt\n",
    "import numpy as np \n",
    "import seaborn as sns \n",
    "import pandas as pd\n",
    "import matplotlib.pyplot as plt\n",
    "from sklearn.pipeline import Pipeline\n",
    "from sklearn.preprocessing import OneHotEncoder, StandardScaler\n",
    "from sklearn.compose import ColumnTransformer\n",
    "from sklearn.metrics import mean_squared_error as mse\n",
    "from sklearn.model_selection import train_test_split\n",
    "from sklearn.impute import SimpleImputer\n",
    "from sklearn.model_selection import GridSearchCV, KFold, train_test_split\n",
    "from yellowbrick.regressor import residuals_plot, prediction_error\n",
    "from fast_ml.model_development import train_valid_test_split\n",
    "from hyperopt import STATUS_OK, Trials, fmin, hp, tpe\n",
    "from tpot import TPOTRegressor\n",
    "import category_encoders as ce\n",
    "import time\n",
    "from xgboost import XGBRegressor\n",
    "import warnings\n",
    "encoders = {\n",
    "\n",
    "    'BackwardDifferenceEncoder': ce.backward_difference.BackwardDifferenceEncoder,\n",
    "    'OneHotEncoder': ce.one_hot.OneHotEncoder,\n",
    "    \n",
    "}\n"
   ]
  },
  {
   "cell_type": "markdown",
   "id": "93e6f6a3-fe64-45e1-98a6-9e8fb8dcee60",
   "metadata": {},
   "source": [
    "# PREPROC"
   ]
  },
  {
   "cell_type": "code",
   "execution_count": 5,
   "id": "7334169a-c423-42b9-8b78-b8bf42bbee88",
   "metadata": {},
   "outputs": [],
   "source": [
    "pop_df = pd.read_csv('./Participants_dataset/population.csv')\n",
    "roads_df = pd.read_csv('./Participants_dataset/roads_network.csv')\n",
    "train_df = pd.read_csv('./Participants_dataset/train.csv')"
   ]
  },
  {
   "cell_type": "code",
   "execution_count": 6,
   "id": "b3c90ad1-b621-4ef2-8e5f-4cab1b8085ea",
   "metadata": {},
   "outputs": [
    {
     "data": {
      "text/plain": [
       "(478741, 27)"
      ]
     },
     "execution_count": 6,
     "metadata": {},
     "output_type": "execute_result"
    }
   ],
   "source": [
    "train_df.shape"
   ]
  },
  {
   "cell_type": "code",
   "execution_count": 7,
   "id": "9d32955c-35cd-4899-83f9-ef448c25994c",
   "metadata": {},
   "outputs": [],
   "source": [
    "roads_numeric_features = roads_df.select_dtypes([np.number]).columns\n",
    "roads_categorical_features = roads_df.select_dtypes(exclude=[np.number]).drop(['WKT','postcode'],axis=1).columns\n",
    "# overwrite roads df for mem\n",
    "roads_df = pd.concat([pd.get_dummies(roads_df[roads_categorical_features]),roads_df.drop(roads_categorical_features,axis=1)],axis=1)"
   ]
  },
  {
   "cell_type": "code",
   "execution_count": 8,
   "id": "c97e4800-298e-4416-9acf-b61e0edf6c6d",
   "metadata": {},
   "outputs": [],
   "source": [
    "roads_features_df = pd.concat([roads_df.drop('WKT',axis=1).groupby('postcode').agg(sum),roads_df.drop('WKT',axis=1).groupby('postcode').agg(np.nanmean)],axis=1)\n",
    "roads_features_df.columns = [x+'_sum' if i >= 12 else x+'_mean' for i,x in enumerate(roads_features_df.columns)]"
   ]
  },
  {
   "cell_type": "code",
   "execution_count": 9,
   "id": "69a7d6f1-ba9e-49d1-b101-4df147c0ac25",
   "metadata": {},
   "outputs": [],
   "source": [
    "pop_df = pop_df.drop(['Rural Urban'],axis=1)\n"
   ]
  },
  {
   "cell_type": "code",
   "execution_count": 10,
   "id": "13f913a6-7841-447f-9f4a-7dbb3c8f1301",
   "metadata": {},
   "outputs": [],
   "source": [
    "train_df = train_df.drop('country',axis=1)"
   ]
  },
  {
   "cell_type": "code",
   "execution_count": 11,
   "id": "2915d95e-37e4-4c6b-b672-742c786407ac",
   "metadata": {},
   "outputs": [],
   "source": [
    "train_roads_df = train_df.set_index('postcode').join(roads_features_df, how= 'left')"
   ]
  },
  {
   "cell_type": "code",
   "execution_count": 12,
   "id": "1c3b4d95-7848-48f6-a329-bb7b3e619459",
   "metadata": {},
   "outputs": [
    {
     "name": "stdout",
     "output_type": "stream",
     "text": [
      "28752\n"
     ]
    }
   ],
   "source": [
    "print((~train_roads_df.roadClassi_Motorway_mean.isnull()).sum())\n",
    "inds_where_null = np.where(train_roads_df.roadFuncti_Motorway_sum.isnull())\n",
    "inds_where_not_null = np.where(train_roads_df.roadFuncti_Motorway_sum.notnull())\n",
    "# inds where null fill with post town"
   ]
  },
  {
   "cell_type": "code",
   "execution_count": 13,
   "id": "a61f6971-7fa6-41b1-ac80-38968e833a7e",
   "metadata": {},
   "outputs": [],
   "source": [
    "roads_features_df['post_town'] = list(pd.Series(roads_features_df.index).str.upper().apply(lambda row_str: row_str.split(' ')[0]))"
   ]
  },
  {
   "cell_type": "code",
   "execution_count": 14,
   "id": "0a7733e8-5b4a-4dbb-8b4d-16d2e56ebeca",
   "metadata": {},
   "outputs": [],
   "source": [
    "roads_town_df = roads_features_df.groupby('post_town').agg(np.nanmean)"
   ]
  },
  {
   "cell_type": "code",
   "execution_count": 15,
   "id": "453d5fd6-8f66-48b6-bb88-05dc43b4eeed",
   "metadata": {},
   "outputs": [],
   "source": [
    "train_df['post_town'] = train_df.postcode.apply(lambda row_str: row_str.split(' ')[0])\n",
    "post_code_level_df = train_df.iloc[inds_where_null].set_index('post_town').join(roads_town_df, how='left')\n",
    "post_town_level_df = train_roads_df.iloc[inds_where_not_null]\n",
    "train_enriched_df = pd.concat([post_code_level_df, post_town_level_df],axis=0)"
   ]
  },
  {
   "cell_type": "code",
   "execution_count": 16,
   "id": "68d64aff-4d89-41b2-af44-1d8232c1fb56",
   "metadata": {},
   "outputs": [],
   "source": [
    "pop_df['post_town'] = pop_df.postcode.apply(lambda row_str: row_str.split(' ')[0])  \n"
   ]
  },
  {
   "cell_type": "code",
   "execution_count": 17,
   "id": "cb76c79d-1155-4c85-9e16-3990ba575621",
   "metadata": {},
   "outputs": [],
   "source": [
    "train_enriched_df = train_enriched_df.join(pop_df.groupby('post_town').agg(np.nanmean),how='left')"
   ]
  },
  {
   "cell_type": "code",
   "execution_count": 19,
   "id": "f3a4c9da-75c4-440b-ab65-40f7bf35ea01",
   "metadata": {},
   "outputs": [],
   "source": [
    "#train_enriched_df = train_enriched_df.drop(['post_town', 'postcode'],axis=1)\n",
    "train_enriched_df = train_enriched_df.drop([ 'postcode'],axis=1)"
   ]
  },
  {
   "cell_type": "code",
   "execution_count": 20,
   "id": "8dddc99e-e2c5-4d92-b911-ea7debf5842b",
   "metadata": {},
   "outputs": [],
   "source": [
    "mean_fill = train_enriched_df.iloc[:,-8:].columns\n",
    "mode_fill = train_enriched_df.iloc[:,:-8].columns\n",
    "from sklearn.impute import SimpleImputer\n",
    "\n",
    "mode_imputer = SimpleImputer(strategy='most_frequent')\n",
    "train_enriched_df[mode_fill] = mode_imputer.fit_transform(train_enriched_df[mode_fill])\n",
    "mean_imputer = SimpleImputer(strategy='mean')\n",
    "train_enriched_df[mean_fill] = mean_imputer.fit_transform(train_enriched_df[mean_fill])"
   ]
  },
  {
   "cell_type": "code",
   "execution_count": 21,
   "id": "a5b3bb9f-7038-43bf-9a37-c7bf595ed9aa",
   "metadata": {},
   "outputs": [],
   "source": [
    "train_enriched_df['month_of_year'] = pd.to_datetime(train_enriched_df.Date).dt.month\n",
    "train_enriched_df['day_of_month'] = pd.to_datetime(train_enriched_df.Date).dt.day\n",
    "train_enriched_df = train_enriched_df.drop(['Date'],axis=1)"
   ]
  },
  {
   "cell_type": "code",
   "execution_count": 22,
   "id": "5bf8069e-30dd-4b03-a7dd-989d8ac5a306",
   "metadata": {},
   "outputs": [],
   "source": [
    "train_enriched_df['Time'] = train_enriched_df.Time.apply(lambda row: row.replace(':',''))"
   ]
  },
  {
   "cell_type": "code",
   "execution_count": 23,
   "id": "09845458-b04f-4aa4-aba1-87d91c47311b",
   "metadata": {},
   "outputs": [],
   "source": [
    "cat_cols = []\n",
    "num_cols = list(train_enriched_df.select_dtypes([np.number]).columns)\n",
    "for col in train_enriched_df.select_dtypes(exclude=[np.number]).columns:\n",
    "    if (~train_enriched_df[col].astype(str).apply(lambda row: row.replace('.','').replace('-','').isdigit())).sum() != 0:\n",
    "        cat_cols.append(col)\n",
    "    else:\n",
    "        num_cols.append(col)"
   ]
  },
  {
   "cell_type": "code",
   "execution_count": 24,
   "id": "023122f7-f1a0-4734-8975-c4e39cd52ee9",
   "metadata": {},
   "outputs": [
    {
     "data": {
      "text/plain": [
       "'distance to the nearest point on rd_mean'"
      ]
     },
     "execution_count": 24,
     "metadata": {},
     "output_type": "execute_result"
    }
   ],
   "source": [
    "[num_cols.append(x) for x in cat_cols[-2:]]\n",
    "cat_cols.pop(-1)\n",
    "cat_cols.pop(-1)\n",
    " "
   ]
  },
  {
   "cell_type": "code",
   "execution_count": 25,
   "id": "b7ffe72a-9ccd-43c7-95e8-4eaa2b7d7ec9",
   "metadata": {},
   "outputs": [],
   "source": [
    "# target\n",
    "grouped = train_enriched_df.groupby('Accident_ID')\n",
    "\n",
    "Accident_Risk_Index = grouped.Number_of_Casualties.transform(lambda x: (x) / len(x))\n"
   ]
  },
  {
   "cell_type": "markdown",
   "id": "1199d683-0eed-46a2-8952-5b8e0041f5e7",
   "metadata": {},
   "source": [
    "# MODEL"
   ]
  },
  {
   "cell_type": "code",
   "execution_count": 26,
   "id": "5c5d5403-05a1-4485-9a17-93394b2d2621",
   "metadata": {},
   "outputs": [],
   "source": [
    "import os \n",
    "current_dir = os.getcwd()\n",
    "os.chdir('..')\n",
    "from Utils.Metrics import regression as reg_metrics\n",
    "os.chdir(current_dir)"
   ]
  },
  {
   "cell_type": "code",
   "execution_count": 27,
   "id": "f3c6d851-e69d-486a-b7c9-efdb4d41814e",
   "metadata": {},
   "outputs": [],
   "source": [
    "results_df = pd.DataFrame(columns = ['model','rmse','r2','mape'])"
   ]
  },
  {
   "cell_type": "code",
   "execution_count": 28,
   "id": "4a0caf78-4e0c-4f62-9f90-8c3b84930180",
   "metadata": {},
   "outputs": [],
   "source": [
    "numeric_features = num_cols\n",
    "\n",
    "categorical_features = cat_cols\n",
    "\n",
    "max_levels = round(train_enriched_df.columns.shape[0]*0.4)\n",
    "cats_many = []\n",
    "cats_few = []\n",
    "for ft in categorical_features:\n",
    "    levels = train_enriched_df[ft].unique().shape[0]\n",
    "    if levels > max_levels:\n",
    "        cats_many.append(ft)\n",
    "    else:\n",
    "        cats_few.append(ft)\n",
    "        \n",
    "\n",
    "X = train_enriched_df\n",
    "y = list(Accident_Risk_Index)\n",
    "\n",
    "y = np.log(y)\n",
    "\n",
    "X_train, X_test_tmp, y_train, y_test_tmp = train_test_split(X, y, test_size=0.3)\n",
    "X_val, X_test, y_val, y_test = train_test_split(X_test_tmp, y_test_tmp, test_size=0.5)\n",
    "\n",
    "del X_test_tmp, y_test_tmp\n",
    "\n",
    "selected_model = XGBRegressor(tree_method = \"gpu_hist\",single_precision_histogram=True, gpu_id=0)\n",
    "\n",
    "\n",
    "categorical_transformer_many_level = Pipeline(\n",
    "    steps=[\n",
    "        ('imputer', SimpleImputer(strategy='constant', fill_value='missing')),\n",
    "        ('encoder', encoders['BackwardDifferenceEncoder']())\n",
    "    ]\n",
    ")    \n",
    "\n",
    "categorical_transformer = Pipeline(\n",
    "    steps=[\n",
    "        ('imputer', SimpleImputer(strategy='constant', fill_value='missing')),\n",
    "        ('encoder', encoders['OneHotEncoder']())\n",
    "    ]\n",
    ") \n",
    "\n",
    "numeric_transformer = Pipeline(\n",
    "    steps=[\n",
    "        ('imputer', SimpleImputer(strategy='mean')),\n",
    "        ('scaler', StandardScaler())\n",
    "    ]\n",
    ")\n",
    "\n",
    "preprocessor = ColumnTransformer(\n",
    "    transformers=[\n",
    "        ('numerical', numeric_transformer, numeric_features),\n",
    "        ('categorical_many', categorical_transformer_many_level, cats_many),\n",
    "        ('categorical', categorical_transformer, cats_few)\n",
    "    ]\n",
    ")\n"
   ]
  },
  {
   "cell_type": "code",
   "execution_count": 29,
   "id": "251dc98a-d768-4938-9be3-40740d4985cc",
   "metadata": {},
   "outputs": [],
   "source": [
    "preprocessor.fit(X_train, y_train)\n",
    "X_train_prc = preprocessor.transform(X_train)\n",
    "X_val_prc = preprocessor.transform(X_val)\n",
    "X_test_prc = preprocessor.transform(X_test)\n",
    "evalset = [(X_train_prc, y_train), (X_val_prc,y_val)]"
   ]
  },
  {
   "cell_type": "code",
   "execution_count": 30,
   "id": "2708b2a5-1080-432c-b484-10fbd1d4b5b0",
   "metadata": {},
   "outputs": [
    {
     "name": "stdout",
     "output_type": "stream",
     "text": [
      "Best: -0.166230 using {'learning_rate': 0.03, 'max_depth': 9, 'n_estimators': 1500}\n",
      "17711.0593419075\n"
     ]
    }
   ],
   "source": [
    "# BASIC TUNE PARAMS \n",
    "\n",
    "start_time=time.time()\n",
    "\n",
    "# grid search\n",
    "xgb_reg = XGBRegressor(tree_method = \"gpu_hist\",single_precision_histogram=True, gpu_id=0)\n",
    "\n",
    "param_grid = {\n",
    "        'max_depth': [6, 9, 12],\n",
    "        'learning_rate': [0.03, 0.05, 0.07],\n",
    "        'n_estimators':[1500, 1800, 2100],\n",
    "                               }\n",
    "\n",
    "kfold = KFold(n_splits=5, shuffle=True, random_state=10)\n",
    "grid_search = GridSearchCV(xgb_reg, param_grid, scoring=\"neg_root_mean_squared_error\", cv=kfold)\n",
    "grid_result = grid_search.fit(X_train_prc, y_train, verbose=0, evalset=evalset)\n",
    "\n",
    "# summarize results\n",
    "print(\"Best: %f using %s\" % (grid_result.best_score_, grid_result.best_params_))\n",
    "means = grid_result.cv_results_[ 'mean_test_score' ]\n",
    "stds = grid_result.cv_results_[ 'std_test_score' ]\n",
    "params = grid_result.cv_results_[ 'params' ]\n",
    "\n",
    "print(time.time()-start_time)"
   ]
  },
  {
   "cell_type": "code",
   "execution_count": 31,
   "id": "f49018b8-39ad-41f4-9e54-a097b991afc8",
   "metadata": {},
   "outputs": [],
   "source": [
    "model = XGBRegressor(tree_method = \"gpu_hist\",single_precision_histogram=True, gpu_id=0, **grid_result.best_params_)\n",
    "model.fit(X_train_prc,y_train)\n",
    "y_pred = model.predict(X_test_prc)"
   ]
  },
  {
   "cell_type": "code",
   "execution_count": 32,
   "id": "d8ba251d-c66e-47ca-a07d-813767d4d956",
   "metadata": {},
   "outputs": [
    {
     "data": {
      "text/html": [
       "<div>\n",
       "<style scoped>\n",
       "    .dataframe tbody tr th:only-of-type {\n",
       "        vertical-align: middle;\n",
       "    }\n",
       "\n",
       "    .dataframe tbody tr th {\n",
       "        vertical-align: top;\n",
       "    }\n",
       "\n",
       "    .dataframe thead th {\n",
       "        text-align: right;\n",
       "    }\n",
       "</style>\n",
       "<table border=\"1\" class=\"dataframe\">\n",
       "  <thead>\n",
       "    <tr style=\"text-align: right;\">\n",
       "      <th></th>\n",
       "      <th>model</th>\n",
       "      <th>rmse</th>\n",
       "      <th>r2</th>\n",
       "      <th>mape</th>\n",
       "    </tr>\n",
       "  </thead>\n",
       "  <tbody>\n",
       "    <tr>\n",
       "      <th>0</th>\n",
       "      <td>GridSearchCV XGBReg</td>\n",
       "      <td>0.198924</td>\n",
       "      <td>0.93387</td>\n",
       "      <td>7.165031</td>\n",
       "    </tr>\n",
       "  </tbody>\n",
       "</table>\n",
       "</div>"
      ],
      "text/plain": [
       "                 model      rmse       r2      mape\n",
       "0  GridSearchCV XGBReg  0.198924  0.93387  7.165031"
      ]
     },
     "execution_count": 32,
     "metadata": {},
     "output_type": "execute_result"
    }
   ],
   "source": [
    "pred = np.exp(y_pred)\n",
    "y_val_s = np.exp(y_test)\n",
    "res_row_obj = reg_metrics.calc_results(pred, y_val_s,'GridSearchCV XGBReg')\n",
    "row = res_row_obj.calc_results_row()\n",
    "results_df = results_df.append(row,ignore_index=True)\n",
    "results_df"
   ]
  },
  {
   "cell_type": "code",
   "execution_count": 35,
   "id": "3c7032bd-c450-4d67-8044-b18ba29ac9ca",
   "metadata": {},
   "outputs": [
    {
     "data": {
      "text/plain": [
       "{'learning_rate': 0.03, 'max_depth': 9, 'n_estimators': 1500}"
      ]
     },
     "execution_count": 35,
     "metadata": {},
     "output_type": "execute_result"
    }
   ],
   "source": [
    "grid_result.best_params_ #{'learning_rate': 0.03, 'max_depth': 9, 'n_estimators': 1500}"
   ]
  },
  {
   "cell_type": "markdown",
   "id": "a6a9c102-068b-40cb-b471-f2d29763de8b",
   "metadata": {},
   "source": [
    "# TEST"
   ]
  },
  {
   "cell_type": "code",
   "execution_count": 53,
   "id": "ff74f2db-38e6-44d4-bdd0-dfacf5028ee1",
   "metadata": {},
   "outputs": [],
   "source": [
    "full_X_arr = np.vstack((X_train_prc,X_val_prc,X_test_prc))\n",
    "full_y_arr = np.hstack((y_train, y_val, y_test)) #hstack since one dim"
   ]
  },
  {
   "cell_type": "code",
   "execution_count": 54,
   "id": "145d01e0-e675-4175-8c58-fec99d2b5341",
   "metadata": {},
   "outputs": [
    {
     "data": {
      "text/plain": [
       "XGBRegressor(base_score=0.5, booster='gbtree', colsample_bylevel=1,\n",
       "             colsample_bynode=1, colsample_bytree=1, enable_categorical=False,\n",
       "             gamma=0, gpu_id=0, importance_type=None,\n",
       "             interaction_constraints='', learning_rate=0.03, max_delta_step=0,\n",
       "             max_depth=9, min_child_weight=1, missing=nan,\n",
       "             monotone_constraints='()', n_estimators=1500, n_jobs=12,\n",
       "             num_parallel_tree=1, predictor='auto', random_state=0, reg_alpha=0,\n",
       "             reg_lambda=1, scale_pos_weight=1, single_precision_histogram=True,\n",
       "             subsample=1, tree_method='gpu_hist', validate_parameters=1,\n",
       "             verbosity=None)"
      ]
     },
     "execution_count": 54,
     "metadata": {},
     "output_type": "execute_result"
    }
   ],
   "source": [
    "#train on full dataset\n",
    "model = XGBRegressor(tree_method = \"gpu_hist\",single_precision_histogram=True, gpu_id=0, **grid_result.best_params_)\n",
    "model.fit(full_X_arr,full_y_arr)\n"
   ]
  },
  {
   "cell_type": "code",
   "execution_count": 57,
   "id": "7c3dbd6c-846c-434c-af06-60523aa075f4",
   "metadata": {},
   "outputs": [],
   "source": [
    "model.save_model('GridSearch_XGBoost_mdl.bin')"
   ]
  },
  {
   "cell_type": "code",
   "execution_count": null,
   "id": "b0a78a51-0439-4e88-a1fe-f0afc0be76dc",
   "metadata": {},
   "outputs": [],
   "source": []
  },
  {
   "cell_type": "code",
   "execution_count": null,
   "id": "7648f872-46bf-40f2-949a-74609ac403ac",
   "metadata": {},
   "outputs": [],
   "source": []
  },
  {
   "cell_type": "code",
   "execution_count": null,
   "id": "73d0b15e-34b1-4c0e-b224-b1284a41043c",
   "metadata": {},
   "outputs": [],
   "source": []
  },
  {
   "cell_type": "code",
   "execution_count": null,
   "id": "f448fb8d-5986-464e-b8da-4f1c6aeb875c",
   "metadata": {},
   "outputs": [],
   "source": []
  },
  {
   "cell_type": "code",
   "execution_count": null,
   "id": "4a1afa84-2569-4111-a90a-dc85258be3f9",
   "metadata": {},
   "outputs": [],
   "source": []
  },
  {
   "cell_type": "code",
   "execution_count": null,
   "id": "ec8052f5-31e9-4dc1-a974-cfa20dc2f649",
   "metadata": {},
   "outputs": [],
   "source": []
  },
  {
   "cell_type": "code",
   "execution_count": null,
   "id": "2fbb8152-cfa2-4a91-9759-00f19f0ce27d",
   "metadata": {},
   "outputs": [],
   "source": []
  },
  {
   "cell_type": "code",
   "execution_count": null,
   "id": "295c838e-1453-428c-9f84-dedc93ee4867",
   "metadata": {},
   "outputs": [],
   "source": []
  },
  {
   "cell_type": "code",
   "execution_count": null,
   "id": "e5219691-6884-4e9d-a210-5d45657b7e0c",
   "metadata": {},
   "outputs": [],
   "source": []
  },
  {
   "cell_type": "code",
   "execution_count": null,
   "id": "5179754a-9ad8-46e4-9512-26290246c83e",
   "metadata": {},
   "outputs": [],
   "source": []
  },
  {
   "cell_type": "code",
   "execution_count": null,
   "id": "82aef0fa-12ee-4c4c-a073-d05d8756f4db",
   "metadata": {},
   "outputs": [],
   "source": []
  },
  {
   "cell_type": "code",
   "execution_count": null,
   "id": "faab7325-198b-4f59-97f9-901631f744d0",
   "metadata": {},
   "outputs": [],
   "source": []
  },
  {
   "cell_type": "code",
   "execution_count": null,
   "id": "b159637a-8bb8-4115-9d45-27f224b5c902",
   "metadata": {},
   "outputs": [],
   "source": []
  },
  {
   "cell_type": "code",
   "execution_count": null,
   "id": "04971dbf-dd4f-40c7-9d69-264284d4e06b",
   "metadata": {},
   "outputs": [],
   "source": []
  },
  {
   "cell_type": "code",
   "execution_count": null,
   "id": "ebe9e0a2-366f-4b8c-9c13-af90937c841c",
   "metadata": {},
   "outputs": [],
   "source": []
  },
  {
   "cell_type": "code",
   "execution_count": null,
   "id": "18f6bbe8-a829-437b-8cf6-cd31b2cfc9ec",
   "metadata": {},
   "outputs": [],
   "source": []
  },
  {
   "cell_type": "code",
   "execution_count": null,
   "id": "a4af8747-fe49-443e-b661-eedd8fcb40ec",
   "metadata": {},
   "outputs": [],
   "source": []
  }
 ],
 "metadata": {
  "kernelspec": {
   "display_name": "Python 3 (ipykernel)",
   "language": "python",
   "name": "python3"
  },
  "language_info": {
   "codemirror_mode": {
    "name": "ipython",
    "version": 3
   },
   "file_extension": ".py",
   "mimetype": "text/x-python",
   "name": "python",
   "nbconvert_exporter": "python",
   "pygments_lexer": "ipython3",
   "version": "3.9.7"
  }
 },
 "nbformat": 4,
 "nbformat_minor": 5
}
