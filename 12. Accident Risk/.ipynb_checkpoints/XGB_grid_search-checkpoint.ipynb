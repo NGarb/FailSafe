{
 "cells": [
  {
   "cell_type": "code",
   "execution_count": 2,
   "id": "8be146b4-2fe5-4c23-ad93-b6df3ea7682f",
   "metadata": {},
   "outputs": [],
   "source": [
    "#backward difference encoder\n",
    "import numpy as np \n",
    "import pandas as pd\n",
    "import seaborn as sns\n",
    "import matplotlib.pyplot as plt\n",
    "import numpy as np \n",
    "import seaborn as sns \n",
    "import pandas as pd\n",
    "import matplotlib.pyplot as plt\n",
    "from sklearn.pipeline import Pipeline\n",
    "from sklearn.preprocessing import OneHotEncoder, StandardScaler\n",
    "from sklearn.compose import ColumnTransformer\n",
    "from sklearn.metrics import mean_squared_error as mse\n",
    "from sklearn.model_selection import train_test_split\n",
    "from sklearn.impute import SimpleImputer\n",
    "from sklearn.model_selection import GridSearchCV, KFold, train_test_split\n",
    "from yellowbrick.regressor import residuals_plot, prediction_error\n",
    "from fast_ml.model_development import train_valid_test_split\n",
    "from hyperopt import STATUS_OK, Trials, fmin, hp, tpe\n",
    "from tpot import TPOTRegressor\n",
    "import category_encoders as ce\n",
    "import time\n",
    "from xgboost import XGBRegressor\n",
    "from scipy import stats\n",
    "import warnings\n",
    "encoders = {\n",
    "\n",
    "    'BackwardDifferenceEncoder': ce.backward_difference.BackwardDifferenceEncoder,\n",
    "    'OneHotEncoder': ce.one_hot.OneHotEncoder,\n",
    "    \n",
    "}\n"
   ]
  },
  {
   "cell_type": "markdown",
   "id": "93e6f6a3-fe64-45e1-98a6-9e8fb8dcee60",
   "metadata": {},
   "source": [
    "# PREPROC"
   ]
  },
  {
   "cell_type": "code",
   "execution_count": 3,
   "id": "7334169a-c423-42b9-8b78-b8bf42bbee88",
   "metadata": {},
   "outputs": [],
   "source": [
    "pop_df = pd.read_csv('./Participants_dataset/population.csv')\n",
    "roads_df = pd.read_csv('./Participants_dataset/roads_network.csv')\n",
    "train_df = pd.read_csv('./Participants_dataset/train.csv')"
   ]
  },
  {
   "cell_type": "code",
   "execution_count": 4,
   "id": "abe9758f-b098-4c48-942f-e68bab243815",
   "metadata": {},
   "outputs": [],
   "source": [
    "test_df = pd.read_csv('./Participants_dataset/test.csv')"
   ]
  },
  {
   "cell_type": "code",
   "execution_count": 5,
   "id": "56426a30-a148-45e8-8951-50f28ccd37da",
   "metadata": {},
   "outputs": [
    {
     "data": {
      "text/plain": [
       "<AxesSubplot:>"
      ]
     },
     "execution_count": 5,
     "metadata": {},
     "output_type": "execute_result"
    },
    {
     "data": {
      "image/png": "[encoded data removed]",
      "text/plain": [
       "<Figure size 576x396 with 1 Axes>"
      ]
     },
     "metadata": {},
     "output_type": "display_data"
    }
   ],
   "source": [
    "# target\n",
    "grouped = train_df.groupby('postcode',sort='False',as_index=False)\n",
    "# train_enriched_df = train_enriched_df.drop(['Number_of_Casualties','Accident_ID'])\n",
    "\n",
    "Accident_Risk_Index_df = grouped.apply(lambda grp: sum(grp.Number_of_Casualties) / len(grp.Accident_ID))\n",
    "Accident_Risk_Index_df.columns = ['postcode','Accident_Risk_Index']\n",
    "Accident_Risk_Index_df.Accident_Risk_Index.hist(bins=50)"
   ]
  },
  {
   "cell_type": "code",
   "execution_count": 6,
   "id": "b3c90ad1-b621-4ef2-8e5f-4cab1b8085ea",
   "metadata": {},
   "outputs": [
    {
     "data": {
      "text/plain": [
       "(478741, 27)"
      ]
     },
     "execution_count": 6,
     "metadata": {},
     "output_type": "execute_result"
    }
   ],
   "source": [
    "train_df.shape"
   ]
  },
  {
   "cell_type": "code",
   "execution_count": 7,
   "id": "5a0e2330-0a7c-4eb6-96d5-baa2d86198b4",
   "metadata": {},
   "outputs": [
    {
     "data": {
      "text/plain": [
       "(95625, 2)"
      ]
     },
     "execution_count": 7,
     "metadata": {},
     "output_type": "execute_result"
    }
   ],
   "source": [
    "Accident_Risk_Index_df.shape"
   ]
  },
  {
   "cell_type": "code",
   "execution_count": 8,
   "id": "9d32955c-35cd-4899-83f9-ef448c25994c",
   "metadata": {},
   "outputs": [],
   "source": [
    "roads_numeric_features = roads_df.select_dtypes([np.number]).columns\n",
    "roads_categorical_features = roads_df.select_dtypes(exclude=[np.number]).drop(['WKT','postcode'],axis=1).columns\n",
    "# overwrite roads df for mem\n",
    "roads_df = pd.concat([pd.get_dummies(roads_df[roads_categorical_features]),roads_df.drop(roads_categorical_features,axis=1)],axis=1)"
   ]
  },
  {
   "cell_type": "code",
   "execution_count": 9,
   "id": "c97e4800-298e-4416-9acf-b61e0edf6c6d",
   "metadata": {},
   "outputs": [],
   "source": [
    "roads_features_df = pd.concat([roads_df.drop('WKT',axis=1).groupby('postcode').agg(sum),roads_df.drop('WKT',axis=1).groupby('postcode').agg(np.nanmean)],axis=1)\n",
    "roads_features_df.columns = [x+'_sum' if i >= 12 else x+'_mean' for i,x in enumerate(roads_features_df.columns)]"
   ]
  },
  {
   "cell_type": "code",
   "execution_count": 10,
   "id": "69a7d6f1-ba9e-49d1-b101-4df147c0ac25",
   "metadata": {},
   "outputs": [],
   "source": [
    "pop_df = pop_df.drop(['Rural Urban'],axis=1)\n"
   ]
  },
  {
   "cell_type": "code",
   "execution_count": 11,
   "id": "13f913a6-7841-447f-9f4a-7dbb3c8f1301",
   "metadata": {},
   "outputs": [],
   "source": [
    "train_df = train_df.drop('country',axis=1)\n",
    "test_df = test_df.drop('country',axis=1)"
   ]
  },
  {
   "cell_type": "code",
   "execution_count": 12,
   "id": "2915d95e-37e4-4c6b-b672-742c786407ac",
   "metadata": {},
   "outputs": [],
   "source": [
    "train_roads_df = train_df.set_index('postcode').join(roads_features_df, how= 'left')\n",
    "test_roads_df = test_df.set_index('postcode').join(roads_features_df, how= 'left')"
   ]
  },
  {
   "cell_type": "code",
   "execution_count": 13,
   "id": "1c3b4d95-7848-48f6-a329-bb7b3e619459",
   "metadata": {},
   "outputs": [
    {
     "name": "stdout",
     "output_type": "stream",
     "text": [
      "28752\n"
     ]
    }
   ],
   "source": [
    "print((~train_roads_df.roadClassi_Motorway_mean.isnull()).sum())\n",
    "inds_where_null = np.where(train_roads_df.roadFuncti_Motorway_sum.isnull())\n",
    "inds_where_not_null = np.where(train_roads_df.roadFuncti_Motorway_sum.notnull())\n",
    "# inds where null fill with post town\n",
    "\n",
    "inds_where_null_test = np.where(test_roads_df.roadFuncti_Motorway_sum.isnull())\n",
    "inds_where_not_null_test = np.where(test_roads_df.roadFuncti_Motorway_sum.notnull())\n"
   ]
  },
  {
   "cell_type": "code",
   "execution_count": 14,
   "id": "a61f6971-7fa6-41b1-ac80-38968e833a7e",
   "metadata": {},
   "outputs": [],
   "source": [
    "roads_features_df['post_town'] = list(pd.Series(roads_features_df.index).str.upper().apply(lambda row_str: row_str.split(' ')[0]))"
   ]
  },
  {
   "cell_type": "code",
   "execution_count": 15,
   "id": "0a7733e8-5b4a-4dbb-8b4d-16d2e56ebeca",
   "metadata": {},
   "outputs": [],
   "source": [
    "roads_town_df = roads_features_df.groupby('post_town').agg(np.nanmean)"
   ]
  },
  {
   "cell_type": "code",
   "execution_count": 16,
   "id": "453d5fd6-8f66-48b6-bb88-05dc43b4eeed",
   "metadata": {},
   "outputs": [],
   "source": [
    "train_df['post_town'] = train_df.postcode.apply(lambda row_str: row_str.split(' ')[0])\n",
    "post_code_level_df = train_df.iloc[inds_where_null].set_index('post_town').join(roads_town_df, how='left')\n",
    "post_town_level_df = train_roads_df.iloc[inds_where_not_null]\n",
    "train_enriched_df = pd.concat([post_code_level_df, post_town_level_df],axis=0)\n",
    "\n",
    "test_df['post_town'] = test_df.postcode.apply(lambda row_str: row_str.split(' ')[0])\n",
    "post_code_level_df_test = test_df.iloc[inds_where_null_test].set_index('post_town').join(roads_town_df, how='left')\n",
    "post_town_level_df_test = test_roads_df.iloc[inds_where_not_null_test]\n",
    "test_enriched_df = pd.concat([post_code_level_df_test, post_town_level_df_test],axis=0)\n"
   ]
  },
  {
   "cell_type": "code",
   "execution_count": 17,
   "id": "68d64aff-4d89-41b2-af44-1d8232c1fb56",
   "metadata": {},
   "outputs": [],
   "source": [
    "pop_df['post_town'] = pop_df.postcode.apply(lambda row_str: row_str.split(' ')[0])  \n"
   ]
  },
  {
   "cell_type": "code",
   "execution_count": 18,
   "id": "adaa8c97-3ee0-4f78-949c-2d4524dad4b0",
   "metadata": {},
   "outputs": [
    {
     "data": {
      "text/plain": [
       "2269"
      ]
     },
     "execution_count": 18,
     "metadata": {},
     "output_type": "execute_result"
    }
   ],
   "source": [
    "len(set(pop_df.post_town)) #I'm not sure post_town is worth adding "
   ]
  },
  {
   "cell_type": "code",
   "execution_count": 19,
   "id": "cb76c79d-1155-4c85-9e16-3990ba575621",
   "metadata": {},
   "outputs": [
    {
     "data": {
      "text/plain": [
       "\"train_enriched_df = train_enriched_df.set_index('post_town').join(pop_df.groupby('post_town',sort=False, as_index=False).agg(np.nanmean),how='left').reset_index()\\ntest_enriched_df = test_enriched_df.set_index('post_town').join(pop_df.groupby('post_town',sort=False, as_index=False).agg(np.nanmean),how='left').reset_index()\\n\\n\\ntrain_enriched_df = train_enriched_df.rename({'index':'post_town'},axis=1)\\ntest_enriched_df = test_enriched_df.rename({'index':'post_town'},axis=1)\""
      ]
     },
     "execution_count": 19,
     "metadata": {},
     "output_type": "execute_result"
    }
   ],
   "source": [
    "'''train_enriched_df = train_enriched_df.set_index('post_town').join(pop_df.groupby('post_town',sort=False, as_index=False).agg(np.nanmean),how='left').reset_index()\n",
    "test_enriched_df = test_enriched_df.set_index('post_town').join(pop_df.groupby('post_town',sort=False, as_index=False).agg(np.nanmean),how='left').reset_index()\n",
    "\n",
    "\n",
    "train_enriched_df = train_enriched_df.rename({'index':'post_town'},axis=1)\n",
    "test_enriched_df = test_enriched_df.rename({'index':'post_town'},axis=1)'''"
   ]
  },
  {
   "cell_type": "code",
   "execution_count": 20,
   "id": "f3a4c9da-75c4-440b-ab65-40f7bf35ea01",
   "metadata": {},
   "outputs": [],
   "source": [
    "#train_enriched_df = train_enriched_df.drop(['post_town', 'postcode'],axis=1)\n",
    "#test_enriched_df = test_enriched_df.drop([ 'postcode'],axis=1)\n",
    "#keep posttown and postcode features"
   ]
  },
  {
   "cell_type": "code",
   "execution_count": 21,
   "id": "60d0e90a-0c2e-4c99-8291-dd08c64ed99c",
   "metadata": {
    "tags": []
   },
   "outputs": [
    {
     "name": "stdout",
     "output_type": "stream",
     "text": [
      "<class 'pandas.core.frame.DataFrame'>\n",
      "Index: 478741 entries, AB10 to ZE2 9JJ\n",
      "Data columns (total 50 columns):\n",
      " #   Column                                       Non-Null Count   Dtype  \n",
      "---  ------                                       --------------   -----  \n",
      " 0   Accident_ID                                  478741 non-null  int64  \n",
      " 1   Police_Force                                 478741 non-null  int64  \n",
      " 2   Number_of_Vehicles                           478741 non-null  int64  \n",
      " 3   Number_of_Casualties                         478741 non-null  int64  \n",
      " 4   Date                                         478741 non-null  object \n",
      " 5   Day_of_Week                                  478741 non-null  int64  \n",
      " 6   Time                                         478726 non-null  object \n",
      " 7   Local_Authority_(District)                   478741 non-null  int64  \n",
      " 8   Local_Authority_(Highway)                    478741 non-null  object \n",
      " 9   1st_Road_Class                               478741 non-null  int64  \n",
      " 10  1st_Road_Number                              478741 non-null  int64  \n",
      " 11  Road_Type                                    478741 non-null  object \n",
      " 12  Speed_limit                                  478741 non-null  int64  \n",
      " 13  2nd_Road_Class                               478741 non-null  int64  \n",
      " 14  2nd_Road_Number                              478741 non-null  int64  \n",
      " 15  Pedestrian_Crossing-Human_Control            478741 non-null  object \n",
      " 16  Pedestrian_Crossing-Physical_Facilities      478741 non-null  object \n",
      " 17  Light_Conditions                             478741 non-null  object \n",
      " 18  Weather_Conditions                           478741 non-null  object \n",
      " 19  Road_Surface_Conditions                      478292 non-null  object \n",
      " 20  Special_Conditions_at_Site                   478676 non-null  object \n",
      " 21  Carriageway_Hazards                          478741 non-null  object \n",
      " 22  Urban_or_Rural_Area                          478741 non-null  int64  \n",
      " 23  Did_Police_Officer_Attend_Scene_of_Accident  478741 non-null  object \n",
      " 24  state                                        478741 non-null  object \n",
      " 25  postcode                                     449989 non-null  object \n",
      " 26  roadClassi_A Road_mean                       478455 non-null  float64\n",
      " 27  roadClassi_Motorway_mean                     478455 non-null  float64\n",
      " 28  roadFuncti_A Road_mean                       478455 non-null  float64\n",
      " 29  roadFuncti_Motorway_mean                     478455 non-null  float64\n",
      " 30  formOfWay_Collapsed Dual Carriageway_mean    478455 non-null  float64\n",
      " 31  formOfWay_Dual Carriageway_mean              478455 non-null  float64\n",
      " 32  formOfWay_Roundabout_mean                    478455 non-null  float64\n",
      " 33  formOfWay_Single Carriageway_mean            478455 non-null  float64\n",
      " 34  formOfWay_Slip Road_mean                     478455 non-null  float64\n",
      " 35  length_mean                                  478455 non-null  float64\n",
      " 36  primaryRou_mean                              478455 non-null  float64\n",
      " 37  distance to the nearest point on rd_mean     478455 non-null  float64\n",
      " 38  roadClassi_A Road_sum                        478455 non-null  float64\n",
      " 39  roadClassi_Motorway_sum                      478455 non-null  float64\n",
      " 40  roadFuncti_A Road_sum                        478455 non-null  float64\n",
      " 41  roadFuncti_Motorway_sum                      478455 non-null  float64\n",
      " 42  formOfWay_Collapsed Dual Carriageway_sum     478455 non-null  float64\n",
      " 43  formOfWay_Dual Carriageway_sum               478455 non-null  float64\n",
      " 44  formOfWay_Roundabout_sum                     478455 non-null  float64\n",
      " 45  formOfWay_Single Carriageway_sum             478455 non-null  float64\n",
      " 46  formOfWay_Slip Road_sum                      478455 non-null  float64\n",
      " 47  length_sum                                   477764 non-null  float64\n",
      " 48  primaryRou_sum                               477764 non-null  float64\n",
      " 49  distance to the nearest point on rd_sum      477778 non-null  float64\n",
      "dtypes: float64(24), int64(12), object(14)\n",
      "memory usage: 186.3+ MB\n"
     ]
    }
   ],
   "source": [
    "train_enriched_df.info()"
   ]
  },
  {
   "cell_type": "code",
   "execution_count": 22,
   "id": "c94a213e-5f84-4bef-8531-b61e1d697818",
   "metadata": {},
   "outputs": [],
   "source": [
    "train_enriched_df=train_enriched_df.drop(['Accident_ID'],axis=1)\n",
    "test_enriched_df=test_enriched_df.drop(['Accident_ID'],axis=1)"
   ]
  },
  {
   "cell_type": "code",
   "execution_count": 23,
   "id": "e71a9088-b492-4085-8a10-dbf6016d1303",
   "metadata": {},
   "outputs": [
    {
     "data": {
      "text/plain": [
       "Police_Force                                       0\n",
       "Number_of_Vehicles                                 0\n",
       "Number_of_Casualties                               0\n",
       "Date                                               0\n",
       "Day_of_Week                                        0\n",
       "Time                                              15\n",
       "Local_Authority_(District)                         0\n",
       "Local_Authority_(Highway)                          0\n",
       "1st_Road_Class                                     0\n",
       "1st_Road_Number                                    0\n",
       "Road_Type                                          0\n",
       "Speed_limit                                        0\n",
       "2nd_Road_Class                                     0\n",
       "2nd_Road_Number                                    0\n",
       "Pedestrian_Crossing-Human_Control                  0\n",
       "Pedestrian_Crossing-Physical_Facilities            0\n",
       "Light_Conditions                                   0\n",
       "Weather_Conditions                                 0\n",
       "Road_Surface_Conditions                          449\n",
       "Special_Conditions_at_Site                        65\n",
       "Carriageway_Hazards                                0\n",
       "Urban_or_Rural_Area                                0\n",
       "Did_Police_Officer_Attend_Scene_of_Accident        0\n",
       "state                                              0\n",
       "postcode                                       28752\n",
       "roadClassi_A Road_mean                           286\n",
       "roadClassi_Motorway_mean                         286\n",
       "roadFuncti_A Road_mean                           286\n",
       "roadFuncti_Motorway_mean                         286\n",
       "formOfWay_Collapsed Dual Carriageway_mean        286\n",
       "formOfWay_Dual Carriageway_mean                  286\n",
       "formOfWay_Roundabout_mean                        286\n",
       "formOfWay_Single Carriageway_mean                286\n",
       "formOfWay_Slip Road_mean                         286\n",
       "length_mean                                      286\n",
       "primaryRou_mean                                  286\n",
       "distance to the nearest point on rd_mean         286\n",
       "roadClassi_A Road_sum                            286\n",
       "roadClassi_Motorway_sum                          286\n",
       "roadFuncti_A Road_sum                            286\n",
       "roadFuncti_Motorway_sum                          286\n",
       "formOfWay_Collapsed Dual Carriageway_sum         286\n",
       "formOfWay_Dual Carriageway_sum                   286\n",
       "formOfWay_Roundabout_sum                         286\n",
       "formOfWay_Single Carriageway_sum                 286\n",
       "formOfWay_Slip Road_sum                          286\n",
       "length_sum                                       977\n",
       "primaryRou_sum                                   977\n",
       "distance to the nearest point on rd_sum          963\n",
       "dtype: int64"
      ]
     },
     "execution_count": 23,
     "metadata": {},
     "output_type": "execute_result"
    }
   ],
   "source": [
    "train_enriched_df.isnull().sum()"
   ]
  },
  {
   "cell_type": "code",
   "execution_count": 24,
   "id": "fcb7f93e-6c10-4599-a94a-87883840a428",
   "metadata": {},
   "outputs": [],
   "source": [
    "train_postcode = train_enriched_df['postcode']\n",
    "test_postcode = test_enriched_df['postcode']\n",
    "train_enriched_df = train_enriched_df.drop(['postcode'],axis=1)\n",
    "test_enriched_df = test_enriched_df.drop(['postcode'],axis=1)"
   ]
  },
  {
   "cell_type": "code",
   "execution_count": 492,
   "id": "8dddc99e-e2c5-4d92-b911-ea7debf5842b",
   "metadata": {
    "collapsed": true,
    "jupyter": {
     "outputs_hidden": true
    },
    "tags": []
   },
   "outputs": [
    {
     "ename": "ValueError",
     "evalue": "Columns must be same length as key",
     "output_type": "error",
     "traceback": [
      "\u001b[1;31m---------------------------------------------------------------------------\u001b[0m",
      "\u001b[1;31mValueError\u001b[0m                                Traceback (most recent call last)",
      "\u001b[1;32m~\\AppData\\Local\\Temp/ipykernel_4328/1405338296.py\u001b[0m in \u001b[0;36m<module>\u001b[1;34m\u001b[0m\n\u001b[0;32m      4\u001b[0m \u001b[1;33m\u001b[0m\u001b[0m\n\u001b[0;32m      5\u001b[0m \u001b[0mmode_imputer\u001b[0m \u001b[1;33m=\u001b[0m \u001b[0mSimpleImputer\u001b[0m\u001b[1;33m(\u001b[0m\u001b[0mstrategy\u001b[0m\u001b[1;33m=\u001b[0m\u001b[1;34m'most_frequent'\u001b[0m\u001b[1;33m)\u001b[0m\u001b[1;33m\u001b[0m\u001b[1;33m\u001b[0m\u001b[0m\n\u001b[1;32m----> 6\u001b[1;33m \u001b[0mtrain_enriched_df\u001b[0m\u001b[1;33m[\u001b[0m\u001b[0mmode_fill\u001b[0m\u001b[1;33m]\u001b[0m \u001b[1;33m=\u001b[0m \u001b[0mmode_imputer\u001b[0m\u001b[1;33m.\u001b[0m\u001b[0mfit_transform\u001b[0m\u001b[1;33m(\u001b[0m\u001b[0mtrain_enriched_df\u001b[0m\u001b[1;33m[\u001b[0m\u001b[0mmode_fill\u001b[0m\u001b[1;33m]\u001b[0m\u001b[1;33m)\u001b[0m\u001b[1;33m\u001b[0m\u001b[1;33m\u001b[0m\u001b[0m\n\u001b[0m\u001b[0;32m      7\u001b[0m \u001b[0mmean_imputer\u001b[0m \u001b[1;33m=\u001b[0m \u001b[0mSimpleImputer\u001b[0m\u001b[1;33m(\u001b[0m\u001b[0mstrategy\u001b[0m\u001b[1;33m=\u001b[0m\u001b[1;34m'mean'\u001b[0m\u001b[1;33m)\u001b[0m\u001b[1;33m\u001b[0m\u001b[1;33m\u001b[0m\u001b[0m\n\u001b[0;32m      8\u001b[0m \u001b[0mtrain_enriched_df\u001b[0m\u001b[1;33m[\u001b[0m\u001b[0mmean_fill\u001b[0m\u001b[1;33m]\u001b[0m \u001b[1;33m=\u001b[0m \u001b[0mmean_imputer\u001b[0m\u001b[1;33m.\u001b[0m\u001b[0mfit_transform\u001b[0m\u001b[1;33m(\u001b[0m\u001b[0mtrain_enriched_df\u001b[0m\u001b[1;33m[\u001b[0m\u001b[0mmean_fill\u001b[0m\u001b[1;33m]\u001b[0m\u001b[1;33m)\u001b[0m\u001b[1;33m\u001b[0m\u001b[1;33m\u001b[0m\u001b[0m\n",
      "\u001b[1;32m~\\anaconda3\\envs\\AutoML\\lib\\site-packages\\pandas\\core\\frame.py\u001b[0m in \u001b[0;36m__setitem__\u001b[1;34m(self, key, value)\u001b[0m\n\u001b[0;32m   3598\u001b[0m         \u001b[0mindex\u001b[0m \u001b[1;33m:\u001b[0m \u001b[0mrow\u001b[0m \u001b[0mlabel\u001b[0m\u001b[1;33m\u001b[0m\u001b[1;33m\u001b[0m\u001b[0m\n\u001b[0;32m   3599\u001b[0m         \u001b[0mcol\u001b[0m \u001b[1;33m:\u001b[0m \u001b[0mcolumn\u001b[0m \u001b[0mlabel\u001b[0m\u001b[1;33m\u001b[0m\u001b[1;33m\u001b[0m\u001b[0m\n\u001b[1;32m-> 3600\u001b[1;33m         \u001b[0mtakeable\u001b[0m \u001b[1;33m:\u001b[0m \u001b[0minterpret\u001b[0m \u001b[0mthe\u001b[0m \u001b[0mindex\u001b[0m\u001b[1;33m/\u001b[0m\u001b[0mcol\u001b[0m \u001b[1;32mas\u001b[0m \u001b[0mindexers\u001b[0m\u001b[1;33m,\u001b[0m \u001b[0mdefault\u001b[0m \u001b[1;32mFalse\u001b[0m\u001b[1;33m\u001b[0m\u001b[1;33m\u001b[0m\u001b[0m\n\u001b[0m\u001b[0;32m   3601\u001b[0m \u001b[1;33m\u001b[0m\u001b[0m\n\u001b[0;32m   3602\u001b[0m         \u001b[0mReturns\u001b[0m\u001b[1;33m\u001b[0m\u001b[1;33m\u001b[0m\u001b[0m\n",
      "\u001b[1;32m~\\anaconda3\\envs\\AutoML\\lib\\site-packages\\pandas\\core\\frame.py\u001b[0m in \u001b[0;36m_setitem_array\u001b[1;34m(self, key, value)\u001b[0m\n\u001b[0;32m   3646\u001b[0m         elif (\n\u001b[0;32m   3647\u001b[0m             \u001b[0mis_list_like\u001b[0m\u001b[1;33m(\u001b[0m\u001b[0mvalue\u001b[0m\u001b[1;33m)\u001b[0m\u001b[1;33m\u001b[0m\u001b[1;33m\u001b[0m\u001b[0m\n\u001b[1;32m-> 3648\u001b[1;33m             \u001b[1;32mand\u001b[0m \u001b[1;32mnot\u001b[0m \u001b[0mself\u001b[0m\u001b[1;33m.\u001b[0m\u001b[0mcolumns\u001b[0m\u001b[1;33m.\u001b[0m\u001b[0mis_unique\u001b[0m\u001b[1;33m\u001b[0m\u001b[1;33m\u001b[0m\u001b[0m\n\u001b[0m\u001b[0;32m   3649\u001b[0m             \u001b[1;32mand\u001b[0m \u001b[1;36m1\u001b[0m \u001b[1;33m<\u001b[0m \u001b[0mlen\u001b[0m\u001b[1;33m(\u001b[0m\u001b[0mself\u001b[0m\u001b[1;33m.\u001b[0m\u001b[0mcolumns\u001b[0m\u001b[1;33m.\u001b[0m\u001b[0mget_indexer_for\u001b[0m\u001b[1;33m(\u001b[0m\u001b[1;33m[\u001b[0m\u001b[0mkey\u001b[0m\u001b[1;33m]\u001b[0m\u001b[1;33m)\u001b[0m\u001b[1;33m)\u001b[0m \u001b[1;33m==\u001b[0m \u001b[0mlen\u001b[0m\u001b[1;33m(\u001b[0m\u001b[0mvalue\u001b[0m\u001b[1;33m)\u001b[0m\u001b[1;33m\u001b[0m\u001b[1;33m\u001b[0m\u001b[0m\n\u001b[0;32m   3650\u001b[0m         ):\n",
      "\u001b[1;32m~\\anaconda3\\envs\\AutoML\\lib\\site-packages\\pandas\\core\\frame.py\u001b[0m in \u001b[0;36m_iset_not_inplace\u001b[1;34m(self, key, value)\u001b[0m\n\u001b[0;32m   3686\u001b[0m                 \u001b[1;32mfor\u001b[0m \u001b[0mk1\u001b[0m\u001b[1;33m,\u001b[0m \u001b[0mk2\u001b[0m \u001b[1;32min\u001b[0m \u001b[0mzip\u001b[0m\u001b[1;33m(\u001b[0m\u001b[0mkey\u001b[0m\u001b[1;33m,\u001b[0m \u001b[0mvalue\u001b[0m\u001b[1;33m.\u001b[0m\u001b[0mcolumns\u001b[0m\u001b[1;33m)\u001b[0m\u001b[1;33m:\u001b[0m\u001b[1;33m\u001b[0m\u001b[1;33m\u001b[0m\u001b[0m\n\u001b[0;32m   3687\u001b[0m                     \u001b[0mself\u001b[0m\u001b[1;33m[\u001b[0m\u001b[0mk1\u001b[0m\u001b[1;33m]\u001b[0m \u001b[1;33m=\u001b[0m \u001b[0mvalue\u001b[0m\u001b[1;33m[\u001b[0m\u001b[0mk2\u001b[0m\u001b[1;33m]\u001b[0m\u001b[1;33m\u001b[0m\u001b[1;33m\u001b[0m\u001b[0m\n\u001b[1;32m-> 3688\u001b[1;33m \u001b[1;33m\u001b[0m\u001b[0m\n\u001b[0m\u001b[0;32m   3689\u001b[0m             \u001b[1;32melif\u001b[0m \u001b[1;32mnot\u001b[0m \u001b[0mis_list_like\u001b[0m\u001b[1;33m(\u001b[0m\u001b[0mvalue\u001b[0m\u001b[1;33m)\u001b[0m\u001b[1;33m:\u001b[0m\u001b[1;33m\u001b[0m\u001b[1;33m\u001b[0m\u001b[0m\n\u001b[0;32m   3690\u001b[0m                 \u001b[1;32mfor\u001b[0m \u001b[0mcol\u001b[0m \u001b[1;32min\u001b[0m \u001b[0mkey\u001b[0m\u001b[1;33m:\u001b[0m\u001b[1;33m\u001b[0m\u001b[1;33m\u001b[0m\u001b[0m\n",
      "\u001b[1;31mValueError\u001b[0m: Columns must be same length as key"
     ]
    }
   ],
   "source": [
    "'''mean_fill = train_enriched_df.iloc[:,-8:].columns\n",
    "mode_fill = train_enriched_df.iloc[:,:-8].columns\n",
    "from sklearn.impute import SimpleImputer\n",
    "\n",
    "mode_imputer = SimpleImputer(strategy='most_frequent')\n",
    "train_enriched_df[mode_fill] = mode_imputer.fit_transform(train_enriched_df[mode_fill])\n",
    "mean_imputer = SimpleImputer(strategy='mean')\n",
    "train_enriched_df[mean_fill] = mean_imputer.fit_transform(train_enriched_df[mean_fill])\n",
    "\n",
    "test_enriched_df[mode_fill] = mode_imputer.transform(test_enriched_df[mode_fill])\n",
    "test_enriched_df[mean_fill] = mean_imputer.transform(test_enriched_df[mean_fill])'''"
   ]
  },
  {
   "cell_type": "code",
   "execution_count": 25,
   "id": "a5b3bb9f-7038-43bf-9a37-c7bf595ed9aa",
   "metadata": {},
   "outputs": [],
   "source": [
    "train_enriched_df['month_of_year'] = pd.to_datetime(train_enriched_df.Date).dt.month\n",
    "train_enriched_df['day_of_month'] = pd.to_datetime(train_enriched_df.Date).dt.day\n",
    "train_enriched_df = train_enriched_df.drop(['Date'],axis=1)\n",
    "\n",
    "test_enriched_df['month_of_year'] = pd.to_datetime(test_enriched_df.Date).dt.month\n",
    "test_enriched_df['day_of_month'] = pd.to_datetime(test_enriched_df.Date).dt.day\n",
    "test_enriched_df = test_enriched_df.drop(['Date'],axis=1)"
   ]
  },
  {
   "cell_type": "code",
   "execution_count": 26,
   "id": "5bf8069e-30dd-4b03-a7dd-989d8ac5a306",
   "metadata": {},
   "outputs": [],
   "source": [
    "train_enriched_df['Time'] = train_enriched_df.Time.fillna('0').astype(str).apply(lambda row: row.replace(':','') ).astype(int)\n",
    "test_enriched_df['Time'] = test_enriched_df.Time.fillna('0').astype(str).apply(lambda row: row.replace(':','')).astype(int)"
   ]
  },
  {
   "cell_type": "code",
   "execution_count": 27,
   "id": "09845458-b04f-4aa4-aba1-87d91c47311b",
   "metadata": {},
   "outputs": [],
   "source": [
    "cat_cols = []\n",
    "num_cols = list(train_enriched_df.select_dtypes([np.number]).columns)\n",
    "for col in train_enriched_df.select_dtypes(exclude=[np.number]).columns:\n",
    "    if (~train_enriched_df[col].astype(str).apply(lambda row: row.replace('.','').replace('-','').isdigit())).sum() != 0:\n",
    "        cat_cols.append(col)\n",
    "    else:\n",
    "        num_cols.append(col)"
   ]
  },
  {
   "cell_type": "code",
   "execution_count": 28,
   "id": "1b73a143-579a-45a7-808e-283bd6ea0e56",
   "metadata": {},
   "outputs": [
    {
     "data": {
      "text/plain": [
       "['Local_Authority_(Highway)',\n",
       " 'Road_Type',\n",
       " 'Pedestrian_Crossing-Human_Control',\n",
       " 'Pedestrian_Crossing-Physical_Facilities',\n",
       " 'Light_Conditions',\n",
       " 'Weather_Conditions',\n",
       " 'Road_Surface_Conditions',\n",
       " 'Special_Conditions_at_Site',\n",
       " 'Carriageway_Hazards',\n",
       " 'Did_Police_Officer_Attend_Scene_of_Accident',\n",
       " 'state']"
      ]
     },
     "execution_count": 28,
     "metadata": {},
     "output_type": "execute_result"
    }
   ],
   "source": [
    "cat_cols"
   ]
  },
  {
   "cell_type": "code",
   "execution_count": null,
   "id": "81b4f652-4566-4f0f-a2e1-d5f0019cb478",
   "metadata": {},
   "outputs": [],
   "source": []
  },
  {
   "cell_type": "code",
   "execution_count": null,
   "id": "023122f7-f1a0-4734-8975-c4e39cd52ee9",
   "metadata": {},
   "outputs": [],
   "source": [
    "'''num_cols.append('distance to the nearest point on rd_mean') \n",
    "cat_cols.pop(-1)\n",
    "# remove postcode\n",
    "del cat_cols[-1]\n",
    " '''"
   ]
  },
  {
   "cell_type": "code",
   "execution_count": null,
   "id": "b7ffe72a-9ccd-43c7-95e8-4eaa2b7d7ec9",
   "metadata": {},
   "outputs": [],
   "source": []
  },
  {
   "cell_type": "code",
   "execution_count": null,
   "id": "693ac1e8-8b0a-4587-aaff-63fdacdba0db",
   "metadata": {},
   "outputs": [],
   "source": [
    "# postcodes.Accident_Risk_Index (mean casualties at a postcode) = sum(Number_of_casualities)/count(Accident_ID)\n"
   ]
  },
  {
   "cell_type": "code",
   "execution_count": 29,
   "id": "d22f0ed1-d17c-45df-9cb7-e80a57e9fdd9",
   "metadata": {},
   "outputs": [],
   "source": [
    "train_enriched_df=train_enriched_df.reset_index().rename({'index':'post_town'},axis=1)\n",
    "test_enriched_df=test_enriched_df.reset_index().rename({'index':'post_town'},axis=1)"
   ]
  },
  {
   "cell_type": "markdown",
   "id": "1199d683-0eed-46a2-8952-5b8e0041f5e7",
   "metadata": {},
   "source": [
    "# MODEL"
   ]
  },
  {
   "cell_type": "code",
   "execution_count": 30,
   "id": "5c5d5403-05a1-4485-9a17-93394b2d2621",
   "metadata": {},
   "outputs": [],
   "source": [
    "import os \n",
    "current_dir = os.getcwd()\n",
    "os.chdir('..')\n",
    "from Utils.Metrics import regression as reg_metrics\n",
    "os.chdir(current_dir)"
   ]
  },
  {
   "cell_type": "code",
   "execution_count": 31,
   "id": "f3c6d851-e69d-486a-b7c9-efdb4d41814e",
   "metadata": {},
   "outputs": [],
   "source": [
    "results_df = pd.DataFrame(columns = ['model','rmse','r2','mape'])"
   ]
  },
  {
   "cell_type": "code",
   "execution_count": null,
   "id": "8e678496-983d-422b-a4e6-e4edf29bee8f",
   "metadata": {
    "tags": []
   },
   "outputs": [],
   "source": []
  },
  {
   "cell_type": "code",
   "execution_count": 33,
   "id": "4a0caf78-4e0c-4f62-9f90-8c3b84930180",
   "metadata": {},
   "outputs": [],
   "source": [
    "from sklearn.base import BaseEstimator, TransformerMixin\n",
    "\n",
    "\n",
    "numeric_features = num_cols\n",
    "\n",
    "categorical_features = cat_cols\n",
    "\n",
    "max_levels = round(train_enriched_df.columns.shape[0]*0.1)\n",
    "cats_many = []\n",
    "cats_few = []\n",
    "for ft in categorical_features:\n",
    "    levels = train_enriched_df[ft].unique().shape[0]\n",
    "    if levels > max_levels:\n",
    "        cats_many.append(ft)\n",
    "    else:\n",
    "        cats_few.append(ft)\n",
    "        \n",
    "class group_data_by_postcode(BaseEstimator, TransformerMixin):\n",
    "    #def __init__(self, post_group):\n",
    "    #    self.post_group = post_group\n",
    "    def __init__(self, post_group):\n",
    "        self.post_group = post_group    \n",
    "    def fit(self, X, y=None):\n",
    "        self.groups = groups\n",
    "        return self\n",
    "    \n",
    "    def transform(self, X, y=None):        \n",
    "        groups = self.groups\n",
    "        X1 = groups.agg(np.nanmean)\n",
    "        X2 = groups.agg(np.sum)\n",
    "        X4 = groups.agg(stats.mode)\n",
    "        return pd.concat([X1,X2,X3],axis=1)\n",
    "        \n",
    "        \n",
    "\n",
    "X = train_enriched_df\n",
    "y = Accident_Risk_Index_df.Accident_Risk_Index\n",
    "\n",
    "y_scaler = StandardScaler()\n",
    "y = y_scaler.fit_transform(y.values.reshape(-1, 1))\n",
    "\n",
    "selected_model = XGBRegressor(tree_method = \"gpu_hist\",single_precision_histogram=True, gpu_id=0)\n",
    "\n",
    "\n",
    "categorical_transformer_many_level = Pipeline(\n",
    "    steps=[\n",
    "        ('imputer', SimpleImputer(strategy='constant', fill_value='missing')),\n",
    "        ('encoder', encoders['BackwardDifferenceEncoder']())\n",
    "    ]\n",
    ")    \n",
    "\n",
    "categorical_transformer = Pipeline(\n",
    "    steps=[\n",
    "        ('imputer', SimpleImputer(strategy='constant', fill_value='missing')),\n",
    "        ('encoder', encoders['OneHotEncoder']())\n",
    "    ]\n",
    ") \n",
    "\n",
    "numeric_transformer = Pipeline(\n",
    "    steps=[\n",
    "        ('imputer', SimpleImputer(strategy='mean')),\n",
    "        ('scaler', StandardScaler())\n",
    "    ]\n",
    ")\n",
    "\n",
    "aggregator = Pipeline(steps=[('groupby_postcode',group_data_by_postcode(train_postcode))])\n",
    "\n",
    "preprocessor = ColumnTransformer(\n",
    "    transformers=[\n",
    "        ('numerical', numeric_transformer, numeric_features),\n",
    "        ('categorical_many', categorical_transformer_many_level, cats_many),\n",
    "        ('categorical', categorical_transformer, cats_few)\n",
    "    ]\n",
    ")\n",
    "\n"
   ]
  },
  {
   "cell_type": "code",
   "execution_count": 34,
   "id": "64fd981c-b1d6-428d-82f3-92784caafe9f",
   "metadata": {},
   "outputs": [
    {
     "data": {
      "text/plain": [
       "Local_Authority_(Highway)                  207\n",
       "Road_Type                                    6\n",
       "Pedestrian_Crossing-Physical_Facilities      6\n",
       "Weather_Conditions                           9\n",
       "Road_Surface_Conditions                      6\n",
       "Special_Conditions_at_Site                   9\n",
       "Carriageway_Hazards                          6\n",
       "dtype: int64"
      ]
     },
     "execution_count": 34,
     "metadata": {},
     "output_type": "execute_result"
    }
   ],
   "source": [
    "train_enriched_df[cats_many].apply(set).apply(len)"
   ]
  },
  {
   "cell_type": "code",
   "execution_count": 35,
   "id": "ad2a00ca-5e7f-4348-a6c6-9e3020675b64",
   "metadata": {},
   "outputs": [
    {
     "data": {
      "text/plain": [
       "(44079, 48350)"
      ]
     },
     "execution_count": 35,
     "metadata": {},
     "output_type": "execute_result"
    }
   ],
   "source": [
    "len(set(train_postcode.values).intersection(test_postcode)), len(set(test_postcode))"
   ]
  },
  {
   "cell_type": "code",
   "execution_count": 36,
   "id": "71a321ab-e558-431d-8b43-d56773253301",
   "metadata": {},
   "outputs": [],
   "source": [
    "train_postcode=np.where(train_postcode.isnull(),train_postcode.index,train_postcode)\n",
    "test_postcode=np.where(test_postcode.isnull(),test_postcode.index,test_postcode)"
   ]
  },
  {
   "cell_type": "code",
   "execution_count": 37,
   "id": "971547a0-86d9-4f79-88bc-896538250e92",
   "metadata": {
    "tags": []
   },
   "outputs": [],
   "source": [
    "X_prc = preprocessor.fit_transform(X)\n",
    "X_prc = pd.DataFrame(X_prc)"
   ]
  },
  {
   "cell_type": "code",
   "execution_count": 38,
   "id": "c32a93fe-da9c-46bd-82b4-ee510cd9bf83",
   "metadata": {},
   "outputs": [
    {
     "data": {
      "text/plain": [
       "24"
      ]
     },
     "execution_count": 38,
     "metadata": {},
     "output_type": "execute_result"
    }
   ],
   "source": [
    "import gc\n",
    "gc.collect()"
   ]
  },
  {
   "cell_type": "code",
   "execution_count": 40,
   "id": "ebf996b0-58a0-484a-a28b-1a85bfe1f16d",
   "metadata": {},
   "outputs": [
    {
     "data": {
      "text/plain": [
       "(478741, 294)"
      ]
     },
     "execution_count": 40,
     "metadata": {},
     "output_type": "execute_result"
    }
   ],
   "source": [
    "X_prc.shape"
   ]
  },
  {
   "cell_type": "code",
   "execution_count": 64,
   "id": "11be51ba-2d8b-4b60-90a6-879998e87de5",
   "metadata": {},
   "outputs": [
    {
     "name": "stdout",
     "output_type": "stream",
     "text": [
      "groups created\n",
      "mean grouped\n",
      "sum grouped\n",
      "first grouped\n"
     ]
    }
   ],
   "source": [
    "# groupby on strings just way too slow\n",
    "def groupby_postcode(X, grouper_var, postcode_to_ind_dct):       \n",
    "        postcode_to_ind_dct = {x:i for i,x in enumerate(grouper_var)}\n",
    "        #grouper_var = pd.Series(train_postcode).replace(postcode_to_ind_dct).values\n",
    "        grouper_var = pd.Series(grouper_var).map(lambda x: postcode_to_ind_dct[x])\n",
    "        groups = X.groupby(grouper_var,sort='False',as_index=False)\n",
    "        print('groups created')\n",
    "        X1 = groups.agg(np.nanmean)\n",
    "        print('mean grouped')\n",
    "        X2 = groups.agg(np.sum)\n",
    "        print('sum grouped')\n",
    "        X3 = groups.agg('first')\n",
    "        print('first grouped')\n",
    "        return pd.concat([X1,X2,X3],axis=1)\n",
    "#postcode_to_ind_dct = {i:x for i,x in enumerate(train_postcode)}\n",
    "X_prc_grp = groupby_postcode(X_prc,list(train_df.postcode), postcode_to_ind_dct)"
   ]
  },
  {
   "cell_type": "code",
   "execution_count": 65,
   "id": "9168a2aa-8162-45d0-9404-8f6759381c33",
   "metadata": {
    "tags": []
   },
   "outputs": [
    {
     "data": {
      "text/plain": [
       "(95625, 882)"
      ]
     },
     "execution_count": 65,
     "metadata": {},
     "output_type": "execute_result"
    }
   ],
   "source": [
    "#postcode_to_ind_dct={v:k for (k, v) in postcode_to_ind_dct.items()}\n",
    "X_prc_grp.shape"
   ]
  },
  {
   "cell_type": "code",
   "execution_count": 66,
   "id": "3839e5ad-0736-45cb-94d1-909d63d8e0ed",
   "metadata": {},
   "outputs": [],
   "source": [
    "\n",
    "X_train, X_test_tmp, y_train, y_test_tmp = train_test_split(X_prc_grp, y, test_size=0.2)\n",
    "X_val, X_test, y_val, y_test = train_test_split(X_test_tmp, y_test_tmp, test_size=0.5)\n",
    "del X_test_tmp, y_test_tmp\n"
   ]
  },
  {
   "cell_type": "code",
   "execution_count": 67,
   "id": "251dc98a-d768-4938-9be3-40740d4985cc",
   "metadata": {},
   "outputs": [],
   "source": [
    "evalset = [(X_train, y_train), (X_val,y_val)]"
   ]
  },
  {
   "cell_type": "code",
   "execution_count": 72,
   "id": "029f9b36-e61c-4db4-a566-2990816ccf22",
   "metadata": {},
   "outputs": [],
   "source": [
    "len(X_train.columns),len(set(X_train.columns))\n",
    "X_train.columns = list(range(len(X_train.columns)))"
   ]
  },
  {
   "cell_type": "code",
   "execution_count": 73,
   "id": "2708b2a5-1080-432c-b484-10fbd1d4b5b0",
   "metadata": {},
   "outputs": [
    {
     "ename": "ValueError",
     "evalue": "feature_names must be unique",
     "output_type": "error",
     "traceback": [
      "\u001b[1;31m---------------------------------------------------------------------------\u001b[0m",
      "\u001b[1;31mValueError\u001b[0m                                Traceback (most recent call last)",
      "\u001b[1;32m~\\AppData\\Local\\Temp/ipykernel_29636/3564822686.py\u001b[0m in \u001b[0;36m<module>\u001b[1;34m\u001b[0m\n\u001b[0;32m     14\u001b[0m \u001b[0mkfold\u001b[0m \u001b[1;33m=\u001b[0m \u001b[0mKFold\u001b[0m\u001b[1;33m(\u001b[0m\u001b[0mn_splits\u001b[0m\u001b[1;33m=\u001b[0m\u001b[1;36m5\u001b[0m\u001b[1;33m,\u001b[0m \u001b[0mshuffle\u001b[0m\u001b[1;33m=\u001b[0m\u001b[1;32mTrue\u001b[0m\u001b[1;33m,\u001b[0m \u001b[0mrandom_state\u001b[0m\u001b[1;33m=\u001b[0m\u001b[1;36m10\u001b[0m\u001b[1;33m)\u001b[0m\u001b[1;33m\u001b[0m\u001b[1;33m\u001b[0m\u001b[0m\n\u001b[0;32m     15\u001b[0m \u001b[0mgrid_search\u001b[0m \u001b[1;33m=\u001b[0m \u001b[0mGridSearchCV\u001b[0m\u001b[1;33m(\u001b[0m\u001b[0mxgb_reg\u001b[0m\u001b[1;33m,\u001b[0m \u001b[0mparam_grid\u001b[0m\u001b[1;33m,\u001b[0m \u001b[0mscoring\u001b[0m\u001b[1;33m=\u001b[0m\u001b[1;34m\"neg_root_mean_squared_error\"\u001b[0m\u001b[1;33m,\u001b[0m \u001b[0mcv\u001b[0m\u001b[1;33m=\u001b[0m\u001b[0mkfold\u001b[0m\u001b[1;33m)\u001b[0m\u001b[1;33m\u001b[0m\u001b[1;33m\u001b[0m\u001b[0m\n\u001b[1;32m---> 16\u001b[1;33m \u001b[0mgrid_result\u001b[0m \u001b[1;33m=\u001b[0m \u001b[0mgrid_search\u001b[0m\u001b[1;33m.\u001b[0m\u001b[0mfit\u001b[0m\u001b[1;33m(\u001b[0m\u001b[0mX_train\u001b[0m\u001b[1;33m,\u001b[0m \u001b[0my_train\u001b[0m\u001b[1;33m,\u001b[0m \u001b[0mverbose\u001b[0m\u001b[1;33m=\u001b[0m\u001b[1;36m0\u001b[0m\u001b[1;33m,\u001b[0m \u001b[0meval_set\u001b[0m\u001b[1;33m=\u001b[0m\u001b[0mevalset\u001b[0m\u001b[1;33m)\u001b[0m\u001b[1;33m\u001b[0m\u001b[1;33m\u001b[0m\u001b[0m\n\u001b[0m\u001b[0;32m     17\u001b[0m \u001b[1;33m\u001b[0m\u001b[0m\n\u001b[0;32m     18\u001b[0m \u001b[1;31m# summarize results\u001b[0m\u001b[1;33m\u001b[0m\u001b[1;33m\u001b[0m\u001b[0m\n",
      "\u001b[1;32m~\\anaconda3\\envs\\AutoML\\lib\\site-packages\\sklearn\\model_selection\\_search.py\u001b[0m in \u001b[0;36mfit\u001b[1;34m(self, X, y, groups, **fit_params)\u001b[0m\n\u001b[0;32m    924\u001b[0m             \u001b[0mrefit_start_time\u001b[0m \u001b[1;33m=\u001b[0m \u001b[0mtime\u001b[0m\u001b[1;33m.\u001b[0m\u001b[0mtime\u001b[0m\u001b[1;33m(\u001b[0m\u001b[1;33m)\u001b[0m\u001b[1;33m\u001b[0m\u001b[1;33m\u001b[0m\u001b[0m\n\u001b[0;32m    925\u001b[0m             \u001b[1;32mif\u001b[0m \u001b[0my\u001b[0m \u001b[1;32mis\u001b[0m \u001b[1;32mnot\u001b[0m \u001b[1;32mNone\u001b[0m\u001b[1;33m:\u001b[0m\u001b[1;33m\u001b[0m\u001b[1;33m\u001b[0m\u001b[0m\n\u001b[1;32m--> 926\u001b[1;33m                 \u001b[0mself\u001b[0m\u001b[1;33m.\u001b[0m\u001b[0mbest_estimator_\u001b[0m\u001b[1;33m.\u001b[0m\u001b[0mfit\u001b[0m\u001b[1;33m(\u001b[0m\u001b[0mX\u001b[0m\u001b[1;33m,\u001b[0m \u001b[0my\u001b[0m\u001b[1;33m,\u001b[0m \u001b[1;33m**\u001b[0m\u001b[0mfit_params\u001b[0m\u001b[1;33m)\u001b[0m\u001b[1;33m\u001b[0m\u001b[1;33m\u001b[0m\u001b[0m\n\u001b[0m\u001b[0;32m    927\u001b[0m             \u001b[1;32melse\u001b[0m\u001b[1;33m:\u001b[0m\u001b[1;33m\u001b[0m\u001b[1;33m\u001b[0m\u001b[0m\n\u001b[0;32m    928\u001b[0m                 \u001b[0mself\u001b[0m\u001b[1;33m.\u001b[0m\u001b[0mbest_estimator_\u001b[0m\u001b[1;33m.\u001b[0m\u001b[0mfit\u001b[0m\u001b[1;33m(\u001b[0m\u001b[0mX\u001b[0m\u001b[1;33m,\u001b[0m \u001b[1;33m**\u001b[0m\u001b[0mfit_params\u001b[0m\u001b[1;33m)\u001b[0m\u001b[1;33m\u001b[0m\u001b[1;33m\u001b[0m\u001b[0m\n",
      "\u001b[1;32m~\\anaconda3\\envs\\AutoML\\lib\\site-packages\\xgboost\\core.py\u001b[0m in \u001b[0;36minner_f\u001b[1;34m(*args, **kwargs)\u001b[0m\n\u001b[0;32m    504\u001b[0m         \u001b[1;32mfor\u001b[0m \u001b[0mk\u001b[0m\u001b[1;33m,\u001b[0m \u001b[0marg\u001b[0m \u001b[1;32min\u001b[0m \u001b[0mzip\u001b[0m\u001b[1;33m(\u001b[0m\u001b[0msig\u001b[0m\u001b[1;33m.\u001b[0m\u001b[0mparameters\u001b[0m\u001b[1;33m,\u001b[0m \u001b[0margs\u001b[0m\u001b[1;33m)\u001b[0m\u001b[1;33m:\u001b[0m\u001b[1;33m\u001b[0m\u001b[1;33m\u001b[0m\u001b[0m\n\u001b[0;32m    505\u001b[0m             \u001b[0mkwargs\u001b[0m\u001b[1;33m[\u001b[0m\u001b[0mk\u001b[0m\u001b[1;33m]\u001b[0m \u001b[1;33m=\u001b[0m \u001b[0marg\u001b[0m\u001b[1;33m\u001b[0m\u001b[1;33m\u001b[0m\u001b[0m\n\u001b[1;32m--> 506\u001b[1;33m         \u001b[1;32mreturn\u001b[0m \u001b[0mf\u001b[0m\u001b[1;33m(\u001b[0m\u001b[1;33m**\u001b[0m\u001b[0mkwargs\u001b[0m\u001b[1;33m)\u001b[0m\u001b[1;33m\u001b[0m\u001b[1;33m\u001b[0m\u001b[0m\n\u001b[0m\u001b[0;32m    507\u001b[0m \u001b[1;33m\u001b[0m\u001b[0m\n\u001b[0;32m    508\u001b[0m     \u001b[1;32mreturn\u001b[0m \u001b[0minner_f\u001b[0m\u001b[1;33m\u001b[0m\u001b[1;33m\u001b[0m\u001b[0m\n",
      "\u001b[1;32m~\\anaconda3\\envs\\AutoML\\lib\\site-packages\\xgboost\\sklearn.py\u001b[0m in \u001b[0;36mfit\u001b[1;34m(self, X, y, sample_weight, base_margin, eval_set, eval_metric, early_stopping_rounds, verbose, xgb_model, sample_weight_eval_set, base_margin_eval_set, feature_weights, callbacks)\u001b[0m\n\u001b[0;32m    759\u001b[0m         \"\"\"\n\u001b[0;32m    760\u001b[0m         \u001b[0mevals_result\u001b[0m\u001b[1;33m:\u001b[0m \u001b[0mTrainingCallback\u001b[0m\u001b[1;33m.\u001b[0m\u001b[0mEvalsLog\u001b[0m \u001b[1;33m=\u001b[0m \u001b[1;33m{\u001b[0m\u001b[1;33m}\u001b[0m\u001b[1;33m\u001b[0m\u001b[1;33m\u001b[0m\u001b[0m\n\u001b[1;32m--> 761\u001b[1;33m         train_dmatrix, evals = _wrap_evaluation_matrices(\n\u001b[0m\u001b[0;32m    762\u001b[0m             \u001b[0mmissing\u001b[0m\u001b[1;33m=\u001b[0m\u001b[0mself\u001b[0m\u001b[1;33m.\u001b[0m\u001b[0mmissing\u001b[0m\u001b[1;33m,\u001b[0m\u001b[1;33m\u001b[0m\u001b[1;33m\u001b[0m\u001b[0m\n\u001b[0;32m    763\u001b[0m             \u001b[0mX\u001b[0m\u001b[1;33m=\u001b[0m\u001b[0mX\u001b[0m\u001b[1;33m,\u001b[0m\u001b[1;33m\u001b[0m\u001b[1;33m\u001b[0m\u001b[0m\n",
      "\u001b[1;32m~\\anaconda3\\envs\\AutoML\\lib\\site-packages\\xgboost\\sklearn.py\u001b[0m in \u001b[0;36m_wrap_evaluation_matrices\u001b[1;34m(missing, X, y, group, qid, sample_weight, base_margin, feature_weights, eval_set, sample_weight_eval_set, base_margin_eval_set, eval_group, eval_qid, create_dmatrix, enable_categorical, label_transform)\u001b[0m\n\u001b[0;32m    332\u001b[0m                 \u001b[0mevals\u001b[0m\u001b[1;33m.\u001b[0m\u001b[0mappend\u001b[0m\u001b[1;33m(\u001b[0m\u001b[0mtrain_dmatrix\u001b[0m\u001b[1;33m)\u001b[0m\u001b[1;33m\u001b[0m\u001b[1;33m\u001b[0m\u001b[0m\n\u001b[0;32m    333\u001b[0m             \u001b[1;32melse\u001b[0m\u001b[1;33m:\u001b[0m\u001b[1;33m\u001b[0m\u001b[1;33m\u001b[0m\u001b[0m\n\u001b[1;32m--> 334\u001b[1;33m                 m = create_dmatrix(\n\u001b[0m\u001b[0;32m    335\u001b[0m                     \u001b[0mdata\u001b[0m\u001b[1;33m=\u001b[0m\u001b[0mvalid_X\u001b[0m\u001b[1;33m,\u001b[0m\u001b[1;33m\u001b[0m\u001b[1;33m\u001b[0m\u001b[0m\n\u001b[0;32m    336\u001b[0m                     \u001b[0mlabel\u001b[0m\u001b[1;33m=\u001b[0m\u001b[0mlabel_transform\u001b[0m\u001b[1;33m(\u001b[0m\u001b[0mvalid_y\u001b[0m\u001b[1;33m)\u001b[0m\u001b[1;33m,\u001b[0m\u001b[1;33m\u001b[0m\u001b[1;33m\u001b[0m\u001b[0m\n",
      "\u001b[1;32m~\\anaconda3\\envs\\AutoML\\lib\\site-packages\\xgboost\\sklearn.py\u001b[0m in \u001b[0;36m<lambda>\u001b[1;34m(**kwargs)\u001b[0m\n\u001b[0;32m    773\u001b[0m             \u001b[0meval_group\u001b[0m\u001b[1;33m=\u001b[0m\u001b[1;32mNone\u001b[0m\u001b[1;33m,\u001b[0m\u001b[1;33m\u001b[0m\u001b[1;33m\u001b[0m\u001b[0m\n\u001b[0;32m    774\u001b[0m             \u001b[0meval_qid\u001b[0m\u001b[1;33m=\u001b[0m\u001b[1;32mNone\u001b[0m\u001b[1;33m,\u001b[0m\u001b[1;33m\u001b[0m\u001b[1;33m\u001b[0m\u001b[0m\n\u001b[1;32m--> 775\u001b[1;33m             \u001b[0mcreate_dmatrix\u001b[0m\u001b[1;33m=\u001b[0m\u001b[1;32mlambda\u001b[0m \u001b[1;33m**\u001b[0m\u001b[0mkwargs\u001b[0m\u001b[1;33m:\u001b[0m \u001b[0mDMatrix\u001b[0m\u001b[1;33m(\u001b[0m\u001b[0mnthread\u001b[0m\u001b[1;33m=\u001b[0m\u001b[0mself\u001b[0m\u001b[1;33m.\u001b[0m\u001b[0mn_jobs\u001b[0m\u001b[1;33m,\u001b[0m \u001b[1;33m**\u001b[0m\u001b[0mkwargs\u001b[0m\u001b[1;33m)\u001b[0m\u001b[1;33m,\u001b[0m\u001b[1;33m\u001b[0m\u001b[1;33m\u001b[0m\u001b[0m\n\u001b[0m\u001b[0;32m    776\u001b[0m             \u001b[0menable_categorical\u001b[0m\u001b[1;33m=\u001b[0m\u001b[0mself\u001b[0m\u001b[1;33m.\u001b[0m\u001b[0menable_categorical\u001b[0m\u001b[1;33m,\u001b[0m\u001b[1;33m\u001b[0m\u001b[1;33m\u001b[0m\u001b[0m\n\u001b[0;32m    777\u001b[0m         )\n",
      "\u001b[1;32m~\\anaconda3\\envs\\AutoML\\lib\\site-packages\\xgboost\\core.py\u001b[0m in \u001b[0;36minner_f\u001b[1;34m(*args, **kwargs)\u001b[0m\n\u001b[0;32m    504\u001b[0m         \u001b[1;32mfor\u001b[0m \u001b[0mk\u001b[0m\u001b[1;33m,\u001b[0m \u001b[0marg\u001b[0m \u001b[1;32min\u001b[0m \u001b[0mzip\u001b[0m\u001b[1;33m(\u001b[0m\u001b[0msig\u001b[0m\u001b[1;33m.\u001b[0m\u001b[0mparameters\u001b[0m\u001b[1;33m,\u001b[0m \u001b[0margs\u001b[0m\u001b[1;33m)\u001b[0m\u001b[1;33m:\u001b[0m\u001b[1;33m\u001b[0m\u001b[1;33m\u001b[0m\u001b[0m\n\u001b[0;32m    505\u001b[0m             \u001b[0mkwargs\u001b[0m\u001b[1;33m[\u001b[0m\u001b[0mk\u001b[0m\u001b[1;33m]\u001b[0m \u001b[1;33m=\u001b[0m \u001b[0marg\u001b[0m\u001b[1;33m\u001b[0m\u001b[1;33m\u001b[0m\u001b[0m\n\u001b[1;32m--> 506\u001b[1;33m         \u001b[1;32mreturn\u001b[0m \u001b[0mf\u001b[0m\u001b[1;33m(\u001b[0m\u001b[1;33m**\u001b[0m\u001b[0mkwargs\u001b[0m\u001b[1;33m)\u001b[0m\u001b[1;33m\u001b[0m\u001b[1;33m\u001b[0m\u001b[0m\n\u001b[0m\u001b[0;32m    507\u001b[0m \u001b[1;33m\u001b[0m\u001b[0m\n\u001b[0;32m    508\u001b[0m     \u001b[1;32mreturn\u001b[0m \u001b[0minner_f\u001b[0m\u001b[1;33m\u001b[0m\u001b[1;33m\u001b[0m\u001b[0m\n",
      "\u001b[1;32m~\\anaconda3\\envs\\AutoML\\lib\\site-packages\\xgboost\\core.py\u001b[0m in \u001b[0;36m__init__\u001b[1;34m(self, data, label, weight, base_margin, missing, silent, feature_names, feature_types, nthread, group, qid, label_lower_bound, label_upper_bound, feature_weights, enable_categorical)\u001b[0m\n\u001b[0;32m    637\u001b[0m \u001b[1;33m\u001b[0m\u001b[0m\n\u001b[0;32m    638\u001b[0m         \u001b[1;32mif\u001b[0m \u001b[0mfeature_names\u001b[0m \u001b[1;32mis\u001b[0m \u001b[1;32mnot\u001b[0m \u001b[1;32mNone\u001b[0m\u001b[1;33m:\u001b[0m\u001b[1;33m\u001b[0m\u001b[1;33m\u001b[0m\u001b[0m\n\u001b[1;32m--> 639\u001b[1;33m             \u001b[0mself\u001b[0m\u001b[1;33m.\u001b[0m\u001b[0mfeature_names\u001b[0m \u001b[1;33m=\u001b[0m \u001b[0mfeature_names\u001b[0m\u001b[1;33m\u001b[0m\u001b[1;33m\u001b[0m\u001b[0m\n\u001b[0m\u001b[0;32m    640\u001b[0m         \u001b[1;32mif\u001b[0m \u001b[0mfeature_types\u001b[0m \u001b[1;32mis\u001b[0m \u001b[1;32mnot\u001b[0m \u001b[1;32mNone\u001b[0m\u001b[1;33m:\u001b[0m\u001b[1;33m\u001b[0m\u001b[1;33m\u001b[0m\u001b[0m\n\u001b[0;32m    641\u001b[0m             \u001b[0mself\u001b[0m\u001b[1;33m.\u001b[0m\u001b[0mfeature_types\u001b[0m \u001b[1;33m=\u001b[0m \u001b[0mfeature_types\u001b[0m\u001b[1;33m\u001b[0m\u001b[1;33m\u001b[0m\u001b[0m\n",
      "\u001b[1;32m~\\anaconda3\\envs\\AutoML\\lib\\site-packages\\xgboost\\core.py\u001b[0m in \u001b[0;36mfeature_names\u001b[1;34m(self, feature_names)\u001b[0m\n\u001b[0;32m    998\u001b[0m \u001b[1;33m\u001b[0m\u001b[0m\n\u001b[0;32m    999\u001b[0m             \u001b[1;32mif\u001b[0m \u001b[0mlen\u001b[0m\u001b[1;33m(\u001b[0m\u001b[0mfeature_names\u001b[0m\u001b[1;33m)\u001b[0m \u001b[1;33m!=\u001b[0m \u001b[0mlen\u001b[0m\u001b[1;33m(\u001b[0m\u001b[0mset\u001b[0m\u001b[1;33m(\u001b[0m\u001b[0mfeature_names\u001b[0m\u001b[1;33m)\u001b[0m\u001b[1;33m)\u001b[0m\u001b[1;33m:\u001b[0m\u001b[1;33m\u001b[0m\u001b[1;33m\u001b[0m\u001b[0m\n\u001b[1;32m-> 1000\u001b[1;33m                 \u001b[1;32mraise\u001b[0m \u001b[0mValueError\u001b[0m\u001b[1;33m(\u001b[0m\u001b[1;34m'feature_names must be unique'\u001b[0m\u001b[1;33m)\u001b[0m\u001b[1;33m\u001b[0m\u001b[1;33m\u001b[0m\u001b[0m\n\u001b[0m\u001b[0;32m   1001\u001b[0m             \u001b[1;32mif\u001b[0m \u001b[0mlen\u001b[0m\u001b[1;33m(\u001b[0m\u001b[0mfeature_names\u001b[0m\u001b[1;33m)\u001b[0m \u001b[1;33m!=\u001b[0m \u001b[0mself\u001b[0m\u001b[1;33m.\u001b[0m\u001b[0mnum_col\u001b[0m\u001b[1;33m(\u001b[0m\u001b[1;33m)\u001b[0m \u001b[1;32mand\u001b[0m \u001b[0mself\u001b[0m\u001b[1;33m.\u001b[0m\u001b[0mnum_col\u001b[0m\u001b[1;33m(\u001b[0m\u001b[1;33m)\u001b[0m \u001b[1;33m!=\u001b[0m \u001b[1;36m0\u001b[0m\u001b[1;33m:\u001b[0m\u001b[1;33m\u001b[0m\u001b[1;33m\u001b[0m\u001b[0m\n\u001b[0;32m   1002\u001b[0m                 msg = (\"feature_names must have the same length as data, \",\n",
      "\u001b[1;31mValueError\u001b[0m: feature_names must be unique"
     ]
    }
   ],
   "source": [
    "# BASIC TUNE PARAMS \n",
    "\n",
    "start_time=time.time()\n",
    "\n",
    "# grid search\n",
    "xgb_reg = XGBRegressor(tree_method = \"gpu_hist\",single_precision_histogram=True, gpu_id=0)\n",
    "\n",
    "param_grid = {\n",
    "        'max_depth': [6, 9, 12],\n",
    "        'learning_rate': [0.03, 0.05, 0.07],\n",
    "        'n_estimators':[1500, 1800, 2100],\n",
    "                               }\n",
    "\n",
    "kfold = KFold(n_splits=5, shuffle=True, random_state=10)\n",
    "grid_search = GridSearchCV(xgb_reg, param_grid, scoring=\"neg_root_mean_squared_error\", cv=kfold)\n",
    "grid_result = grid_search.fit(X_train, y_train, verbose=0, eval_set=evalset)\n",
    "\n",
    "# summarize results\n",
    "print(\"Best: %f using %s\" % (grid_result.best_score_, grid_result.best_params_))\n",
    "means = grid_result.cv_results_[ 'mean_test_score' ]\n",
    "stds = grid_result.cv_results_[ 'std_test_score' ]\n",
    "params = grid_result.cv_results_[ 'params' ]\n",
    "\n",
    "print(time.time()-start_time)"
   ]
  },
  {
   "cell_type": "code",
   "execution_count": 31,
   "id": "f49018b8-39ad-41f4-9e54-a097b991afc8",
   "metadata": {},
   "outputs": [],
   "source": [
    "model = XGBRegressor(tree_method = \"gpu_hist\",single_precision_histogram=True, gpu_id=0, **grid_result.best_params_)\n",
    "model.fit(X_train,y_train)\n",
    "y_pred = model.predict(X_test)"
   ]
  },
  {
   "cell_type": "code",
   "execution_count": 151,
   "id": "d789d210-b193-4607-8c1f-dd002e28aba8",
   "metadata": {},
   "outputs": [
    {
     "data": {
      "text/plain": [
       "<AxesSubplot:>"
      ]
     },
     "execution_count": 151,
     "metadata": {},
     "output_type": "execute_result"
    },
    {
     "data": {
      "image/png": "[encoded data removed]",
      "text/plain": [
       "<Figure size 576x396 with 1 Axes>"
      ]
     },
     "metadata": {},
     "output_type": "display_data"
    }
   ],
   "source": [
    "pd.Series(np.exp(y_pred)).hist(bins=50)"
   ]
  },
  {
   "cell_type": "code",
   "execution_count": 32,
   "id": "d8ba251d-c66e-47ca-a07d-813767d4d956",
   "metadata": {},
   "outputs": [
    {
     "data": {
      "text/html": [
       "<div>\n",
       "<style scoped>\n",
       "    .dataframe tbody tr th:only-of-type {\n",
       "        vertical-align: middle;\n",
       "    }\n",
       "\n",
       "    .dataframe tbody tr th {\n",
       "        vertical-align: top;\n",
       "    }\n",
       "\n",
       "    .dataframe thead th {\n",
       "        text-align: right;\n",
       "    }\n",
       "</style>\n",
       "<table border=\"1\" class=\"dataframe\">\n",
       "  <thead>\n",
       "    <tr style=\"text-align: right;\">\n",
       "      <th></th>\n",
       "      <th>model</th>\n",
       "      <th>rmse</th>\n",
       "      <th>r2</th>\n",
       "      <th>mape</th>\n",
       "    </tr>\n",
       "  </thead>\n",
       "  <tbody>\n",
       "    <tr>\n",
       "      <th>0</th>\n",
       "      <td>GridSearchCV XGBReg</td>\n",
       "      <td>0.198924</td>\n",
       "      <td>0.93387</td>\n",
       "      <td>7.165031</td>\n",
       "    </tr>\n",
       "  </tbody>\n",
       "</table>\n",
       "</div>"
      ],
      "text/plain": [
       "                 model      rmse       r2      mape\n",
       "0  GridSearchCV XGBReg  0.198924  0.93387  7.165031"
      ]
     },
     "execution_count": 32,
     "metadata": {},
     "output_type": "execute_result"
    }
   ],
   "source": [
    "pred = np.exp(y_pred)\n",
    "y_val_s = np.exp(y_test)\n",
    "res_row_obj = reg_metrics.calc_results(pred, y_val_s,'GridSearchCV XGBReg')\n",
    "row = res_row_obj.calc_results_row()\n",
    "results_df = results_df.append(row,ignore_index=True)\n",
    "results_df"
   ]
  },
  {
   "cell_type": "code",
   "execution_count": 35,
   "id": "3c7032bd-c450-4d67-8044-b18ba29ac9ca",
   "metadata": {},
   "outputs": [
    {
     "data": {
      "text/plain": [
       "{'learning_rate': 0.03, 'max_depth': 9, 'n_estimators': 1500}"
      ]
     },
     "execution_count": 35,
     "metadata": {},
     "output_type": "execute_result"
    }
   ],
   "source": [
    "grid_result.best_params_ #{'learning_rate': 0.03, 'max_depth': 9, 'n_estimators': 1500}"
   ]
  },
  {
   "cell_type": "markdown",
   "id": "a6a9c102-068b-40cb-b471-f2d29763de8b",
   "metadata": {},
   "source": [
    "# TEST"
   ]
  },
  {
   "cell_type": "code",
   "execution_count": 53,
   "id": "ff74f2db-38e6-44d4-bdd0-dfacf5028ee1",
   "metadata": {},
   "outputs": [],
   "source": [
    "full_X_arr = np.vstack((X_train_prc,X_val_prc,X_test_prc))\n",
    "full_y_arr = np.hstack((y_train, y_val, y_test)) #hstack since one dim"
   ]
  },
  {
   "cell_type": "code",
   "execution_count": 54,
   "id": "145d01e0-e675-4175-8c58-fec99d2b5341",
   "metadata": {},
   "outputs": [
    {
     "data": {
      "text/plain": [
       "XGBRegressor(base_score=0.5, booster='gbtree', colsample_bylevel=1,\n",
       "             colsample_bynode=1, colsample_bytree=1, enable_categorical=False,\n",
       "             gamma=0, gpu_id=0, importance_type=None,\n",
       "             interaction_constraints='', learning_rate=0.03, max_delta_step=0,\n",
       "             max_depth=9, min_child_weight=1, missing=nan,\n",
       "             monotone_constraints='()', n_estimators=1500, n_jobs=12,\n",
       "             num_parallel_tree=1, predictor='auto', random_state=0, reg_alpha=0,\n",
       "             reg_lambda=1, scale_pos_weight=1, single_precision_histogram=True,\n",
       "             subsample=1, tree_method='gpu_hist', validate_parameters=1,\n",
       "             verbosity=None)"
      ]
     },
     "execution_count": 54,
     "metadata": {},
     "output_type": "execute_result"
    }
   ],
   "source": [
    "#train on full dataset\n",
    "model = XGBRegressor(tree_method = \"gpu_hist\",single_precision_histogram=True, gpu_id=0, **grid_result.best_params_)\n",
    "model.fit(full_X_arr,full_y_arr)\n"
   ]
  },
  {
   "cell_type": "code",
   "execution_count": 57,
   "id": "7c3dbd6c-846c-434c-af06-60523aa075f4",
   "metadata": {},
   "outputs": [],
   "source": [
    "model.save_model('GridSearch_XGBoost_mdl.bin')"
   ]
  },
  {
   "cell_type": "code",
   "execution_count": null,
   "id": "b0a78a51-0439-4e88-a1fe-f0afc0be76dc",
   "metadata": {},
   "outputs": [],
   "source": [
    "# do not forget to exp predictions"
   ]
  },
  {
   "cell_type": "code",
   "execution_count": 71,
   "id": "7648f872-46bf-40f2-949a-74609ac403ac",
   "metadata": {},
   "outputs": [],
   "source": [
    "X_test_prc = preprocessor.transform(test_enriched_df)"
   ]
  },
  {
   "cell_type": "code",
   "execution_count": 72,
   "id": "73d0b15e-34b1-4c0e-b224-b1284a41043c",
   "metadata": {},
   "outputs": [],
   "source": [
    "test_preds = model.predict(X_test_prc)"
   ]
  },
  {
   "cell_type": "code",
   "execution_count": 75,
   "id": "f448fb8d-5986-464e-b8da-4f1c6aeb875c",
   "metadata": {},
   "outputs": [],
   "source": [
    "test_df['Accident_risk_index'] = np.exp(test_preds)"
   ]
  },
  {
   "cell_type": "code",
   "execution_count": 85,
   "id": "79eebee8-970c-4338-b19d-e35aa49d86eb",
   "metadata": {},
   "outputs": [
    {
     "data": {
      "text/plain": [
       "'D:\\\\Projects\\\\FailSafe_500\\\\12. Accident Risk'"
      ]
     },
     "execution_count": 85,
     "metadata": {},
     "output_type": "execute_result"
    }
   ],
   "source": [
    "os.getcwd()"
   ]
  },
  {
   "cell_type": "code",
   "execution_count": 88,
   "id": "4a1afa84-2569-4111-a90a-dc85258be3f9",
   "metadata": {
    "tags": []
   },
   "outputs": [],
   "source": [
    "test_df[['postcode','Accident_risk_index']].to_pickle('s1')  #to_csv(index=False) #to_csv('.//s1.csv')"
   ]
  },
  {
   "cell_type": "code",
   "execution_count": 81,
   "id": "ec8052f5-31e9-4dc1-a974-cfa20dc2f649",
   "metadata": {},
   "outputs": [
    {
     "data": {
      "text/html": [
       "<div>\n",
       "<style scoped>\n",
       "    .dataframe tbody tr th:only-of-type {\n",
       "        vertical-align: middle;\n",
       "    }\n",
       "\n",
       "    .dataframe tbody tr th {\n",
       "        vertical-align: top;\n",
       "    }\n",
       "\n",
       "    .dataframe thead th {\n",
       "        text-align: right;\n",
       "    }\n",
       "</style>\n",
       "<table border=\"1\" class=\"dataframe\">\n",
       "  <thead>\n",
       "    <tr style=\"text-align: right;\">\n",
       "      <th></th>\n",
       "      <th>postcode</th>\n",
       "      <th>Accident_risk_index</th>\n",
       "    </tr>\n",
       "  </thead>\n",
       "  <tbody>\n",
       "    <tr>\n",
       "      <th>22065</th>\n",
       "      <td>LE2 5WP</td>\n",
       "      <td>0</td>\n",
       "    </tr>\n",
       "    <tr>\n",
       "      <th>8548</th>\n",
       "      <td>CV32 6RW</td>\n",
       "      <td>0</td>\n",
       "    </tr>\n",
       "  </tbody>\n",
       "</table>\n",
       "</div>"
      ],
      "text/plain": [
       "       postcode  Accident_risk_index\n",
       "22065   LE2 5WP                    0\n",
       "8548   CV32 6RW                    0"
      ]
     },
     "execution_count": 81,
     "metadata": {},
     "output_type": "execute_result"
    }
   ],
   "source": [
    "pd.read_csv('./Participants_dataset/sample_submission.csv').sample(2)"
   ]
  },
  {
   "cell_type": "code",
   "execution_count": 104,
   "id": "2fbb8152-cfa2-4a91-9759-00f19f0ce27d",
   "metadata": {},
   "outputs": [
    {
     "data": {
      "text/plain": [
       "(121259, 27)"
      ]
     },
     "execution_count": 104,
     "metadata": {},
     "output_type": "execute_result"
    }
   ],
   "source": [
    "pd.read_csv('./Participants_dataset/test.csv').shape"
   ]
  },
  {
   "cell_type": "code",
   "execution_count": 107,
   "id": "a7412a45-2f94-40e7-9bf6-22e3020549f1",
   "metadata": {},
   "outputs": [
    {
     "data": {
      "text/plain": [
       "(49772,)"
      ]
     },
     "execution_count": 107,
     "metadata": {},
     "output_type": "execute_result"
    }
   ],
   "source": [
    "test_df.postcode.unique().shape"
   ]
  },
  {
   "cell_type": "code",
   "execution_count": 82,
   "id": "295c838e-1453-428c-9f84-dedc93ee4867",
   "metadata": {},
   "outputs": [
    {
     "ename": "ImportError",
     "evalue": "cannot import name 'FilePath' from 'pandas._typing' (C:\\Users\\nikig\\anaconda3\\envs\\AutoML\\lib\\site-packages\\pandas\\_typing.py)",
     "output_type": "error",
     "traceback": [
      "\u001b[1;31m---------------------------------------------------------------------------\u001b[0m",
      "\u001b[1;31mImportError\u001b[0m                               Traceback (most recent call last)",
      "\u001b[1;32m~\\AppData\\Local\\Temp/ipykernel_4328/3864195486.py\u001b[0m in \u001b[0;36m<module>\u001b[1;34m\u001b[0m\n\u001b[1;32m----> 1\u001b[1;33m \u001b[0mtest_df\u001b[0m\u001b[1;33m.\u001b[0m\u001b[0mto_csv\u001b[0m\u001b[1;33m(\u001b[0m\u001b[1;34m'test_df'\u001b[0m\u001b[1;33m)\u001b[0m\u001b[1;33m\u001b[0m\u001b[1;33m\u001b[0m\u001b[0m\n\u001b[0m",
      "\u001b[1;32m~\\anaconda3\\envs\\AutoML\\lib\\site-packages\\pandas\\core\\generic.py\u001b[0m in \u001b[0;36mto_csv\u001b[1;34m(self, path_or_buf, sep, na_rep, float_format, columns, header, index, index_label, mode, encoding, compression, quoting, quotechar, line_terminator, chunksize, date_format, doublequote, escapechar, decimal, errors, storage_options)\u001b[0m\n\u001b[0;32m   3464\u001b[0m                \u001b[0mcompression\u001b[0m \u001b[0mmode\u001b[0m \u001b[1;32mis\u001b[0m \u001b[1;34m'zip'\u001b[0m\u001b[1;33m.\u001b[0m\u001b[1;33m\u001b[0m\u001b[1;33m\u001b[0m\u001b[0m\n\u001b[0;32m   3465\u001b[0m \u001b[1;33m\u001b[0m\u001b[0m\n\u001b[1;32m-> 3466\u001b[1;33m             \u001b[1;33m.\u001b[0m\u001b[1;33m.\u001b[0m \u001b[0mversionchanged\u001b[0m\u001b[1;33m:\u001b[0m\u001b[1;33m:\u001b[0m \u001b[1;36m1.1\u001b[0m\u001b[1;36m.0\u001b[0m\u001b[1;33m\u001b[0m\u001b[1;33m\u001b[0m\u001b[0m\n\u001b[0m\u001b[0;32m   3467\u001b[0m \u001b[1;33m\u001b[0m\u001b[0m\n\u001b[0;32m   3468\u001b[0m                \u001b[0mPassing\u001b[0m \u001b[0mcompression\u001b[0m \u001b[0moptions\u001b[0m \u001b[1;32mas\u001b[0m \u001b[0mkeys\u001b[0m \u001b[1;32min\u001b[0m \u001b[0mdict\u001b[0m \u001b[1;32mis\u001b[0m\u001b[1;33m\u001b[0m\u001b[1;33m\u001b[0m\u001b[0m\n",
      "\u001b[1;32m~\\anaconda3\\envs\\AutoML\\lib\\site-packages\\pandas\\io\\formats\\format.py\u001b[0m in \u001b[0;36mto_csv\u001b[1;34m(self, path_or_buf, encoding, sep, columns, index_label, mode, compression, quoting, quotechar, line_terminator, chunksize, date_format, doublequote, escapechar, errors, storage_options)\u001b[0m\n\u001b[0;32m   1076\u001b[0m             \u001b[0mclasses\u001b[0m \u001b[0mto\u001b[0m \u001b[0minclude\u001b[0m \u001b[1;32min\u001b[0m \u001b[0mthe\u001b[0m\u001b[0;31m \u001b[0m\u001b[0;31m`\u001b[0m\u001b[1;32mclass\u001b[0m\u001b[0;31m`\u001b[0m \u001b[0mattribute\u001b[0m \u001b[0mof\u001b[0m \u001b[0mthe\u001b[0m \u001b[0mopening\u001b[0m\u001b[1;33m\u001b[0m\u001b[1;33m\u001b[0m\u001b[0m\n\u001b[0;32m   1077\u001b[0m             \u001b[0;31m`\u001b[0m\u001b[0;31m`\u001b[0m\u001b[1;33m<\u001b[0m\u001b[0mtable\u001b[0m\u001b[1;33m>\u001b[0m\u001b[0;31m`\u001b[0m\u001b[0;31m`\u001b[0m \u001b[0mtag\u001b[0m\u001b[1;33m,\u001b[0m \u001b[1;32min\u001b[0m \u001b[0maddition\u001b[0m \u001b[0mto\u001b[0m \u001b[0mthe\u001b[0m \u001b[0mdefault\u001b[0m \u001b[1;34m\"dataframe\"\u001b[0m\u001b[1;33m.\u001b[0m\u001b[1;33m\u001b[0m\u001b[1;33m\u001b[0m\u001b[0m\n\u001b[1;32m-> 1078\u001b[1;33m         \u001b[0mnotebook\u001b[0m \u001b[1;33m:\u001b[0m \u001b[1;33m{\u001b[0m\u001b[1;32mTrue\u001b[0m\u001b[1;33m,\u001b[0m \u001b[1;32mFalse\u001b[0m\u001b[1;33m}\u001b[0m\u001b[1;33m,\u001b[0m \u001b[0moptional\u001b[0m\u001b[1;33m,\u001b[0m \u001b[0mdefault\u001b[0m \u001b[1;32mFalse\u001b[0m\u001b[1;33m\u001b[0m\u001b[1;33m\u001b[0m\u001b[0m\n\u001b[0m\u001b[0;32m   1079\u001b[0m             \u001b[0mWhether\u001b[0m \u001b[0mthe\u001b[0m \u001b[0mgenerated\u001b[0m \u001b[0mHTML\u001b[0m \u001b[1;32mis\u001b[0m \u001b[1;32mfor\u001b[0m \u001b[0mIPython\u001b[0m \u001b[0mNotebook\u001b[0m\u001b[1;33m.\u001b[0m\u001b[1;33m\u001b[0m\u001b[1;33m\u001b[0m\u001b[0m\n\u001b[0;32m   1080\u001b[0m         \u001b[0mborder\u001b[0m \u001b[1;33m:\u001b[0m \u001b[0mint\u001b[0m\u001b[1;33m\u001b[0m\u001b[1;33m\u001b[0m\u001b[0m\n",
      "\u001b[1;32m~\\anaconda3\\envs\\AutoML\\lib\\site-packages\\pandas\\io\\formats\\csvs.py\u001b[0m in \u001b[0;36m<module>\u001b[1;34m\u001b[0m\n\u001b[0;32m     19\u001b[0m \u001b[1;33m\u001b[0m\u001b[0m\n\u001b[0;32m     20\u001b[0m \u001b[1;32mfrom\u001b[0m \u001b[0mpandas\u001b[0m\u001b[1;33m.\u001b[0m\u001b[0m_libs\u001b[0m \u001b[1;32mimport\u001b[0m \u001b[0mwriters\u001b[0m \u001b[1;32mas\u001b[0m \u001b[0mlibwriters\u001b[0m\u001b[1;33m\u001b[0m\u001b[1;33m\u001b[0m\u001b[0m\n\u001b[1;32m---> 21\u001b[1;33m from pandas._typing import (\n\u001b[0m\u001b[0;32m     22\u001b[0m     \u001b[0mCompressionOptions\u001b[0m\u001b[1;33m,\u001b[0m\u001b[1;33m\u001b[0m\u001b[1;33m\u001b[0m\u001b[0m\n\u001b[0;32m     23\u001b[0m     \u001b[0mFilePath\u001b[0m\u001b[1;33m,\u001b[0m\u001b[1;33m\u001b[0m\u001b[1;33m\u001b[0m\u001b[0m\n",
      "\u001b[1;31mImportError\u001b[0m: cannot import name 'FilePath' from 'pandas._typing' (C:\\Users\\nikig\\anaconda3\\envs\\AutoML\\lib\\site-packages\\pandas\\_typing.py)"
     ]
    }
   ],
   "source": [
    "test_df.to_csv('test_df')"
   ]
  },
  {
   "cell_type": "code",
   "execution_count": 93,
   "id": "e5219691-6884-4e9d-a210-5d45657b7e0c",
   "metadata": {},
   "outputs": [
    {
     "data": {
      "text/html": [
       "<div>\n",
       "<style scoped>\n",
       "    .dataframe tbody tr th:only-of-type {\n",
       "        vertical-align: middle;\n",
       "    }\n",
       "\n",
       "    .dataframe tbody tr th {\n",
       "        vertical-align: top;\n",
       "    }\n",
       "\n",
       "    .dataframe thead th {\n",
       "        text-align: right;\n",
       "    }\n",
       "</style>\n",
       "<table border=\"1\" class=\"dataframe\">\n",
       "  <thead>\n",
       "    <tr style=\"text-align: right;\">\n",
       "      <th></th>\n",
       "      <th>postcode</th>\n",
       "      <th>Accident_risk_index</th>\n",
       "    </tr>\n",
       "  </thead>\n",
       "  <tbody>\n",
       "    <tr>\n",
       "      <th>0</th>\n",
       "      <td>HX2 8WH</td>\n",
       "      <td>0.980894</td>\n",
       "    </tr>\n",
       "    <tr>\n",
       "      <th>1</th>\n",
       "      <td>RM8 1DD</td>\n",
       "      <td>0.950313</td>\n",
       "    </tr>\n",
       "    <tr>\n",
       "      <th>2</th>\n",
       "      <td>SE23 1NH</td>\n",
       "      <td>0.974750</td>\n",
       "    </tr>\n",
       "    <tr>\n",
       "      <th>3</th>\n",
       "      <td>HU10 7QS</td>\n",
       "      <td>0.951135</td>\n",
       "    </tr>\n",
       "    <tr>\n",
       "      <th>4</th>\n",
       "      <td>BD23 5JL</td>\n",
       "      <td>0.923324</td>\n",
       "    </tr>\n",
       "    <tr>\n",
       "      <th>...</th>\n",
       "      <td>...</td>\n",
       "      <td>...</td>\n",
       "    </tr>\n",
       "    <tr>\n",
       "      <th>121254</th>\n",
       "      <td>HD9 4AB</td>\n",
       "      <td>0.898282</td>\n",
       "    </tr>\n",
       "    <tr>\n",
       "      <th>121255</th>\n",
       "      <td>AL2 1FS</td>\n",
       "      <td>0.792765</td>\n",
       "    </tr>\n",
       "    <tr>\n",
       "      <th>121256</th>\n",
       "      <td>BN3 3WA</td>\n",
       "      <td>0.794601</td>\n",
       "    </tr>\n",
       "    <tr>\n",
       "      <th>121257</th>\n",
       "      <td>DL14 8HH</td>\n",
       "      <td>0.653029</td>\n",
       "    </tr>\n",
       "    <tr>\n",
       "      <th>121258</th>\n",
       "      <td>E14 8JT</td>\n",
       "      <td>0.838205</td>\n",
       "    </tr>\n",
       "  </tbody>\n",
       "</table>\n",
       "<p>121259 rows × 2 columns</p>\n",
       "</div>"
      ],
      "text/plain": [
       "        postcode  Accident_risk_index\n",
       "0        HX2 8WH             0.980894\n",
       "1        RM8 1DD             0.950313\n",
       "2       SE23 1NH             0.974750\n",
       "3       HU10 7QS             0.951135\n",
       "4       BD23 5JL             0.923324\n",
       "...          ...                  ...\n",
       "121254   HD9 4AB             0.898282\n",
       "121255   AL2 1FS             0.792765\n",
       "121256   BN3 3WA             0.794601\n",
       "121257  DL14 8HH             0.653029\n",
       "121258   E14 8JT             0.838205\n",
       "\n",
       "[121259 rows x 2 columns]"
      ]
     },
     "execution_count": 93,
     "metadata": {},
     "output_type": "execute_result"
    }
   ],
   "source": [
    "import pickle \n",
    "pd.read_pickle('s1')"
   ]
  },
  {
   "cell_type": "code",
   "execution_count": 159,
   "id": "5179754a-9ad8-46e4-9512-26290246c83e",
   "metadata": {
    "tags": []
   },
   "outputs": [],
   "source": [
    "#ar=\n",
    "#test_df[['postcode','Accident_risk_index']].groupby('postcode').agg(np.nanmean)\n",
    "\n",
    "ar=pd.concat([pd.Series(test_preds),test_df['postcode']],axis=1).groupby('postcode',sort=False).agg(np.max).apply(np.abs).reset_index()"
   ]
  },
  {
   "cell_type": "code",
   "execution_count": 148,
   "id": "2846a8a3-d5e3-4072-ab4e-62d3d6370e47",
   "metadata": {},
   "outputs": [
    {
     "data": {
      "text/plain": [
       "<AxesSubplot:>"
      ]
     },
     "execution_count": 148,
     "metadata": {},
     "output_type": "execute_result"
    },
    {
     "data": {
      "image/png": "[encoded data removed]",
      "text/plain": [
       "<Figure size 576x396 with 1 Axes>"
      ]
     },
     "metadata": {},
     "output_type": "display_data"
    }
   ],
   "source": [
    "pd.Series(test_preds).hist(bins=50)"
   ]
  },
  {
   "cell_type": "code",
   "execution_count": 160,
   "id": "82aef0fa-12ee-4c4c-a073-d05d8756f4db",
   "metadata": {},
   "outputs": [],
   "source": [
    "with open('out.csv', 'w') as fp:\n",
    "    #fp.write(','.join(ar.dtype.names) + '\\n')\n",
    "    np.savetxt(fp, ar, '%s', ',')\n"
   ]
  },
  {
   "cell_type": "code",
   "execution_count": null,
   "id": "faab7325-198b-4f59-97f9-901631f744d0",
   "metadata": {},
   "outputs": [],
   "source": []
  },
  {
   "cell_type": "code",
   "execution_count": null,
   "id": "b159637a-8bb8-4115-9d45-27f224b5c902",
   "metadata": {},
   "outputs": [],
   "source": []
  },
  {
   "cell_type": "code",
   "execution_count": null,
   "id": "04971dbf-dd4f-40c7-9d69-264284d4e06b",
   "metadata": {},
   "outputs": [],
   "source": []
  },
  {
   "cell_type": "code",
   "execution_count": null,
   "id": "ebe9e0a2-366f-4b8c-9c13-af90937c841c",
   "metadata": {},
   "outputs": [],
   "source": []
  },
  {
   "cell_type": "code",
   "execution_count": null,
   "id": "18f6bbe8-a829-437b-8cf6-cd31b2cfc9ec",
   "metadata": {},
   "outputs": [],
   "source": []
  },
  {
   "cell_type": "code",
   "execution_count": null,
   "id": "a4af8747-fe49-443e-b661-eedd8fcb40ec",
   "metadata": {},
   "outputs": [],
   "source": []
  }
 ],
 "metadata": {
  "kernelspec": {
   "display_name": "Python 3 (ipykernel)",
   "language": "python",
   "name": "python3"
  },
  "language_info": {
   "codemirror_mode": {
    "name": "ipython",
    "version": 3
   },
   "file_extension": ".py",
   "mimetype": "text/x-python",
   "name": "python",
   "nbconvert_exporter": "python",
   "pygments_lexer": "ipython3",
   "version": "3.9.7"
  }
 },
 "nbformat": 4,
 "nbformat_minor": 5
}
