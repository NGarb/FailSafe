{
 "cells": [
  {
   "cell_type": "code",
   "execution_count": 14,
   "id": "27002b28-1b3d-4e5a-9a26-588567301fc2",
   "metadata": {},
   "outputs": [],
   "source": [
    "#backward difference encoder\n",
    "import numpy as np \n",
    "import pandas as pd\n",
    "import seaborn as sns\n",
    "import matplotlib.pyplot as plt\n",
    "import numpy as np \n",
    "import seaborn as sns \n",
    "import pandas as pd\n",
    "import matplotlib.pyplot as plt\n",
    "from sklearn.pipeline import Pipeline\n",
    "from sklearn.preprocessing import OneHotEncoder, StandardScaler\n",
    "from sklearn.compose import ColumnTransformer\n",
    "from sklearn.metrics import mean_squared_error as mse\n",
    "from sklearn.model_selection import train_test_split\n",
    "from sklearn.impute import SimpleImputer\n",
    "from sklearn.model_selection import GridSearchCV, KFold, train_test_split\n",
    "from yellowbrick.regressor import residuals_plot, prediction_error\n",
    "from fast_ml.model_development import train_valid_test_split\n",
    "from hyperopt import STATUS_OK, Trials, fmin, hp, tpe\n",
    "from tpot import TPOTRegressor\n",
    "import category_encoders as ce\n",
    "import time\n",
    "from xgboost import XGBRegressor\n",
    "from scipy import stats\n",
    "import warnings\n",
    "encoders = {\n",
    "\n",
    "    'BackwardDifferenceEncoder': ce.backward_difference.BackwardDifferenceEncoder,\n",
    "    'OneHotEncoder': ce.one_hot.OneHotEncoder,\n",
    "    \n",
    "}\n"
   ]
  },
  {
   "cell_type": "code",
   "execution_count": 15,
   "id": "6e9271cc-c3bc-4a09-86f5-76542a50c6c6",
   "metadata": {},
   "outputs": [],
   "source": [
    "test_df = pd.read_csv('./Participants_dataset/test.csv')\n",
    "roads_df = pd.read_csv('./Participants_dataset/roads_network.csv')\n",
    "train_df = pd.read_csv('./Participants_dataset/train.csv')"
   ]
  },
  {
   "cell_type": "code",
   "execution_count": 16,
   "id": "5688abf4-a565-4ead-b0d3-fa0441cccffe",
   "metadata": {},
   "outputs": [
    {
     "data": {
      "text/plain": [
       "<AxesSubplot:>"
      ]
     },
     "execution_count": 16,
     "metadata": {},
     "output_type": "execute_result"
    },
    {
     "data": {
      "image/png": "[encoded data removed]",
      "text/plain": [
       "<Figure size 576x396 with 1 Axes>"
      ]
     },
     "metadata": {},
     "output_type": "display_data"
    }
   ],
   "source": [
    "# target\n",
    "grouped = train_df.groupby('postcode',sort='False',as_index=False)\n",
    "\n",
    "Accident_Risk_Index_df = grouped.apply(lambda grp: sum(grp.Number_of_Casualties) / len(grp.Accident_ID))\n",
    "Accident_Risk_Index_df.columns = ['postcode','Accident_Risk_Index']\n",
    "Accident_Risk_Index_df.Accident_Risk_Index.hist(bins=50)"
   ]
  },
  {
   "cell_type": "code",
   "execution_count": 17,
   "id": "78813878-5eb9-466f-8d75-f304ce1ad3e4",
   "metadata": {},
   "outputs": [],
   "source": [
    "roads_numeric_features = roads_df.select_dtypes([np.number]).columns\n",
    "roads_categorical_features = roads_df.select_dtypes(exclude=[np.number]).drop(['WKT','postcode'],axis=1).columns\n",
    "# overwrite roads df for mem\n",
    "roads_df = pd.concat([pd.get_dummies(roads_df[roads_categorical_features]),roads_df.drop(roads_categorical_features,axis=1)],axis=1)"
   ]
  },
  {
   "cell_type": "code",
   "execution_count": 18,
   "id": "b07bb88f-5c4d-4c29-8296-ef4c4d03e1f3",
   "metadata": {},
   "outputs": [],
   "source": [
    "roads_features_df = pd.concat([roads_df.drop('WKT',axis=1).groupby('postcode').agg(sum),roads_df.drop('WKT',axis=1).groupby('postcode').agg(np.nanmean)],axis=1)\n",
    "roads_features_df.columns = [x+'_sum' if i >= 12 else x+'_mean' for i,x in enumerate(roads_features_df.columns)]"
   ]
  },
  {
   "cell_type": "code",
   "execution_count": 19,
   "id": "7963cf72-9d38-4da6-9c8e-164f3c428749",
   "metadata": {},
   "outputs": [],
   "source": [
    "train_df = train_df.drop('country',axis=1)\n",
    "test_df = test_df.drop('country',axis=1)"
   ]
  },
  {
   "cell_type": "code",
   "execution_count": 20,
   "id": "badebf5b-49c6-4474-b865-2c729060fa85",
   "metadata": {},
   "outputs": [],
   "source": [
    "train_roads_df = train_df.set_index('postcode').join(roads_features_df, how= 'left')\n",
    "test_roads_df = test_df.set_index('postcode').join(roads_features_df, how= 'left')"
   ]
  },
  {
   "cell_type": "code",
   "execution_count": 21,
   "id": "d39b5cae-1f06-4493-b6ad-a1f7a08b9ef0",
   "metadata": {},
   "outputs": [
    {
     "name": "stdout",
     "output_type": "stream",
     "text": [
      "28752\n"
     ]
    }
   ],
   "source": [
    "print((~train_roads_df.roadClassi_Motorway_mean.isnull()).sum())\n",
    "inds_where_null = np.where(train_roads_df.roadFuncti_Motorway_sum.isnull())\n",
    "inds_where_not_null = np.where(train_roads_df.roadFuncti_Motorway_sum.notnull())\n",
    "# inds where null fill with post town\n",
    "\n",
    "inds_where_null_test = np.where(test_roads_df.roadFuncti_Motorway_sum.isnull())\n",
    "inds_where_not_null_test = np.where(test_roads_df.roadFuncti_Motorway_sum.notnull())\n"
   ]
  },
  {
   "cell_type": "code",
   "execution_count": 22,
   "id": "cfc3782f-1da1-4793-8b97-287e55aef8fd",
   "metadata": {},
   "outputs": [],
   "source": [
    "roads_features_df['post_town'] = list(pd.Series(roads_features_df.index).str.upper().apply(lambda row_str: row_str.split(' ')[0]))"
   ]
  },
  {
   "cell_type": "code",
   "execution_count": 23,
   "id": "6be36b7a-be52-4ca5-8324-e5c5f7215108",
   "metadata": {},
   "outputs": [],
   "source": [
    "roads_town_df = roads_features_df.groupby('post_town').agg(np.nanmean)"
   ]
  },
  {
   "cell_type": "code",
   "execution_count": 24,
   "id": "5f23180a-877a-40fa-a5da-4b61a9b11152",
   "metadata": {},
   "outputs": [],
   "source": [
    "train_df['post_town'] = train_df.postcode.apply(lambda row_str: row_str.split(' ')[0])\n",
    "post_code_level_df = train_df.iloc[inds_where_null].set_index('post_town').join(roads_town_df, how='left')\n",
    "post_town_level_df = train_roads_df.iloc[inds_where_not_null]\n",
    "train_enriched_df = pd.concat([post_code_level_df, post_town_level_df],axis=0)\n",
    "\n",
    "test_df['post_town'] = test_df.postcode.apply(lambda row_str: row_str.split(' ')[0])\n",
    "post_code_level_df_test = test_df.iloc[inds_where_null_test].set_index('post_town').join(roads_town_df, how='left')\n",
    "post_town_level_df_test = test_roads_df.iloc[inds_where_not_null_test]\n",
    "test_enriched_df = pd.concat([post_code_level_df_test, post_town_level_df_test],axis=0)\n"
   ]
  },
  {
   "cell_type": "code",
   "execution_count": 25,
   "id": "014bc35e-63e2-411e-9150-15e4998e498d",
   "metadata": {},
   "outputs": [],
   "source": [
    "train_enriched_df=train_enriched_df.drop(['Accident_ID'],axis=1)\n",
    "test_enriched_df=test_enriched_df.drop(['Accident_ID'],axis=1)"
   ]
  },
  {
   "cell_type": "code",
   "execution_count": 26,
   "id": "8a965f6b-5bad-4e17-822a-549fcd08d9b0",
   "metadata": {},
   "outputs": [],
   "source": [
    "train_postcode = train_enriched_df['postcode']\n",
    "test_postcode = test_enriched_df['postcode']\n",
    "train_enriched_df = train_enriched_df.drop(['postcode'],axis=1)\n",
    "test_enriched_df = test_enriched_df.drop(['postcode'],axis=1)"
   ]
  },
  {
   "cell_type": "code",
   "execution_count": 27,
   "id": "f93d11e6-92a2-405b-b7da-647ef4c86fee",
   "metadata": {},
   "outputs": [],
   "source": [
    "train_enriched_df['month_of_year'] = pd.to_datetime(train_enriched_df.Date).dt.month\n",
    "train_enriched_df['day_of_month'] = pd.to_datetime(train_enriched_df.Date).dt.day\n",
    "train_enriched_df = train_enriched_df.drop(['Date'],axis=1)\n",
    "\n",
    "test_enriched_df['month_of_year'] = pd.to_datetime(test_enriched_df.Date).dt.month\n",
    "test_enriched_df['day_of_month'] = pd.to_datetime(test_enriched_df.Date).dt.day\n",
    "test_enriched_df = test_enriched_df.drop(['Date'],axis=1)"
   ]
  },
  {
   "cell_type": "code",
   "execution_count": 28,
   "id": "3185e791-3517-4bcf-ba0e-ef4270f5590a",
   "metadata": {},
   "outputs": [],
   "source": [
    "train_enriched_df['Time'] = train_enriched_df.Time.fillna('0').astype(str).apply(lambda row: row.replace(':','') ).astype(int)\n",
    "test_enriched_df['Time'] = test_enriched_df.Time.fillna('0').astype(str).apply(lambda row: row.replace(':','')).astype(int)"
   ]
  },
  {
   "cell_type": "code",
   "execution_count": 29,
   "id": "d0132b18-5014-4445-8547-d65877e9a7fa",
   "metadata": {},
   "outputs": [],
   "source": [
    "cat_cols = []\n",
    "num_cols = list(train_enriched_df.select_dtypes([np.number]).columns)\n",
    "for col in train_enriched_df.select_dtypes(exclude=[np.number]).columns:\n",
    "    if (~train_enriched_df[col].astype(str).apply(lambda row: row.replace('.','').replace('-','').isdigit())).sum() != 0:\n",
    "        cat_cols.append(col)\n",
    "    else:\n",
    "        num_cols.append(col)"
   ]
  },
  {
   "cell_type": "code",
   "execution_count": 30,
   "id": "27045894-a3d9-46f5-8d66-a7feed859491",
   "metadata": {},
   "outputs": [
    {
     "data": {
      "text/plain": [
       "['Local_Authority_(Highway)',\n",
       " 'Road_Type',\n",
       " 'Pedestrian_Crossing-Human_Control',\n",
       " 'Pedestrian_Crossing-Physical_Facilities',\n",
       " 'Light_Conditions',\n",
       " 'Weather_Conditions',\n",
       " 'Road_Surface_Conditions',\n",
       " 'Special_Conditions_at_Site',\n",
       " 'Carriageway_Hazards',\n",
       " 'Did_Police_Officer_Attend_Scene_of_Accident',\n",
       " 'state']"
      ]
     },
     "execution_count": 30,
     "metadata": {},
     "output_type": "execute_result"
    }
   ],
   "source": [
    "cat_cols"
   ]
  },
  {
   "cell_type": "code",
   "execution_count": 31,
   "id": "38d0af67-5bf7-406f-b4b9-5d4965e937f0",
   "metadata": {},
   "outputs": [],
   "source": [
    "train_enriched_df=train_enriched_df.reset_index().rename({'index':'post_town'},axis=1)\n",
    "test_enriched_df=test_enriched_df.reset_index().rename({'index':'post_town'},axis=1)"
   ]
  },
  {
   "cell_type": "code",
   "execution_count": 32,
   "id": "234436c7-d5a8-4fe5-86f5-3be9cf11886e",
   "metadata": {},
   "outputs": [],
   "source": [
    "import os \n",
    "current_dir = os.getcwd()\n",
    "os.chdir('..')\n",
    "from Utils.Metrics import regression as reg_metrics\n",
    "os.chdir(current_dir)"
   ]
  },
  {
   "cell_type": "code",
   "execution_count": 33,
   "id": "e6dec24e-81d5-4724-beae-8becbf62ed6b",
   "metadata": {},
   "outputs": [],
   "source": [
    "results_df = pd.DataFrame(columns = ['model','rmse','r2','mape'])"
   ]
  },
  {
   "cell_type": "code",
   "execution_count": 34,
   "id": "72a0b38b-ef58-4ecc-9f01-0e144c6a5323",
   "metadata": {},
   "outputs": [],
   "source": [
    "from sklearn.base import BaseEstimator, TransformerMixin\n",
    "\n",
    "\n",
    "numeric_features = num_cols\n",
    "\n",
    "categorical_features = cat_cols\n",
    "\n",
    "max_levels = round(train_enriched_df.columns.shape[0]*0.1)\n",
    "cats_many = []\n",
    "cats_few = []\n",
    "for ft in categorical_features:\n",
    "    levels = train_enriched_df[ft].unique().shape[0]\n",
    "    if levels > max_levels:\n",
    "        cats_many.append(ft)\n",
    "    else:\n",
    "        cats_few.append(ft)\n",
    "        \n",
    "class group_data_by_postcode(BaseEstimator, TransformerMixin):\n",
    "    #def __init__(self, post_group):\n",
    "    #    self.post_group = post_group\n",
    "    def __init__(self, post_group):\n",
    "        self.post_group = post_group    \n",
    "    def fit(self, X, y=None):\n",
    "        self.groups = groups\n",
    "        return self\n",
    "    \n",
    "    def transform(self, X, y=None):        \n",
    "        groups = self.groups\n",
    "        X1 = groups.agg(np.nanmean)\n",
    "        X2 = groups.agg(np.sum)\n",
    "        X4 = groups.agg(stats.mode)\n",
    "        return pd.concat([X1,X2,X3],axis=1)\n",
    "        \n",
    "        \n",
    "\n",
    "X = train_enriched_df\n",
    "y = Accident_Risk_Index_df.Accident_Risk_Index\n",
    "\n",
    "y_scaler = StandardScaler()\n",
    "y = y_scaler.fit_transform(y.values.reshape(-1, 1))\n",
    "\n",
    "selected_model = XGBRegressor(tree_method = \"gpu_hist\",single_precision_histogram=True, gpu_id=0)\n",
    "\n",
    "\n",
    "categorical_transformer_many_level = Pipeline(\n",
    "    steps=[\n",
    "        ('imputer', SimpleImputer(strategy='constant', fill_value='missing')),\n",
    "        ('encoder', encoders['BackwardDifferenceEncoder']())\n",
    "    ]\n",
    ")    \n",
    "\n",
    "categorical_transformer = Pipeline(\n",
    "    steps=[\n",
    "        ('imputer', SimpleImputer(strategy='constant', fill_value='missing')),\n",
    "        ('encoder', encoders['OneHotEncoder']())\n",
    "    ]\n",
    ") \n",
    "\n",
    "numeric_transformer = Pipeline(\n",
    "    steps=[\n",
    "        ('imputer', SimpleImputer(strategy='mean')),\n",
    "        ('scaler', StandardScaler())\n",
    "    ]\n",
    ")\n",
    "\n",
    "aggregator = Pipeline(steps=[('groupby_postcode',group_data_by_postcode(train_postcode))])\n",
    "\n",
    "preprocessor = ColumnTransformer(\n",
    "    transformers=[\n",
    "        ('numerical', numeric_transformer, numeric_features),\n",
    "        ('categorical_many', categorical_transformer_many_level, cats_many),\n",
    "        ('categorical', categorical_transformer, cats_few)\n",
    "    ]\n",
    ")\n",
    "\n"
   ]
  },
  {
   "cell_type": "code",
   "execution_count": 35,
   "id": "f47d893a-a742-43c6-aa07-2a11085d2741",
   "metadata": {},
   "outputs": [],
   "source": [
    "X_prc = preprocessor.fit_transform(X)\n",
    "X_prc = pd.DataFrame(X_prc)"
   ]
  },
  {
   "cell_type": "code",
   "execution_count": 36,
   "id": "f627a14e-4a63-4e51-81a3-c3eb37b55518",
   "metadata": {},
   "outputs": [],
   "source": [
    "X_test_prc = preprocessor.transform(test_enriched_df)\n",
    "X_test_prc = pd.DataFrame(X_test_prc)"
   ]
  },
  {
   "cell_type": "code",
   "execution_count": 37,
   "id": "9c9b165e-80a8-43ac-9806-e0ba3e198c15",
   "metadata": {},
   "outputs": [
    {
     "data": {
      "text/plain": [
       "53"
      ]
     },
     "execution_count": 37,
     "metadata": {},
     "output_type": "execute_result"
    }
   ],
   "source": [
    "import gc\n",
    "gc.collect()"
   ]
  },
  {
   "cell_type": "code",
   "execution_count": 39,
   "id": "538ef419-8995-43ca-ae1f-f036591effed",
   "metadata": {},
   "outputs": [
    {
     "name": "stdout",
     "output_type": "stream",
     "text": [
      "groups created\n",
      "mean grouped\n",
      "sum grouped\n",
      "first grouped\n"
     ]
    }
   ],
   "source": [
    "# groupby on strings just way too slow\n",
    "def groupby_postcode(X, grouper_var):       \n",
    "        postcode_to_ind_dct = {x:i for i,x in enumerate(grouper_var)}\n",
    "        #grouper_var = pd.Series(train_postcode).replace(postcode_to_ind_dct).values\n",
    "        grouper_var = pd.Series(grouper_var).map(lambda x: postcode_to_ind_dct[x])\n",
    "        groups = X.groupby(grouper_var,sort='False',as_index=True)\n",
    "        print('groups created')\n",
    "        X1 = groups.agg(np.nanmean)\n",
    "        print('mean grouped')\n",
    "        X2 = groups.agg(np.sum)\n",
    "        print('sum grouped')\n",
    "        X3 = groups.agg('first')\n",
    "        print('first grouped')\n",
    "        ind_to_postcode={v:k for k,v in postcode_to_ind_dct.items()}\n",
    "        return pd.concat([X1,X2,X3],axis=1), [ind_to_postcode[x] for x in X1.index]\n",
    "\n",
    "X_prc_grp, _ = groupby_postcode(X_prc,list(train_df.postcode))"
   ]
  },
  {
   "cell_type": "code",
   "execution_count": 40,
   "id": "c4155dd8-6478-4a33-8323-9bb75c58cc9d",
   "metadata": {},
   "outputs": [
    {
     "name": "stdout",
     "output_type": "stream",
     "text": [
      "groups created\n",
      "mean grouped\n",
      "sum grouped\n",
      "first grouped\n"
     ]
    }
   ],
   "source": [
    "X_test_prc_grp, inds = groupby_postcode(X_test_prc,list(test_df.postcode))"
   ]
  },
  {
   "cell_type": "code",
   "execution_count": 41,
   "id": "3df7a76c-5ad2-4490-ac4b-2f12b2dfd4b9",
   "metadata": {},
   "outputs": [],
   "source": [
    "\n",
    "X_train, X_test_tmp, y_train, y_test_tmp = train_test_split(X_prc_grp, y, test_size=0.2)\n",
    "X_val, X_test, y_val, y_test = train_test_split(X_test_tmp, y_test_tmp, test_size=0.5)\n",
    "del X_test_tmp, y_test_tmp\n"
   ]
  },
  {
   "cell_type": "code",
   "execution_count": 42,
   "id": "81402bad-b4eb-46f6-bdf0-5438c7e5d6ac",
   "metadata": {},
   "outputs": [],
   "source": [
    "# before 'spacifying' parameter ranges, put these into dict for extraction for learning\n",
    "# before 'spacifying' parameter ranges, put these into dict for extraction for learning\n",
    "xgb_choice_params = {\n",
    "    'learning_rate':    np.arange(0.05, 0.31, 0.05),\n",
    "    'max_depth':        np.arange(5, 16, 1, dtype=int),\n",
    "    'min_child_weight': np.arange(1, 8, 1, dtype=int),\n",
    "    'colsample_bytree': np.arange(0.3, 0.8, 0.1),\n",
    "\n",
    "}\n",
    "\n",
    "lgb_choice_params = {\n",
    "    'learning_rate':    np.arange(0.05, 0.31, 0.05),\n",
    "    'max_depth':        np.arange(5, 16, 1, dtype=int),\n",
    "    'min_child_weight': np.arange(1, 8, 1, dtype=int),\n",
    "    'colsample_bytree': np.arange(0.3, 0.8, 0.1),\n",
    "}\n",
    "\n",
    "ctb_choice_params = {\n",
    "    'learning_rate':     np.arange(0.05, 0.31, 0.05),\n",
    "    'max_depth':         np.arange(5, 16, 1, dtype=int),\n",
    "    'colsample_bylevel': np.arange(0.3, 0.8, 0.1),\n",
    "\n",
    "}"
   ]
  },
  {
   "cell_type": "code",
   "execution_count": 43,
   "id": "7c757042-f9fe-46f1-8856-c0615840ff1b",
   "metadata": {},
   "outputs": [],
   "source": [
    "from sklearn.metrics import mean_squared_error\n",
    "\n",
    "\n",
    "# XGB parameters\n",
    "xgb_reg_params = {\n",
    "    'learning_rate':    hp.choice('learning_rate',    np.arange(0.05, 0.31, 0.05)),\n",
    "    'max_depth':        hp.choice('max_depth',        np.arange(5, 16, 1, dtype=int)),\n",
    "    'min_child_weight': hp.choice('min_child_weight', np.arange(1, 8, 1, dtype=int)),\n",
    "    'colsample_bytree': hp.choice('colsample_bytree', np.arange(0.3, 0.8, 0.1)),\n",
    "    'subsample':        hp.uniform('subsample', 0.8, 1),\n",
    "    'n_estimators':     200,\n",
    "}\n",
    "xgb_fit_params = {\n",
    "    'eval_metric': 'rmse',\n",
    "    'early_stopping_rounds': 10,\n",
    "    'verbose': False\n",
    "}\n",
    "xgb_para = dict()\n",
    "xgb_para['reg_params'] = xgb_reg_params\n",
    "xgb_para['fit_params'] = xgb_fit_params\n",
    "xgb_para['loss_func' ] = lambda y, pred: np.sqrt(mean_squared_error(y, pred))\n",
    "\n",
    "\n",
    "# LightGBM parameters\n",
    "lgb_reg_params = {\n",
    "    'learning_rate':    hp.choice('learning_rate',    np.arange(0.05, 0.31, 0.05)),\n",
    "    'max_depth':        hp.choice('max_depth',        np.arange(5, 16, 1, dtype=int)),\n",
    "    'min_child_weight': hp.choice('min_child_weight', np.arange(1, 8, 1, dtype=int)),\n",
    "    'colsample_bytree': hp.choice('colsample_bytree', np.arange(0.3, 0.8, 0.1)),\n",
    "    'subsample':        hp.uniform('subsample', 0.8, 1),\n",
    "    'n_estimators':     100,\n",
    "}\n",
    "lgb_fit_params = {\n",
    "    'eval_metric': 'l2',\n",
    "    'early_stopping_rounds': 10,\n",
    "    'verbose': False\n",
    "}\n",
    "lgb_para = dict()\n",
    "lgb_para['reg_params'] = lgb_reg_params\n",
    "lgb_para['fit_params'] = lgb_fit_params\n",
    "lgb_para['loss_func' ] = lambda y, pred: np.sqrt(mean_squared_error(y, pred))\n",
    "\n",
    "\n",
    "# CatBoost parameters\n",
    "ctb_reg_params = {\n",
    "    'learning_rate':     hp.choice('learning_rate',     np.arange(0.05, 0.31, 0.05)),\n",
    "    'max_depth':         hp.choice('max_depth',         np.arange(5, 16, 1, dtype=int)),\n",
    "    'colsample_bylevel': hp.choice('colsample_bylevel', np.arange(0.3, 0.8, 0.1)),\n",
    "    'n_estimators':      100,\n",
    "    'eval_metric':       'RMSE',\n",
    "}\n",
    "ctb_fit_params = {\n",
    "    'early_stopping_rounds': 10,\n",
    "    'verbose': False\n",
    "}\n",
    "ctb_para = dict()\n",
    "ctb_para['reg_params'] = ctb_reg_params\n",
    "ctb_para['fit_params'] = ctb_fit_params\n",
    "ctb_para['loss_func' ] = lambda y, pred: np.sqrt(mean_squared_error(y, pred))\n"
   ]
  },
  {
   "cell_type": "code",
   "execution_count": 44,
   "id": "5655d9b9-fbdf-458a-9b03-fab89b5d1e38",
   "metadata": {},
   "outputs": [],
   "source": [
    "import lightgbm as lgb\n",
    "import xgboost as xgb\n",
    "import catboost as ctb\n",
    "from hyperopt import fmin, tpe, STATUS_OK, STATUS_FAIL, Trials\n",
    "\n",
    "\n",
    "class HPOpt(object):\n",
    "\n",
    "    def __init__(self, x_train, x_test, y_train, y_test):\n",
    "        self.x_train = x_train\n",
    "        self.x_test  = x_test\n",
    "        self.y_train = y_train\n",
    "        self.y_test  = y_test\n",
    "\n",
    "    def process(self, fn_name, space, trials, algo, max_evals):\n",
    "        fn = getattr(self, fn_name)\n",
    "        try:\n",
    "            result = fmin(fn=fn, space=space, algo=algo, max_evals=max_evals, trials=trials)\n",
    "        except Exception as e:\n",
    "            return {'status': STATUS_FAIL,\n",
    "                    'exception': str(e)}\n",
    "        return result, trials\n",
    "\n",
    "    def xgb_reg(self, para):\n",
    "        reg = xgb.XGBRegressor(**para['reg_params'])\n",
    "        return self.train_reg(reg, para)\n",
    "\n",
    "    def lgb_reg(self, para):\n",
    "        reg = lgb.LGBMRegressor(**para['reg_params'])\n",
    "        return self.train_reg(reg, para)\n",
    "\n",
    "    def ctb_reg(self, para):\n",
    "        reg = ctb.CatBoostRegressor(**para['reg_params'])\n",
    "        return self.train_reg(reg, para)\n",
    "\n",
    "    def train_reg(self, reg, para):\n",
    "        reg.fit(self.x_train, self.y_train,\n",
    "                eval_set=[(self.x_train, self.y_train), (self.x_test, self.y_test)],\n",
    "                **para['fit_params'])\n",
    "        pred = reg.predict(self.x_test)\n",
    "        loss = para['loss_func'](self.y_test, pred)\n",
    "        return {'loss': loss, 'status': STATUS_OK}\n"
   ]
  },
  {
   "cell_type": "code",
   "execution_count": 52,
   "id": "83eb88aa-a1d4-4c2e-9a18-1e20d85656a6",
   "metadata": {},
   "outputs": [
    {
     "data": {
      "text/plain": [
       "882"
      ]
     },
     "execution_count": 52,
     "metadata": {},
     "output_type": "execute_result"
    }
   ],
   "source": [
    "X_train.columns = list(range(X_train.shape[1]))\n",
    "X_val.columns = list(range(X_val.shape[1]))\n",
    "len(set(X_val.columns))"
   ]
  },
  {
   "cell_type": "code",
   "execution_count": null,
   "id": "a213dee3-247c-4a2a-8a06-879e55ac2309",
   "metadata": {},
   "outputs": [
    {
     "name": "stdout",
     "output_type": "stream",
     "text": [
      " 30%|██████████████▋                                  | 15/50 [06:32<16:49, 28.85s/trial, best loss: 1.013644911346869]"
     ]
    }
   ],
   "source": [
    "obj = HPOpt(X_train, X_val, y_train, y_val)\n",
    "# the dataset is not so complex that it needs tones of evals\n",
    "xgb_opt = obj.process(fn_name='xgb_reg', space=xgb_para, trials=Trials(), algo=tpe.suggest, max_evals=50)\n",
    "lgb_opt = obj.process(fn_name='lgb_reg', space=lgb_para, trials=Trials(), algo=tpe.suggest, max_evals=50)\n",
    "ctb_opt = obj.process(fn_name='ctb_reg', space=ctb_para, trials=Trials(), algo=tpe.suggest, max_evals=50)\n"
   ]
  },
  {
   "cell_type": "code",
   "execution_count": null,
   "id": "f543d887-84d8-4998-a962-6bebdbdc06ec",
   "metadata": {},
   "outputs": [],
   "source": [
    "xgb_tuned_params = {x[0]:xgb_choice_params[x[0]][x[1]] if x[0] in xgb_choice_params else x[1] for x in xgb_opt[0].items()}\n",
    "lgb_tuned_params = {x[0]:lgb_choice_params[x[0]][x[1]] if x[0] in lgb_choice_params else x[1] for x in lgb_opt[0].items()}\n",
    "ctb_tuned_params = {x[0]:ctb_choice_params[x[0]][x[1]] if x[0] in ctb_choice_params else x[1] for x in ctb_opt[0].items()}"
   ]
  },
  {
   "cell_type": "code",
   "execution_count": null,
   "id": "e0ebfaef-5842-4c85-8c4e-315cc07d0d2c",
   "metadata": {},
   "outputs": [],
   "source": [
    "xgb_reg = XGBRegressor(tree_method = \"gpu_hist\",single_precision_histogram=True, gpu_id=0, **xgb_tuned_params)\n",
    "xgb_reg.fit(X_train, y_train, eval_set=[(X_train_prc, y_train), (X_val, y_val)],**xgb_para['fit_params'])\n",
    "y_pred = xgb_reg.predict(X_test)\n",
    "pred = y_scaler.inverse_scale(y_pred)\n",
    "y_val_s = y_scaler.inverse_scale(y_test)\n",
    "res_row_obj = reg_metrics.calc_results(pred, y_val_s,'Hyperopt XGBReg')\n",
    "row = res_row_obj.calc_results_row()\n",
    "results_df = results_df.append(row,ignore_index=True)\n",
    "results_df"
   ]
  },
  {
   "cell_type": "code",
   "execution_count": null,
   "id": "ba2f68f0-02fa-48c2-8acc-94e2b9105ac5",
   "metadata": {},
   "outputs": [],
   "source": [
    "lgb_reg = lgb.LGBMRegressor(**lgb_tuned_params)\n",
    "lgb_reg.fit(X_train, y_train, eval_set=[(X_train, y_train), (X_val, y_val)],**lgb_para['fit_params'])\n",
    "y_pred = lgb_reg.predict(X_test)\n",
    "pred = y_scaler.inverse_scale(y_pred)\n",
    "y_val_s = y_scaler.inverse_scale(y_test)\n",
    "res_row_obj = reg_metrics.calc_results(pred, y_val_s,'Hyperopt LGBReg')\n",
    "row = res_row_obj.calc_results_row()\n",
    "results_df = results_df.append(row,ignore_index=True)\n",
    "results_df"
   ]
  },
  {
   "cell_type": "code",
   "execution_count": null,
   "id": "0a3c69a8-391d-4640-a6ca-a845c045cce0",
   "metadata": {},
   "outputs": [],
   "source": [
    "ctb_reg = ctb.CatBoostRegressor(**ctb_tuned_params)\n",
    "ctb_reg.fit(X_train, y_train, eval_set=[(X_train, y_train), (X_val, y_val)],**ctb_para['fit_params'])\n",
    "y_pred = ctb_reg.predict(X_test)\n",
    "pred = y_scaler.inverse_scale(y_pred)\n",
    "y_val_s = y_scaler.inverse_scale(y_test)\n",
    "res_row_obj = reg_metrics.calc_results(pred, y_val_s,'Hyperopt CTBReg')\n",
    "row = res_row_obj.calc_results_row()\n",
    "results_df = results_df.append(row,ignore_index=True)\n",
    "results_df"
   ]
  },
  {
   "cell_type": "code",
   "execution_count": null,
   "id": "045523c4-cb13-40f4-a874-6a5d2f99ed21",
   "metadata": {},
   "outputs": [],
   "source": []
  }
 ],
 "metadata": {
  "kernelspec": {
   "display_name": "Python 3 (ipykernel)",
   "language": "python",
   "name": "python3"
  },
  "language_info": {
   "codemirror_mode": {
    "name": "ipython",
    "version": 3
   },
   "file_extension": ".py",
   "mimetype": "text/x-python",
   "name": "python",
   "nbconvert_exporter": "python",
   "pygments_lexer": "ipython3",
   "version": "3.9.7"
  }
 },
 "nbformat": 4,
 "nbformat_minor": 5
}
