{
 "cells": [
  {
   "cell_type": "code",
   "execution_count": 5,
   "id": "fb18ed4f-710f-4844-a0ce-74d247fbfc45",
   "metadata": {},
   "outputs": [
    {
     "name": "stdout",
     "output_type": "stream",
     "text": [
      "Elasticnet model (alpha=0.200000, l1_ratio=0.900000):\n",
      "  RMSE: 0.8025305966267098\n",
      "  MAE: 0.6218849001618089\n",
      "  R2: 0.1681537364508937\n"
     ]
    }
   ],
   "source": [
    "! python mlflow_train.py 0.2 0.9"
   ]
  },
  {
   "cell_type": "code",
   "execution_count": null,
   "id": "39aaebb8-f3d0-4213-ade5-b8cc2db5a99d",
   "metadata": {},
   "outputs": [],
   "source": []
  }
 ],
 "metadata": {
  "kernelspec": {
   "display_name": "Python 3 (ipykernel)",
   "language": "python",
   "name": "python3"
  },
  "language_info": {
   "codemirror_mode": {
    "name": "ipython",
    "version": 3
   },
   "file_extension": ".py",
   "mimetype": "text/x-python",
   "name": "python",
   "nbconvert_exporter": "python",
   "pygments_lexer": "ipython3",
   "version": "3.9.7"
  }
 },
 "nbformat": 4,
 "nbformat_minor": 5
}
