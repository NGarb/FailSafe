{
 "cells": [
  {
   "cell_type": "markdown",
   "id": "27110be6-8ccb-4afc-aecb-d845871a337a",
   "metadata": {},
   "source": [
    "Typically, in the insights notebook, there will be a summary of stuff found through EDA, modeling, feature importances etc etc. I have not yet split out all the sections and will start doing this in a very formulaic way from the next dataset onwards. \n",
    "\n",
    "This will pretty much be the 'report' generated at the end of every excercise. "
   ]
  },
  {
   "cell_type": "markdown",
   "id": "3254d281-9570-4ff4-91db-bfe2bdbb25f8",
   "metadata": {},
   "source": [
    "1. I pretty much did zero EDA - just data cleaning. I was more focused on just practicing modeling. \n",
    "    - the dataset is quite clean and had no missing values besides for the Human Development Index which was easy to source and fill. \n",
    "2. The features put together seemed to do a great job. Modeling was very easy. It was easy to get an improvement over Baseline. We found the default parameter settings for the XGBoost model worked the best. Any type of regularization decreased performance.\n",
    "    - the model SLIGHTLY over-predicted in the range between 5000 and 5500 deaths. There was one instance where the model slightly underpredicted around 10000 deaths. Otherwise, on average, the model was approximately 41 deaths off. \n",
    "    - Russia, US, Jap were countried that were the most mispredicted\n",
    "    - US residuals were smaller than Russia and Jap. \n",
    "    - It feels like maybe Russia follows a slightly different pattern to other countries? And Japan? \n",
    "    - Would be interesting to see on a year basis - there may be some years contributing more or less. Maybe something happened in those years \n",
    "3. In general, population and suicides per 100K were the most important features. Interestingly, from SHAP importance plot, gender being female, generation being silent and country being United States were important. "
   ]
  },
  {
   "cell_type": "code",
   "execution_count": null,
   "id": "ad66db69-95c8-4506-b6a7-4371b43047ee",
   "metadata": {},
   "outputs": [],
   "source": []
  }
 ],
 "metadata": {
  "kernelspec": {
   "display_name": "Python 3 (ipykernel)",
   "language": "python",
   "name": "python3"
  },
  "language_info": {
   "codemirror_mode": {
    "name": "ipython",
    "version": 3
   },
   "file_extension": ".py",
   "mimetype": "text/x-python",
   "name": "python",
   "nbconvert_exporter": "python",
   "pygments_lexer": "ipython3",
   "version": "3.9.7"
  }
 },
 "nbformat": 4,
 "nbformat_minor": 5
}
