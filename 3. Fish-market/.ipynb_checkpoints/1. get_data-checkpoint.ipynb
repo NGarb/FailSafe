{
 "cells": [
  {
   "cell_type": "markdown",
   "id": "29483543-d256-4038-99bb-4fe3c03c3594",
   "metadata": {},
   "source": [
    "# TODO\n",
    "1. practice putting together the best regression practices by spilling up components:\n",
    "    1. get data\n",
    "    2. clean data\n",
    "    3. EDA\n",
    "    4. modeling and evaluation\n",
    "    5. more fine evaluation: best model examination\n",
    "    6. feature importance \n",
    "    7. explainability \n",
    "    8. insights (report constructed)\n",
    "2. put together everyting I have learned into a neat and usable code base"
   ]
  },
  {
   "cell_type": "code",
   "execution_count": 28,
   "id": "a521eb79-8686-4754-89b4-fac1fb3c39ab",
   "metadata": {},
   "outputs": [],
   "source": [
    "#define directories (later these will be parsed as args to the run file)\n",
    "\n",
    "# now all that needs to be changed is the project_name\n",
    "\n",
    "project_name = '3. Fish-market'\n",
    "base_dir = 'D:/Projects/Prediction/Techniques Practice/Trees/XGBoost'\n",
    "temp_dir = base_dir + '/' + project_name + '/' + 'temp data' + '/'\n",
    "full_dataset_url = \"https://www.kaggle.com/aungpyaeap/fish-market/download\""
   ]
  },
  {
   "cell_type": "code",
   "execution_count": 29,
   "id": "e6d2fb71-3cf0-415f-a578-8b80c665c96c",
   "metadata": {},
   "outputs": [
    {
     "data": {
      "text/plain": [
       "'aungpyaeap/fish-market/download'"
      ]
     },
     "execution_count": 29,
     "metadata": {},
     "output_type": "execute_result"
    }
   ],
   "source": [
    "dataset_url = '/'.join(full_dataset_url.split('/')[3:]) \n",
    "dataset_url"
   ]
  },
  {
   "cell_type": "code",
   "execution_count": 30,
   "id": "7caaff5f-405a-4ba4-be64-45228e726fd5",
   "metadata": {},
   "outputs": [
    {
     "name": "stdout",
     "output_type": "stream",
     "text": [
      "Downloading fish-market.zip to D:\\Projects\\Prediction\\Techniques Practice\\Trees\\XGBoost\\3. Fish-market\\temp data\n",
      "\n"
     ]
    },
    {
     "name": "stderr",
     "output_type": "stream",
     "text": [
      "\n",
      "  0%|          | 0.00/2.39k [00:00<?, ?B/s]\n",
      "100%|##########| 2.39k/2.39k [00:00<00:00, 1.22MB/s]\n"
     ]
    }
   ],
   "source": [
    "import os \n",
    "\n",
    "os.mkdir(temp_dir)\n",
    "os.chdir(temp_dir)\n",
    "\n",
    "!kaggle datasets download -d {dataset_url}"
   ]
  },
  {
   "cell_type": "code",
   "execution_count": 31,
   "id": "29b25ec6-6298-4201-b3d4-0479aca3825a",
   "metadata": {},
   "outputs": [],
   "source": [
    "zipfile_name = os.listdir()[0]"
   ]
  },
  {
   "cell_type": "code",
   "execution_count": 32,
   "id": "0988c071-9555-430d-b9c9-ce2d3ec3a392",
   "metadata": {},
   "outputs": [],
   "source": [
    "os.chdir(base_dir + '/' + project_name + '/')"
   ]
  },
  {
   "cell_type": "code",
   "execution_count": 33,
   "id": "bafb0a72-ef3c-42ff-bce0-f1900fda6164",
   "metadata": {},
   "outputs": [],
   "source": [
    "import zipfile\n",
    "with zipfile.ZipFile(temp_dir + '/' + zipfile_name, \"r\") as z:\n",
    "    z.extractall(temp_dir)\n",
    "os.remove(temp_dir + '/' + zipfile_name)"
   ]
  },
  {
   "cell_type": "code",
   "execution_count": null,
   "id": "ec65b682-485c-481c-856b-b4c96d458a1b",
   "metadata": {},
   "outputs": [],
   "source": []
  },
  {
   "cell_type": "code",
   "execution_count": null,
   "id": "71c07010-d856-42ee-899a-a1fafa659a38",
   "metadata": {},
   "outputs": [],
   "source": []
  },
  {
   "cell_type": "code",
   "execution_count": null,
   "id": "1ff1f961-b80a-4fd1-9675-647323998dda",
   "metadata": {},
   "outputs": [],
   "source": []
  },
  {
   "cell_type": "code",
   "execution_count": null,
   "id": "4256d5b6-c44b-443e-9ef6-274c85d1ac59",
   "metadata": {},
   "outputs": [],
   "source": []
  }
 ],
 "metadata": {
  "kernelspec": {
   "display_name": "Python 3 (ipykernel)",
   "language": "python",
   "name": "python3"
  },
  "language_info": {
   "codemirror_mode": {
    "name": "ipython",
    "version": 3
   },
   "file_extension": ".py",
   "mimetype": "text/x-python",
   "name": "python",
   "nbconvert_exporter": "python",
   "pygments_lexer": "ipython3",
   "version": "3.9.7"
  }
 },
 "nbformat": 4,
 "nbformat_minor": 5
}
