{
 "cells": [
  {
   "cell_type": "code",
   "execution_count": 1,
   "id": "876e863a-ac93-49e4-9646-18d7033e77a9",
   "metadata": {},
   "outputs": [],
   "source": [
    "#define directories (later these will be parsed as args to the run file)\n",
    "\n",
    "# now all that needs to be changed is the project_name\n",
    "\n",
    "project_name = '4. Medical Cost'\n",
    "full_dataset_url = \"https://www.kaggle.com/mirichoi0218/insurance/download\"\n",
    "\n",
    "base_dir = 'D:/Projects/Prediction/Techniques Practice/Trees/XGBoost'\n",
    "temp_dir = base_dir + '/' + project_name + '/' + 'temp data' + '/'\n"
   ]
  },
  {
   "cell_type": "code",
   "execution_count": 2,
   "id": "0f138c62-26ba-4341-a1b0-a2801fc8900a",
   "metadata": {},
   "outputs": [
    {
     "data": {
      "text/plain": [
       "'mirichoi0218/insurance/download'"
      ]
     },
     "execution_count": 2,
     "metadata": {},
     "output_type": "execute_result"
    }
   ],
   "source": [
    "dataset_url = '/'.join(full_dataset_url.split('/')[3:]) \n",
    "dataset_url"
   ]
  },
  {
   "cell_type": "code",
   "execution_count": 3,
   "id": "785d553a-a883-4ae5-a41e-cf6d258b4d29",
   "metadata": {},
   "outputs": [
    {
     "name": "stdout",
     "output_type": "stream",
     "text": [
      "Downloading insurance.zip to D:\\Projects\\Prediction\\Techniques Practice\\Trees\\XGBoost\\4. Medical Cost\\temp data\n",
      "\n"
     ]
    },
    {
     "name": "stderr",
     "output_type": "stream",
     "text": [
      "\n",
      "  0%|          | 0.00/16.0k [00:00<?, ?B/s]\n",
      "100%|##########| 16.0k/16.0k [00:00<00:00, 5.47MB/s]\n"
     ]
    }
   ],
   "source": [
    "import os \n",
    "\n",
    "os.mkdir(temp_dir)\n",
    "os.chdir(temp_dir)\n",
    "\n",
    "!kaggle datasets download -d {dataset_url}"
   ]
  },
  {
   "cell_type": "code",
   "execution_count": 4,
   "id": "2957e114-9bf6-4d57-9a9b-2fc6f9c11f91",
   "metadata": {},
   "outputs": [],
   "source": [
    "zipfile_name = os.listdir()[0]"
   ]
  },
  {
   "cell_type": "code",
   "execution_count": 5,
   "id": "2ce106ae-343e-4cbf-9587-bb7540b730e5",
   "metadata": {},
   "outputs": [],
   "source": [
    "os.chdir(base_dir + '/' + project_name + '/')"
   ]
  },
  {
   "cell_type": "code",
   "execution_count": 6,
   "id": "ec8737fa-dfed-4142-8443-7268c6e0e30f",
   "metadata": {},
   "outputs": [],
   "source": [
    "import zipfile\n",
    "with zipfile.ZipFile(temp_dir + '/' + zipfile_name, \"r\") as z:\n",
    "    z.extractall(temp_dir)\n",
    "os.remove(temp_dir + '/' + zipfile_name)"
   ]
  },
  {
   "cell_type": "code",
   "execution_count": null,
   "id": "c0fa2542-e58f-4c55-a57a-759492ef3513",
   "metadata": {},
   "outputs": [],
   "source": []
  }
 ],
 "metadata": {
  "kernelspec": {
   "display_name": "Python 3 (ipykernel)",
   "language": "python",
   "name": "python3"
  },
  "language_info": {
   "codemirror_mode": {
    "name": "ipython",
    "version": 3
   },
   "file_extension": ".py",
   "mimetype": "text/x-python",
   "name": "python",
   "nbconvert_exporter": "python",
   "pygments_lexer": "ipython3",
   "version": "3.9.7"
  }
 },
 "nbformat": 4,
 "nbformat_minor": 5
}
