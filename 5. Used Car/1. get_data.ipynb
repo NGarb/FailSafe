{
 "cells": [
  {
   "cell_type": "code",
   "execution_count": 1,
   "id": "1b7e5942-a481-402c-993a-fb756af787e4",
   "metadata": {},
   "outputs": [],
   "source": [
    "#define directories (later these will be parsed as args to the run file)\n",
    "\n",
    "# now all that needs to be changed is the project_name\n",
    "\n",
    "project_name = '5. Used Car'\n",
    "full_dataset_url = \"https://www.kaggle.com/adityadesai13/used-car-dataset-ford-and-mercedes/download\"\n",
    "\n",
    "base_dir = 'D:/Projects/Prediction/Techniques Practice/Trees/XGBoost'\n",
    "temp_dir = base_dir + '/' + project_name + '/' + 'temp data' + '/'\n"
   ]
  },
  {
   "cell_type": "code",
   "execution_count": 2,
   "id": "7768ed3b-8bfd-452c-b5c8-823979f345bd",
   "metadata": {},
   "outputs": [
    {
     "data": {
      "text/plain": [
       "'adityadesai13/used-car-dataset-ford-and-mercedes/download'"
      ]
     },
     "execution_count": 2,
     "metadata": {},
     "output_type": "execute_result"
    }
   ],
   "source": [
    "dataset_url = '/'.join(full_dataset_url.split('/')[3:]) \n",
    "dataset_url"
   ]
  },
  {
   "cell_type": "code",
   "execution_count": 3,
   "id": "ab1b964b-ff1a-4327-843d-f4e08521630a",
   "metadata": {},
   "outputs": [
    {
     "name": "stdout",
     "output_type": "stream",
     "text": [
      "Downloading used-car-dataset-ford-and-mercedes.zip to D:\\Projects\\Prediction\\Techniques Practice\\Trees\\XGBoost\\5. Used Car\\temp data\n",
      "\n"
     ]
    },
    {
     "name": "stderr",
     "output_type": "stream",
     "text": [
      "\n",
      "  0%|          | 0.00/1.10M [00:00<?, ?B/s]\n",
      " 91%|######### | 1.00M/1.10M [00:01<00:00, 932kB/s]\n",
      "100%|##########| 1.10M/1.10M [00:01<00:00, 982kB/s]\n"
     ]
    }
   ],
   "source": [
    "import os \n",
    "\n",
    "os.mkdir(temp_dir)\n",
    "os.chdir(temp_dir)\n",
    "\n",
    "!kaggle datasets download -d {dataset_url}"
   ]
  },
  {
   "cell_type": "code",
   "execution_count": 5,
   "id": "7287b3b0-f952-4e62-bfc3-39e73dd4fb70",
   "metadata": {},
   "outputs": [],
   "source": [
    "zipfile_name = os.listdir()[0]"
   ]
  },
  {
   "cell_type": "code",
   "execution_count": 6,
   "id": "7a5ca073-e361-4b90-83b7-b656fa93d471",
   "metadata": {},
   "outputs": [],
   "source": [
    "os.chdir(base_dir + '/' + project_name + '/')"
   ]
  },
  {
   "cell_type": "code",
   "execution_count": 7,
   "id": "7a3b0432-f2f6-4694-a866-2c71a0d3b000",
   "metadata": {},
   "outputs": [],
   "source": [
    "import zipfile\n",
    "with zipfile.ZipFile(temp_dir + '/' + zipfile_name, \"r\") as z:\n",
    "    z.extractall(temp_dir)\n",
    "os.remove(temp_dir + '/' + zipfile_name)"
   ]
  },
  {
   "cell_type": "code",
   "execution_count": null,
   "id": "b07afc6c-a58d-453a-9877-2fccc4dca383",
   "metadata": {},
   "outputs": [],
   "source": []
  }
 ],
 "metadata": {
  "kernelspec": {
   "display_name": "Python 3 (ipykernel)",
   "language": "python",
   "name": "python3"
  },
  "language_info": {
   "codemirror_mode": {
    "name": "ipython",
    "version": 3
   },
   "file_extension": ".py",
   "mimetype": "text/x-python",
   "name": "python",
   "nbconvert_exporter": "python",
   "pygments_lexer": "ipython3",
   "version": "3.9.7"
  }
 },
 "nbformat": 4,
 "nbformat_minor": 5
}
