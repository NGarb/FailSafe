{
 "cells": [
  {
   "cell_type": "code",
   "execution_count": 1,
   "id": "dc21d2b2-f56d-4ec9-8a3c-498b4b7de69b",
   "metadata": {},
   "outputs": [],
   "source": [
    "import pandas as pd\n",
    "import numpy as np \n",
    "import seaborn as sns\n",
    "import matplotlib.pyplot as plt"
   ]
  },
  {
   "cell_type": "code",
   "execution_count": 363,
   "id": "85fc3d7c-71db-4a28-9121-3dcc31ae57c6",
   "metadata": {},
   "outputs": [
    {
     "data": {
      "text/plain": [
       "'D:/Projects/Prediction/Techniques Practice/Trees/XGBoost/5. Used Car/temp data/'"
      ]
     },
     "execution_count": 363,
     "metadata": {},
     "output_type": "execute_result"
    }
   ],
   "source": [
    "project_name = '5. Used Car'\n",
    "base_dir = 'D:/Projects/Prediction/Techniques Practice/Trees/XGBoost'\n",
    "temp_dir = base_dir + '/' + project_name + '/' + 'temp data' + '/'\n",
    "temp_dir"
   ]
  },
  {
   "cell_type": "code",
   "execution_count": 364,
   "id": "b23caeb3-72df-4f40-836e-3e5d152834b2",
   "metadata": {},
   "outputs": [
    {
     "name": "stdout",
     "output_type": "stream",
     "text": [
      "<class 'pandas.core.frame.DataFrame'>\n",
      "RangeIndex: 118150 entries, 0 to 118149\n",
      "Data columns (total 18 columns):\n",
      " #   Column        Non-Null Count   Dtype  \n",
      "---  ------        --------------   -----  \n",
      " 0   index         118150 non-null  int64  \n",
      " 1   model         117995 non-null  object \n",
      " 2   year          117903 non-null  float64\n",
      " 3   price         117995 non-null  object \n",
      " 4   transmission  117995 non-null  object \n",
      " 5   mileage       117077 non-null  object \n",
      " 6   fuelType      108540 non-null  object \n",
      " 7   tax           94327 non-null   float64\n",
      " 8   mpg           99187 non-null   float64\n",
      " 9   engineSize    108540 non-null  float64\n",
      " 10  make          118150 non-null  object \n",
      " 11  tax(£)        4860 non-null    float64\n",
      " 12  fuel type     3517 non-null    object \n",
      " 13  engine size   9345 non-null    object \n",
      " 14  mileage2      9399 non-null    object \n",
      " 15  fuel type2    8537 non-null    object \n",
      " 16  engine size2  8537 non-null    object \n",
      " 17  reference     9455 non-null    object \n",
      "dtypes: float64(5), int64(1), object(12)\n",
      "memory usage: 16.2+ MB\n"
     ]
    }
   ],
   "source": [
    "import os\n",
    "used_car_df = pd.DataFrame()\n",
    "for file in os.listdir(temp_dir):\n",
    "    car_df = pd.read_csv(temp_dir+'/'+file)\n",
    "    car_df['make'] = file.split('.')[0]\n",
    "    used_car_df = pd.concat([used_car_df,car_df],axis=0)\n",
    "used_car_df = used_car_df.reset_index()    \n",
    "used_car_df.info()"
   ]
  },
  {
   "cell_type": "code",
   "execution_count": 365,
   "id": "07bc5cd0-c06f-4640-a455-0c324b5155ea",
   "metadata": {},
   "outputs": [
    {
     "data": {
      "text/plain": [
       "array([nan, '/ad/25017331', '/ad/25043746', '/ad/25142894',\n",
       "       '/ad/24942816', '/ad/24913660', '/ad/25059312', '/ad/25418851',\n",
       "       '/ad/25449314', '/ad/25046820'], dtype=object)"
      ]
     },
     "execution_count": 365,
     "metadata": {},
     "output_type": "execute_result"
    }
   ],
   "source": [
    "len(set(used_car_df.reference)) # every one unique. I think this is a thing I should drop\n",
    "used_car_df.reference.unique()[:10]"
   ]
  },
  {
   "cell_type": "code",
   "execution_count": 366,
   "id": "8cf4841c-2e18-465f-bf06-e9602cc7c407",
   "metadata": {},
   "outputs": [
    {
     "data": {
      "text/plain": [
       "<AxesSubplot:>"
      ]
     },
     "execution_count": 366,
     "metadata": {},
     "output_type": "execute_result"
    },
    {
     "data": {
      "image/png": "[encoded data removed]",
      "text/plain": [
       "<Figure size 432x288 with 2 Axes>"
      ]
     },
     "metadata": {
      "needs_background": "light"
     },
     "output_type": "display_data"
    }
   ],
   "source": [
    "sns.heatmap(used_car_df.isnull()) #WUT"
   ]
  },
  {
   "cell_type": "code",
   "execution_count": 367,
   "id": "a8c110f4-4b9d-4c14-99a6-3a029b6a2934",
   "metadata": {},
   "outputs": [
    {
     "data": {
      "text/html": [
       "<div>\n",
       "<style scoped>\n",
       "    .dataframe tbody tr th:only-of-type {\n",
       "        vertical-align: middle;\n",
       "    }\n",
       "\n",
       "    .dataframe tbody tr th {\n",
       "        vertical-align: top;\n",
       "    }\n",
       "\n",
       "    .dataframe thead th {\n",
       "        text-align: right;\n",
       "    }\n",
       "</style>\n",
       "<table border=\"1\" class=\"dataframe\">\n",
       "  <thead>\n",
       "    <tr style=\"text-align: right;\">\n",
       "      <th></th>\n",
       "      <th>fuel type</th>\n",
       "      <th>fuel type2</th>\n",
       "      <th>fuelType</th>\n",
       "    </tr>\n",
       "  </thead>\n",
       "  <tbody>\n",
       "    <tr>\n",
       "      <th>4935</th>\n",
       "      <td>NaN</td>\n",
       "      <td>NaN</td>\n",
       "      <td>Petrol</td>\n",
       "    </tr>\n",
       "    <tr>\n",
       "      <th>85474</th>\n",
       "      <td>15</td>\n",
       "      <td>Petrol</td>\n",
       "      <td>NaN</td>\n",
       "    </tr>\n",
       "    <tr>\n",
       "      <th>63769</th>\n",
       "      <td>NaN</td>\n",
       "      <td>NaN</td>\n",
       "      <td>Diesel</td>\n",
       "    </tr>\n",
       "  </tbody>\n",
       "</table>\n",
       "</div>"
      ],
      "text/plain": [
       "      fuel type fuel type2 fuelType\n",
       "4935        NaN        NaN   Petrol\n",
       "85474        15     Petrol      NaN\n",
       "63769       NaN        NaN   Diesel"
      ]
     },
     "execution_count": 367,
     "metadata": {},
     "output_type": "execute_result"
    }
   ],
   "source": [
    "# two fuel types \n",
    "used_car_df[['fuel type','fuel type2','fuelType']].sample(3)"
   ]
  },
  {
   "cell_type": "code",
   "execution_count": 368,
   "id": "0a1ac889-948f-4183-b656-0e052b80b801",
   "metadata": {},
   "outputs": [
    {
     "data": {
      "text/plain": [
       "array([nan, 'Diesel', 'Petrol', '29', '34', '37', '31', '32', '38', '33',\n",
       "       '28', '25', '36', '26', '30', '44', '35', '43', '27', '39', '40',\n",
       "       '24', '46', '45', '48', 'Hybrid', '47', '11', '14', '12', '10',\n",
       "       '13', '15', '16', '22', '8', '21', '9', '20', '7', '19', '18',\n",
       "       '17', '6'], dtype=object)"
      ]
     },
     "execution_count": 368,
     "metadata": {},
     "output_type": "execute_result"
    }
   ],
   "source": [
    "used_car_df['fuel type'].unique()"
   ]
  },
  {
   "cell_type": "code",
   "execution_count": 369,
   "id": "b66fce10-8976-4080-8697-79b58d31f13d",
   "metadata": {},
   "outputs": [
    {
     "data": {
      "text/plain": [
       "array([nan, 'Petrol', 'Diesel', 'Hybrid', 'Other'], dtype=object)"
      ]
     },
     "execution_count": 369,
     "metadata": {},
     "output_type": "execute_result"
    }
   ],
   "source": [
    "used_car_df['fuel type2'].unique()"
   ]
  },
  {
   "cell_type": "code",
   "execution_count": 370,
   "id": "09c37551-d625-4bba-b124-b40dd7af4666",
   "metadata": {},
   "outputs": [],
   "source": [
    "#more levels of fuel type than fuel type2. "
   ]
  },
  {
   "cell_type": "code",
   "execution_count": 371,
   "id": "fe7be8cc-e65d-4ca9-998e-633c268be477",
   "metadata": {},
   "outputs": [
    {
     "data": {
      "text/plain": [
       "array(['Petrol', 'Diesel', 'Hybrid', 'Other', 'Electric', nan],\n",
       "      dtype=object)"
      ]
     },
     "execution_count": 371,
     "metadata": {},
     "output_type": "execute_result"
    }
   ],
   "source": [
    "used_car_df['fuelType'].unique()"
   ]
  },
  {
   "cell_type": "code",
   "execution_count": 372,
   "id": "a0b36986-f922-4f5c-aa82-f569ae5adffb",
   "metadata": {},
   "outputs": [],
   "source": [
    "# where fuelType null then fuel type2\n",
    "used_car_df['fuelType'].isnull().sum()\n",
    "pd.Series(np.where(used_car_df['fuelType'].isnull(), used_car_df['fuel type2'], used_car_df['fuelType'])).isnull().sum()\n",
    "used_car_df['fuelType'] = np.where(used_car_df['fuelType'].isnull(), used_car_df['fuel type2'], used_car_df['fuelType'])"
   ]
  },
  {
   "cell_type": "code",
   "execution_count": 373,
   "id": "1782aaee-a3a9-4d9c-a8b4-bb8a78540d18",
   "metadata": {},
   "outputs": [],
   "source": [
    "used_car_df[used_car_df.fuelType.isnull()] #all but approx 100 of these have references. think we can del reference \n",
    "used_car_df[used_car_df.fuelType.isnull()]['fuel type'].unique()\n",
    "used_car_df['fuelType'] = np.where(used_car_df['fuelType'].isnull(), used_car_df['fuel type'], used_car_df['fuelType'])"
   ]
  },
  {
   "cell_type": "code",
   "execution_count": 374,
   "id": "12de82fd-3083-45e9-9611-9b85a5e5abec",
   "metadata": {},
   "outputs": [
    {
     "data": {
      "text/plain": [
       "index             0\n",
       "model           155\n",
       "year            155\n",
       "price           155\n",
       "transmission    155\n",
       "mileage         155\n",
       "fuelType        155\n",
       "tax             155\n",
       "mpg             155\n",
       "engineSize      155\n",
       "make              0\n",
       "tax(£)          155\n",
       "fuel type       155\n",
       "engine size     155\n",
       "mileage2        155\n",
       "fuel type2      155\n",
       "engine size2    155\n",
       "reference       155\n",
       "dtype: int64"
      ]
     },
     "execution_count": 374,
     "metadata": {},
     "output_type": "execute_result"
    }
   ],
   "source": [
    "used_car_df[used_car_df.fuelType.isnull()].isnull().sum() #ALL ROWS BLANK"
   ]
  },
  {
   "cell_type": "code",
   "execution_count": 375,
   "id": "a2de1ece-a0e0-4b77-bba9-4bde443adfc2",
   "metadata": {},
   "outputs": [],
   "source": [
    "used_car_df = used_car_df.drop('reference',axis=1)"
   ]
  },
  {
   "cell_type": "code",
   "execution_count": 376,
   "id": "83241711-2f02-4af6-9534-2b53f2b947e5",
   "metadata": {},
   "outputs": [
    {
     "data": {
      "text/plain": [
       "array(['unclean cclass', 'unclean focus'], dtype=object)"
      ]
     },
     "execution_count": 376,
     "metadata": {},
     "output_type": "execute_result"
    }
   ],
   "source": [
    "used_car_df[used_car_df.fuelType.isnull()]['make'].unique() #pretty much two makes with no info. \n",
    "#these rows actually provide no new info AT ALL. drop. "
   ]
  },
  {
   "cell_type": "code",
   "execution_count": 377,
   "id": "f989d762-6f8a-48bb-b8d6-897e14abec69",
   "metadata": {},
   "outputs": [
    {
     "data": {
      "text/plain": [
       "index                0\n",
       "model                0\n",
       "year                92\n",
       "price                0\n",
       "transmission         0\n",
       "mileage            918\n",
       "fuelType             0\n",
       "tax              23668\n",
       "mpg              18808\n",
       "engineSize        9455\n",
       "make                 0\n",
       "tax(£)          113135\n",
       "fuel type       114478\n",
       "engine size     108650\n",
       "mileage2        108596\n",
       "fuel type2      109458\n",
       "engine size2    109458\n",
       "dtype: int64"
      ]
     },
     "execution_count": 377,
     "metadata": {},
     "output_type": "execute_result"
    }
   ],
   "source": [
    "used_car_df=used_car_df[~used_car_df.fuelType.isnull()]\n",
    "used_car_df.isnull().sum()"
   ]
  },
  {
   "cell_type": "code",
   "execution_count": 378,
   "id": "82179081-6408-4144-b74c-ead68aa1606e",
   "metadata": {},
   "outputs": [],
   "source": [
    "used_car_df = used_car_df.drop(['index','fuel type','fuel type2'],axis=1)"
   ]
  },
  {
   "cell_type": "code",
   "execution_count": 379,
   "id": "f9e8e3bb-4d6e-43ee-bf09-5fd429d8e54d",
   "metadata": {},
   "outputs": [
    {
     "data": {
      "text/plain": [
       "mileage     918\n",
       "mileage2      0\n",
       "dtype: int64"
      ]
     },
     "execution_count": 379,
     "metadata": {},
     "output_type": "execute_result"
    }
   ],
   "source": [
    "#same for mileage \n",
    "\n",
    "used_car_df[used_car_df['mileage'].isnull()][['mileage','mileage2']].isnull().sum()"
   ]
  },
  {
   "cell_type": "code",
   "execution_count": 380,
   "id": "8048d37a-be22-4e19-9f6e-ebcf796f4375",
   "metadata": {},
   "outputs": [],
   "source": [
    "used_car_df['mileage'] = np.where(used_car_df['mileage'].isnull(), used_car_df['mileage2'], used_car_df['mileage'])\n",
    "used_car_df = used_car_df.drop('mileage2',axis=1)"
   ]
  },
  {
   "cell_type": "code",
   "execution_count": 381,
   "id": "e574ba5a-2268-4bd3-8e29-e69fc8f89bd0",
   "metadata": {},
   "outputs": [
    {
     "data": {
      "text/plain": [
       "engineSize      110\n",
       "engine size2      0\n",
       "dtype: int64"
      ]
     },
     "execution_count": 381,
     "metadata": {},
     "output_type": "execute_result"
    }
   ],
   "source": [
    "used_car_df[used_car_df['engineSize'].isnull()][['engineSize','engine size']].isnull().sum()\n",
    "used_car_df['engineSize'] = np.where(used_car_df['engineSize'].isnull(), used_car_df['engine size'], used_car_df['engineSize'])\n",
    "used_car_df[used_car_df['engineSize'].isnull()][['engineSize','engine size2']].isnull().sum()"
   ]
  },
  {
   "cell_type": "code",
   "execution_count": 382,
   "id": "f30c3ba3-48a9-422e-bf9d-01691d78fd8d",
   "metadata": {},
   "outputs": [],
   "source": [
    "used_car_df['engineSize'] = np.where(used_car_df['engineSize'].isnull(), used_car_df['engine size2'], used_car_df['engineSize'])"
   ]
  },
  {
   "cell_type": "code",
   "execution_count": 383,
   "id": "18038c75-490e-4da5-ba82-15b1918b79b5",
   "metadata": {},
   "outputs": [],
   "source": [
    "used_car_df = used_car_df.drop(['engine size','engine size2'],axis=1)"
   ]
  },
  {
   "cell_type": "code",
   "execution_count": 384,
   "id": "671103ba-63c4-4f29-a685-a9cd3cdafadd",
   "metadata": {},
   "outputs": [
    {
     "data": {
      "text/plain": [
       "tax       4860\n",
       "tax(£)       0\n",
       "dtype: int64"
      ]
     },
     "execution_count": 384,
     "metadata": {},
     "output_type": "execute_result"
    }
   ],
   "source": [
    "#used_car_df[used_car_df['engineSize'].isnull()][['engineSize','engine size2']].isnull().sum()\n",
    "used_car_df[~used_car_df['tax(£)'].isnull()][['tax','tax(£)']].isnull().sum() #was trying to see whether tax and tax(£) have any overlap so as not to mix currencies?"
   ]
  },
  {
   "cell_type": "code",
   "execution_count": 385,
   "id": "9287badc-9c1a-4c61-ac34-02f40afb5e3d",
   "metadata": {},
   "outputs": [
    {
     "data": {
      "text/plain": [
       "<AxesSubplot:>"
      ]
     },
     "execution_count": 385,
     "metadata": {},
     "output_type": "execute_result"
    },
    {
     "data": {
      "image/png": "[encoded data removed]",
      "text/plain": [
       "<Figure size 432x288 with 1 Axes>"
      ]
     },
     "metadata": {
      "needs_background": "light"
     },
     "output_type": "display_data"
    }
   ],
   "source": [
    "used_car_df.tax.hist()\n",
    "used_car_df['tax(£)'].hist() #likely all in pounds - similar distribution "
   ]
  },
  {
   "cell_type": "code",
   "execution_count": 386,
   "id": "645d5098-d7bf-4d43-a798-da34fa603b50",
   "metadata": {},
   "outputs": [
    {
     "data": {
      "text/plain": [
       "model                0\n",
       "year                92\n",
       "price                0\n",
       "transmission         0\n",
       "mileage              0\n",
       "fuelType             0\n",
       "tax              18808\n",
       "mpg              18808\n",
       "engineSize           0\n",
       "make                 0\n",
       "tax(£)          113135\n",
       "dtype: int64"
      ]
     },
     "execution_count": 386,
     "metadata": {},
     "output_type": "execute_result"
    }
   ],
   "source": [
    "used_car_df['tax'] = np.where(used_car_df['tax'].isnull(), used_car_df['tax(£)'], used_car_df['tax'])\n",
    "used_car_df.isnull().sum()"
   ]
  },
  {
   "cell_type": "code",
   "execution_count": 387,
   "id": "9dd2836f-f968-4407-abde-1cdf2287887a",
   "metadata": {},
   "outputs": [],
   "source": [
    "used_car_df = used_car_df.drop(['tax(£)'],axis=1)"
   ]
  },
  {
   "cell_type": "code",
   "execution_count": 388,
   "id": "7184a08e-1ee6-4d80-80d9-e5223acdfade",
   "metadata": {},
   "outputs": [
    {
     "data": {
      "text/plain": [
       "<AxesSubplot:>"
      ]
     },
     "execution_count": 388,
     "metadata": {},
     "output_type": "execute_result"
    },
    {
     "data": {
      "image/png": "[encoded data removed]",
      "text/plain": [
       "<Figure size 432x288 with 2 Axes>"
      ]
     },
     "metadata": {
      "needs_background": "light"
     },
     "output_type": "display_data"
    }
   ],
   "source": [
    "sns.heatmap(used_car_df.isnull())"
   ]
  },
  {
   "cell_type": "code",
   "execution_count": 389,
   "id": "b547800e-96d7-4226-b18d-91575ee9c400",
   "metadata": {},
   "outputs": [
    {
     "data": {
      "text/plain": [
       "unclean focus     5548\n",
       "focus             5454\n",
       "unclean cclass    3907\n",
       "cclass            3899\n",
       "Name: make, dtype: int64"
      ]
     },
     "execution_count": 389,
     "metadata": {},
     "output_type": "execute_result"
    }
   ],
   "source": [
    "used_car_df[used_car_df['tax'].isnull()].make.value_counts()"
   ]
  },
  {
   "cell_type": "code",
   "execution_count": 390,
   "id": "67a4d6e1-8b80-4841-a02d-9f1c46972074",
   "metadata": {},
   "outputs": [
    {
     "data": {
      "text/plain": [
       "unclean focus     5548\n",
       "focus             5454\n",
       "unclean cclass    3907\n",
       "cclass            3899\n",
       "Name: make, dtype: int64"
      ]
     },
     "execution_count": 390,
     "metadata": {},
     "output_type": "execute_result"
    }
   ],
   "source": [
    "used_car_df[used_car_df['make'].isin(['unclean focus','focus','unclean cclass','cclass'])].make.value_counts()"
   ]
  },
  {
   "cell_type": "code",
   "execution_count": 391,
   "id": "ec4fc49b-fec5-4e97-8905-405010e97e33",
   "metadata": {},
   "outputs": [],
   "source": [
    "#tax is missig for all focus and cclass."
   ]
  },
  {
   "cell_type": "code",
   "execution_count": 392,
   "id": "3bf1bf78-3796-46d7-8263-a6d4b225fe4f",
   "metadata": {},
   "outputs": [
    {
     "data": {
      "text/plain": [
       "unclean focus     5548\n",
       "focus             5454\n",
       "unclean cclass    3907\n",
       "cclass            3899\n",
       "Name: make, dtype: int64"
      ]
     },
     "execution_count": 392,
     "metadata": {},
     "output_type": "execute_result"
    }
   ],
   "source": [
    "used_car_df[used_car_df['mpg'].isnull()].make.value_counts()"
   ]
  },
  {
   "cell_type": "code",
   "execution_count": 393,
   "id": "025c562c-4521-4d1e-9972-d8835be9220f",
   "metadata": {},
   "outputs": [],
   "source": [
    "#mpg also missing for all these. "
   ]
  },
  {
   "cell_type": "code",
   "execution_count": 394,
   "id": "2b80588a-768e-4fa5-9d1e-0fe65b0e0088",
   "metadata": {},
   "outputs": [
    {
     "data": {
      "text/plain": [
       "Text(0.5, 1.0, 'Merc')"
      ]
     },
     "execution_count": 394,
     "metadata": {},
     "output_type": "execute_result"
    },
    {
     "data": {
      "image/png": "[encoded data removed]",
      "text/plain": [
       "<Figure size 432x288 with 2 Axes>"
      ]
     },
     "metadata": {
      "needs_background": "light"
     },
     "output_type": "display_data"
    }
   ],
   "source": [
    "#lets test if they all have the same distribution \n",
    "\n",
    "fig, ax = plt.subplots(1, 2, sharex='col', sharey='row')\n",
    "used_car_df[used_car_df['make']=='ford'].tax.hist(ax=ax[0]).set_title('Ford')\n",
    "used_car_df[used_car_df['make']=='merc'].tax.hist(ax=ax[1]).set_title('Merc')\n"
   ]
  },
  {
   "cell_type": "code",
   "execution_count": 395,
   "id": "9516f81c-5f8d-461f-afbc-78d62d9c8e45",
   "metadata": {},
   "outputs": [],
   "source": [
    "# OMF finding a test for equivalence is needlessly difficult. Will assume they are the sa"
   ]
  },
  {
   "cell_type": "code",
   "execution_count": 396,
   "id": "b826aec6-2c22-420d-b625-9a21bf2c0590",
   "metadata": {},
   "outputs": [
    {
     "data": {
      "text/plain": [
       "2.0    29506\n",
       "Name: engineSize, dtype: int64"
      ]
     },
     "execution_count": 396,
     "metadata": {},
     "output_type": "execute_result"
    }
   ],
   "source": [
    "used_car_df['engineSize'].value_counts().head(1)"
   ]
  },
  {
   "cell_type": "code",
   "execution_count": 397,
   "id": "848acc96-63df-4c11-bf5b-470cd275b793",
   "metadata": {
    "tags": []
   },
   "outputs": [],
   "source": [
    "#need to clean engineSize for calcs first \n",
    "\n",
    "#unclean but easiest \n",
    "used_car_df.loc[used_car_df['engineSize'].astype(str).str.contains('£'),'engineSize'] = '2.0'"
   ]
  },
  {
   "cell_type": "code",
   "execution_count": 398,
   "id": "db9c9148-4fc8-4200-a589-709f3126e4b2",
   "metadata": {},
   "outputs": [],
   "source": [
    "used_car_df.loc[used_car_df['engineSize'].astype(str).str.contains('cc')|used_car_df['engineSize'].astype(str).str.contains('CC'),'engineSize'] = used_car_df['engineSize'][used_car_df['engineSize'].astype(str).str.contains('cc')|used_car_df['engineSize'].astype(str).str.contains('CC')].str.strip().apply(lambda row_str: row_str[:1])"
   ]
  },
  {
   "cell_type": "code",
   "execution_count": 399,
   "id": "5a645dd1-3132-4e4e-8313-3d7514f70e34",
   "metadata": {},
   "outputs": [],
   "source": [
    "c1 = used_car_df['engineSize']=='Unknown'\n",
    "c2 = used_car_df['engineSize']==''\n",
    "used_car_df.loc[c1|c2,'engineSize'] = '2.0'"
   ]
  },
  {
   "cell_type": "code",
   "execution_count": 406,
   "id": "3ef7cb60-1b13-4f7a-8740-449bc7809803",
   "metadata": {},
   "outputs": [],
   "source": [
    "#IMAGINE XD the most scientific\n",
    "engine_dct = {'2143':'2', '3982':'3','2996':'3', '1595':'1.5', '1950':'2', \n",
    "              '1497':'1.5', '1597':'1.5', '1600':'1.6', '1991':'2', \n",
    "              '0':'1', '2148':'2.1', '2.143':'2.1', '2685':'2.6', \n",
    "              '2000':'2.0', '3000':'3.0', '3200':'3.2', '5400':'3',\n",
    "              '2100':'2.1', '1500':'1.5', '5439':'3', '1998':'2', \n",
    "              '2597':'2.5', '1796':'1.8', '0.999':'1', '1.498':'1.5', \n",
    "              '999':'1', '1000':'1', '2300':'2', '1498':'1.5', '1596':'1.5', '1560':'1.5',\n",
    "       '1499':'1.5', '1999':'2', '1997':'2', '1798':'1.8', '1989':'1.8', '1753':'1.8'}\n",
    "used_car_df['engineSize'] = used_car_df['engineSize'].astype(str).replace(engine_dct).astype(float)"
   ]
  },
  {
   "cell_type": "code",
   "execution_count": 407,
   "id": "f47dbe7a-278e-41e2-af10-b5a87cbf078b",
   "metadata": {},
   "outputs": [
    {
     "data": {
      "text/html": [
       "<div>\n",
       "<style scoped>\n",
       "    .dataframe tbody tr th:only-of-type {\n",
       "        vertical-align: middle;\n",
       "    }\n",
       "\n",
       "    .dataframe tbody tr th {\n",
       "        vertical-align: top;\n",
       "    }\n",
       "\n",
       "    .dataframe thead th {\n",
       "        text-align: right;\n",
       "    }\n",
       "</style>\n",
       "<table border=\"1\" class=\"dataframe\">\n",
       "  <thead>\n",
       "    <tr style=\"text-align: right;\">\n",
       "      <th></th>\n",
       "      <th></th>\n",
       "      <th></th>\n",
       "      <th></th>\n",
       "      <th>tax</th>\n",
       "    </tr>\n",
       "    <tr>\n",
       "      <th>year</th>\n",
       "      <th>transmission</th>\n",
       "      <th>fuelType</th>\n",
       "      <th>engineSize</th>\n",
       "      <th></th>\n",
       "    </tr>\n",
       "  </thead>\n",
       "  <tbody>\n",
       "    <tr>\n",
       "      <th>2002.0</th>\n",
       "      <th>Manual</th>\n",
       "      <th>Petrol</th>\n",
       "      <th>1.6</th>\n",
       "      <td>220.000000</td>\n",
       "    </tr>\n",
       "    <tr>\n",
       "      <th rowspan=\"2\" valign=\"top\">2003.0</th>\n",
       "      <th rowspan=\"2\" valign=\"top\">Manual</th>\n",
       "      <th rowspan=\"2\" valign=\"top\">Petrol</th>\n",
       "      <th>1.6</th>\n",
       "      <td>200.000000</td>\n",
       "    </tr>\n",
       "    <tr>\n",
       "      <th>2.0</th>\n",
       "      <td>325.000000</td>\n",
       "    </tr>\n",
       "    <tr>\n",
       "      <th rowspan=\"2\" valign=\"top\">2005.0</th>\n",
       "      <th>Automatic</th>\n",
       "      <th>Petrol</th>\n",
       "      <th>1.6</th>\n",
       "      <td>265.000000</td>\n",
       "    </tr>\n",
       "    <tr>\n",
       "      <th>Manual</th>\n",
       "      <th>Petrol</th>\n",
       "      <th>1.6</th>\n",
       "      <td>215.000000</td>\n",
       "    </tr>\n",
       "    <tr>\n",
       "      <th>...</th>\n",
       "      <th>...</th>\n",
       "      <th>...</th>\n",
       "      <th>...</th>\n",
       "      <td>...</td>\n",
       "    </tr>\n",
       "    <tr>\n",
       "      <th rowspan=\"5\" valign=\"top\">2020.0</th>\n",
       "      <th rowspan=\"5\" valign=\"top\">Manual</th>\n",
       "      <th rowspan=\"2\" valign=\"top\">Diesel</th>\n",
       "      <th>1.5</th>\n",
       "      <td>145.833333</td>\n",
       "    </tr>\n",
       "    <tr>\n",
       "      <th>2.0</th>\n",
       "      <td>145.476190</td>\n",
       "    </tr>\n",
       "    <tr>\n",
       "      <th rowspan=\"3\" valign=\"top\">Petrol</th>\n",
       "      <th>1.0</th>\n",
       "      <td>146.005917</td>\n",
       "    </tr>\n",
       "    <tr>\n",
       "      <th>1.5</th>\n",
       "      <td>146.428571</td>\n",
       "    </tr>\n",
       "    <tr>\n",
       "      <th>2.3</th>\n",
       "      <td>145.833333</td>\n",
       "    </tr>\n",
       "  </tbody>\n",
       "</table>\n",
       "<p>166 rows × 1 columns</p>\n",
       "</div>"
      ],
      "text/plain": [
       "                                                tax\n",
       "year   transmission fuelType engineSize            \n",
       "2002.0 Manual       Petrol   1.6         220.000000\n",
       "2003.0 Manual       Petrol   1.6         200.000000\n",
       "                             2.0         325.000000\n",
       "2005.0 Automatic    Petrol   1.6         265.000000\n",
       "       Manual       Petrol   1.6         215.000000\n",
       "...                                             ...\n",
       "2020.0 Manual       Diesel   1.5         145.833333\n",
       "                             2.0         145.476190\n",
       "                    Petrol   1.0         146.005917\n",
       "                             1.5         146.428571\n",
       "                             2.3         145.833333\n",
       "\n",
       "[166 rows x 1 columns]"
      ]
     },
     "execution_count": 407,
     "metadata": {},
     "output_type": "execute_result"
    }
   ],
   "source": [
    "# will learn a similar distribution for the missing makes as for their existing counterparts. \n",
    "# this will involve the training of four regression models to predict tax. we will use the same method to predict mpg. \n",
    "#actually :') I really really don't feel like doing that\n",
    "\n",
    "ford_tax_grps_df = pd.DataFrame(used_car_df[used_car_df['make']=='ford'].groupby(['year', 'transmission', 'fuelType', 'engineSize'])['tax'].mean())\n",
    "\n",
    "focus_tax_grps_df = pd.DataFrame(used_car_df[used_car_df['make'].isin(['unclean focus','focus'])].groupby(['year', 'transmission', 'fuelType', 'engineSize'])['tax'].agg('mean'))\n",
    "tax_replace_df = ford_tax_grps_df.join(focus_tax_grps_df, rsuffix='_focus', how='inner')[['tax']]\n",
    "tax_replace_df"
   ]
  },
  {
   "cell_type": "code",
   "execution_count": 410,
   "id": "982ea228-f9bd-4b18-99fe-e7b1c8b4c3f9",
   "metadata": {},
   "outputs": [
    {
     "data": {
      "text/plain": [
       "113.33453938213192"
      ]
     },
     "execution_count": 410,
     "metadata": {},
     "output_type": "execute_result"
    }
   ],
   "source": [
    "used_car_df[used_car_df['make']=='ford'].tax.mean()"
   ]
  },
  {
   "cell_type": "code",
   "execution_count": 414,
   "id": "6c1312e9-355e-4c9e-9f6a-c7adcf54e64c",
   "metadata": {},
   "outputs": [],
   "source": [
    "c1 = used_car_df['make'].isin(['unclean focus','focus'])\n",
    "used_car_df.loc[c1,'tax'] = used_car_df[c1].set_index(['year', 'transmission', 'fuelType', 'engineSize']).join(tax_replace_df, lsuffix='_to_replace')['tax'].transform(lambda row: 113 if np.isnan(row) else row).values"
   ]
  },
  {
   "cell_type": "code",
   "execution_count": 139,
   "id": "04aa4574-7231-4396-a5f3-e054ea0d14e7",
   "metadata": {},
   "outputs": [
    {
     "data": {
      "text/html": [
       "<div>\n",
       "<style scoped>\n",
       "    .dataframe tbody tr th:only-of-type {\n",
       "        vertical-align: middle;\n",
       "    }\n",
       "\n",
       "    .dataframe tbody tr th {\n",
       "        vertical-align: top;\n",
       "    }\n",
       "\n",
       "    .dataframe thead th {\n",
       "        text-align: right;\n",
       "    }\n",
       "</style>\n",
       "<table border=\"1\" class=\"dataframe\">\n",
       "  <thead>\n",
       "    <tr style=\"text-align: right;\">\n",
       "      <th></th>\n",
       "      <th>model</th>\n",
       "      <th>year</th>\n",
       "      <th>price</th>\n",
       "      <th>transmission</th>\n",
       "      <th>mileage</th>\n",
       "      <th>fuelType</th>\n",
       "      <th>tax</th>\n",
       "      <th>mpg</th>\n",
       "      <th>engineSize</th>\n",
       "      <th>make</th>\n",
       "    </tr>\n",
       "  </thead>\n",
       "  <tbody>\n",
       "    <tr>\n",
       "      <th>25348</th>\n",
       "      <td>Focus</td>\n",
       "      <td>2016.0</td>\n",
       "      <td>8000</td>\n",
       "      <td>Manual</td>\n",
       "      <td>38852</td>\n",
       "      <td>Petrol</td>\n",
       "      <td>NaN</td>\n",
       "      <td>NaN</td>\n",
       "      <td>1.0</td>\n",
       "      <td>focus</td>\n",
       "    </tr>\n",
       "    <tr>\n",
       "      <th>25349</th>\n",
       "      <td>Focus</td>\n",
       "      <td>2019.0</td>\n",
       "      <td>13400</td>\n",
       "      <td>Manual</td>\n",
       "      <td>11952</td>\n",
       "      <td>Petrol</td>\n",
       "      <td>NaN</td>\n",
       "      <td>NaN</td>\n",
       "      <td>1.0</td>\n",
       "      <td>focus</td>\n",
       "    </tr>\n",
       "    <tr>\n",
       "      <th>25350</th>\n",
       "      <td>Focus</td>\n",
       "      <td>2019.0</td>\n",
       "      <td>14600</td>\n",
       "      <td>Manual</td>\n",
       "      <td>22142</td>\n",
       "      <td>Petrol</td>\n",
       "      <td>NaN</td>\n",
       "      <td>NaN</td>\n",
       "      <td>1.5</td>\n",
       "      <td>focus</td>\n",
       "    </tr>\n",
       "    <tr>\n",
       "      <th>25351</th>\n",
       "      <td>Focus</td>\n",
       "      <td>2016.0</td>\n",
       "      <td>9450</td>\n",
       "      <td>Manual</td>\n",
       "      <td>14549</td>\n",
       "      <td>Diesel</td>\n",
       "      <td>NaN</td>\n",
       "      <td>NaN</td>\n",
       "      <td>1.6</td>\n",
       "      <td>focus</td>\n",
       "    </tr>\n",
       "    <tr>\n",
       "      <th>25352</th>\n",
       "      <td>Focus</td>\n",
       "      <td>2015.0</td>\n",
       "      <td>9999</td>\n",
       "      <td>Manual</td>\n",
       "      <td>7010</td>\n",
       "      <td>Diesel</td>\n",
       "      <td>NaN</td>\n",
       "      <td>NaN</td>\n",
       "      <td>1.6</td>\n",
       "      <td>focus</td>\n",
       "    </tr>\n",
       "    <tr>\n",
       "      <th>...</th>\n",
       "      <td>...</td>\n",
       "      <td>...</td>\n",
       "      <td>...</td>\n",
       "      <td>...</td>\n",
       "      <td>...</td>\n",
       "      <td>...</td>\n",
       "      <td>...</td>\n",
       "      <td>...</td>\n",
       "      <td>...</td>\n",
       "      <td>...</td>\n",
       "    </tr>\n",
       "    <tr>\n",
       "      <th>89356</th>\n",
       "      <td>Focus</td>\n",
       "      <td>2019.0</td>\n",
       "      <td>£18,745</td>\n",
       "      <td>Manual</td>\n",
       "      <td>7,855</td>\n",
       "      <td>Diesel</td>\n",
       "      <td>NaN</td>\n",
       "      <td>NaN</td>\n",
       "      <td>2</td>\n",
       "      <td>unclean focus</td>\n",
       "    </tr>\n",
       "    <tr>\n",
       "      <th>89357</th>\n",
       "      <td>Focus</td>\n",
       "      <td>2019.0</td>\n",
       "      <td>£16,350</td>\n",
       "      <td>Manual</td>\n",
       "      <td>13,891</td>\n",
       "      <td>Petrol</td>\n",
       "      <td>NaN</td>\n",
       "      <td>NaN</td>\n",
       "      <td>1</td>\n",
       "      <td>unclean focus</td>\n",
       "    </tr>\n",
       "    <tr>\n",
       "      <th>89358</th>\n",
       "      <td>Focus</td>\n",
       "      <td>2019.0</td>\n",
       "      <td>£16,850</td>\n",
       "      <td>Manual</td>\n",
       "      <td>13,452</td>\n",
       "      <td>Petrol</td>\n",
       "      <td>NaN</td>\n",
       "      <td>NaN</td>\n",
       "      <td>1</td>\n",
       "      <td>unclean focus</td>\n",
       "    </tr>\n",
       "    <tr>\n",
       "      <th>89359</th>\n",
       "      <td>Focus</td>\n",
       "      <td>2019.0</td>\n",
       "      <td>£17,310</td>\n",
       "      <td>Automatic</td>\n",
       "      <td>13,376</td>\n",
       "      <td>Petrol</td>\n",
       "      <td>NaN</td>\n",
       "      <td>NaN</td>\n",
       "      <td>1</td>\n",
       "      <td>unclean focus</td>\n",
       "    </tr>\n",
       "    <tr>\n",
       "      <th>89360</th>\n",
       "      <td>Focus</td>\n",
       "      <td>2019.0</td>\n",
       "      <td>£17,610</td>\n",
       "      <td>Automatic</td>\n",
       "      <td>7,886</td>\n",
       "      <td>Petrol</td>\n",
       "      <td>NaN</td>\n",
       "      <td>NaN</td>\n",
       "      <td>1</td>\n",
       "      <td>unclean focus</td>\n",
       "    </tr>\n",
       "  </tbody>\n",
       "</table>\n",
       "<p>11002 rows × 10 columns</p>\n",
       "</div>"
      ],
      "text/plain": [
       "        model    year     price transmission mileage fuelType  tax  mpg  \\\n",
       "25348   Focus  2016.0      8000       Manual   38852   Petrol  NaN  NaN   \n",
       "25349   Focus  2019.0     13400       Manual   11952   Petrol  NaN  NaN   \n",
       "25350   Focus  2019.0     14600       Manual   22142   Petrol  NaN  NaN   \n",
       "25351   Focus  2016.0      9450       Manual   14549   Diesel  NaN  NaN   \n",
       "25352   Focus  2015.0      9999       Manual    7010   Diesel  NaN  NaN   \n",
       "...       ...     ...       ...          ...     ...      ...  ...  ...   \n",
       "89356   Focus  2019.0   £18,745       Manual   7,855   Diesel  NaN  NaN   \n",
       "89357   Focus  2019.0   £16,350       Manual  13,891   Petrol  NaN  NaN   \n",
       "89358   Focus  2019.0   £16,850       Manual  13,452   Petrol  NaN  NaN   \n",
       "89359   Focus  2019.0   £17,310    Automatic  13,376   Petrol  NaN  NaN   \n",
       "89360   Focus  2019.0   £17,610    Automatic   7,886   Petrol  NaN  NaN   \n",
       "\n",
       "      engineSize           make  \n",
       "25348        1.0          focus  \n",
       "25349        1.0          focus  \n",
       "25350        1.5          focus  \n",
       "25351        1.6          focus  \n",
       "25352        1.6          focus  \n",
       "...          ...            ...  \n",
       "89356          2  unclean focus  \n",
       "89357          1  unclean focus  \n",
       "89358          1  unclean focus  \n",
       "89359          1  unclean focus  \n",
       "89360          1  unclean focus  \n",
       "\n",
       "[11002 rows x 10 columns]"
      ]
     },
     "execution_count": 139,
     "metadata": {},
     "output_type": "execute_result"
    }
   ],
   "source": [
    "# effing lol - looking at some of the above numbers it would have just been better to have taken average ford and populated focus tax. Probably what I'll land up doing for mileage"
   ]
  },
  {
   "cell_type": "code",
   "execution_count": 415,
   "id": "ec1f9a52-cef0-467e-8c51-f1dec6ad7c4b",
   "metadata": {},
   "outputs": [
    {
     "data": {
      "text/plain": [
       "<AxesSubplot:>"
      ]
     },
     "execution_count": 415,
     "metadata": {},
     "output_type": "execute_result"
    },
    {
     "data": {
      "image/png": "[encoded data removed]",
      "text/plain": [
       "<Figure size 432x288 with 1 Axes>"
      ]
     },
     "metadata": {
      "needs_background": "light"
     },
     "output_type": "display_data"
    }
   ],
   "source": [
    "used_car_df.loc[c1,'tax'].hist() #um, this looks okay. but yes. if I wanted to do it properly, regression would have been better and otherwise just keep it at median/mean"
   ]
  },
  {
   "cell_type": "code",
   "execution_count": 417,
   "id": "08b8ba28-a0f3-4200-9025-72c472820a99",
   "metadata": {},
   "outputs": [],
   "source": [
    "#merc - doing the same way for consistency \n",
    "ford_tax_grps_df = pd.DataFrame(used_car_df[used_car_df['make']=='merc'].groupby(['year', 'transmission', 'fuelType', 'engineSize'])['tax'].mean())\n",
    "\n",
    "focus_tax_grps_df = pd.DataFrame(used_car_df[used_car_df['make'].isin(['unclean cclass','cclass'])].groupby(['year', 'transmission', 'fuelType', 'engineSize'])['tax'].agg('mean'))\n",
    "tax_replace_df = ford_tax_grps_df.join(focus_tax_grps_df, rsuffix='_focus', how='inner')[['tax']]\n",
    "tax_replace_df\n",
    "used_car_df[used_car_df['make']=='merc'].tax.mean() #130\n",
    "c1 = used_car_df['make'].isin(['unclean cclass','cclass'])\n",
    "used_car_df.loc[c1,'tax'] = used_car_df[c1].set_index(['year', 'transmission', 'fuelType', 'engineSize']).join(tax_replace_df, lsuffix='_to_replace')['tax'].transform(lambda row: 130 if np.isnan(row) else row).values"
   ]
  },
  {
   "cell_type": "code",
   "execution_count": 423,
   "id": "52073f1d-b750-4876-8413-db3a5ef5811c",
   "metadata": {},
   "outputs": [],
   "source": [
    "used_car_df = used_car_df[~used_car_df.duplicated()]"
   ]
  },
  {
   "cell_type": "code",
   "execution_count": 426,
   "id": "ca96eeee-04db-435a-b677-0bd8ac607680",
   "metadata": {},
   "outputs": [
    {
     "data": {
      "text/plain": [
       "<AxesSubplot:>"
      ]
     },
     "execution_count": 426,
     "metadata": {},
     "output_type": "execute_result"
    },
    {
     "data": {
      "image/png": "[encoded data removed]",
      "text/plain": [
       "<Figure size 432x288 with 1 Axes>"
      ]
     },
     "metadata": {
      "needs_background": "light"
     },
     "output_type": "display_data"
    }
   ],
   "source": [
    "used_car_df['engineSize'].hist()"
   ]
  },
  {
   "cell_type": "code",
   "execution_count": 440,
   "id": "e08abc6b-8e91-46e4-844a-987fc0c641a6",
   "metadata": {},
   "outputs": [
    {
     "name": "stderr",
     "output_type": "stream",
     "text": [
      "C:\\Users\\nikig\\AppData\\Local\\Temp/ipykernel_26816/3888605533.py:4: SettingWithCopyWarning: \n",
      "A value is trying to be set on a copy of a slice from a DataFrame.\n",
      "Try using .loc[row_indexer,col_indexer] = value instead\n",
      "\n",
      "See the caveats in the documentation: https://pandas.pydata.org/pandas-docs/stable/user_guide/indexing.html#returning-a-view-versus-a-copy\n",
      "  used_car_df['price'] = used_car_df['price'].astype(str).str.strip().str.replace('£','').str.replace(',','')\n",
      "C:\\Users\\nikig\\AppData\\Local\\Temp/ipykernel_26816/3888605533.py:5: SettingWithCopyWarning: \n",
      "A value is trying to be set on a copy of a slice from a DataFrame.\n",
      "Try using .loc[row_indexer,col_indexer] = value instead\n",
      "\n",
      "See the caveats in the documentation: https://pandas.pydata.org/pandas-docs/stable/user_guide/indexing.html#returning-a-view-versus-a-copy\n",
      "  used_car_df['price'] = used_car_df['price'].astype(float)\n"
     ]
    },
    {
     "data": {
      "text/plain": [
       "<AxesSubplot:>"
      ]
     },
     "execution_count": 440,
     "metadata": {},
     "output_type": "execute_result"
    },
    {
     "data": {
      "image/png": "[encoded data removed]",
      "text/plain": [
       "<Figure size 432x288 with 1 Axes>"
      ]
     },
     "metadata": {
      "needs_background": "light"
     },
     "output_type": "display_data"
    }
   ],
   "source": [
    "# clean price, clean mileage\n",
    "\n",
    "#price: strip, remove commas, remove pound sign\n",
    "used_car_df['price'] = used_car_df['price'].astype(str).str.strip().str.replace('£','').str.replace(',','')\n",
    "used_car_df['price'] = used_car_df['price'].astype(float)\n",
    "used_car_df['price'].hist()\n"
   ]
  },
  {
   "cell_type": "code",
   "execution_count": 466,
   "id": "01a06e9d-efd6-4fef-896c-fbfe0081bf92",
   "metadata": {},
   "outputs": [
    {
     "name": "stderr",
     "output_type": "stream",
     "text": [
      "C:\\Users\\nikig\\AppData\\Local\\Temp/ipykernel_26816/988919095.py:3: SettingWithCopyWarning: \n",
      "A value is trying to be set on a copy of a slice from a DataFrame.\n",
      "Try using .loc[row_indexer,col_indexer] = value instead\n",
      "\n",
      "See the caveats in the documentation: https://pandas.pydata.org/pandas-docs/stable/user_guide/indexing.html#returning-a-view-versus-a-copy\n",
      "  used_car_df['mileage']=np.where(used_car_df['mileage']=='Unknown',23186, used_car_df['mileage'])\n"
     ]
    }
   ],
   "source": [
    "\n",
    "\n",
    "used_car_df[used_car_df['mileage']!='Unknown']['mileage'].astype(float).mean()\n",
    "\n",
    "used_car_df['mileage']=np.where(used_car_df['mileage']=='Unknown',23186, used_car_df['mileage'])"
   ]
  },
  {
   "cell_type": "code",
   "execution_count": 467,
   "id": "8475dcb3-b58c-4c20-b6d6-2366f836ab31",
   "metadata": {},
   "outputs": [
    {
     "name": "stderr",
     "output_type": "stream",
     "text": [
      "C:\\Users\\nikig\\AppData\\Local\\Temp/ipykernel_26816/2570358266.py:1: SettingWithCopyWarning: \n",
      "A value is trying to be set on a copy of a slice from a DataFrame.\n",
      "Try using .loc[row_indexer,col_indexer] = value instead\n",
      "\n",
      "See the caveats in the documentation: https://pandas.pydata.org/pandas-docs/stable/user_guide/indexing.html#returning-a-view-versus-a-copy\n",
      "  used_car_df['mileage'] = used_car_df['mileage'].astype(str).str.strip().str.replace(',','')\n",
      "C:\\Users\\nikig\\AppData\\Local\\Temp/ipykernel_26816/2570358266.py:2: SettingWithCopyWarning: \n",
      "A value is trying to be set on a copy of a slice from a DataFrame.\n",
      "Try using .loc[row_indexer,col_indexer] = value instead\n",
      "\n",
      "See the caveats in the documentation: https://pandas.pydata.org/pandas-docs/stable/user_guide/indexing.html#returning-a-view-versus-a-copy\n",
      "  used_car_df['mileage'] = used_car_df['mileage'].astype(float)\n"
     ]
    },
    {
     "data": {
      "text/plain": [
       "<AxesSubplot:>"
      ]
     },
     "execution_count": 467,
     "metadata": {},
     "output_type": "execute_result"
    },
    {
     "data": {
      "image/png": "[encoded data removed]",
      "text/plain": [
       "<Figure size 432x288 with 1 Axes>"
      ]
     },
     "metadata": {
      "needs_background": "light"
     },
     "output_type": "display_data"
    }
   ],
   "source": [
    "used_car_df['mileage'] = used_car_df['mileage'].astype(str).str.strip().str.replace(',','')\n",
    "used_car_df['mileage'] = used_car_df['mileage'].astype(float)\n",
    "used_car_df['mileage'].hist()\n"
   ]
  },
  {
   "cell_type": "code",
   "execution_count": 471,
   "id": "f252a7cb-3321-4343-8e6d-06e4362f1365",
   "metadata": {},
   "outputs": [
    {
     "data": {
      "text/html": [
       "<div>\n",
       "<style scoped>\n",
       "    .dataframe tbody tr th:only-of-type {\n",
       "        vertical-align: middle;\n",
       "    }\n",
       "\n",
       "    .dataframe tbody tr th {\n",
       "        vertical-align: top;\n",
       "    }\n",
       "\n",
       "    .dataframe thead th {\n",
       "        text-align: right;\n",
       "    }\n",
       "</style>\n",
       "<table border=\"1\" class=\"dataframe\">\n",
       "  <thead>\n",
       "    <tr style=\"text-align: right;\">\n",
       "      <th></th>\n",
       "      <th>model</th>\n",
       "      <th>year</th>\n",
       "      <th>price</th>\n",
       "      <th>transmission</th>\n",
       "      <th>mileage</th>\n",
       "      <th>fuelType</th>\n",
       "      <th>tax</th>\n",
       "      <th>mpg</th>\n",
       "      <th>engineSize</th>\n",
       "      <th>make</th>\n",
       "    </tr>\n",
       "  </thead>\n",
       "  <tbody>\n",
       "    <tr>\n",
       "      <th>0</th>\n",
       "      <td>A1</td>\n",
       "      <td>2017.0</td>\n",
       "      <td>12500.0</td>\n",
       "      <td>Manual</td>\n",
       "      <td>15735.0</td>\n",
       "      <td>Petrol</td>\n",
       "      <td>150.0</td>\n",
       "      <td>55.4</td>\n",
       "      <td>1.4</td>\n",
       "      <td>audi</td>\n",
       "    </tr>\n",
       "    <tr>\n",
       "      <th>1</th>\n",
       "      <td>A6</td>\n",
       "      <td>2016.0</td>\n",
       "      <td>16500.0</td>\n",
       "      <td>Automatic</td>\n",
       "      <td>36203.0</td>\n",
       "      <td>Diesel</td>\n",
       "      <td>20.0</td>\n",
       "      <td>64.2</td>\n",
       "      <td>2.0</td>\n",
       "      <td>audi</td>\n",
       "    </tr>\n",
       "    <tr>\n",
       "      <th>2</th>\n",
       "      <td>A1</td>\n",
       "      <td>2016.0</td>\n",
       "      <td>11000.0</td>\n",
       "      <td>Manual</td>\n",
       "      <td>29946.0</td>\n",
       "      <td>Petrol</td>\n",
       "      <td>30.0</td>\n",
       "      <td>55.4</td>\n",
       "      <td>1.4</td>\n",
       "      <td>audi</td>\n",
       "    </tr>\n",
       "    <tr>\n",
       "      <th>3</th>\n",
       "      <td>A4</td>\n",
       "      <td>2017.0</td>\n",
       "      <td>16800.0</td>\n",
       "      <td>Automatic</td>\n",
       "      <td>25952.0</td>\n",
       "      <td>Diesel</td>\n",
       "      <td>145.0</td>\n",
       "      <td>67.3</td>\n",
       "      <td>2.0</td>\n",
       "      <td>audi</td>\n",
       "    </tr>\n",
       "    <tr>\n",
       "      <th>4</th>\n",
       "      <td>A3</td>\n",
       "      <td>2019.0</td>\n",
       "      <td>17300.0</td>\n",
       "      <td>Manual</td>\n",
       "      <td>1998.0</td>\n",
       "      <td>Petrol</td>\n",
       "      <td>145.0</td>\n",
       "      <td>49.6</td>\n",
       "      <td>1.0</td>\n",
       "      <td>audi</td>\n",
       "    </tr>\n",
       "    <tr>\n",
       "      <th>...</th>\n",
       "      <td>...</td>\n",
       "      <td>...</td>\n",
       "      <td>...</td>\n",
       "      <td>...</td>\n",
       "      <td>...</td>\n",
       "      <td>...</td>\n",
       "      <td>...</td>\n",
       "      <td>...</td>\n",
       "      <td>...</td>\n",
       "      <td>...</td>\n",
       "    </tr>\n",
       "    <tr>\n",
       "      <th>118145</th>\n",
       "      <td>Eos</td>\n",
       "      <td>2012.0</td>\n",
       "      <td>5990.0</td>\n",
       "      <td>Manual</td>\n",
       "      <td>74000.0</td>\n",
       "      <td>Diesel</td>\n",
       "      <td>125.0</td>\n",
       "      <td>58.9</td>\n",
       "      <td>2.0</td>\n",
       "      <td>vw</td>\n",
       "    </tr>\n",
       "    <tr>\n",
       "      <th>118146</th>\n",
       "      <td>Fox</td>\n",
       "      <td>2008.0</td>\n",
       "      <td>1799.0</td>\n",
       "      <td>Manual</td>\n",
       "      <td>88102.0</td>\n",
       "      <td>Petrol</td>\n",
       "      <td>145.0</td>\n",
       "      <td>46.3</td>\n",
       "      <td>1.2</td>\n",
       "      <td>vw</td>\n",
       "    </tr>\n",
       "    <tr>\n",
       "      <th>118147</th>\n",
       "      <td>Fox</td>\n",
       "      <td>2009.0</td>\n",
       "      <td>1590.0</td>\n",
       "      <td>Manual</td>\n",
       "      <td>70000.0</td>\n",
       "      <td>Petrol</td>\n",
       "      <td>200.0</td>\n",
       "      <td>42.0</td>\n",
       "      <td>1.4</td>\n",
       "      <td>vw</td>\n",
       "    </tr>\n",
       "    <tr>\n",
       "      <th>118148</th>\n",
       "      <td>Fox</td>\n",
       "      <td>2006.0</td>\n",
       "      <td>1250.0</td>\n",
       "      <td>Manual</td>\n",
       "      <td>82704.0</td>\n",
       "      <td>Petrol</td>\n",
       "      <td>150.0</td>\n",
       "      <td>46.3</td>\n",
       "      <td>1.2</td>\n",
       "      <td>vw</td>\n",
       "    </tr>\n",
       "    <tr>\n",
       "      <th>118149</th>\n",
       "      <td>Fox</td>\n",
       "      <td>2007.0</td>\n",
       "      <td>2295.0</td>\n",
       "      <td>Manual</td>\n",
       "      <td>74000.0</td>\n",
       "      <td>Petrol</td>\n",
       "      <td>145.0</td>\n",
       "      <td>46.3</td>\n",
       "      <td>1.2</td>\n",
       "      <td>vw</td>\n",
       "    </tr>\n",
       "  </tbody>\n",
       "</table>\n",
       "<p>115472 rows × 10 columns</p>\n",
       "</div>"
      ],
      "text/plain": [
       "       model    year    price transmission  mileage fuelType    tax   mpg  \\\n",
       "0         A1  2017.0  12500.0       Manual  15735.0   Petrol  150.0  55.4   \n",
       "1         A6  2016.0  16500.0    Automatic  36203.0   Diesel   20.0  64.2   \n",
       "2         A1  2016.0  11000.0       Manual  29946.0   Petrol   30.0  55.4   \n",
       "3         A4  2017.0  16800.0    Automatic  25952.0   Diesel  145.0  67.3   \n",
       "4         A3  2019.0  17300.0       Manual   1998.0   Petrol  145.0  49.6   \n",
       "...      ...     ...      ...          ...      ...      ...    ...   ...   \n",
       "118145   Eos  2012.0   5990.0       Manual  74000.0   Diesel  125.0  58.9   \n",
       "118146   Fox  2008.0   1799.0       Manual  88102.0   Petrol  145.0  46.3   \n",
       "118147   Fox  2009.0   1590.0       Manual  70000.0   Petrol  200.0  42.0   \n",
       "118148   Fox  2006.0   1250.0       Manual  82704.0   Petrol  150.0  46.3   \n",
       "118149   Fox  2007.0   2295.0       Manual  74000.0   Petrol  145.0  46.3   \n",
       "\n",
       "        engineSize  make  \n",
       "0              1.4  audi  \n",
       "1              2.0  audi  \n",
       "2              1.4  audi  \n",
       "3              2.0  audi  \n",
       "4              1.0  audi  \n",
       "...            ...   ...  \n",
       "118145         2.0    vw  \n",
       "118146         1.2    vw  \n",
       "118147         1.4    vw  \n",
       "118148         1.2    vw  \n",
       "118149         1.2    vw  \n",
       "\n",
       "[115472 rows x 10 columns]"
      ]
     },
     "execution_count": 471,
     "metadata": {},
     "output_type": "execute_result"
    }
   ],
   "source": [
    "#used_car_df=used_car_df.drop('test',axis=1)\n",
    "used_car_df"
   ]
  },
  {
   "cell_type": "code",
   "execution_count": 473,
   "id": "976d6cbf-a04d-440f-b2fd-b207a40ec3b0",
   "metadata": {},
   "outputs": [
    {
     "data": {
      "text/plain": [
       "'D:/Projects/Prediction/Techniques Practice/Trees/XGBoost/5. Used Car/temp data/'"
      ]
     },
     "execution_count": 473,
     "metadata": {},
     "output_type": "execute_result"
    }
   ],
   "source": []
  },
  {
   "cell_type": "code",
   "execution_count": 5,
   "id": "e2140b9e-7b18-413e-8d39-b9271bf22556",
   "metadata": {},
   "outputs": [
    {
     "data": {
      "text/plain": [
       "<AxesSubplot:>"
      ]
     },
     "execution_count": 5,
     "metadata": {},
     "output_type": "execute_result"
    },
    {
     "data": {
      "image/png": "[encoded data removed]",
      "text/plain": [
       "<Figure size 432x288 with 2 Axes>"
      ]
     },
     "metadata": {
      "needs_background": "light"
     },
     "output_type": "display_data"
    }
   ],
   "source": [
    "sns.heatmap(used_car_df.isnull())"
   ]
  },
  {
   "cell_type": "code",
   "execution_count": 6,
   "id": "5375b6e4-396e-4c9f-bfcb-1f277e15269f",
   "metadata": {},
   "outputs": [
    {
     "data": {
      "text/html": [
       "<div>\n",
       "<style scoped>\n",
       "    .dataframe tbody tr th:only-of-type {\n",
       "        vertical-align: middle;\n",
       "    }\n",
       "\n",
       "    .dataframe tbody tr th {\n",
       "        vertical-align: top;\n",
       "    }\n",
       "\n",
       "    .dataframe thead th {\n",
       "        text-align: right;\n",
       "    }\n",
       "</style>\n",
       "<table border=\"1\" class=\"dataframe\">\n",
       "  <thead>\n",
       "    <tr style=\"text-align: right;\">\n",
       "      <th></th>\n",
       "      <th>Unnamed: 0</th>\n",
       "      <th>model</th>\n",
       "      <th>year</th>\n",
       "      <th>price</th>\n",
       "      <th>transmission</th>\n",
       "      <th>mileage</th>\n",
       "      <th>fuelType</th>\n",
       "      <th>tax</th>\n",
       "      <th>mpg</th>\n",
       "      <th>engineSize</th>\n",
       "      <th>make</th>\n",
       "    </tr>\n",
       "  </thead>\n",
       "  <tbody>\n",
       "    <tr>\n",
       "      <th>78402</th>\n",
       "      <td>79807</td>\n",
       "      <td>C Class</td>\n",
       "      <td>NaN</td>\n",
       "      <td>24495.0</td>\n",
       "      <td>Automatic</td>\n",
       "      <td>20330.0</td>\n",
       "      <td>Diesel</td>\n",
       "      <td>146.250000</td>\n",
       "      <td>NaN</td>\n",
       "      <td>2.0</td>\n",
       "      <td>unclean cclass</td>\n",
       "    </tr>\n",
       "    <tr>\n",
       "      <th>81199</th>\n",
       "      <td>82701</td>\n",
       "      <td>C Class</td>\n",
       "      <td>NaN</td>\n",
       "      <td>15490.0</td>\n",
       "      <td>Automatic</td>\n",
       "      <td>33000.0</td>\n",
       "      <td>Diesel</td>\n",
       "      <td>145.173333</td>\n",
       "      <td>NaN</td>\n",
       "      <td>2.0</td>\n",
       "      <td>unclean cclass</td>\n",
       "    </tr>\n",
       "    <tr>\n",
       "      <th>81772</th>\n",
       "      <td>83293</td>\n",
       "      <td>C Class</td>\n",
       "      <td>NaN</td>\n",
       "      <td>18995.0</td>\n",
       "      <td>Automatic</td>\n",
       "      <td>15500.0</td>\n",
       "      <td>Diesel</td>\n",
       "      <td>145.324675</td>\n",
       "      <td>NaN</td>\n",
       "      <td>2.0</td>\n",
       "      <td>unclean cclass</td>\n",
       "    </tr>\n",
       "    <tr>\n",
       "      <th>85796</th>\n",
       "      <td>87361</td>\n",
       "      <td>Focus</td>\n",
       "      <td>NaN</td>\n",
       "      <td>15495.0</td>\n",
       "      <td>Manual</td>\n",
       "      <td>7424.0</td>\n",
       "      <td>Diesel</td>\n",
       "      <td>145.617747</td>\n",
       "      <td>NaN</td>\n",
       "      <td>2.0</td>\n",
       "      <td>unclean focus</td>\n",
       "    </tr>\n",
       "    <tr>\n",
       "      <th>85943</th>\n",
       "      <td>87522</td>\n",
       "      <td>Focus</td>\n",
       "      <td>NaN</td>\n",
       "      <td>12495.0</td>\n",
       "      <td>Manual</td>\n",
       "      <td>9581.0</td>\n",
       "      <td>Petrol</td>\n",
       "      <td>145.617747</td>\n",
       "      <td>NaN</td>\n",
       "      <td>2.0</td>\n",
       "      <td>unclean focus</td>\n",
       "    </tr>\n",
       "    <tr>\n",
       "      <th>...</th>\n",
       "      <td>...</td>\n",
       "      <td>...</td>\n",
       "      <td>...</td>\n",
       "      <td>...</td>\n",
       "      <td>...</td>\n",
       "      <td>...</td>\n",
       "      <td>...</td>\n",
       "      <td>...</td>\n",
       "      <td>...</td>\n",
       "      <td>...</td>\n",
       "      <td>...</td>\n",
       "    </tr>\n",
       "    <tr>\n",
       "      <th>86232</th>\n",
       "      <td>87897</td>\n",
       "      <td>Focus</td>\n",
       "      <td>NaN</td>\n",
       "      <td>9915.0</td>\n",
       "      <td>Manual</td>\n",
       "      <td>28159.0</td>\n",
       "      <td>Petrol</td>\n",
       "      <td>145.617747</td>\n",
       "      <td>NaN</td>\n",
       "      <td>2.0</td>\n",
       "      <td>unclean focus</td>\n",
       "    </tr>\n",
       "    <tr>\n",
       "      <th>86233</th>\n",
       "      <td>87898</td>\n",
       "      <td>Focus</td>\n",
       "      <td>NaN</td>\n",
       "      <td>15505.0</td>\n",
       "      <td>Manual</td>\n",
       "      <td>5270.0</td>\n",
       "      <td>Diesel</td>\n",
       "      <td>145.617747</td>\n",
       "      <td>NaN</td>\n",
       "      <td>2.0</td>\n",
       "      <td>unclean focus</td>\n",
       "    </tr>\n",
       "    <tr>\n",
       "      <th>86234</th>\n",
       "      <td>87899</td>\n",
       "      <td>Focus</td>\n",
       "      <td>NaN</td>\n",
       "      <td>18617.0</td>\n",
       "      <td>Manual</td>\n",
       "      <td>10167.0</td>\n",
       "      <td>Petrol</td>\n",
       "      <td>145.617747</td>\n",
       "      <td>NaN</td>\n",
       "      <td>2.0</td>\n",
       "      <td>unclean focus</td>\n",
       "    </tr>\n",
       "    <tr>\n",
       "      <th>86235</th>\n",
       "      <td>87900</td>\n",
       "      <td>Focus</td>\n",
       "      <td>NaN</td>\n",
       "      <td>18449.0</td>\n",
       "      <td>Manual</td>\n",
       "      <td>9964.0</td>\n",
       "      <td>Petrol</td>\n",
       "      <td>145.617747</td>\n",
       "      <td>NaN</td>\n",
       "      <td>2.0</td>\n",
       "      <td>unclean focus</td>\n",
       "    </tr>\n",
       "    <tr>\n",
       "      <th>86291</th>\n",
       "      <td>87957</td>\n",
       "      <td>Focus</td>\n",
       "      <td>NaN</td>\n",
       "      <td>7795.0</td>\n",
       "      <td>Manual</td>\n",
       "      <td>55884.0</td>\n",
       "      <td>Diesel</td>\n",
       "      <td>145.617747</td>\n",
       "      <td>NaN</td>\n",
       "      <td>2.0</td>\n",
       "      <td>unclean focus</td>\n",
       "    </tr>\n",
       "  </tbody>\n",
       "</table>\n",
       "<p>88 rows × 11 columns</p>\n",
       "</div>"
      ],
      "text/plain": [
       "       Unnamed: 0     model  year    price transmission  mileage fuelType  \\\n",
       "78402       79807   C Class   NaN  24495.0    Automatic  20330.0   Diesel   \n",
       "81199       82701   C Class   NaN  15490.0    Automatic  33000.0   Diesel   \n",
       "81772       83293   C Class   NaN  18995.0    Automatic  15500.0   Diesel   \n",
       "85796       87361     Focus   NaN  15495.0       Manual   7424.0   Diesel   \n",
       "85943       87522     Focus   NaN  12495.0       Manual   9581.0   Petrol   \n",
       "...           ...       ...   ...      ...          ...      ...      ...   \n",
       "86232       87897     Focus   NaN   9915.0       Manual  28159.0   Petrol   \n",
       "86233       87898     Focus   NaN  15505.0       Manual   5270.0   Diesel   \n",
       "86234       87899     Focus   NaN  18617.0       Manual  10167.0   Petrol   \n",
       "86235       87900     Focus   NaN  18449.0       Manual   9964.0   Petrol   \n",
       "86291       87957     Focus   NaN   7795.0       Manual  55884.0   Diesel   \n",
       "\n",
       "              tax  mpg  engineSize            make  \n",
       "78402  146.250000  NaN         2.0  unclean cclass  \n",
       "81199  145.173333  NaN         2.0  unclean cclass  \n",
       "81772  145.324675  NaN         2.0  unclean cclass  \n",
       "85796  145.617747  NaN         2.0   unclean focus  \n",
       "85943  145.617747  NaN         2.0   unclean focus  \n",
       "...           ...  ...         ...             ...  \n",
       "86232  145.617747  NaN         2.0   unclean focus  \n",
       "86233  145.617747  NaN         2.0   unclean focus  \n",
       "86234  145.617747  NaN         2.0   unclean focus  \n",
       "86235  145.617747  NaN         2.0   unclean focus  \n",
       "86291  145.617747  NaN         2.0   unclean focus  \n",
       "\n",
       "[88 rows x 11 columns]"
      ]
     },
     "execution_count": 6,
     "metadata": {},
     "output_type": "execute_result"
    }
   ],
   "source": [
    "used_car_df[used_car_df.year.isnull()] #seems like the missing years and mpg is for all the unclean "
   ]
  },
  {
   "cell_type": "code",
   "execution_count": 17,
   "id": "37f206c9-1306-4169-9072-b83c2e93e566",
   "metadata": {},
   "outputs": [
    {
     "data": {
      "image/png": "[encoded data removed]",
      "text/plain": [
       "<Figure size 432x288 with 1 Axes>"
      ]
     },
     "metadata": {
      "needs_background": "light"
     },
     "output_type": "display_data"
    }
   ],
   "source": [
    "#so few rows\n",
    "used_car_df[used_car_df.year.isnull()].mileage.hist() #lets just do mileage under 10000 and over\n",
    "\n",
    "c1 = used_car_df.make=='merc'\n",
    "c2 = used_car_df.mileage<=10000\n",
    "med_year = used_car_df[c1&c2].year.median()\n",
    "c3 = used_car_df.make.isin(['unclean cclass','cclass'])\n",
    "c4 = used_car_df.year.isnull()\n",
    "used_car_df.loc[c3&c4&c2,'year'] = med_year\n",
    "\n",
    "c2 = used_car_df.mileage>10000\n",
    "med_year = used_car_df[c1&c2].year.median()\n",
    "used_car_df.loc[c3&c4&c2,'year'] = med_year\n",
    "\n",
    "c1 = used_car_df.make=='ford'\n",
    "c2 = used_car_df.mileage<=10000\n",
    "med_year = used_car_df[c1&c2].year.median()\n",
    "c3 = used_car_df.make.isin(['unclean focus','focus'])\n",
    "c4 = used_car_df.year.isnull()\n",
    "used_car_df.loc[c3&c4&c2,'year'] = med_year\n",
    "\n",
    "c2 = used_car_df.mileage>10000\n",
    "med_year = used_car_df[c1&c2].year.median()\n",
    "used_car_df.loc[c3&c4&c2,'year'] = med_year\n",
    "\n"
   ]
  },
  {
   "cell_type": "code",
   "execution_count": 39,
   "id": "10328713-121a-4b44-91a7-d99072f76174",
   "metadata": {},
   "outputs": [
    {
     "data": {
      "text/plain": [
       "array(['cclass', 'focus', 'unclean cclass', 'unclean focus'], dtype=object)"
      ]
     },
     "execution_count": 39,
     "metadata": {},
     "output_type": "execute_result"
    }
   ],
   "source": [
    "used_car_df[used_car_df.mpg.isnull()].make.unique() #['cclass', 'focus', 'unclean cclass', 'unclean focus']"
   ]
  },
  {
   "cell_type": "code",
   "execution_count": 44,
   "id": "f210d618-6d2a-4d31-9796-be9a6e9af285",
   "metadata": {},
   "outputs": [],
   "source": [
    "#WTAF - 17000 ROWS WITH NO MPG?\n",
    "mpg_focus = 38\n",
    "mpg_cclass = 28\n",
    "\n",
    "\n",
    "c1 = used_car_df.make.isin(['cclass','unclean cclass'])\n",
    "c2 = used_car_df.mpg.isnull()\n",
    "used_car_df.loc[c1&c2,'mpg'] = mpg_cclass\n",
    "\n",
    "c1 = used_car_df.make.isin(['focus','unclean focus'])\n",
    "c2 = used_car_df.mpg.isnull()\n",
    "used_car_df.loc[c1&c2,'mpg'] = mpg_focus\n"
   ]
  },
  {
   "cell_type": "code",
   "execution_count": 45,
   "id": "ea3f92cf-1760-46b1-930e-2992e2b3f691",
   "metadata": {},
   "outputs": [
    {
     "data": {
      "text/plain": [
       "Unnamed: 0      0\n",
       "model           0\n",
       "year            0\n",
       "price           0\n",
       "transmission    0\n",
       "mileage         0\n",
       "fuelType        0\n",
       "tax             0\n",
       "mpg             0\n",
       "engineSize      0\n",
       "make            0\n",
       "dtype: int64"
      ]
     },
     "execution_count": 45,
     "metadata": {},
     "output_type": "execute_result"
    }
   ],
   "source": [
    "used_car_df.isnull().sum()"
   ]
  },
  {
   "cell_type": "code",
   "execution_count": 47,
   "id": "143d5ee9-831d-45d7-a0da-4f5f97b39887",
   "metadata": {},
   "outputs": [
    {
     "data": {
      "text/plain": [
       "'D:/Projects/Prediction/Techniques Practice/Trees/XGBoost/5. Used Car/temp data/'"
      ]
     },
     "execution_count": 47,
     "metadata": {},
     "output_type": "execute_result"
    }
   ],
   "source": [
    "used_car_df.to_csv(temp_dir+'used_car_df.csv', index=False)\n",
    "temp_dir"
   ]
  },
  {
   "cell_type": "code",
   "execution_count": null,
   "id": "ecd70ef3-cae7-4034-85c2-53ae14433d8a",
   "metadata": {},
   "outputs": [],
   "source": []
  }
 ],
 "metadata": {
  "kernelspec": {
   "display_name": "Python 3 (ipykernel)",
   "language": "python",
   "name": "python3"
  },
  "language_info": {
   "codemirror_mode": {
    "name": "ipython",
    "version": 3
   },
   "file_extension": ".py",
   "mimetype": "text/x-python",
   "name": "python",
   "nbconvert_exporter": "python",
   "pygments_lexer": "ipython3",
   "version": "3.9.7"
  }
 },
 "nbformat": 4,
 "nbformat_minor": 5
}
