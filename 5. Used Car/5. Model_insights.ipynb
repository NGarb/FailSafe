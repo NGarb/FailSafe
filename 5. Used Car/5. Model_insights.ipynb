{
 "cells": [
  {
   "cell_type": "markdown",
   "id": "088704d1-85a6-4ef5-a0e6-d7b4d85f5ac8",
   "metadata": {},
   "source": [
    "# Explainer Dashboard\n",
    "\n",
    "Testing the explainer dashboard package running on top of plotly and Dash. "
   ]
  },
  {
   "cell_type": "code",
   "execution_count": 4,
   "id": "6cfc9f34-080b-4cea-b82f-6e77db8edef2",
   "metadata": {
    "collapsed": true,
    "jupyter": {
     "outputs_hidden": true
    },
    "tags": []
   },
   "outputs": [
    {
     "name": "stdout",
     "output_type": "stream",
     "text": [
      "Collecting explainerdashboard\n",
      "  Using cached explainerdashboard-0.3.7-py3-none-any.whl (305 kB)\n",
      "Requirement already satisfied: shap>=0.37 in c:\\users\\nikig\\anaconda3\\envs\\automl\\lib\\site-packages (from explainerdashboard) (0.40.0)\n",
      "Requirement already satisfied: waitress in c:\\users\\nikig\\anaconda3\\envs\\automl\\lib\\site-packages (from explainerdashboard) (2.0.0)\n",
      "Collecting dash-bootstrap-components<1\n",
      "  Using cached dash_bootstrap_components-0.13.1-py3-none-any.whl (197 kB)\n",
      "Collecting jupyter-dash\n",
      "  Using cached jupyter_dash-0.4.0-py3-none-any.whl (20 kB)\n",
      "Requirement already satisfied: dash>=1.20 in c:\\users\\nikig\\anaconda3\\envs\\automl\\lib\\site-packages (from explainerdashboard) (2.0.0)\n",
      "Collecting dash-auth\n",
      "  Using cached dash_auth-1.4.1-py3-none-any.whl\n",
      "Collecting flask-simplelogin\n",
      "  Using cached flask_simplelogin-0.1.1-py3-none-any.whl (7.2 kB)\n",
      "Requirement already satisfied: numpy in c:\\users\\nikig\\anaconda3\\envs\\automl\\lib\\site-packages (from explainerdashboard) (1.19.5)\n",
      "Requirement already satisfied: pandas>=1.1 in c:\\users\\nikig\\anaconda3\\envs\\automl\\lib\\site-packages (from explainerdashboard) (1.3.5)\n",
      "Collecting oyaml\n",
      "  Using cached oyaml-1.0-py2.py3-none-any.whl (3.0 kB)\n",
      "Requirement already satisfied: joblib in c:\\users\\nikig\\anaconda3\\envs\\automl\\lib\\site-packages (from explainerdashboard) (1.1.0)\n",
      "Requirement already satisfied: dtreeviz>=1.3 in c:\\users\\nikig\\anaconda3\\envs\\automl\\lib\\site-packages (from explainerdashboard) (1.3.2)\n",
      "Requirement already satisfied: scikit-learn in c:\\users\\nikig\\anaconda3\\envs\\automl\\lib\\site-packages (from explainerdashboard) (1.0.2)\n",
      "Requirement already satisfied: click in c:\\users\\nikig\\anaconda3\\envs\\automl\\lib\\site-packages (from explainerdashboard) (8.0.3)\n",
      "Collecting orjson\n",
      "  Using cached orjson-3.6.6-cp39-none-win_amd64.whl (180 kB)\n",
      "Requirement already satisfied: dash-core-components==2.0.0 in c:\\users\\nikig\\anaconda3\\envs\\automl\\lib\\site-packages (from dash>=1.20->explainerdashboard) (2.0.0)\n",
      "Requirement already satisfied: flask-compress in c:\\users\\nikig\\anaconda3\\envs\\automl\\lib\\site-packages (from dash>=1.20->explainerdashboard) (1.10.1)\n",
      "Requirement already satisfied: dash-table==5.0.0 in c:\\users\\nikig\\anaconda3\\envs\\automl\\lib\\site-packages (from dash>=1.20->explainerdashboard) (5.0.0)\n",
      "Requirement already satisfied: Flask>=1.0.4 in c:\\users\\nikig\\anaconda3\\envs\\automl\\lib\\site-packages (from dash>=1.20->explainerdashboard) (2.0.2)\n",
      "Requirement already satisfied: plotly>=5.0.0 in c:\\users\\nikig\\anaconda3\\envs\\automl\\lib\\site-packages (from dash>=1.20->explainerdashboard) (5.5.0)\n",
      "Requirement already satisfied: dash-html-components==2.0.0 in c:\\users\\nikig\\anaconda3\\envs\\automl\\lib\\site-packages (from dash>=1.20->explainerdashboard) (2.0.0)\n",
      "Requirement already satisfied: graphviz>=0.9 in c:\\users\\nikig\\anaconda3\\envs\\automl\\lib\\site-packages (from dtreeviz>=1.3->explainerdashboard) (0.19.1)\n",
      "Requirement already satisfied: colour in c:\\users\\nikig\\anaconda3\\envs\\automl\\lib\\site-packages (from dtreeviz>=1.3->explainerdashboard) (0.1.5)\n",
      "Requirement already satisfied: pytest in c:\\users\\nikig\\anaconda3\\envs\\automl\\lib\\site-packages (from dtreeviz>=1.3->explainerdashboard) (6.2.5)\n",
      "Requirement already satisfied: matplotlib in c:\\users\\nikig\\anaconda3\\envs\\automl\\lib\\site-packages (from dtreeviz>=1.3->explainerdashboard) (3.5.1)\n",
      "Requirement already satisfied: Werkzeug>=2.0 in c:\\users\\nikig\\anaconda3\\envs\\automl\\lib\\site-packages (from Flask>=1.0.4->dash>=1.20->explainerdashboard) (2.0.2)\n",
      "Requirement already satisfied: Jinja2>=3.0 in c:\\users\\nikig\\anaconda3\\envs\\automl\\lib\\site-packages (from Flask>=1.0.4->dash>=1.20->explainerdashboard) (3.0.3)\n",
      "Requirement already satisfied: itsdangerous>=2.0 in c:\\users\\nikig\\anaconda3\\envs\\automl\\lib\\site-packages (from Flask>=1.0.4->dash>=1.20->explainerdashboard) (2.0.1)\n",
      "Requirement already satisfied: colorama in c:\\users\\nikig\\anaconda3\\envs\\automl\\lib\\site-packages (from click->explainerdashboard) (0.4.4)\n",
      "Requirement already satisfied: MarkupSafe>=2.0 in c:\\users\\nikig\\anaconda3\\envs\\automl\\lib\\site-packages (from Jinja2>=3.0->Flask>=1.0.4->dash>=1.20->explainerdashboard) (2.0.1)\n",
      "Requirement already satisfied: pytz>=2017.3 in c:\\users\\nikig\\anaconda3\\envs\\automl\\lib\\site-packages (from pandas>=1.1->explainerdashboard) (2021.3)\n",
      "Requirement already satisfied: python-dateutil>=2.7.3 in c:\\users\\nikig\\anaconda3\\envs\\automl\\lib\\site-packages (from pandas>=1.1->explainerdashboard) (2.8.2)\n",
      "Requirement already satisfied: tenacity>=6.2.0 in c:\\users\\nikig\\anaconda3\\envs\\automl\\lib\\site-packages (from plotly>=5.0.0->dash>=1.20->explainerdashboard) (8.0.1)\n",
      "Requirement already satisfied: six in c:\\users\\nikig\\anaconda3\\envs\\automl\\lib\\site-packages (from plotly>=5.0.0->dash>=1.20->explainerdashboard) (1.16.0)\n",
      "Requirement already satisfied: tqdm>4.25.0 in c:\\users\\nikig\\anaconda3\\envs\\automl\\lib\\site-packages (from shap>=0.37->explainerdashboard) (4.62.3)\n",
      "Requirement already satisfied: packaging>20.9 in c:\\users\\nikig\\anaconda3\\envs\\automl\\lib\\site-packages (from shap>=0.37->explainerdashboard) (21.3)\n",
      "Requirement already satisfied: slicer==0.0.7 in c:\\users\\nikig\\anaconda3\\envs\\automl\\lib\\site-packages (from shap>=0.37->explainerdashboard) (0.0.7)\n",
      "Requirement already satisfied: scipy in c:\\users\\nikig\\anaconda3\\envs\\automl\\lib\\site-packages (from shap>=0.37->explainerdashboard) (1.7.3)\n",
      "Requirement already satisfied: numba in c:\\users\\nikig\\anaconda3\\envs\\automl\\lib\\site-packages (from shap>=0.37->explainerdashboard) (0.53.0)\n",
      "Requirement already satisfied: cloudpickle in c:\\users\\nikig\\anaconda3\\envs\\automl\\lib\\site-packages (from shap>=0.37->explainerdashboard) (2.0.0)\n",
      "Requirement already satisfied: pyparsing!=3.0.5,>=2.0.2 in c:\\users\\nikig\\anaconda3\\envs\\automl\\lib\\site-packages (from packaging>20.9->shap>=0.37->explainerdashboard) (3.0.6)\n",
      "Requirement already satisfied: chart-studio>=1.0.0 in c:\\users\\nikig\\anaconda3\\envs\\automl\\lib\\site-packages (from dash-auth->explainerdashboard) (1.1.0)\n",
      "Requirement already satisfied: ua-parser in c:\\users\\nikig\\anaconda3\\envs\\automl\\lib\\site-packages (from dash-auth->explainerdashboard) (0.10.0)\n",
      "Requirement already satisfied: retrying in c:\\users\\nikig\\anaconda3\\envs\\automl\\lib\\site-packages (from dash-auth->explainerdashboard) (1.3.3)\n",
      "Requirement already satisfied: requests in c:\\users\\nikig\\anaconda3\\envs\\automl\\lib\\site-packages (from dash-auth->explainerdashboard) (2.27.1)\n",
      "Requirement already satisfied: flask-seasurf in c:\\users\\nikig\\anaconda3\\envs\\automl\\lib\\site-packages (from dash-auth->explainerdashboard) (0.3.1)\n",
      "Requirement already satisfied: brotli in c:\\users\\nikig\\anaconda3\\envs\\automl\\lib\\site-packages (from flask-compress->dash>=1.20->explainerdashboard) (1.0.9)\n",
      "Requirement already satisfied: Flask-WTF<0.16.0,>=0.15.1 in c:\\users\\nikig\\anaconda3\\envs\\automl\\lib\\site-packages (from flask-simplelogin->explainerdashboard) (0.15.1)\n",
      "Requirement already satisfied: WTForms>=2.1 in c:\\users\\nikig\\anaconda3\\envs\\automl\\lib\\site-packages (from flask-simplelogin->explainerdashboard) (3.0.1)\n",
      "Requirement already satisfied: ipython in c:\\users\\nikig\\anaconda3\\envs\\automl\\lib\\site-packages (from jupyter-dash->explainerdashboard) (7.31.0)\n",
      "Requirement already satisfied: ipykernel in c:\\users\\nikig\\anaconda3\\envs\\automl\\lib\\site-packages (from jupyter-dash->explainerdashboard) (6.6.1)\n",
      "Requirement already satisfied: ansi2html in c:\\users\\nikig\\anaconda3\\envs\\automl\\lib\\site-packages (from jupyter-dash->explainerdashboard) (1.6.0)\n",
      "Requirement already satisfied: matplotlib-inline<0.2.0,>=0.1.0 in c:\\users\\nikig\\anaconda3\\envs\\automl\\lib\\site-packages (from ipykernel->jupyter-dash->explainerdashboard) (0.1.3)\n",
      "Requirement already satisfied: nest-asyncio in c:\\users\\nikig\\anaconda3\\envs\\automl\\lib\\site-packages (from ipykernel->jupyter-dash->explainerdashboard) (1.5.4)\n",
      "Requirement already satisfied: tornado<7.0,>=4.2 in c:\\users\\nikig\\anaconda3\\envs\\automl\\lib\\site-packages (from ipykernel->jupyter-dash->explainerdashboard) (6.1)\n",
      "Requirement already satisfied: jupyter-client<8.0 in c:\\users\\nikig\\anaconda3\\envs\\automl\\lib\\site-packages (from ipykernel->jupyter-dash->explainerdashboard) (7.1.0)\n",
      "Requirement already satisfied: traitlets<6.0,>=5.1.0 in c:\\users\\nikig\\anaconda3\\envs\\automl\\lib\\site-packages (from ipykernel->jupyter-dash->explainerdashboard) (5.1.1)\n",
      "Requirement already satisfied: debugpy<2.0,>=1.0.0 in c:\\users\\nikig\\anaconda3\\envs\\automl\\lib\\site-packages (from ipykernel->jupyter-dash->explainerdashboard) (1.5.1)\n",
      "Requirement already satisfied: pickleshare in c:\\users\\nikig\\anaconda3\\envs\\automl\\lib\\site-packages (from ipython->jupyter-dash->explainerdashboard) (0.7.5)\n",
      "Requirement already satisfied: prompt-toolkit!=3.0.0,!=3.0.1,<3.1.0,>=2.0.0 in c:\\users\\nikig\\anaconda3\\envs\\automl\\lib\\site-packages (from ipython->jupyter-dash->explainerdashboard) (3.0.24)\n",
      "Requirement already satisfied: setuptools>=18.5 in c:\\users\\nikig\\anaconda3\\envs\\automl\\lib\\site-packages (from ipython->jupyter-dash->explainerdashboard) (58.0.4)\n",
      "Requirement already satisfied: pygments in c:\\users\\nikig\\anaconda3\\envs\\automl\\lib\\site-packages (from ipython->jupyter-dash->explainerdashboard) (2.11.2)\n",
      "Requirement already satisfied: backcall in c:\\users\\nikig\\anaconda3\\envs\\automl\\lib\\site-packages (from ipython->jupyter-dash->explainerdashboard) (0.2.0)\n",
      "Requirement already satisfied: decorator in c:\\users\\nikig\\anaconda3\\envs\\automl\\lib\\site-packages (from ipython->jupyter-dash->explainerdashboard) (5.1.1)\n",
      "Requirement already satisfied: jedi>=0.16 in c:\\users\\nikig\\anaconda3\\envs\\automl\\lib\\site-packages (from ipython->jupyter-dash->explainerdashboard) (0.18.1)\n",
      "Requirement already satisfied: parso<0.9.0,>=0.8.0 in c:\\users\\nikig\\anaconda3\\envs\\automl\\lib\\site-packages (from jedi>=0.16->ipython->jupyter-dash->explainerdashboard) (0.8.3)\n",
      "Requirement already satisfied: pyzmq>=13 in c:\\users\\nikig\\anaconda3\\envs\\automl\\lib\\site-packages (from jupyter-client<8.0->ipykernel->jupyter-dash->explainerdashboard) (22.3.0)\n",
      "Requirement already satisfied: jupyter-core>=4.6.0 in c:\\users\\nikig\\anaconda3\\envs\\automl\\lib\\site-packages (from jupyter-client<8.0->ipykernel->jupyter-dash->explainerdashboard) (4.9.1)\n",
      "Requirement already satisfied: entrypoints in c:\\users\\nikig\\anaconda3\\envs\\automl\\lib\\site-packages (from jupyter-client<8.0->ipykernel->jupyter-dash->explainerdashboard) (0.3)\n",
      "Requirement already satisfied: pywin32>=1.0 in c:\\users\\nikig\\anaconda3\\envs\\automl\\lib\\site-packages (from jupyter-core>=4.6.0->jupyter-client<8.0->ipykernel->jupyter-dash->explainerdashboard) (303)\n",
      "Requirement already satisfied: wcwidth in c:\\users\\nikig\\anaconda3\\envs\\automl\\lib\\site-packages (from prompt-toolkit!=3.0.0,!=3.0.1,<3.1.0,>=2.0.0->ipython->jupyter-dash->explainerdashboard) (0.2.5)\n",
      "Requirement already satisfied: fonttools>=4.22.0 in c:\\users\\nikig\\anaconda3\\envs\\automl\\lib\\site-packages (from matplotlib->dtreeviz>=1.3->explainerdashboard) (4.28.5)\n",
      "Requirement already satisfied: pillow>=6.2.0 in c:\\users\\nikig\\anaconda3\\envs\\automl\\lib\\site-packages (from matplotlib->dtreeviz>=1.3->explainerdashboard) (9.0.0)\n",
      "Requirement already satisfied: cycler>=0.10 in c:\\users\\nikig\\anaconda3\\envs\\automl\\lib\\site-packages (from matplotlib->dtreeviz>=1.3->explainerdashboard) (0.11.0)\n",
      "Requirement already satisfied: kiwisolver>=1.0.1 in c:\\users\\nikig\\anaconda3\\envs\\automl\\lib\\site-packages (from matplotlib->dtreeviz>=1.3->explainerdashboard) (1.3.2)\n",
      "Requirement already satisfied: llvmlite<0.37,>=0.36.0rc1 in c:\\users\\nikig\\anaconda3\\envs\\automl\\lib\\site-packages (from numba->shap>=0.37->explainerdashboard) (0.36.0)\n",
      "Requirement already satisfied: pyyaml in c:\\users\\nikig\\anaconda3\\envs\\automl\\lib\\site-packages (from oyaml->explainerdashboard) (6.0)\n",
      "Requirement already satisfied: attrs>=19.2.0 in c:\\users\\nikig\\anaconda3\\envs\\automl\\lib\\site-packages (from pytest->dtreeviz>=1.3->explainerdashboard) (21.4.0)\n",
      "Requirement already satisfied: pluggy<2.0,>=0.12 in c:\\users\\nikig\\anaconda3\\envs\\automl\\lib\\site-packages (from pytest->dtreeviz>=1.3->explainerdashboard) (1.0.0)\n",
      "Requirement already satisfied: atomicwrites>=1.0 in c:\\users\\nikig\\anaconda3\\envs\\automl\\lib\\site-packages (from pytest->dtreeviz>=1.3->explainerdashboard) (1.4.0)\n",
      "Requirement already satisfied: iniconfig in c:\\users\\nikig\\anaconda3\\envs\\automl\\lib\\site-packages (from pytest->dtreeviz>=1.3->explainerdashboard) (1.1.1)\n",
      "Requirement already satisfied: py>=1.8.2 in c:\\users\\nikig\\anaconda3\\envs\\automl\\lib\\site-packages (from pytest->dtreeviz>=1.3->explainerdashboard) (1.11.0)\n",
      "Requirement already satisfied: toml in c:\\users\\nikig\\anaconda3\\envs\\automl\\lib\\site-packages (from pytest->dtreeviz>=1.3->explainerdashboard) (0.10.2)\n",
      "Requirement already satisfied: certifi>=2017.4.17 in c:\\users\\nikig\\anaconda3\\envs\\automl\\lib\\site-packages (from requests->dash-auth->explainerdashboard) (2021.10.8)\n",
      "Requirement already satisfied: idna<4,>=2.5 in c:\\users\\nikig\\anaconda3\\envs\\automl\\lib\\site-packages (from requests->dash-auth->explainerdashboard) (3.3)\n",
      "Requirement already satisfied: urllib3<1.27,>=1.21.1 in c:\\users\\nikig\\anaconda3\\envs\\automl\\lib\\site-packages (from requests->dash-auth->explainerdashboard) (1.26.8)\n",
      "Requirement already satisfied: charset-normalizer~=2.0.0 in c:\\users\\nikig\\anaconda3\\envs\\automl\\lib\\site-packages (from requests->dash-auth->explainerdashboard) (2.0.10)\n",
      "Requirement already satisfied: threadpoolctl>=2.0.0 in c:\\users\\nikig\\anaconda3\\envs\\automl\\lib\\site-packages (from scikit-learn->explainerdashboard) (3.0.0)\n",
      "Installing collected packages: oyaml, orjson, jupyter-dash, flask-simplelogin, dash-bootstrap-components, dash-auth, explainerdashboard\n",
      "Successfully installed dash-auth-1.4.1 dash-bootstrap-components-0.13.1 explainerdashboard-0.3.7 flask-simplelogin-0.1.1 jupyter-dash-0.4.0 orjson-3.6.6 oyaml-1.0\n"
     ]
    }
   ],
   "source": [
    "! pip install explainerdashboard"
   ]
  },
  {
   "cell_type": "code",
   "execution_count": 6,
   "id": "e760494a-74ad-4edc-aade-690f3597af33",
   "metadata": {},
   "outputs": [
    {
     "name": "stderr",
     "output_type": "stream",
     "text": [
      "\n",
      "The dash_html_components package is deprecated. Please replace\n",
      "`import dash_html_components as html` with `from dash import html`\n",
      "\n",
      "The dash_core_components package is deprecated. Please replace\n",
      "`import dash_core_components as dcc` with `from dash import dcc`\n",
      "\n",
      "The dash_table package is deprecated. Please replace\n",
      "`import dash_table` with `from dash import dash_table`\n",
      "\n",
      "Also, if you're using any of the table format helpers (e.g. Group), replace \n",
      "`from dash_table.Format import Group` with \n",
      "`from dash.dash_table.Format import Group`\n"
     ]
    }
   ],
   "source": [
    "import pandas as pd\n",
    "import numpy as np\n",
    "from explainerdashboard import RegressionExplainer, ExplainerDashboard\n",
    "import pickle\n",
    "import joblib"
   ]
  },
  {
   "cell_type": "code",
   "execution_count": 7,
   "id": "724c9d93-eff8-4e30-a9e0-92cb646f974f",
   "metadata": {},
   "outputs": [],
   "source": [
    "loaded_model = pickle.load(open(\"used_cars_xgboost.pickle.dat\", \"rb\"))"
   ]
  },
  {
   "cell_type": "code",
   "execution_count": null,
   "id": "0160ce0c-7d9e-41e2-b1d9-d5adb7fbf2b7",
   "metadata": {},
   "outputs": [],
   "source": [
    "# at some point in the future I will be a rockstar \n",
    "# and save the pipeline and run a separate module \n",
    "# that just loads, processes the data and puts the \n",
    "# data splits into the session"
   ]
  },
  {
   "cell_type": "code",
   "execution_count": null,
   "id": "9ce584d0-75a7-4371-810e-59b2067b96fd",
   "metadata": {},
   "outputs": [],
   "source": [
    "# for now I just dumped the processed data :') "
   ]
  },
  {
   "cell_type": "code",
   "execution_count": 19,
   "id": "31bdab51-409a-4860-ab0c-e8dddca3af2f",
   "metadata": {},
   "outputs": [],
   "source": [
    "\n",
    "X_test = joblib.load('X_test_prc.joblib')\n",
    "y_test = joblib.load('y_test.joblib')\n"
   ]
  },
  {
   "cell_type": "code",
   "execution_count": 20,
   "id": "bf95cc8c-a37f-48bb-8fd8-b7fd0dca204e",
   "metadata": {},
   "outputs": [],
   "source": [
    "feature_names = joblib.load('feature_names.joblib')"
   ]
  },
  {
   "cell_type": "code",
   "execution_count": 21,
   "id": "a65b8725-0b73-408d-a580-af07dde8bfd1",
   "metadata": {},
   "outputs": [],
   "source": [
    "X_test = pd.DataFrame(X_test,columns = feature_names)\n"
   ]
  },
  {
   "cell_type": "code",
   "execution_count": 22,
   "id": "5757cf33-c6de-4c77-9eec-09e44780490b",
   "metadata": {},
   "outputs": [
    {
     "name": "stdout",
     "output_type": "stream",
     "text": [
      "(17321,) (17321, 16)\n"
     ]
    }
   ],
   "source": [
    "print(y_test.shape,X_test.shape)"
   ]
  },
  {
   "cell_type": "code",
   "execution_count": null,
   "id": "f55acb21-beec-464b-833e-7a240aa3f946",
   "metadata": {},
   "outputs": [
    {
     "name": "stdout",
     "output_type": "stream",
     "text": [
      "Changing class type to XGBRegressionExplainer...\n",
      "Generating self.shap_explainer = shap.TreeExplainer(model)\n",
      "Building ExplainerDashboard..\n",
      "Detected notebook environment, consider setting mode='external', mode='inline' or mode='jupyterlab' to keep the notebook interactive while the dashboard is running...\n",
      "Warning: calculating shap interaction values can be slow! Pass shap_interaction=False to remove interactions tab.\n",
      "Generating layout...\n",
      "Calculating shap values...\n",
      "Calculating predictions...\n",
      "Calculating residuals...\n",
      "Calculating absolute residuals...\n",
      "Calculating shap interaction values...\n",
      "Reminder: TreeShap computational complexity is O(TLD^2), where T is the number of trees, L is the maximum number of leaves in any tree and D the maximal depth of any tree. So reducing these will speed up the calculation.\n"
     ]
    },
    {
     "name": "stderr",
     "output_type": "stream",
     "text": [
      "C:\\Users\\nikig\\anaconda3\\envs\\AutoML\\lib\\site-packages\\xgboost\\core.py:105: UserWarning:\n",
      "\n",
      "ntree_limit is deprecated, use `iteration_range` or model slicing instead.\n",
      "\n"
     ]
    },
    {
     "name": "stdout",
     "output_type": "stream",
     "text": [
      "Generating xgboost model dump...\n",
      "Calculating dependencies...\n",
      "Calculating importances...\n",
      "Calculating ShadowDecTree for each individual decision tree...\n",
      "Reminder: you can store the explainer (including calculated dependencies) with explainer.dump('explainer.joblib') and reload with e.g. ClassifierExplainer.from_file('explainer.joblib')\n",
      "Registering callbacks...\n",
      "Starting ExplainerDashboard on http://192.168.0.113:3050\n",
      "Dash is running on http://0.0.0.0:3050/\n",
      "\n",
      "Dash is running on http://0.0.0.0:3050/\n",
      "\n",
      " * Serving Flask app 'explainerdashboard.dashboards' (lazy loading)\n",
      " * Environment: production\n",
      "\u001b[31m   WARNING: This is a development server. Do not use it in a production deployment.\u001b[0m\n",
      "\u001b[2m   Use a production WSGI server instead.\u001b[0m\n",
      " * Debug mode: off\n"
     ]
    },
    {
     "name": "stderr",
     "output_type": "stream",
     "text": [
      " * Running on all addresses.\n",
      "   WARNING: This is a development server. Do not use it in a production deployment.\n",
      " * Running on http://192.168.0.113:3050/ (Press CTRL+C to quit)\n",
      "192.168.0.113 - - [26/Jan/2022 22:19:16] \"GET / HTTP/1.1\" 200 -\n",
      "192.168.0.113 - - [26/Jan/2022 22:19:16] \"GET /_dash-component-suites/dash/deps/polyfill@7.v2_0_0m1643217619.12.1.min.js HTTP/1.1\" 200 -\n",
      "192.168.0.113 - - [26/Jan/2022 22:19:16] \"GET /assets/bootstrap.min.css?m=1643218423.972624 HTTP/1.1\" 200 -\n",
      "192.168.0.113 - - [26/Jan/2022 22:19:16] \"GET /_dash-component-suites/dash/deps/react@16.v2_0_0m1643217619.14.0.min.js HTTP/1.1\" 200 -\n",
      "192.168.0.113 - - [26/Jan/2022 22:19:16] \"GET /_dash-component-suites/dash/deps/prop-types@15.v2_0_0m1643217619.7.2.min.js HTTP/1.1\" 200 -\n",
      "192.168.0.113 - - [26/Jan/2022 22:19:16] \"GET /_dash-component-suites/dash_bootstrap_components/_components/dash_bootstrap_components.v0_13_1m1643218422.min.js HTTP/1.1\" 200 -\n",
      "192.168.0.113 - - [26/Jan/2022 22:19:16] \"GET /_dash-component-suites/dash/deps/react-dom@16.v2_0_0m1643217619.14.0.min.js HTTP/1.1\" 200 -\n",
      "192.168.0.113 - - [26/Jan/2022 22:19:16] \"GET /_dash-component-suites/dash/dash-renderer/build/dash_renderer.v2_0_0m1643217618.min.js HTTP/1.1\" 200 -\n",
      "192.168.0.113 - - [26/Jan/2022 22:19:16] \"GET /_dash-component-suites/dash/dcc/dash_core_components.v2_0_0m1643217619.js HTTP/1.1\" 200 -\n",
      "192.168.0.113 - - [26/Jan/2022 22:19:16] \"GET /_dash-component-suites/dash/dcc/dash_core_components-shared.v2_0_0m1643217619.js HTTP/1.1\" 200 -\n",
      "192.168.0.113 - - [26/Jan/2022 22:19:16] \"GET /_dash-component-suites/dash/html/dash_html_components.v2_0_0m1643217620.min.js HTTP/1.1\" 200 -\n",
      "192.168.0.113 - - [26/Jan/2022 22:19:16] \"GET /_dash-component-suites/dash/dash_table/bundle.v5_0_0m1643217619.js HTTP/1.1\" 200 -\n",
      "192.168.0.113 - - [26/Jan/2022 22:19:16] \"GET /_dash-dependencies HTTP/1.1\" 200 -\n",
      "192.168.0.113 - - [26/Jan/2022 22:19:17] \"GET /assets/favicon.ico?m=1643218423.9771056 HTTP/1.1\" 200 -\n",
      "192.168.0.113 - - [26/Jan/2022 22:19:17] \"GET /_dash-layout HTTP/1.1\" 200 -\n",
      "192.168.0.113 - - [26/Jan/2022 22:19:17] \"GET /_dash-component-suites/dash/dcc/async-graph.js HTTP/1.1\" 200 -\n",
      "192.168.0.113 - - [26/Jan/2022 22:19:17] \"GET /_dash-component-suites/dash/dcc/async-plotlyjs.js HTTP/1.1\" 200 -\n",
      "192.168.0.113 - - [26/Jan/2022 22:19:17] \"POST /_dash-update-component HTTP/1.1\" 200 -\n",
      "192.168.0.113 - - [26/Jan/2022 22:19:17] \"POST /_dash-update-component HTTP/1.1\" 200 -\n",
      "192.168.0.113 - - [26/Jan/2022 22:19:17] \"POST /_dash-update-component HTTP/1.1\" 204 -\n",
      "192.168.0.113 - - [26/Jan/2022 22:19:17] \"POST /_dash-update-component HTTP/1.1\" 200 -\n",
      "192.168.0.113 - - [26/Jan/2022 22:19:17] \"POST /_dash-update-component HTTP/1.1\" 200 -\n",
      "192.168.0.113 - - [26/Jan/2022 22:19:17] \"POST /_dash-update-component HTTP/1.1\" 200 -\n",
      "192.168.0.113 - - [26/Jan/2022 22:19:17] \"POST /_dash-update-component HTTP/1.1\" 200 -\n",
      "192.168.0.113 - - [26/Jan/2022 22:19:17] \"POST /_dash-update-component HTTP/1.1\" 200 -\n",
      "192.168.0.113 - - [26/Jan/2022 22:19:17] \"POST /_dash-update-component HTTP/1.1\" 200 -\n",
      "192.168.0.113 - - [26/Jan/2022 22:19:17] \"POST /_dash-update-component HTTP/1.1\" 200 -\n",
      "192.168.0.113 - - [26/Jan/2022 22:19:17] \"POST /_dash-update-component HTTP/1.1\" 200 -\n",
      "192.168.0.113 - - [26/Jan/2022 22:19:18] \"POST /_dash-update-component HTTP/1.1\" 200 -\n",
      "192.168.0.113 - - [26/Jan/2022 22:19:18] \"POST /_dash-update-component HTTP/1.1\" 200 -\n",
      "192.168.0.113 - - [26/Jan/2022 22:19:18] \"POST /_dash-update-component HTTP/1.1\" 200 -\n",
      "192.168.0.113 - - [26/Jan/2022 22:19:18] \"POST /_dash-update-component HTTP/1.1\" 200 -\n",
      "192.168.0.113 - - [26/Jan/2022 22:19:18] \"POST /_dash-update-component HTTP/1.1\" 200 -\n",
      "192.168.0.113 - - [26/Jan/2022 22:19:18] \"POST /_dash-update-component HTTP/1.1\" 200 -\n",
      "192.168.0.113 - - [26/Jan/2022 22:19:18] \"POST /_dash-update-component HTTP/1.1\" 200 -\n",
      "192.168.0.113 - - [26/Jan/2022 22:19:18] \"POST /_dash-update-component HTTP/1.1\" 204 -\n",
      "192.168.0.113 - - [26/Jan/2022 22:19:18] \"POST /_dash-update-component HTTP/1.1\" 204 -\n",
      "192.168.0.113 - - [26/Jan/2022 22:19:18] \"POST /_dash-update-component HTTP/1.1\" 200 -\n",
      "192.168.0.113 - - [26/Jan/2022 22:19:18] \"POST /_dash-update-component HTTP/1.1\" 200 -\n",
      "192.168.0.113 - - [26/Jan/2022 22:19:18] \"POST /_dash-update-component HTTP/1.1\" 204 -\n",
      "192.168.0.113 - - [26/Jan/2022 22:19:18] \"POST /_dash-update-component HTTP/1.1\" 200 -\n",
      "192.168.0.113 - - [26/Jan/2022 22:19:18] \"POST /_dash-update-component HTTP/1.1\" 204 -\n",
      "192.168.0.113 - - [26/Jan/2022 22:19:18] \"POST /_dash-update-component HTTP/1.1\" 200 -\n",
      "192.168.0.113 - - [26/Jan/2022 22:19:18] \"POST /_dash-update-component HTTP/1.1\" 200 -\n",
      "192.168.0.113 - - [26/Jan/2022 22:19:18] \"POST /_dash-update-component HTTP/1.1\" 200 -\n",
      "192.168.0.113 - - [26/Jan/2022 22:19:18] \"POST /_dash-update-component HTTP/1.1\" 200 -\n",
      "192.168.0.113 - - [26/Jan/2022 22:19:18] \"POST /_dash-update-component HTTP/1.1\" 200 -\n",
      "192.168.0.113 - - [26/Jan/2022 22:19:18] \"POST /_dash-update-component HTTP/1.1\" 200 -\n",
      "192.168.0.113 - - [26/Jan/2022 22:19:18] \"POST /_dash-update-component HTTP/1.1\" 200 -\n",
      "192.168.0.113 - - [26/Jan/2022 22:19:18] \"POST /_dash-update-component HTTP/1.1\" 200 -\n",
      "192.168.0.113 - - [26/Jan/2022 22:19:18] \"POST /_dash-update-component HTTP/1.1\" 200 -\n",
      "192.168.0.113 - - [26/Jan/2022 22:19:18] \"POST /_dash-update-component HTTP/1.1\" 200 -\n",
      "192.168.0.113 - - [26/Jan/2022 22:19:18] \"POST /_dash-update-component HTTP/1.1\" 200 -\n",
      "192.168.0.113 - - [26/Jan/2022 22:19:18] \"POST /_dash-update-component HTTP/1.1\" 200 -\n",
      "192.168.0.113 - - [26/Jan/2022 22:19:18] \"POST /_dash-update-component HTTP/1.1\" 200 -\n",
      "192.168.0.113 - - [26/Jan/2022 22:19:18] \"POST /_dash-update-component HTTP/1.1\" 200 -\n",
      "192.168.0.113 - - [26/Jan/2022 22:19:18] \"POST /_dash-update-component HTTP/1.1\" 200 -\n",
      "192.168.0.113 - - [26/Jan/2022 22:19:18] \"POST /_dash-update-component HTTP/1.1\" 200 -\n",
      "192.168.0.113 - - [26/Jan/2022 22:19:18] \"POST /_dash-update-component HTTP/1.1\" 200 -\n",
      "192.168.0.113 - - [26/Jan/2022 22:19:18] \"POST /_dash-update-component HTTP/1.1\" 200 -\n",
      "192.168.0.113 - - [26/Jan/2022 22:19:18] \"POST /_dash-update-component HTTP/1.1\" 200 -\n",
      "192.168.0.113 - - [26/Jan/2022 22:19:18] \"POST /_dash-update-component HTTP/1.1\" 200 -\n",
      "192.168.0.113 - - [26/Jan/2022 22:19:18] \"POST /_dash-update-component HTTP/1.1\" 204 -\n",
      "192.168.0.113 - - [26/Jan/2022 22:19:18] \"POST /_dash-update-component HTTP/1.1\" 200 -\n",
      "192.168.0.113 - - [26/Jan/2022 22:19:18] \"POST /_dash-update-component HTTP/1.1\" 200 -\n",
      "192.168.0.113 - - [26/Jan/2022 22:19:19] \"POST /_dash-update-component HTTP/1.1\" 200 -\n",
      "192.168.0.113 - - [26/Jan/2022 22:19:19] \"POST /_dash-update-component HTTP/1.1\" 204 -\n",
      "192.168.0.113 - - [26/Jan/2022 22:19:19] \"POST /_dash-update-component HTTP/1.1\" 200 -\n",
      "192.168.0.113 - - [26/Jan/2022 22:19:19] \"POST /_dash-update-component HTTP/1.1\" 200 -\n",
      "192.168.0.113 - - [26/Jan/2022 22:19:19] \"POST /_dash-update-component HTTP/1.1\" 200 -\n",
      "192.168.0.113 - - [26/Jan/2022 22:19:19] \"POST /_dash-update-component HTTP/1.1\" 200 -\n",
      "192.168.0.113 - - [26/Jan/2022 22:19:19] \"POST /_dash-update-component HTTP/1.1\" 200 -\n",
      "192.168.0.113 - - [26/Jan/2022 22:19:19] \"POST /_dash-update-component HTTP/1.1\" 200 -\n",
      "192.168.0.113 - - [26/Jan/2022 22:19:19] \"POST /_dash-update-component HTTP/1.1\" 200 -\n",
      "192.168.0.113 - - [26/Jan/2022 22:19:19] \"POST /_dash-update-component HTTP/1.1\" 200 -\n",
      "192.168.0.113 - - [26/Jan/2022 22:19:31] \"POST /_dash-update-component HTTP/1.1\" 200 -\n",
      "192.168.0.113 - - [27/Jan/2022 13:14:07] \"POST /_dash-update-component HTTP/1.1\" 200 -\n",
      "192.168.0.113 - - [27/Jan/2022 13:14:15] \"GET /_dash-component-suites/dash/dcc/async-dropdown.js HTTP/1.1\" 200 -\n",
      "192.168.0.113 - - [27/Jan/2022 13:14:15] \"GET /_dash-component-suites/dash/dcc/async-slider.js HTTP/1.1\" 200 -\n",
      "192.168.0.113 - - [27/Jan/2022 13:14:20] \"POST /_dash-update-component HTTP/1.1\" 200 -\n",
      "192.168.0.113 - - [27/Jan/2022 13:14:23] \"POST /_dash-update-component HTTP/1.1\" 200 -\n",
      "192.168.0.113 - - [27/Jan/2022 14:17:01] \"POST /_dash-update-component HTTP/1.1\" 200 -\n",
      "192.168.0.113 - - [27/Jan/2022 15:11:34] \"POST /_dash-update-component HTTP/1.1\" 200 -\n",
      "192.168.0.113 - - [27/Jan/2022 15:11:51] \"POST /_dash-update-component HTTP/1.1\" 200 -\n",
      "192.168.0.113 - - [27/Jan/2022 15:52:30] \"POST /_dash-update-component HTTP/1.1\" 200 -\n",
      "192.168.0.113 - - [27/Jan/2022 15:52:46] \"POST /_dash-update-component HTTP/1.1\" 200 -\n",
      "192.168.0.113 - - [27/Jan/2022 15:52:58] \"POST /_dash-update-component HTTP/1.1\" 200 -\n",
      "192.168.0.113 - - [27/Jan/2022 15:53:00] \"POST /_dash-update-component HTTP/1.1\" 200 -\n",
      "192.168.0.113 - - [27/Jan/2022 16:00:37] \"POST /_dash-update-component HTTP/1.1\" 200 -\n",
      "192.168.0.113 - - [27/Jan/2022 17:06:26] \"POST /_dash-update-component HTTP/1.1\" 200 -\n",
      "192.168.0.113 - - [30/Jan/2022 13:59:32] \"POST /_dash-update-component HTTP/1.1\" 200 -\n",
      "192.168.0.113 - - [30/Jan/2022 14:01:38] \"GET / HTTP/1.1\" 200 -\n",
      "192.168.0.113 - - [30/Jan/2022 14:01:38] \"GET /assets/bootstrap.min.css?m=1643218423.972624 HTTP/1.1\" 304 -\n",
      "192.168.0.113 - - [30/Jan/2022 14:01:39] \"GET /_dash-dependencies HTTP/1.1\" 200 -\n",
      "192.168.0.113 - - [30/Jan/2022 14:01:39] \"GET /assets/favicon.ico?m=1643218423.9771056 HTTP/1.1\" 304 -\n",
      "192.168.0.113 - - [30/Jan/2022 14:01:40] \"GET /_dash-layout HTTP/1.1\" 200 -\n",
      "192.168.0.113 - - [30/Jan/2022 14:01:41] \"GET /_dash-component-suites/dash/dcc/async-plotlyjs.js HTTP/1.1\" 200 -\n",
      "192.168.0.113 - - [30/Jan/2022 14:01:41] \"GET /_dash-component-suites/dash/dcc/async-graph.js HTTP/1.1\" 200 -\n",
      "192.168.0.113 - - [30/Jan/2022 14:01:41] \"POST /_dash-update-component HTTP/1.1\" 200 -\n",
      "192.168.0.113 - - [30/Jan/2022 14:01:41] \"POST /_dash-update-component HTTP/1.1\" 204 -\n",
      "192.168.0.113 - - [30/Jan/2022 14:01:41] \"POST /_dash-update-component HTTP/1.1\" 200 -\n",
      "192.168.0.113 - - [30/Jan/2022 14:01:41] \"POST /_dash-update-component HTTP/1.1\" 200 -\n",
      "192.168.0.113 - - [30/Jan/2022 14:01:41] \"POST /_dash-update-component HTTP/1.1\" 200 -\n",
      "192.168.0.113 - - [30/Jan/2022 14:01:41] \"POST /_dash-update-component HTTP/1.1\" 200 -\n",
      "192.168.0.113 - - [30/Jan/2022 14:01:41] \"POST /_dash-update-component HTTP/1.1\" 200 -\n",
      "192.168.0.113 - - [30/Jan/2022 14:01:41] \"POST /_dash-update-component HTTP/1.1\" 200 -\n",
      "192.168.0.113 - - [30/Jan/2022 14:01:41] \"POST /_dash-update-component HTTP/1.1\" 200 -\n",
      "192.168.0.113 - - [30/Jan/2022 14:01:41] \"POST /_dash-update-component HTTP/1.1\" 200 -\n",
      "192.168.0.113 - - [30/Jan/2022 14:01:41] \"POST /_dash-update-component HTTP/1.1\" 200 -\n",
      "192.168.0.113 - - [30/Jan/2022 14:01:41] \"POST /_dash-update-component HTTP/1.1\" 200 -\n",
      "192.168.0.113 - - [30/Jan/2022 14:01:41] \"POST /_dash-update-component HTTP/1.1\" 200 -\n",
      "192.168.0.113 - - [30/Jan/2022 14:01:41] \"POST /_dash-update-component HTTP/1.1\" 200 -\n",
      "192.168.0.113 - - [30/Jan/2022 14:01:41] \"POST /_dash-update-component HTTP/1.1\" 200 -\n",
      "192.168.0.113 - - [30/Jan/2022 14:01:41] \"POST /_dash-update-component HTTP/1.1\" 200 -\n",
      "192.168.0.113 - - [30/Jan/2022 14:01:41] \"POST /_dash-update-component HTTP/1.1\" 204 -\n",
      "192.168.0.113 - - [30/Jan/2022 14:01:41] \"POST /_dash-update-component HTTP/1.1\" 204 -\n",
      "192.168.0.113 - - [30/Jan/2022 14:01:41] \"POST /_dash-update-component HTTP/1.1\" 200 -\n",
      "192.168.0.113 - - [30/Jan/2022 14:01:41] \"POST /_dash-update-component HTTP/1.1\" 200 -\n",
      "192.168.0.113 - - [30/Jan/2022 14:01:41] \"POST /_dash-update-component HTTP/1.1\" 200 -\n",
      "192.168.0.113 - - [30/Jan/2022 14:01:41] \"POST /_dash-update-component HTTP/1.1\" 200 -\n",
      "192.168.0.113 - - [30/Jan/2022 14:01:41] \"POST /_dash-update-component HTTP/1.1\" 200 -\n",
      "192.168.0.113 - - [30/Jan/2022 14:01:41] \"POST /_dash-update-component HTTP/1.1\" 204 -\n",
      "192.168.0.113 - - [30/Jan/2022 14:01:41] \"POST /_dash-update-component HTTP/1.1\" 204 -\n",
      "192.168.0.113 - - [30/Jan/2022 14:01:41] \"POST /_dash-update-component HTTP/1.1\" 200 -\n",
      "192.168.0.113 - - [30/Jan/2022 14:01:41] \"POST /_dash-update-component HTTP/1.1\" 200 -\n",
      "192.168.0.113 - - [30/Jan/2022 14:01:41] \"POST /_dash-update-component HTTP/1.1\" 200 -\n",
      "192.168.0.113 - - [30/Jan/2022 14:01:41] \"POST /_dash-update-component HTTP/1.1\" 200 -\n",
      "192.168.0.113 - - [30/Jan/2022 14:01:41] \"POST /_dash-update-component HTTP/1.1\" 200 -\n",
      "192.168.0.113 - - [30/Jan/2022 14:01:42] \"POST /_dash-update-component HTTP/1.1\" 200 -\n",
      "192.168.0.113 - - [30/Jan/2022 14:01:42] \"POST /_dash-update-component HTTP/1.1\" 200 -\n",
      "192.168.0.113 - - [30/Jan/2022 14:01:42] \"POST /_dash-update-component HTTP/1.1\" 200 -\n",
      "192.168.0.113 - - [30/Jan/2022 14:01:42] \"POST /_dash-update-component HTTP/1.1\" 200 -\n",
      "192.168.0.113 - - [30/Jan/2022 14:01:42] \"POST /_dash-update-component HTTP/1.1\" 200 -\n",
      "192.168.0.113 - - [30/Jan/2022 14:01:42] \"POST /_dash-update-component HTTP/1.1\" 200 -\n",
      "192.168.0.113 - - [30/Jan/2022 14:01:42] \"POST /_dash-update-component HTTP/1.1\" 200 -\n",
      "192.168.0.113 - - [30/Jan/2022 14:01:42] \"POST /_dash-update-component HTTP/1.1\" 200 -\n",
      "192.168.0.113 - - [30/Jan/2022 14:01:42] \"POST /_dash-update-component HTTP/1.1\" 200 -\n",
      "192.168.0.113 - - [30/Jan/2022 14:01:42] \"POST /_dash-update-component HTTP/1.1\" 200 -\n",
      "192.168.0.113 - - [30/Jan/2022 14:01:42] \"POST /_dash-update-component HTTP/1.1\" 200 -\n",
      "192.168.0.113 - - [30/Jan/2022 14:01:42] \"POST /_dash-update-component HTTP/1.1\" 200 -\n",
      "192.168.0.113 - - [30/Jan/2022 14:01:42] \"POST /_dash-update-component HTTP/1.1\" 200 -\n",
      "192.168.0.113 - - [30/Jan/2022 14:01:42] \"POST /_dash-update-component HTTP/1.1\" 200 -\n",
      "192.168.0.113 - - [30/Jan/2022 14:01:42] \"POST /_dash-update-component HTTP/1.1\" 200 -\n",
      "192.168.0.113 - - [30/Jan/2022 14:01:42] \"POST /_dash-update-component HTTP/1.1\" 204 -\n",
      "192.168.0.113 - - [30/Jan/2022 14:01:42] \"POST /_dash-update-component HTTP/1.1\" 200 -\n",
      "192.168.0.113 - - [30/Jan/2022 14:01:42] \"POST /_dash-update-component HTTP/1.1\" 200 -\n",
      "192.168.0.113 - - [30/Jan/2022 14:01:42] \"POST /_dash-update-component HTTP/1.1\" 200 -\n",
      "192.168.0.113 - - [30/Jan/2022 14:01:42] \"POST /_dash-update-component HTTP/1.1\" 200 -\n",
      "192.168.0.113 - - [30/Jan/2022 14:01:42] \"POST /_dash-update-component HTTP/1.1\" 200 -\n",
      "192.168.0.113 - - [30/Jan/2022 14:01:42] \"POST /_dash-update-component HTTP/1.1\" 200 -\n",
      "192.168.0.113 - - [30/Jan/2022 14:01:42] \"POST /_dash-update-component HTTP/1.1\" 204 -\n",
      "192.168.0.113 - - [30/Jan/2022 14:01:43] \"POST /_dash-update-component HTTP/1.1\" 200 -\n",
      "192.168.0.113 - - [30/Jan/2022 14:01:43] \"POST /_dash-update-component HTTP/1.1\" 200 -\n",
      "192.168.0.113 - - [30/Jan/2022 14:01:43] \"POST /_dash-update-component HTTP/1.1\" 200 -\n",
      "192.168.0.113 - - [30/Jan/2022 14:01:43] \"POST /_dash-update-component HTTP/1.1\" 200 -\n",
      "192.168.0.113 - - [30/Jan/2022 14:01:43] \"POST /_dash-update-component HTTP/1.1\" 200 -\n",
      "192.168.0.113 - - [30/Jan/2022 14:01:56] \"POST /_dash-update-component HTTP/1.1\" 200 -\n",
      "192.168.0.113 - - [30/Jan/2022 14:02:07] \"POST /_dash-update-component HTTP/1.1\" 200 -\n",
      "192.168.0.113 - - [30/Jan/2022 14:02:18] \"POST /_dash-update-component HTTP/1.1\" 200 -\n",
      "192.168.0.113 - - [30/Jan/2022 14:02:29] \"POST /_dash-update-component HTTP/1.1\" 200 -\n",
      "192.168.0.113 - - [30/Jan/2022 14:02:39] \"POST /_dash-update-component HTTP/1.1\" 200 -\n",
      "192.168.0.113 - - [30/Jan/2022 14:02:49] \"POST /_dash-update-component HTTP/1.1\" 200 -\n",
      "192.168.0.113 - - [30/Jan/2022 14:03:05] \"POST /_dash-update-component HTTP/1.1\" 200 -\n",
      "192.168.0.113 - - [30/Jan/2022 14:21:23] \"POST /_dash-update-component HTTP/1.1\" 200 -\n",
      "192.168.0.113 - - [30/Jan/2022 14:21:26] \"POST /_dash-update-component HTTP/1.1\" 200 -\n",
      "192.168.0.113 - - [30/Jan/2022 14:21:41] \"GET /_dash-component-suites/dash/dcc/async-slider.js HTTP/1.1\" 200 -\n",
      "192.168.0.113 - - [30/Jan/2022 14:21:41] \"GET /_dash-component-suites/dash/dcc/async-dropdown.js HTTP/1.1\" 200 -\n"
     ]
    }
   ],
   "source": [
    "explainer = RegressionExplainer(loaded_model, X_test, y_test)\n",
    "#Start the Dashboard\n",
    "db = ExplainerDashboard(explainer, title= \"Used cars\", whatif=False)\n",
    "#Running the app on a local port 3050\n",
    "db.run(port=3050)"
   ]
  },
  {
   "cell_type": "markdown",
   "id": "38cab959-ed3a-4af3-ad8f-a255b98ee52d",
   "metadata": {},
   "source": [
    "# DASHBOARD INSIGHTS"
   ]
  },
  {
   "cell_type": "markdown",
   "id": "d27ebf1a-cf9a-4cc9-b47e-d46c20a7cc47",
   "metadata": {},
   "source": [
    "## FEATURE IMPORTANCE"
   ]
  },
  {
   "cell_type": "markdown",
   "id": "d7b5f731-7f38-40b1-9e5a-85864b7a276c",
   "metadata": {},
   "source": [
    "Before we examine actual feature importances, I'll start by saying that there are correlations present in the feature set, and between then important features. Engine size and : transmissions and fuel types are quite correlated, but never above corr 0.4. \n",
    "- Year and mileage are super highly correlated\n",
    "- transmission_1 and transmission_3\n",
    "- fuelType_1 and fuelType_2"
   ]
  },
  {
   "cell_type": "markdown",
   "id": "2120acc5-fcd4-4c06-b216-ba986a5fbfc5",
   "metadata": {},
   "source": [
    "### SHAP FEATURE IMPORTANCE\n",
    "1. year\n",
    "2. transmission 3\n",
    "3. engineSize\n",
    "4. make \n",
    "5. mileage\n",
    "6. mpg\n",
    "7. model \n",
    "\n",
    "- rest of features not so important\n",
    "- Transmission_3 = Manual Transmission. Majority of transmission class is manual (about 55%)\n",
    "- engine size is more important than make, model, mileage or mpg. Make is more important than model. Makes sense - model is a much more granular feature.\n"
   ]
  },
  {
   "cell_type": "markdown",
   "id": "97e76543-30f9-416a-a868-551004346921",
   "metadata": {},
   "source": [
    "### Permutation Importance\n",
    "\n",
    "Not really paying too much attention to permutation importance since we are using a tree-based model. The important features are the same as above except for transmission_3 which does not really rank in the top most important features. "
   ]
  },
  {
   "cell_type": "markdown",
   "id": "ce491800-a27b-4a98-b90f-789aafadb6b6",
   "metadata": {},
   "source": [
    "The importances are aligning to expectations: the most important things in order are year, engineSize and make (as well as whether or not manual transmission). The rest increase accuracy by a bit. "
   ]
  },
  {
   "cell_type": "markdown",
   "id": "f5620cbf-dec6-4189-b1ab-701b42bcb6eb",
   "metadata": {},
   "source": [
    "## Residual Analysis"
   ]
  },
  {
   "cell_type": "markdown",
   "id": "dded7b7c-52d0-42b6-9ea9-dfa386dcce9c",
   "metadata": {},
   "source": [
    "Exploring model values for a feature vs residuals along the feature:\n",
    "- we see kind of similar residual distribution along different feature values\n",
    "- for mpg: we see higher residual range at around ten than for other values \n",
    "- unscaled mpg values under 40 there are larger residuals\n",
    "    - C Class and Focus for 2016.0\t2017.0\t2018.0\t2019.0\t2020.0 are higher"
   ]
  },
  {
   "cell_type": "code",
   "execution_count": null,
   "id": "ca2937a0-50da-4a33-9835-e2c7516779ad",
   "metadata": {},
   "outputs": [],
   "source": [
    "# investigating individual CCLass 2019 prediction with feature contribution and PDP but dashboard stopped running"
   ]
  }
 ],
 "metadata": {
  "kernelspec": {
   "display_name": "Python 3 (ipykernel)",
   "language": "python",
   "name": "python3"
  },
  "language_info": {
   "codemirror_mode": {
    "name": "ipython",
    "version": 3
   },
   "file_extension": ".py",
   "mimetype": "text/x-python",
   "name": "python",
   "nbconvert_exporter": "python",
   "pygments_lexer": "ipython3",
   "version": "3.9.7"
  }
 },
 "nbformat": 4,
 "nbformat_minor": 5
}
