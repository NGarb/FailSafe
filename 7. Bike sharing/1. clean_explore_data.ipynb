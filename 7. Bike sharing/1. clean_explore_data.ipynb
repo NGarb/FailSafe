{
 "cells": [
  {
   "cell_type": "code",
   "execution_count": 1,
   "id": "6de16445-71ec-4b22-bf0b-b694cb6cd4c6",
   "metadata": {},
   "outputs": [],
   "source": [
    "import pandas as pd\n",
    "import numpy as np \n",
    "import seaborn as sns\n",
    "import matplotlib.pyplot as plt"
   ]
  },
  {
   "cell_type": "code",
   "execution_count": 2,
   "id": "3f8779e1-849a-44d6-835d-102545966498",
   "metadata": {},
   "outputs": [],
   "source": [
    "base_dir = 'D:\\\\Projects\\\\FailSafe_500'\n",
    "import os \n",
    "os.chdir(base_dir)\n",
    "from Utils import heatmap as hmp\n",
    "os.chdir('.\\\\7. Bike sharing')"
   ]
  },
  {
   "cell_type": "code",
   "execution_count": 3,
   "id": "3712dd30-bf3f-4389-bc0e-ddd10d0d9e2b",
   "metadata": {},
   "outputs": [
    {
     "name": "stdout",
     "output_type": "stream",
     "text": [
      "(731, 16) (17379, 17)\n"
     ]
    }
   ],
   "source": [
    "bike_day_df = pd.read_csv('D:/Projects/FailSafe_500/7. Bike sharing/Bike-Sharing-Dataset/day.csv')\n",
    "bike_hour_df = pd.read_csv('D:/Projects/FailSafe_500/7. Bike sharing/Bike-Sharing-Dataset/hour.csv')\n",
    "print(bike_day_df.shape, bike_hour_df.shape)"
   ]
  },
  {
   "cell_type": "markdown",
   "id": "3135899f-3224-4388-9fed-c5b151852414",
   "metadata": {},
   "source": [
    "bike_day_df and bike_hour_df exactly the same just at different grains. We will predict hourly"
   ]
  },
  {
   "cell_type": "code",
   "execution_count": 4,
   "id": "b93bb051-3e24-4595-8691-0b3d276f3099",
   "metadata": {},
   "outputs": [
    {
     "data": {
      "text/plain": [
       "0"
      ]
     },
     "execution_count": 4,
     "metadata": {},
     "output_type": "execute_result"
    }
   ],
   "source": [
    "import gc\n",
    "del bike_day_df\n",
    "gc.collect()"
   ]
  },
  {
   "cell_type": "code",
   "execution_count": 5,
   "id": "d0f186b6-2c84-49f6-a7aa-d6fd5ae0c7d9",
   "metadata": {},
   "outputs": [
    {
     "name": "stdout",
     "output_type": "stream",
     "text": [
      "<class 'pandas.core.frame.DataFrame'>\n",
      "RangeIndex: 17379 entries, 0 to 17378\n",
      "Data columns (total 17 columns):\n",
      " #   Column      Non-Null Count  Dtype  \n",
      "---  ------      --------------  -----  \n",
      " 0   instant     17379 non-null  int64  \n",
      " 1   dteday      17379 non-null  object \n",
      " 2   season      17379 non-null  int64  \n",
      " 3   yr          17379 non-null  int64  \n",
      " 4   mnth        17379 non-null  int64  \n",
      " 5   hr          17379 non-null  int64  \n",
      " 6   holiday     17379 non-null  int64  \n",
      " 7   weekday     17379 non-null  int64  \n",
      " 8   workingday  17379 non-null  int64  \n",
      " 9   weathersit  17379 non-null  int64  \n",
      " 10  temp        17379 non-null  float64\n",
      " 11  atemp       17379 non-null  float64\n",
      " 12  hum         17379 non-null  float64\n",
      " 13  windspeed   17379 non-null  float64\n",
      " 14  casual      17379 non-null  int64  \n",
      " 15  registered  17379 non-null  int64  \n",
      " 16  cnt         17379 non-null  int64  \n",
      "dtypes: float64(4), int64(12), object(1)\n",
      "memory usage: 2.3+ MB\n"
     ]
    }
   ],
   "source": [
    "bike_hour_df.info() # no nulls; looks like all numeric data as expected from description"
   ]
  },
  {
   "cell_type": "code",
   "execution_count": 6,
   "id": "f6144601-2a43-4cb2-9490-eab5b9038d39",
   "metadata": {},
   "outputs": [
    {
     "data": {
      "text/html": [
       "<div>\n",
       "<style scoped>\n",
       "    .dataframe tbody tr th:only-of-type {\n",
       "        vertical-align: middle;\n",
       "    }\n",
       "\n",
       "    .dataframe tbody tr th {\n",
       "        vertical-align: top;\n",
       "    }\n",
       "\n",
       "    .dataframe thead th {\n",
       "        text-align: right;\n",
       "    }\n",
       "</style>\n",
       "<table border=\"1\" class=\"dataframe\">\n",
       "  <thead>\n",
       "    <tr style=\"text-align: right;\">\n",
       "      <th></th>\n",
       "      <th>instant</th>\n",
       "      <th>dteday</th>\n",
       "      <th>season</th>\n",
       "      <th>yr</th>\n",
       "      <th>mnth</th>\n",
       "      <th>hr</th>\n",
       "      <th>holiday</th>\n",
       "      <th>weekday</th>\n",
       "      <th>workingday</th>\n",
       "      <th>weathersit</th>\n",
       "      <th>temp</th>\n",
       "      <th>atemp</th>\n",
       "      <th>hum</th>\n",
       "      <th>windspeed</th>\n",
       "      <th>casual</th>\n",
       "      <th>registered</th>\n",
       "      <th>cnt</th>\n",
       "    </tr>\n",
       "  </thead>\n",
       "  <tbody>\n",
       "    <tr>\n",
       "      <th>529</th>\n",
       "      <td>530</td>\n",
       "      <td>2011-01-24</td>\n",
       "      <td>1</td>\n",
       "      <td>0</td>\n",
       "      <td>1</td>\n",
       "      <td>5</td>\n",
       "      <td>0</td>\n",
       "      <td>1</td>\n",
       "      <td>1</td>\n",
       "      <td>1</td>\n",
       "      <td>0.02</td>\n",
       "      <td>0.0606</td>\n",
       "      <td>0.48</td>\n",
       "      <td>0.1343</td>\n",
       "      <td>0</td>\n",
       "      <td>5</td>\n",
       "      <td>5</td>\n",
       "    </tr>\n",
       "    <tr>\n",
       "      <th>12818</th>\n",
       "      <td>12819</td>\n",
       "      <td>2012-06-23</td>\n",
       "      <td>3</td>\n",
       "      <td>1</td>\n",
       "      <td>6</td>\n",
       "      <td>7</td>\n",
       "      <td>0</td>\n",
       "      <td>6</td>\n",
       "      <td>0</td>\n",
       "      <td>1</td>\n",
       "      <td>0.64</td>\n",
       "      <td>0.5758</td>\n",
       "      <td>0.83</td>\n",
       "      <td>0.1642</td>\n",
       "      <td>19</td>\n",
       "      <td>59</td>\n",
       "      <td>78</td>\n",
       "    </tr>\n",
       "  </tbody>\n",
       "</table>\n",
       "</div>"
      ],
      "text/plain": [
       "       instant      dteday  season  yr  mnth  hr  holiday  weekday  \\\n",
       "529        530  2011-01-24       1   0     1   5        0        1   \n",
       "12818    12819  2012-06-23       3   1     6   7        0        6   \n",
       "\n",
       "       workingday  weathersit  temp   atemp   hum  windspeed  casual  \\\n",
       "529             1           1  0.02  0.0606  0.48     0.1343       0   \n",
       "12818           0           1  0.64  0.5758  0.83     0.1642      19   \n",
       "\n",
       "       registered  cnt  \n",
       "529             5    5  \n",
       "12818          59   78  "
      ]
     },
     "execution_count": 6,
     "metadata": {},
     "output_type": "execute_result"
    }
   ],
   "source": [
    "bike_hour_df.sample(2)"
   ]
  },
  {
   "cell_type": "markdown",
   "id": "64b5a4cf-ed9e-4457-aa37-ef4d875b1dbc",
   "metadata": {},
   "source": [
    "we are dropping dteday as we have all the date descriptor columns already done for us"
   ]
  },
  {
   "cell_type": "code",
   "execution_count": 7,
   "id": "ba1da70d-3603-441d-84f1-436e98b7bc68",
   "metadata": {},
   "outputs": [],
   "source": [
    "bike_hour_df = bike_hour_df.drop(['instant','dteday'],axis=1)"
   ]
  },
  {
   "cell_type": "code",
   "execution_count": 8,
   "id": "d46034c5-941e-4d7e-b565-1be28c31d2d5",
   "metadata": {},
   "outputs": [],
   "source": [
    "%matplotlib inline\n",
    "\n",
    "corr = bike_hour_df.corr()"
   ]
  },
  {
   "cell_type": "code",
   "execution_count": 9,
   "id": "899d7ee3-6010-4e13-80bf-556cbfd60ae9",
   "metadata": {},
   "outputs": [
    {
     "name": "stdout",
     "output_type": "stream",
     "text": [
      "['season', 'yr', 'mnth', 'hr', 'holiday', 'weekday', 'workingday', 'weathersit', 'temp', 'atemp', 'hum', 'windspeed', 'casual', 'registered', 'cnt']\n"
     ]
    },
    {
     "data": {
      "image/png": "[encoded data removed]",
      "text/plain": [
       "<Figure size 720x720 with 2 Axes>"
      ]
     },
     "metadata": {
      "needs_background": "light"
     },
     "output_type": "display_data"
    }
   ],
   "source": [
    "plt.figure(figsize=(10, 10))\n",
    "hmp.corrplot(corr)"
   ]
  },
  {
   "cell_type": "markdown",
   "id": "a06b146f-c966-41e8-b747-cd03bb5d6553",
   "metadata": {},
   "source": [
    "- cnt and registered are highly positively correlated\n",
    "- atemp and temp\n",
    "- month and season\n"
   ]
  },
  {
   "cell_type": "code",
   "execution_count": 13,
   "id": "3212c398-09b4-4ca3-b42d-212ee0bcd4af",
   "metadata": {},
   "outputs": [
    {
     "name": "stdout",
     "output_type": "stream",
     "text": [
      "0.9721507308642957\n",
      "0.6945640779749468\n",
      "0.9876721390396437\n",
      "0.8303858922042007\n"
     ]
    }
   ],
   "source": [
    "print(corr['cnt']['registered'])\n",
    "print(corr['cnt']['casual'])\n",
    "print(corr['atemp']['temp'])\n",
    "print(corr['mnth']['season'])"
   ]
  },
  {
   "cell_type": "markdown",
   "id": "951b54cf-5601-4a6c-b42b-20e8f9733101",
   "metadata": {},
   "source": [
    "I mean. Expecting just really good results using like any model with no tuning like right off the bat. "
   ]
  },
  {
   "cell_type": "code",
   "execution_count": 15,
   "id": "fc60d394-a29a-48c7-93f7-e84cfb540c2f",
   "metadata": {},
   "outputs": [
    {
     "data": {
      "text/html": [
       "<div>\n",
       "<style scoped>\n",
       "    .dataframe tbody tr th:only-of-type {\n",
       "        vertical-align: middle;\n",
       "    }\n",
       "\n",
       "    .dataframe tbody tr th {\n",
       "        vertical-align: top;\n",
       "    }\n",
       "\n",
       "    .dataframe thead th {\n",
       "        text-align: right;\n",
       "    }\n",
       "</style>\n",
       "<table border=\"1\" class=\"dataframe\">\n",
       "  <thead>\n",
       "    <tr style=\"text-align: right;\">\n",
       "      <th></th>\n",
       "      <th>atemp</th>\n",
       "      <th>temp</th>\n",
       "    </tr>\n",
       "  </thead>\n",
       "  <tbody>\n",
       "    <tr>\n",
       "      <th>9927</th>\n",
       "      <td>0.5303</td>\n",
       "      <td>0.56</td>\n",
       "    </tr>\n",
       "    <tr>\n",
       "      <th>4735</th>\n",
       "      <td>0.7121</td>\n",
       "      <td>0.72</td>\n",
       "    </tr>\n",
       "    <tr>\n",
       "      <th>9263</th>\n",
       "      <td>0.4091</td>\n",
       "      <td>0.40</td>\n",
       "    </tr>\n",
       "    <tr>\n",
       "      <th>6130</th>\n",
       "      <td>0.4545</td>\n",
       "      <td>0.46</td>\n",
       "    </tr>\n",
       "    <tr>\n",
       "      <th>4720</th>\n",
       "      <td>0.8333</td>\n",
       "      <td>0.86</td>\n",
       "    </tr>\n",
       "  </tbody>\n",
       "</table>\n",
       "</div>"
      ],
      "text/plain": [
       "       atemp  temp\n",
       "9927  0.5303  0.56\n",
       "4735  0.7121  0.72\n",
       "9263  0.4091  0.40\n",
       "6130  0.4545  0.46\n",
       "4720  0.8333  0.86"
      ]
     },
     "execution_count": 15,
     "metadata": {},
     "output_type": "execute_result"
    }
   ],
   "source": [
    "bike_hour_df[['atemp','temp']].sample(5)"
   ]
  },
  {
   "cell_type": "code",
   "execution_count": 20,
   "id": "28be218e-98be-4594-a76b-20d184b70293",
   "metadata": {},
   "outputs": [
    {
     "name": "stdout",
     "output_type": "stream",
     "text": [
      "-0.6469687275317175\n",
      "-0.3837322511046421\n"
     ]
    }
   ],
   "source": [
    "print(np.corrcoef(bike_hour_df['atemp']-bike_hour_df['temp'],bike_hour_df['temp'])[0][1])\n",
    "print(np.corrcoef(bike_hour_df['atemp']/bike_hour_df['temp'],bike_hour_df['temp'])[0][1])"
   ]
  },
  {
   "cell_type": "code",
   "execution_count": 21,
   "id": "3599e67f-3f9f-4942-a238-b8372a70d81a",
   "metadata": {},
   "outputs": [],
   "source": [
    "# since ambient temp and temp are so highly correlated, it seems that having both features does not add all that much extra information. \n",
    "# we will play with the features a little and instead of keeping both features, add their ratio as a feature "
   ]
  },
  {
   "cell_type": "code",
   "execution_count": 27,
   "id": "1a51e41e-f797-4b88-bf9d-6c241df2293d",
   "metadata": {},
   "outputs": [
    {
     "data": {
      "text/html": [
       "<div>\n",
       "<style scoped>\n",
       "    .dataframe tbody tr th:only-of-type {\n",
       "        vertical-align: middle;\n",
       "    }\n",
       "\n",
       "    .dataframe tbody tr th {\n",
       "        vertical-align: top;\n",
       "    }\n",
       "\n",
       "    .dataframe thead th {\n",
       "        text-align: right;\n",
       "    }\n",
       "</style>\n",
       "<table border=\"1\" class=\"dataframe\">\n",
       "  <thead>\n",
       "    <tr style=\"text-align: right;\">\n",
       "      <th></th>\n",
       "      <th>count</th>\n",
       "      <th>mean</th>\n",
       "      <th>std</th>\n",
       "      <th>min</th>\n",
       "      <th>25%</th>\n",
       "      <th>50%</th>\n",
       "      <th>75%</th>\n",
       "      <th>max</th>\n",
       "    </tr>\n",
       "  </thead>\n",
       "  <tbody>\n",
       "    <tr>\n",
       "      <th>mnth</th>\n",
       "      <td>17379.0</td>\n",
       "      <td>6.537775</td>\n",
       "      <td>3.438776</td>\n",
       "      <td>1.0</td>\n",
       "      <td>4.0</td>\n",
       "      <td>7.0</td>\n",
       "      <td>10.0</td>\n",
       "      <td>12.0</td>\n",
       "    </tr>\n",
       "    <tr>\n",
       "      <th>season</th>\n",
       "      <td>17379.0</td>\n",
       "      <td>2.501640</td>\n",
       "      <td>1.106918</td>\n",
       "      <td>1.0</td>\n",
       "      <td>2.0</td>\n",
       "      <td>3.0</td>\n",
       "      <td>3.0</td>\n",
       "      <td>4.0</td>\n",
       "    </tr>\n",
       "  </tbody>\n",
       "</table>\n",
       "</div>"
      ],
      "text/plain": [
       "          count      mean       std  min  25%  50%   75%   max\n",
       "mnth    17379.0  6.537775  3.438776  1.0  4.0  7.0  10.0  12.0\n",
       "season  17379.0  2.501640  1.106918  1.0  2.0  3.0   3.0   4.0"
      ]
     },
     "execution_count": 27,
     "metadata": {},
     "output_type": "execute_result"
    }
   ],
   "source": [
    "bike_hour_df[['mnth','season']].describe().T"
   ]
  },
  {
   "cell_type": "code",
   "execution_count": 28,
   "id": "a3adc2c3-5901-4caa-8e1b-abe262a771ba",
   "metadata": {},
   "outputs": [
    {
     "data": {
      "text/html": [
       "<div>\n",
       "<style scoped>\n",
       "    .dataframe tbody tr th:only-of-type {\n",
       "        vertical-align: middle;\n",
       "    }\n",
       "\n",
       "    .dataframe tbody tr th {\n",
       "        vertical-align: top;\n",
       "    }\n",
       "\n",
       "    .dataframe thead th {\n",
       "        text-align: right;\n",
       "    }\n",
       "</style>\n",
       "<table border=\"1\" class=\"dataframe\">\n",
       "  <thead>\n",
       "    <tr style=\"text-align: right;\">\n",
       "      <th></th>\n",
       "      <th>mnth</th>\n",
       "      <th>season</th>\n",
       "    </tr>\n",
       "  </thead>\n",
       "  <tbody>\n",
       "    <tr>\n",
       "      <th>0</th>\n",
       "      <td>1</td>\n",
       "      <td>1</td>\n",
       "    </tr>\n",
       "    <tr>\n",
       "      <th>1</th>\n",
       "      <td>1</td>\n",
       "      <td>1</td>\n",
       "    </tr>\n",
       "    <tr>\n",
       "      <th>2</th>\n",
       "      <td>1</td>\n",
       "      <td>1</td>\n",
       "    </tr>\n",
       "    <tr>\n",
       "      <th>3</th>\n",
       "      <td>1</td>\n",
       "      <td>1</td>\n",
       "    </tr>\n",
       "    <tr>\n",
       "      <th>4</th>\n",
       "      <td>1</td>\n",
       "      <td>1</td>\n",
       "    </tr>\n",
       "    <tr>\n",
       "      <th>...</th>\n",
       "      <td>...</td>\n",
       "      <td>...</td>\n",
       "    </tr>\n",
       "    <tr>\n",
       "      <th>17374</th>\n",
       "      <td>12</td>\n",
       "      <td>1</td>\n",
       "    </tr>\n",
       "    <tr>\n",
       "      <th>17375</th>\n",
       "      <td>12</td>\n",
       "      <td>1</td>\n",
       "    </tr>\n",
       "    <tr>\n",
       "      <th>17376</th>\n",
       "      <td>12</td>\n",
       "      <td>1</td>\n",
       "    </tr>\n",
       "    <tr>\n",
       "      <th>17377</th>\n",
       "      <td>12</td>\n",
       "      <td>1</td>\n",
       "    </tr>\n",
       "    <tr>\n",
       "      <th>17378</th>\n",
       "      <td>12</td>\n",
       "      <td>1</td>\n",
       "    </tr>\n",
       "  </tbody>\n",
       "</table>\n",
       "<p>17379 rows × 2 columns</p>\n",
       "</div>"
      ],
      "text/plain": [
       "       mnth  season\n",
       "0         1       1\n",
       "1         1       1\n",
       "2         1       1\n",
       "3         1       1\n",
       "4         1       1\n",
       "...     ...     ...\n",
       "17374    12       1\n",
       "17375    12       1\n",
       "17376    12       1\n",
       "17377    12       1\n",
       "17378    12       1\n",
       "\n",
       "[17379 rows x 2 columns]"
      ]
     },
     "execution_count": 28,
     "metadata": {},
     "output_type": "execute_result"
    }
   ],
   "source": [
    "# We'll leave the rest of the correlated features since 1. its predictors correlated with target and 2. month and season - I mean - tiniest difference of information"
   ]
  },
  {
   "cell_type": "code",
   "execution_count": null,
   "id": "312adcef-20b8-42ee-9344-fb95f2770e7d",
   "metadata": {},
   "outputs": [],
   "source": [
    "# not even going to bother with saving the dataset and loading it through pipelines etc as its one line of code for feature engineering. Going to do that in the modeling nb."
   ]
  }
 ],
 "metadata": {
  "kernelspec": {
   "display_name": "Python 3 (ipykernel)",
   "language": "python",
   "name": "python3"
  },
  "language_info": {
   "codemirror_mode": {
    "name": "ipython",
    "version": 3
   },
   "file_extension": ".py",
   "mimetype": "text/x-python",
   "name": "python",
   "nbconvert_exporter": "python",
   "pygments_lexer": "ipython3",
   "version": "3.9.7"
  }
 },
 "nbformat": 4,
 "nbformat_minor": 5
}
