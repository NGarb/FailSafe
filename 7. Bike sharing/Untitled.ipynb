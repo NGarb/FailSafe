{
 "cells": [
  {
   "cell_type": "code",
   "execution_count": null,
   "id": "0c9c0705-117b-4d80-88cb-bdf48f323caa",
   "metadata": {},
   "outputs": [],
   "source": [
    "import pandas as pd\n",
    "import numpy as np \n",
    "import seaborn as sns\n",
    "import matplotlib.pyplot as plt"
   ]
  },
  {
   "cell_type": "code",
   "execution_count": null,
   "id": "c3e637d9-41aa-462f-9797-098052375b77",
   "metadata": {},
   "outputs": [],
   "source": [
    "bike_hour_df = pd.read_csv('D:/Projects/FailSafe_500/7. Bike sharing/Bike-Sharing-Dataset/hour.csv')\n",
    "bike_hour_df.sample(5)"
   ]
  },
  {
   "cell_type": "code",
   "execution_count": null,
   "id": "17958440-3c2e-4881-b057-109ae92589a6",
   "metadata": {},
   "outputs": [],
   "source": []
  },
  {
   "cell_type": "code",
   "execution_count": null,
   "id": "eb5f679d-fb9c-439f-91e1-a84976dfd203",
   "metadata": {},
   "outputs": [],
   "source": [
    "bike_hour_df['atemp']/bike_hour_df['temp']"
   ]
  },
  {
   "cell_type": "code",
   "execution_count": null,
   "id": "b9c17c6f-22a8-44c3-857d-08b563ba2e4d",
   "metadata": {},
   "outputs": [],
   "source": []
  }
 ],
 "metadata": {
  "kernelspec": {
   "display_name": "Python 3 (ipykernel)",
   "language": "python",
   "name": "python3"
  },
  "language_info": {
   "codemirror_mode": {
    "name": "ipython",
    "version": 3
   },
   "file_extension": ".py",
   "mimetype": "text/x-python",
   "name": "python",
   "nbconvert_exporter": "python",
   "pygments_lexer": "ipython3",
   "version": "3.9.7"
  }
 },
 "nbformat": 4,
 "nbformat_minor": 5
}
