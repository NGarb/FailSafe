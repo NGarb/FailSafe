{
 "cells": [
  {
   "cell_type": "markdown",
   "id": "d37869cd-05ae-432b-9fa5-50b66863038a",
   "metadata": {},
   "source": [
    "## Building a good explainability pipeline\n",
    "\n",
    "There is an eye-watering number of explainer-dashboard libraries. Sometimes it's good to have a manually-built base as a standard for good practice and then applying various possible dashboards for any additional insights.\n"
   ]
  },
  {
   "cell_type": "code",
   "execution_count": null,
   "id": "35526b0a-cea9-47aa-aa71-8d8d718dbd82",
   "metadata": {},
   "outputs": [],
   "source": []
  }
 ],
 "metadata": {
  "kernelspec": {
   "display_name": "Python 3 (ipykernel)",
   "language": "python",
   "name": "python3"
  },
  "language_info": {
   "codemirror_mode": {
    "name": "ipython",
    "version": 3
   },
   "file_extension": ".py",
   "mimetype": "text/x-python",
   "name": "python",
   "nbconvert_exporter": "python",
   "pygments_lexer": "ipython3",
   "version": "3.9.7"
  }
 },
 "nbformat": 4,
 "nbformat_minor": 5
}
