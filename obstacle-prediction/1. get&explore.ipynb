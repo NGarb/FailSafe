{
 "cells": [
  {
   "cell_type": "code",
   "execution_count": 1,
   "id": "85a33e40-6ff0-4833-9dbe-07b81c08a523",
   "metadata": {},
   "outputs": [],
   "source": [
    "import pandas as pd\n",
    "import numpy as np\n",
    "import seaborn as sns\n",
    "import matplotlib.pyplot as plt "
   ]
  },
  {
   "cell_type": "code",
   "execution_count": 6,
   "id": "3fb36e63-dc15-4a31-992a-6a97f3cdde63",
   "metadata": {
    "tags": []
   },
   "outputs": [
    {
     "ename": "FileNotFoundError",
     "evalue": "[Errno 2] No such file or directory: '.\\\\obstalce-prediction'",
     "output_type": "error",
     "traceback": [
      "\u001b[0;31m---------------------------------------------------------------------------\u001b[0m",
      "\u001b[0;31mFileNotFoundError\u001b[0m                         Traceback (most recent call last)",
      "Cell \u001b[0;32mIn [6], line 5\u001b[0m\n\u001b[1;32m      3\u001b[0m os\u001b[38;5;241m.\u001b[39mchdir(base_dir)\n\u001b[1;32m      4\u001b[0m \u001b[38;5;28;01mfrom\u001b[39;00m \u001b[38;5;21;01mUtils\u001b[39;00m \u001b[38;5;28;01mimport\u001b[39;00m heatmap \u001b[38;5;28;01mas\u001b[39;00m hmp\n\u001b[0;32m----> 5\u001b[0m \u001b[43mos\u001b[49m\u001b[38;5;241;43m.\u001b[39;49m\u001b[43mchdir\u001b[49m\u001b[43m(\u001b[49m\u001b[38;5;124;43m'\u001b[39;49m\u001b[38;5;124;43m.\u001b[39;49m\u001b[38;5;124;43m\\\u001b[39;49m\u001b[38;5;124;43mobstalce-prediction\u001b[39;49m\u001b[38;5;124;43m'\u001b[39;49m\u001b[43m)\u001b[49m\n",
      "\u001b[0;31mFileNotFoundError\u001b[0m: [Errno 2] No such file or directory: '.\\\\obstalce-prediction'"
     ]
    }
   ],
   "source": [
    "base_dir = '..'\n",
    "import os \n",
    "os.chdir(base_dir)\n",
    "from Utils import heatmap as hmp\n",
    "os.chdir('.\\obstalce-prediction')"
   ]
  },
  {
   "cell_type": "code",
   "execution_count": 3,
   "id": "e22da575-1181-422b-8550-0cc06ee3cbaa",
   "metadata": {},
   "outputs": [],
   "source": [
    "!cd .."
   ]
  },
  {
   "cell_type": "code",
   "execution_count": 2,
   "id": "e3d7998f-36f0-4533-9950-258a65d5b068",
   "metadata": {},
   "outputs": [
    {
     "ename": "ModuleNotFoundError",
     "evalue": "No module named 'analysis_utilities'",
     "output_type": "error",
     "traceback": [
      "\u001b[0;31m---------------------------------------------------------------------------\u001b[0m",
      "\u001b[0;31mModuleNotFoundError\u001b[0m                       Traceback (most recent call last)",
      "Cell \u001b[0;32mIn [2], line 1\u001b[0m\n\u001b[0;32m----> 1\u001b[0m \u001b[38;5;28;01mfrom\u001b[39;00m \u001b[38;5;21;01manalysis_utilities\u001b[39;00m \u001b[38;5;28;01mimport\u001b[39;00m heatmap \u001b[38;5;28;01mas\u001b[39;00m hmp\n",
      "\u001b[0;31mModuleNotFoundError\u001b[0m: No module named 'analysis_utilities'"
     ]
    }
   ],
   "source": [
    "from analysis_utilities import heatmap as hmp"
   ]
  },
  {
   "cell_type": "code",
   "execution_count": 8,
   "id": "45bf19f7-7191-4aec-98f5-cb046705ef4b",
   "metadata": {},
   "outputs": [
    {
     "name": "stdout",
     "output_type": "stream",
     "text": [
      "__init__.py bools.py    \u001b[34mdicts\u001b[m\u001b[m       lists.py    objects.py\n",
      "\u001b[34m__pycache__\u001b[m\u001b[m dates.py    enum.py     math.py\n"
     ]
    }
   ],
   "source": [
    "import os\n",
    "os.chdir( '/opt/miniconda3/envs/FailSafe/lib/python3.10/site-packages/utils/')\n",
    "! ls"
   ]
  },
  {
   "cell_type": "code",
   "execution_count": 14,
   "id": "2308637e-43c6-45aa-ae56-c1c27fd391ec",
   "metadata": {},
   "outputs": [
    {
     "name": "stdout",
     "output_type": "stream",
     "text": [
      "\u001b[31mERROR: Could not find a version that satisfies the requirement analysis_utilities (from versions: none)\u001b[0m\u001b[31m\n",
      "\u001b[0m\u001b[31mERROR: No matching distribution found for analysis_utilities\u001b[0m\u001b[31m\n",
      "\u001b[0m"
     ]
    }
   ],
   "source": [
    "! pip install analysis_utilities"
   ]
  },
  {
   "cell_type": "code",
   "execution_count": 15,
   "id": "a3af8eaa-79f6-4f95-8c98-6230eb547ac6",
   "metadata": {},
   "outputs": [],
   "source": [
    "import os\n",
    "os.chdir('analysis_utilities')\n",
    "\n"
   ]
  },
  {
   "cell_type": "code",
   "execution_count": 2,
   "id": "423a8252-d80d-4b8c-b8ff-8ec7a69ea0e4",
   "metadata": {},
   "outputs": [
    {
     "ename": "ModuleNotFoundError",
     "evalue": "No module named 'analysis_utilities'",
     "output_type": "error",
     "traceback": [
      "\u001b[0;31m---------------------------------------------------------------------------\u001b[0m",
      "\u001b[0;31mModuleNotFoundError\u001b[0m                       Traceback (most recent call last)",
      "Cell \u001b[0;32mIn [2], line 1\u001b[0m\n\u001b[0;32m----> 1\u001b[0m \u001b[38;5;28;01mimport\u001b[39;00m \u001b[38;5;21;01manalysis_utilities\u001b[39;00m\n",
      "\u001b[0;31mModuleNotFoundError\u001b[0m: No module named 'analysis_utilities'"
     ]
    }
   ],
   "source": [
    "import analysis_utilities"
   ]
  },
  {
   "cell_type": "code",
   "execution_count": 17,
   "id": "638967e8-c216-4678-b3ba-9e43a443255f",
   "metadata": {},
   "outputs": [
    {
     "name": "stdout",
     "output_type": "stream",
     "text": [
      "\u001b[34mMetrics\u001b[m\u001b[m        __init__.py    \u001b[34m__pycache__\u001b[m\u001b[m    heatmap.py     pyproject.toml\n"
     ]
    }
   ],
   "source": []
  },
  {
   "cell_type": "code",
   "execution_count": 1,
   "id": "3fc49239-b722-47cb-92a5-5da1bc999d37",
   "metadata": {},
   "outputs": [],
   "source": [
    "import os \n",
    "os.chdir('../analysis_utilities/src/')"
   ]
  },
  {
   "cell_type": "code",
   "execution_count": 3,
   "id": "59194e5c-ce4f-4c8d-b9c3-a5fa14c37808",
   "metadata": {},
   "outputs": [
    {
     "name": "stdout",
     "output_type": "stream",
     "text": [
      "Obtaining file:///Users/nicollegarber/Documents/GitHub/FailSafe/analysis_utilities/src\n",
      "  Preparing metadata (setup.py) ... \u001b[?25ldone\n",
      "\u001b[?25hInstalling collected packages: analysis-utilities\n",
      "  Running setup.py develop for analysis-utilities\n",
      "    \u001b[1;31merror\u001b[0m: \u001b[1msubprocess-exited-with-error\u001b[0m\n",
      "    \n",
      "    \u001b[31m×\u001b[0m \u001b[32mpython setup.py develop\u001b[0m did not run successfully.\n",
      "    \u001b[31m│\u001b[0m exit code: \u001b[1;36m1\u001b[0m\n",
      "    \u001b[31m╰─>\u001b[0m \u001b[31m[4 lines of output]\u001b[0m\n",
      "    \u001b[31m   \u001b[0m running develop\n",
      "    \u001b[31m   \u001b[0m /opt/miniconda3/envs/FailSafe/lib/python3.10/site-packages/setuptools/command/easy_install.py:144: EasyInstallDeprecationWarning: easy_install command is deprecated. Use build and pip and other standards-based tools.\n",
      "    \u001b[31m   \u001b[0m   warnings.warn(\n",
      "    \u001b[31m   \u001b[0m error: error in 'egg_base' option: 'src' does not exist or is not a directory\n",
      "    \u001b[31m   \u001b[0m \u001b[31m[end of output]\u001b[0m\n",
      "    \n",
      "    \u001b[1;35mnote\u001b[0m: This error originates from a subprocess, and is likely not a problem with pip.\n",
      "\u001b[1;31merror\u001b[0m: \u001b[1msubprocess-exited-with-error\u001b[0m\n",
      "\n",
      "\u001b[31m×\u001b[0m \u001b[32mpython setup.py develop\u001b[0m did not run successfully.\n",
      "\u001b[31m│\u001b[0m exit code: \u001b[1;36m1\u001b[0m\n",
      "\u001b[31m╰─>\u001b[0m \u001b[31m[4 lines of output]\u001b[0m\n",
      "\u001b[31m   \u001b[0m running develop\n",
      "\u001b[31m   \u001b[0m /opt/miniconda3/envs/FailSafe/lib/python3.10/site-packages/setuptools/command/easy_install.py:144: EasyInstallDeprecationWarning: easy_install command is deprecated. Use build and pip and other standards-based tools.\n",
      "\u001b[31m   \u001b[0m   warnings.warn(\n",
      "\u001b[31m   \u001b[0m error: error in 'egg_base' option: 'src' does not exist or is not a directory\n",
      "\u001b[31m   \u001b[0m \u001b[31m[end of output]\u001b[0m\n",
      "\n",
      "\u001b[1;35mnote\u001b[0m: This error originates from a subprocess, and is likely not a problem with pip.\n"
     ]
    }
   ],
   "source": [
    "! pip install -e ."
   ]
  },
  {
   "cell_type": "code",
   "execution_count": 2,
   "id": "8e9b191c-dc96-4881-9b7b-410e06be205d",
   "metadata": {},
   "outputs": [
    {
     "name": "stdout",
     "output_type": "stream",
     "text": [
      "/Users/nicollegarber/Documents/GitHub/FailSafe/analysis_utilities/src\n"
     ]
    }
   ],
   "source": [
    "! pwd"
   ]
  },
  {
   "cell_type": "code",
   "execution_count": null,
   "id": "9f0a064a-b74e-4653-82ed-17b8d03ff4b4",
   "metadata": {},
   "outputs": [],
   "source": []
  }
 ],
 "metadata": {
  "kernelspec": {
   "display_name": "Python 3 (ipykernel)",
   "language": "python",
   "name": "python3"
  },
  "language_info": {
   "codemirror_mode": {
    "name": "ipython",
    "version": 3
   },
   "file_extension": ".py",
   "mimetype": "text/x-python",
   "name": "python",
   "nbconvert_exporter": "python",
   "pygments_lexer": "ipython3",
   "version": "3.10.4"
  }
 },
 "nbformat": 4,
 "nbformat_minor": 5
}
