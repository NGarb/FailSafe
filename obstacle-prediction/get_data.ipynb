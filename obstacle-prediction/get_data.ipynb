{
 "cells": [
  {
   "cell_type": "code",
   "execution_count": 2,
   "id": "b2e57e7c-59f7-41df-a7ee-b432fba3714e",
   "metadata": {},
   "outputs": [],
   "source": [
    "# https://www.aicrowd.com/challenges/obstacle-prediction"
   ]
  },
  {
   "cell_type": "code",
   "execution_count": 6,
   "id": "07538349-764b-48e6-b011-325f1c65c775",
   "metadata": {},
   "outputs": [
    {
     "name": "stdout",
     "output_type": "stream",
     "text": [
      "Collecting numpy\n",
      "  Downloading numpy-1.23.5-cp39-cp39-macosx_11_0_arm64.whl (13.4 MB)\n",
      "\u001b[K     |████████████████████████████████| 13.4 MB 993 kB/s eta 0:00:01\n",
      "\u001b[?25hInstalling collected packages: numpy\n",
      "Successfully installed numpy-1.23.5\n"
     ]
    }
   ],
   "source": [
    "import numpy as np "
   ]
  },
  {
   "cell_type": "code",
   "execution_count": 2,
   "id": "bfdda9a7-eab6-4572-a69c-9b45284a5ab8",
   "metadata": {},
   "outputs": [
    {
     "name": "stdout",
     "output_type": "stream",
     "text": [
      "Requirement already satisfied: aicrowd-cli in /opt/miniconda3/lib/python3.9/site-packages (0.1.15)\n",
      "Requirement already satisfied: click<8,>=7.1.2 in /opt/miniconda3/lib/python3.9/site-packages (from aicrowd-cli) (7.1.2)\n",
      "Requirement already satisfied: requests<3,>=2.25.1 in /opt/miniconda3/lib/python3.9/site-packages (from aicrowd-cli) (2.27.1)\n",
      "Requirement already satisfied: pyzmq==22.1.0 in /opt/miniconda3/lib/python3.9/site-packages (from aicrowd-cli) (22.1.0)\n",
      "Requirement already satisfied: requests-toolbelt<1,>=0.9.1 in /opt/miniconda3/lib/python3.9/site-packages (from aicrowd-cli) (0.10.1)\n",
      "Requirement already satisfied: rich<11,>=10.0.0 in /opt/miniconda3/lib/python3.9/site-packages (from aicrowd-cli) (10.16.2)\n",
      "Requirement already satisfied: semver<3,>=2.13.0 in /opt/miniconda3/lib/python3.9/site-packages (from aicrowd-cli) (2.13.0)\n",
      "Requirement already satisfied: toml<1,>=0.10.2 in /opt/miniconda3/lib/python3.9/site-packages (from aicrowd-cli) (0.10.2)\n",
      "Requirement already satisfied: GitPython==3.1.18 in /opt/miniconda3/lib/python3.9/site-packages (from aicrowd-cli) (3.1.18)\n",
      "Requirement already satisfied: tqdm<5,>=4.56.0 in /opt/miniconda3/lib/python3.9/site-packages (from aicrowd-cli) (4.64.0)\n",
      "Requirement already satisfied: python-slugify<6,>=5.0.0 in /opt/miniconda3/lib/python3.9/site-packages (from aicrowd-cli) (5.0.2)\n",
      "Requirement already satisfied: gitdb<5,>=4.0.1 in /opt/miniconda3/lib/python3.9/site-packages (from GitPython==3.1.18->aicrowd-cli) (4.0.10)\n",
      "Requirement already satisfied: smmap<6,>=3.0.1 in /opt/miniconda3/lib/python3.9/site-packages (from gitdb<5,>=4.0.1->GitPython==3.1.18->aicrowd-cli) (5.0.0)\n",
      "Requirement already satisfied: text-unidecode>=1.3 in /opt/miniconda3/lib/python3.9/site-packages (from python-slugify<6,>=5.0.0->aicrowd-cli) (1.3)\n",
      "Requirement already satisfied: urllib3<1.27,>=1.21.1 in /opt/miniconda3/lib/python3.9/site-packages (from requests<3,>=2.25.1->aicrowd-cli) (1.26.9)\n",
      "Requirement already satisfied: idna<4,>=2.5 in /opt/miniconda3/lib/python3.9/site-packages (from requests<3,>=2.25.1->aicrowd-cli) (3.3)\n",
      "Requirement already satisfied: certifi>=2017.4.17 in /opt/miniconda3/lib/python3.9/site-packages (from requests<3,>=2.25.1->aicrowd-cli) (2022.9.24)\n",
      "Requirement already satisfied: charset-normalizer~=2.0.0 in /opt/miniconda3/lib/python3.9/site-packages (from requests<3,>=2.25.1->aicrowd-cli) (2.0.4)\n",
      "Requirement already satisfied: colorama<0.5.0,>=0.4.0 in /opt/miniconda3/lib/python3.9/site-packages (from rich<11,>=10.0.0->aicrowd-cli) (0.4.6)\n",
      "Requirement already satisfied: pygments<3.0.0,>=2.6.0 in /opt/miniconda3/lib/python3.9/site-packages (from rich<11,>=10.0.0->aicrowd-cli) (2.13.0)\n",
      "Requirement already satisfied: commonmark<0.10.0,>=0.9.0 in /opt/miniconda3/lib/python3.9/site-packages (from rich<11,>=10.0.0->aicrowd-cli) (0.9.1)\n"
     ]
    },
    {
     "name": "stderr",
     "output_type": "stream",
     "text": [
      "/opt/miniconda3/lib/python3.9/site-packages/tqdm/auto.py:22: TqdmWarning: IProgress not found. Please update jupyter and ipywidgets. See https://ipywidgets.readthedocs.io/en/stable/user_install.html\n",
      "  from .autonotebook import tqdm as notebook_tqdm\n"
     ]
    }
   ],
   "source": [
    "!pip install aicrowd-cli\n",
    "%load_ext aicrowd.magic\n"
   ]
  },
  {
   "cell_type": "code",
   "execution_count": 3,
   "id": "4a67905a-602a-4ac4-b6c0-7880c69652ff",
   "metadata": {},
   "outputs": [
    {
     "name": "stdout",
     "output_type": "stream",
     "text": [
      "Please login here: \u001b[34m\u001b[1m\u001b[4mhttps://api.aicrowd.com/auth/xeJHQcGLo2rcQrFGukTgx5PjXED7qyW6uR2a4Gg_M2U\u001b[0m\n",
      "\u001b[32mAPI Key valid\u001b[0m\n",
      "\u001b[32mGitlab access token valid\u001b[0m\n",
      "\u001b[32mSaved details successfully!\u001b[0m\n"
     ]
    }
   ],
   "source": [
    "%aicrowd login\n"
   ]
  },
  {
   "cell_type": "code",
   "execution_count": 4,
   "id": "7bbf9c2d-4d94-460f-8c2f-ae1fa0b68673",
   "metadata": {},
   "outputs": [
    {
     "name": "stderr",
     "output_type": "stream",
     "text": [
      "sample_submission.csv: 100%|██████████| 9.01k/9.01k [00:00<00:00, 3.25MB/s]\n",
      "data.npz: 100%|██████████| 6.52M/6.52M [00:02<00:00, 3.19MB/s]\n"
     ]
    }
   ],
   "source": [
    "!rm -rf data\n",
    "!mkdir data\n",
    "%aicrowd ds dl -c obstacle-prediction -o data"
   ]
  },
  {
   "cell_type": "code",
   "execution_count": 9,
   "id": "a670cf26-fb61-4946-a83a-13229e4a1778",
   "metadata": {},
   "outputs": [
    {
     "data": {
      "text/plain": [
       "((5000, 2), (3000,))"
      ]
     },
     "execution_count": 9,
     "metadata": {},
     "output_type": "execute_result"
    }
   ],
   "source": [
    "data = np.load(\"./data/data.npz\", allow_pickle=True)\n",
    "\n",
    "train_data = data['train']\n",
    "test_data = data['test']\n",
    "\n",
    "train_data.shape, test_data.shape"
   ]
  },
  {
   "cell_type": "code",
   "execution_count": null,
   "id": "7162f5c8-271b-4bc4-bdab-392804b6bc92",
   "metadata": {},
   "outputs": [],
   "source": []
  }
 ],
 "metadata": {
  "kernelspec": {
   "display_name": "Python 3",
   "language": "python",
   "name": "python3"
  },
  "language_info": {
   "codemirror_mode": {
    "name": "ipython",
    "version": 3
   },
   "file_extension": ".py",
   "mimetype": "text/x-python",
   "name": "python",
   "nbconvert_exporter": "python",
   "pygments_lexer": "ipython3",
   "version": "3.9.12"
  }
 },
 "nbformat": 4,
 "nbformat_minor": 5
}
